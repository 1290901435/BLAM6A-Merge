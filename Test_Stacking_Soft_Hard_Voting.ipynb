{
 "cells": [
  {
   "cell_type": "code",
   "execution_count": 21,
   "id": "ed0aadf9",
   "metadata": {
    "ExecuteTime": {
     "end_time": "2023-03-21T04:53:18.293329Z",
     "start_time": "2023-03-21T04:53:18.270922Z"
    }
   },
   "outputs": [],
   "source": [
    "from features import ensembleFeature\n",
    "import numpy as np\n",
    "import pandas as pd\n",
    "import matplotlib.pyplot as plt\n",
    "import matplotlib as mpl\n",
    "import seaborn as sns\n",
    "import torch\n",
    "from torch import nn\n",
    "import re\n",
    "from sklearn.utils import shuffle\n",
    "from utils import metricsCal\n",
    "from torch.utils.data import DataLoader,TensorDataset\n",
    "import math\n",
    "import sys\n",
    "import copy\n",
    "import pickle\n",
    "from torch.autograd import Variable\n",
    "from sklearn.model_selection import KFold\n",
    "import torch.nn.functional as F\n",
    "import os\n",
    "import Model\n",
    "from matplotlib import cm\n",
    "from matplotlib.ticker import LinearLocator\n",
    "import csv\n",
    "from sklearn.preprocessing import StandardScaler\n",
    "#from sklearn.svm import SVC\n",
    "from time import time\n",
    "import numpy as np\n",
    "import datetime\n",
    "from thundersvm import SVC\n",
    "from sklearn.linear_model import LogisticRegression\n",
    "from sklearn.metrics import roc_auc_score as AUC\n",
    "from sklearn.metrics import roc_curve\n",
    "%matplotlib inline"
   ]
  },
  {
   "cell_type": "code",
   "execution_count": 3,
   "id": "dd5eb240",
   "metadata": {
    "ExecuteTime": {
     "end_time": "2023-03-21T04:21:04.497130Z",
     "start_time": "2023-03-21T04:21:04.491623Z"
    }
   },
   "outputs": [],
   "source": [
    "type_name = [\"FullTranscript\",\"matureRNA\"]\n",
    "cell_name = [\"A549\",\"CD8T\",\"Hek293_abacm\",\"Hek293_sysy\",\"HeLa\",\"MOLM13\"]\n",
    "feature_name = [\"emb\",\"PSNP\",\"PCP\",\"DBPF\"]\n",
    "network_name = [\"SVM\"]"
   ]
  },
  {
   "cell_type": "code",
   "execution_count": 68,
   "id": "627ab264",
   "metadata": {
    "ExecuteTime": {
     "end_time": "2023-03-21T03:27:15.488258Z",
     "start_time": "2023-03-21T03:25:50.676094Z"
    }
   },
   "outputs": [],
   "source": [
    "Auc = []\n",
    "for typei in range(len(type_name)):\n",
    "    for celli in range(len(cell_name)):\n",
    "        true = np.array(pd.read_csv(\"Result/\"+feature_name[0]+\"/\"+type_name[typei]+\"_\"+cell_name[celli]+\"val.csv\").iloc[:,1])\n",
    "        testLabel = np.array(pd.read_csv(\"Result/\"+feature_name[0]+\"/\"+type_name[typei]+\"_\"+cell_name[celli]+\"test_result.csv\").iloc[:,1])\n",
    "        \n",
    "        pred_1 = pd.read_csv(\"Result/\"+feature_name[0]+\"/\"+type_name[typei]+\"_\"+cell_name[celli]+\"val.csv\").iloc[:,2]\n",
    "        test_1 = pd.read_csv(\"Result/\"+feature_name[0]+\"/\"+type_name[typei]+\"_\"+cell_name[celli]+\"test_result.csv\").iloc[:,2:7]\n",
    "        \n",
    "        pred_2 = pd.read_csv(\"Result/\"+feature_name[1]+\"/\"+type_name[typei]+\"_\"+cell_name[celli]+\"val.csv\").iloc[:,2]\n",
    "        test_2 = pd.read_csv(\"Result/\"+feature_name[1]+\"/\"+type_name[typei]+\"_\"+cell_name[celli]+\"test_result.csv\").iloc[:,2:7]\n",
    "        \n",
    "        pred_3 = pd.read_csv(\"Result/\"+feature_name[2]+\"/\"+type_name[typei]+\"_\"+cell_name[celli]+\"val.csv\").iloc[:,2]\n",
    "        test_3 = pd.read_csv(\"Result/\"+feature_name[2]+\"/\"+type_name[typei]+\"_\"+cell_name[celli]+\"test_result.csv\").iloc[:,2:7]\n",
    "        \n",
    "        pred_4 = pd.read_csv(\"Result/\"+feature_name[3]+\"/\"+type_name[typei]+\"_\"+cell_name[celli]+\"val.csv\").iloc[:,2]\n",
    "        test_4 = pd.read_csv(\"Result/\"+feature_name[3]+\"/\"+type_name[typei]+\"_\"+cell_name[celli]+\"test_result.csv\").iloc[:,2:7]\n",
    "\n",
    "        for networki in range(len(network_name)):\n",
    "            if network_name[networki] == \"SVM\":\n",
    "\n",
    "                device = torch.device(\"cuda:0\" if torch.cuda.is_available() else \"cpu\")  #选择设备\n",
    "                os.environ['CUDA_VISIBLE_DEVICES'] = '0'\n",
    "\n",
    "                model = SVC(kernel = \"rbf\",gamma=\"auto\", degree = 1,tol =1e-2, cache_size=7000)\n",
    "\n",
    "                trainData = np.array(pd.DataFrame([pred_1,pred_2,pred_3,pred_4]).T)\n",
    "                \n",
    "                #trainData = np.array(pd.DataFrame([pred_1,pred_2,pred_4]).T)\n",
    "\n",
    "                clf =model.fit(trainData, true)\n",
    "\n",
    "\n",
    "                th,_,_,_,_,_,_,acc,mcc,auc = metricsCal.get_train_metrics(clf.decision_function(trainData).reshape(-1),true.reshape(-1))\n",
    "\n",
    "                for i in range(5):\n",
    "                    testData = np.array(pd.DataFrame([test_1.iloc[:,i],test_2.iloc[:,i],test_3.iloc[:,i],test_4.iloc[:,i]]).T)\n",
    "                    #testData = np.array(pd.DataFrame([test_1.iloc[:,i],test_2.iloc[:,i],test_4.iloc[:,i]]).T)\n",
    "                    \n",
    "                    _,_,_,_,_,_, _,_, auc = metricsCal.get_test_metrics(clf.decision_function(testData).reshape(-1),testLabel.reshape(-1),th)\n",
    "\n",
    "                    Auc.append(auc)\n",
    "#                     th_All[row][-1] = th\n",
    "#                     Acc[row][-1] = acc\n",
    "#                     Mcc[row][-1] = mcc\n",
    "#                     Auc[row][-1] = auc\n",
    "\n",
    "#                     if not os.path.exists(model_dir):\n",
    "#                         os.makedirs(model_dir)\n",
    "#                     model_dir = model_dir+\"svm.pkl\"\n",
    "#                     with open(model_dir,\"wb\") as f:\n",
    "#                         pickle.dump(clf,f)"
   ]
  },
  {
   "cell_type": "code",
   "execution_count": 69,
   "id": "7f6c87c3",
   "metadata": {
    "ExecuteTime": {
     "end_time": "2023-03-21T03:27:15.708008Z",
     "start_time": "2023-03-21T03:27:15.699500Z"
    }
   },
   "outputs": [
    {
     "data": {
      "text/plain": [
       "0.7748379653393918"
      ]
     },
     "execution_count": 69,
     "metadata": {},
     "output_type": "execute_result"
    }
   ],
   "source": [
    "np.mean(Auc)"
   ]
  },
  {
   "cell_type": "code",
   "execution_count": 65,
   "id": "60b723dd",
   "metadata": {
    "ExecuteTime": {
     "end_time": "2023-03-22T07:12:16.274194Z",
     "start_time": "2023-03-22T07:11:02.441980Z"
    }
   },
   "outputs": [],
   "source": [
    "#软投票\n",
    "Auc = []\n",
    "for typei in range(len(type_name)):\n",
    "    for celli in range(len(cell_name)):\n",
    "        true = np.array(pd.read_csv(\"Result/\"+feature_name[0]+\"/\"+type_name[typei]+\"_\"+cell_name[celli]+\"val.csv\").iloc[:,1])\n",
    "        testLabel = np.array(pd.read_csv(\"Result/\"+feature_name[0]+\"/\"+type_name[typei]+\"_\"+cell_name[celli]+\"test_result.csv\").iloc[:,1])\n",
    "        \n",
    "        pred_1 = pd.read_csv(\"Result/\"+feature_name[0]+\"/\"+type_name[typei]+\"_\"+cell_name[celli]+\"val.csv\").iloc[:,2]\n",
    "        test_1 = pd.read_csv(\"Result/\"+feature_name[0]+\"/\"+type_name[typei]+\"_\"+cell_name[celli]+\"test_result.csv\").iloc[:,2:7]\n",
    "        \n",
    "        pred_2 = pd.read_csv(\"Result/\"+feature_name[1]+\"/\"+type_name[typei]+\"_\"+cell_name[celli]+\"val.csv\").iloc[:,2]\n",
    "        test_2 = pd.read_csv(\"Result/\"+feature_name[1]+\"/\"+type_name[typei]+\"_\"+cell_name[celli]+\"test_result.csv\").iloc[:,2:7]\n",
    "        \n",
    "        pred_3 = pd.read_csv(\"Result/\"+feature_name[2]+\"/\"+type_name[typei]+\"_\"+cell_name[celli]+\"val.csv\").iloc[:,2]\n",
    "        test_3 = pd.read_csv(\"Result/\"+feature_name[2]+\"/\"+type_name[typei]+\"_\"+cell_name[celli]+\"test_result.csv\").iloc[:,2:7]\n",
    "        \n",
    "        pred_4 = pd.read_csv(\"Result/\"+feature_name[3]+\"/\"+type_name[typei]+\"_\"+cell_name[celli]+\"val.csv\").iloc[:,2]\n",
    "        test_4 = pd.read_csv(\"Result/\"+feature_name[3]+\"/\"+type_name[typei]+\"_\"+cell_name[celli]+\"test_result.csv\").iloc[:,2:7]\n",
    "        \n",
    "        test_Blastn = pd.read_csv(\"Stacking_result/all_test_KFold/test_\"+type_name[typei]+\"_\"+cell_name[celli]+\"_Kfold0\"+\".csv\").iloc[:,10]\n",
    "        \n",
    "        for networki in range(len(network_name)):\n",
    "            if network_name[networki] == \"SVM\":\n",
    "                for i in range(5):\n",
    "                    testData = np.array(pd.DataFrame([test_1.iloc[:,i],test_2.iloc[:,i],test_3.iloc[:,i],test_4.iloc[:,i],test_Blastn]).T)\n",
    "                    _,_,_,_,_,_, _,_, auc = metricsCal.get_test_metrics(np.mean(testData,axis=1),testLabel.reshape(-1),th)\n",
    "                    Auc.append(auc)"
   ]
  },
  {
   "cell_type": "code",
   "execution_count": 63,
   "id": "e7e18b8e",
   "metadata": {
    "ExecuteTime": {
     "end_time": "2023-03-22T07:08:27.158996Z",
     "start_time": "2023-03-22T07:08:27.152866Z"
    }
   },
   "outputs": [
    {
     "data": {
      "text/plain": [
       "0.8100471408726394"
      ]
     },
     "execution_count": 63,
     "metadata": {},
     "output_type": "execute_result"
    }
   ],
   "source": [
    "np.mean(Auc)"
   ]
  },
  {
   "cell_type": "code",
   "execution_count": 66,
   "id": "a2bd77fd",
   "metadata": {
    "ExecuteTime": {
     "end_time": "2023-03-22T07:12:16.389312Z",
     "start_time": "2023-03-22T07:12:16.383415Z"
    }
   },
   "outputs": [
    {
     "data": {
      "text/plain": [
       "0.8136897635576664"
      ]
     },
     "execution_count": 66,
     "metadata": {},
     "output_type": "execute_result"
    }
   ],
   "source": [
    "np.mean(Auc)"
   ]
  },
  {
   "cell_type": "code",
   "execution_count": 52,
   "id": "235fce31",
   "metadata": {
    "ExecuteTime": {
     "end_time": "2023-03-21T02:16:09.496397Z",
     "start_time": "2023-03-21T02:15:54.974573Z"
    }
   },
   "outputs": [],
   "source": [
    "#测试其中一个\n",
    "Auc_emb = []\n",
    "Auc_PSNP = []\n",
    "Auc_PCP = []\n",
    "Auc_DBPF = []\n",
    "for typei in range(len(type_name)):\n",
    "    for celli in range(len(cell_name)):\n",
    "#         true = np.array(pd.read_csv(\"Result/\"+feature_name[0]+\"/\"+type_name[typei]+\"_\"+cell_name[celli]+\"val.csv\").iloc[:,1])\n",
    "        testLabel = np.array(pd.read_csv(\"Result/\"+feature_name[0]+\"/\"+type_name[typei]+\"_\"+cell_name[celli]+\"test_result.csv\").iloc[:,1])\n",
    "        \n",
    "#         pred_1 = pd.read_csv(\"Result/\"+feature_name[0]+\"/\"+type_name[typei]+\"_\"+cell_name[celli]+\"val.csv\").iloc[:,2]\n",
    "        test_1 = pd.read_csv(\"Result/\"+feature_name[0]+\"/\"+type_name[typei]+\"_\"+cell_name[celli]+\"test_result.csv\").iloc[:,2:7]\n",
    "        \n",
    "#         pred_2 = pd.read_csv(\"Result/\"+feature_name[1]+\"/\"+type_name[typei]+\"_\"+cell_name[celli]+\"val.csv\").iloc[:,2]\n",
    "        test_2 = pd.read_csv(\"Result/\"+feature_name[1]+\"/\"+type_name[typei]+\"_\"+cell_name[celli]+\"test_result.csv\").iloc[:,2:7]\n",
    "        \n",
    "#         pred_3 = pd.read_csv(\"Result/\"+feature_name[2]+\"/\"+type_name[typei]+\"_\"+cell_name[celli]+\"val.csv\").iloc[:,2]\n",
    "        test_3 = pd.read_csv(\"Result/\"+feature_name[2]+\"/\"+type_name[typei]+\"_\"+cell_name[celli]+\"test_result.csv\").iloc[:,2:7]\n",
    "        \n",
    "#         pred_4 = pd.read_csv(\"Result/\"+feature_name[3]+\"/\"+type_name[typei]+\"_\"+cell_name[celli]+\"val.csv\").iloc[:,2]\n",
    "        test_4 = pd.read_csv(\"Result/\"+feature_name[3]+\"/\"+type_name[typei]+\"_\"+cell_name[celli]+\"test_result.csv\").iloc[:,2:7]\n",
    "\n",
    "        for networki in range(len(network_name)):\n",
    "            if network_name[networki] == \"SVM\":\n",
    "\n",
    "#                 device = torch.device(\"cuda:0\" if torch.cuda.is_available() else \"cpu\")  #选择设备\n",
    "#                 os.environ['CUDA_VISIBLE_DEVICES'] = '0'\n",
    "\n",
    "#                 model = SVC(kernel = \"rbf\",gamma=\"auto\", degree = 1,tol =1e-3, cache_size=7000)\n",
    "\n",
    "#                 trainData = np.array(pd.DataFrame([pred_1,pred_2,pred_3,pred_4]).T)\n",
    "\n",
    "#                 clf =model.fit(trainData, true)\n",
    "\n",
    "\n",
    "#                 th,_,_,_,_,_,_,acc,mcc,auc = metricsCal.get_train_metrics(clf.decision_function(trainData).reshape(-1),true.reshape(-1))\n",
    "\n",
    "                for i in range(5):\n",
    "                    #testData = np.array(pd.DataFrame([test_1.iloc[:,i],test_2.iloc[:,i],test_3.iloc[:,i],test_4.iloc[:,i]]).T)\n",
    "                    _,_,_,_,_,_, _,_, auc = metricsCal.get_test_metrics(np.array(test_1.iloc[:,i]),testLabel.reshape(-1),0.5)\n",
    "                    Auc_emb.append(auc)\n",
    "                    \n",
    "                    _,_,_,_,_,_, _,_, auc = metricsCal.get_test_metrics(np.array(test_2.iloc[:,i]),testLabel.reshape(-1),0.5)\n",
    "                    Auc_PSNP.append(auc)\n",
    "                    \n",
    "                    _,_,_,_,_,_, _,_, auc = metricsCal.get_test_metrics(np.array(test_3.iloc[:,i]),testLabel.reshape(-1),0.5)\n",
    "                    Auc_PCP.append(auc)\n",
    "                    \n",
    "                    _,_,_,_,_,_, _,_, auc = metricsCal.get_test_metrics(np.array(test_4.iloc[:,i]),testLabel.reshape(-1),0.5)\n",
    "                    Auc_DBPF.append(auc)"
   ]
  },
  {
   "cell_type": "code",
   "execution_count": 53,
   "id": "befeba30",
   "metadata": {
    "ExecuteTime": {
     "end_time": "2023-03-21T02:16:25.974909Z",
     "start_time": "2023-03-21T02:16:25.964978Z"
    }
   },
   "outputs": [
    {
     "data": {
      "text/plain": [
       "(0.7808653746493575,\n",
       " 0.7622671770700092,\n",
       " 0.7427130636016642,\n",
       " 0.7703611159484904)"
      ]
     },
     "execution_count": 53,
     "metadata": {},
     "output_type": "execute_result"
    }
   ],
   "source": [
    "np.mean(Auc_emb),np.mean(Auc_PSNP),np.mean(Auc_PCP),np.mean(Auc_DBPF)"
   ]
  },
  {
   "cell_type": "code",
   "execution_count": 54,
   "id": "cc5f625f",
   "metadata": {
    "ExecuteTime": {
     "end_time": "2023-03-21T02:16:42.563493Z",
     "start_time": "2023-03-21T02:16:42.554905Z"
    }
   },
   "outputs": [
    {
     "data": {
      "text/plain": [
       "0.8100471408726394"
      ]
     },
     "execution_count": 54,
     "metadata": {},
     "output_type": "execute_result"
    }
   ],
   "source": [
    "np.mean(Auc)"
   ]
  },
  {
   "cell_type": "code",
   "execution_count": 63,
   "id": "90de7d4c",
   "metadata": {
    "ExecuteTime": {
     "end_time": "2023-03-21T03:20:03.403104Z",
     "start_time": "2023-03-21T03:18:30.388527Z"
    }
   },
   "outputs": [],
   "source": [
    "#原来的训练数据,五折训练\n",
    "#3 emb 4 PSNP 8 PCP 9 DBPF 10 Blastn 11 True\n",
    "Auc = []\n",
    "for typei in range(len(type_name)):\n",
    "    for celli in range(len(cell_name)):\n",
    "        testLabel = np.array(pd.read_csv(\"Result/\"+feature_name[0]+\"/\"+type_name[typei]+\"_\"+cell_name[celli]+\"test_result.csv\").iloc[:,1])\n",
    "        \n",
    "        test_1 = pd.read_csv(\"Result/\"+feature_name[0]+\"/\"+type_name[typei]+\"_\"+cell_name[celli]+\"test_result.csv\").iloc[:,2:7]\n",
    "        test_2 = pd.read_csv(\"Result/\"+feature_name[1]+\"/\"+type_name[typei]+\"_\"+cell_name[celli]+\"test_result.csv\").iloc[:,2:7]\n",
    "        test_3 = pd.read_csv(\"Result/\"+feature_name[2]+\"/\"+type_name[typei]+\"_\"+cell_name[celli]+\"test_result.csv\").iloc[:,2:7]\n",
    "        test_4 = pd.read_csv(\"Result/\"+feature_name[3]+\"/\"+type_name[typei]+\"_\"+cell_name[celli]+\"test_result.csv\").iloc[:,2:7]\n",
    "\n",
    "        for networki in range(len(network_name)):\n",
    "            if network_name[networki] == \"SVM\":\n",
    "                for i in range(5):\n",
    "                    device = torch.device(\"cuda:0\" if torch.cuda.is_available() else \"cpu\")  #选择设备\n",
    "                    os.environ['CUDA_VISIBLE_DEVICES'] = '0'\n",
    "                    model = SVC(kernel = \"rbf\",gamma=\"auto\", degree = 1,tol =1e-3, cache_size=7000)\n",
    "\n",
    "                    train_emb = pd.read_csv(\"Stacking_result/all_train_KFold/train_\"+type_name[typei]+\"_\"+cell_name[celli]+\"_Kfold\"+str(i)+\".csv\").iloc[:,3]\n",
    "                    train_PSNP = pd.read_csv(\"Stacking_result/all_train_KFold/train_\"+type_name[typei]+\"_\"+cell_name[celli]+\"_Kfold\"+str(i)+\".csv\").iloc[:,4]\n",
    "                    train_PCP = pd.read_csv(\"Stacking_result/all_train_KFold/train_\"+type_name[typei]+\"_\"+cell_name[celli]+\"_Kfold\"+str(i)+\".csv\").iloc[:,8]\n",
    "                    train_DBPF = pd.read_csv(\"Stacking_result/all_train_KFold/train_\"+type_name[typei]+\"_\"+cell_name[celli]+\"_Kfold\"+str(i)+\".csv\").iloc[:,9]\n",
    "                    train_Blastn = pd.read_csv(\"Stacking_result/all_train_KFold/train_\"+type_name[typei]+\"_\"+cell_name[celli]+\"_Kfold\"+str(i)+\".csv\").iloc[:,10]\n",
    "                    train_true = pd.read_csv(\"Stacking_result/all_train_KFold/train_\"+type_name[typei]+\"_\"+cell_name[celli]+\"_Kfold\"+str(i)+\".csv\").iloc[:,11]\n",
    "                    \n",
    "                    trainData = np.array(pd.DataFrame([train_emb,train_PSNP,train_PCP,train_DBPF]).T)\n",
    "\n",
    "                    clf =model.fit(trainData, train_true)\n",
    "\n",
    "\n",
    "                    th,_,_,_,_,_,_,acc,mcc,auc = metricsCal.get_train_metrics(clf.decision_function(trainData).reshape(-1),true.reshape(-1))\n",
    "\n",
    "                 \n",
    "                    testData = np.array(pd.DataFrame([test_1.iloc[:,i],test_2.iloc[:,i],test_3.iloc[:,i],test_4.iloc[:,i]]).T)\n",
    "                    _,_,_,_,_,_, _,_, auc = metricsCal.get_test_metrics(clf.decision_function(testData).reshape(-1),testLabel.reshape(-1),th)\n",
    "\n",
    "                    Auc.append(auc)\n"
   ]
  },
  {
   "cell_type": "code",
   "execution_count": 64,
   "id": "4da509e8",
   "metadata": {
    "ExecuteTime": {
     "end_time": "2023-03-21T03:20:03.554682Z",
     "start_time": "2023-03-21T03:20:03.549270Z"
    }
   },
   "outputs": [
    {
     "data": {
      "text/plain": [
       "0.7959004807338254"
      ]
     },
     "execution_count": 64,
     "metadata": {},
     "output_type": "execute_result"
    }
   ],
   "source": [
    "np.mean(Auc)"
   ]
  },
  {
   "cell_type": "code",
   "execution_count": 65,
   "id": "458ff7ad",
   "metadata": {
    "ExecuteTime": {
     "end_time": "2023-03-21T03:20:03.704181Z",
     "start_time": "2023-03-21T03:20:03.698129Z"
    }
   },
   "outputs": [
    {
     "data": {
      "text/plain": [
       "[0.8579215076695079,\n",
       " 0.850964374100167,\n",
       " 0.8573112399955426,\n",
       " 0.8544156156069839,\n",
       " 0.8356099108215869,\n",
       " 0.8393589658646785,\n",
       " 0.8486493899234733,\n",
       " 0.849070975896747,\n",
       " 0.8422452845755447,\n",
       " 0.8312373584511075,\n",
       " 0.826489831351755,\n",
       " 0.8195944778950423,\n",
       " 0.830503301459644,\n",
       " 0.8165823957687101,\n",
       " 0.8234724655858213,\n",
       " 0.8786070877969665,\n",
       " 0.8774028469656994,\n",
       " 0.8700002602622128,\n",
       " 0.8821234774012887,\n",
       " 0.8765419689159234,\n",
       " 0.7915783016329476,\n",
       " 0.7040151024039625,\n",
       " 0.785437260836372,\n",
       " 0.7851582000353388,\n",
       " 0.7787115079210187,\n",
       " 0.8030089536054803,\n",
       " 0.8108595771397213,\n",
       " 0.809587617589149,\n",
       " 0.8110930348514201,\n",
       " 0.791219611371491,\n",
       " 0.8040910193575074,\n",
       " 0.7854811561918835,\n",
       " 0.8113388882707337,\n",
       " 0.8041874032520043,\n",
       " 0.8087648123103933,\n",
       " 0.8033166146141414,\n",
       " 0.7836832069289508,\n",
       " 0.7970610942146938,\n",
       " 0.7761340750912396,\n",
       " 0.7919092587586462,\n",
       " 0.7428543830948622,\n",
       " 0.7351535975555095,\n",
       " 0.7367483089669217,\n",
       " 0.7369592693990992,\n",
       " 0.7365280951160369,\n",
       " 0.8112841338950767,\n",
       " 0.7895858940589406,\n",
       " 0.7899705002010995,\n",
       " 0.8060996079128506,\n",
       " 0.7964441104980363,\n",
       " 0.7294370500484577,\n",
       " 0.7239225836392298,\n",
       " 0.7074023436513095,\n",
       " 0.7312217026666208,\n",
       " 0.7344447301064914,\n",
       " 0.7383705971912423,\n",
       " 0.7350135636888339,\n",
       " 0.736635322608048,\n",
       " 0.7256015739578765,\n",
       " 0.7056120430874848]"
      ]
     },
     "execution_count": 65,
     "metadata": {},
     "output_type": "execute_result"
    }
   ],
   "source": [
    "Auc"
   ]
  },
  {
   "cell_type": "code",
   "execution_count": null,
   "id": "6957c85c",
   "metadata": {},
   "outputs": [],
   "source": [
    "#原来的训练数据,合并训练\n",
    "#3 emb 4 PSNP 8 PCP 9 DBPF 10 Blastn 11 True\n",
    "Auc = []\n",
    "for typei in range(len(type_name)):\n",
    "    for celli in range(len(cell_name)):\n",
    "        testLabel = np.array(pd.read_csv(\"Result/\"+feature_name[0]+\"/\"+type_name[typei]+\"_\"+cell_name[celli]+\"test_result.csv\").iloc[:,1])\n",
    "        \n",
    "        test_1 = pd.read_csv(\"Result/\"+feature_name[0]+\"/\"+type_name[typei]+\"_\"+cell_name[celli]+\"test_result.csv\").iloc[:,2:7]\n",
    "        test_2 = pd.read_csv(\"Result/\"+feature_name[1]+\"/\"+type_name[typei]+\"_\"+cell_name[celli]+\"test_result.csv\").iloc[:,2:7]\n",
    "        test_3 = pd.read_csv(\"Result/\"+feature_name[2]+\"/\"+type_name[typei]+\"_\"+cell_name[celli]+\"test_result.csv\").iloc[:,2:7]\n",
    "        test_4 = pd.read_csv(\"Result/\"+feature_name[3]+\"/\"+type_name[typei]+\"_\"+cell_name[celli]+\"test_result.csv\").iloc[:,2:7]\n",
    "\n",
    "        for networki in range(len(network_name)):\n",
    "            if network_name[networki] == \"SVM\":\n",
    "                device = torch.device(\"cuda:0\" if torch.cuda.is_available() else \"cpu\")  #选择设备\n",
    "                os.environ['CUDA_VISIBLE_DEVICES'] = '0'\n",
    "                model = SVC(kernel = \"rbf\",gamma=\"auto\", degree = 1,tol =1e-3, cache_size=7000)\n",
    "                \n",
    "                for i in range(5):\n",
    "                    train_emb = pd.read_csv(\"Stacking_result/all_train_KFold/train_\"+type_name[typei]+\"_\"+cell_name[celli]+\"_Kfold\"+str(i)+\".csv\").iloc[:,3]\n",
    "                    train_PSNP = pd.read_csv(\"Stacking_result/all_train_KFold/train_\"+type_name[typei]+\"_\"+cell_name[celli]+\"_Kfold\"+str(i)+\".csv\").iloc[:,4]\n",
    "                    train_PCP = pd.read_csv(\"Stacking_result/all_train_KFold/train_\"+type_name[typei]+\"_\"+cell_name[celli]+\"_Kfold\"+str(i)+\".csv\").iloc[:,8]\n",
    "                    train_DBPF = pd.read_csv(\"Stacking_result/all_train_KFold/train_\"+type_name[typei]+\"_\"+cell_name[celli]+\"_Kfold\"+str(i)+\".csv\").iloc[:,9]\n",
    "                    train_Blastn = pd.read_csv(\"Stacking_result/all_train_KFold/train_\"+type_name[typei]+\"_\"+cell_name[celli]+\"_Kfold\"+str(i)+\".csv\").iloc[:,10]\n",
    "                    train_true = pd.read_csv(\"Stacking_result/all_train_KFold/train_\"+type_name[typei]+\"_\"+cell_name[celli]+\"_Kfold\"+str(i)+\".csv\").iloc[:,11]\n",
    "                    \n",
    "                    trainData = np.array(pd.DataFrame([train_emb,train_PSNP,train_PCP,train_DBPF]).T)\n",
    "\n",
    "                    clf =model.fit(trainData, train_true)\n",
    "\n",
    "\n",
    "                    th,_,_,_,_,_,_,acc,mcc,auc = metricsCal.get_train_metrics(clf.decision_function(trainData).reshape(-1),true.reshape(-1))\n",
    "\n",
    "                 \n",
    "                    testData = np.array(pd.DataFrame([test_1.iloc[:,i],test_2.iloc[:,i],test_3.iloc[:,i],test_4.iloc[:,i]]).T)\n",
    "                    _,_,_,_,_,_, _,_, auc = metricsCal.get_test_metrics(clf.decision_function(testData).reshape(-1),testLabel.reshape(-1),th)\n",
    "\n",
    "                    Auc.append(auc)\n"
   ]
  },
  {
   "cell_type": "code",
   "execution_count": 41,
   "id": "91147530",
   "metadata": {
    "ExecuteTime": {
     "end_time": "2023-03-21T06:24:58.627734Z",
     "start_time": "2023-03-21T06:21:29.460887Z"
    }
   },
   "outputs": [
    {
     "name": "stderr",
     "output_type": "stream",
     "text": [
      "/data/xiayunpeng/anaconda3/envs/BERT/lib/python3.6/site-packages/sklearn/utils/validation.py:72: FutureWarning: Pass shuffle=True, random_state=10 as keyword args. From version 1.0 (renaming of 0.25) passing these as positional arguments will result in an error\n",
      "  \"will result in an error\", FutureWarning)\n"
     ]
    },
    {
     "name": "stdout",
     "output_type": "stream",
     "text": [
      "0.8620221452695482\n",
      "0.8620748000366617\n",
      "0.8543591885540518\n",
      "0.8667032698251429\n",
      "0.8651290942976424\n"
     ]
    },
    {
     "name": "stderr",
     "output_type": "stream",
     "text": [
      "/data/xiayunpeng/anaconda3/envs/BERT/lib/python3.6/site-packages/sklearn/utils/validation.py:72: FutureWarning: Pass shuffle=True, random_state=10 as keyword args. From version 1.0 (renaming of 0.25) passing these as positional arguments will result in an error\n",
      "  \"will result in an error\", FutureWarning)\n"
     ]
    },
    {
     "name": "stdout",
     "output_type": "stream",
     "text": [
      "0.8551405241332137\n",
      "0.859253442844069\n",
      "0.8576095528057407\n",
      "0.8624884332308786\n",
      "0.8668495476893225\n"
     ]
    },
    {
     "name": "stderr",
     "output_type": "stream",
     "text": [
      "/data/xiayunpeng/anaconda3/envs/BERT/lib/python3.6/site-packages/sklearn/utils/validation.py:72: FutureWarning: Pass shuffle=True, random_state=10 as keyword args. From version 1.0 (renaming of 0.25) passing these as positional arguments will result in an error\n",
      "  \"will result in an error\", FutureWarning)\n"
     ]
    },
    {
     "name": "stdout",
     "output_type": "stream",
     "text": [
      "0.8629501090162883\n",
      "0.8641294088034485\n",
      "0.860405634033119\n",
      "0.8656886439556042\n",
      "0.8668900852897429\n"
     ]
    },
    {
     "name": "stderr",
     "output_type": "stream",
     "text": [
      "/data/xiayunpeng/anaconda3/envs/BERT/lib/python3.6/site-packages/sklearn/utils/validation.py:72: FutureWarning: Pass shuffle=True, random_state=10 as keyword args. From version 1.0 (renaming of 0.25) passing these as positional arguments will result in an error\n",
      "  \"will result in an error\", FutureWarning)\n"
     ]
    },
    {
     "name": "stdout",
     "output_type": "stream",
     "text": [
      "0.8617145055790688\n",
      "0.8633630023706957\n",
      "0.860206970730131\n",
      "0.8619300640213188\n",
      "0.868791760570222\n"
     ]
    },
    {
     "name": "stderr",
     "output_type": "stream",
     "text": [
      "/data/xiayunpeng/anaconda3/envs/BERT/lib/python3.6/site-packages/sklearn/utils/validation.py:72: FutureWarning: Pass shuffle=True, random_state=10 as keyword args. From version 1.0 (renaming of 0.25) passing these as positional arguments will result in an error\n",
      "  \"will result in an error\", FutureWarning)\n"
     ]
    },
    {
     "name": "stdout",
     "output_type": "stream",
     "text": [
      "0.8594630413406865\n",
      "0.8646886529440814\n",
      "0.8605026138805529\n",
      "0.8650873430040931\n",
      "0.8634201864250695\n"
     ]
    },
    {
     "name": "stderr",
     "output_type": "stream",
     "text": [
      "/data/xiayunpeng/anaconda3/envs/BERT/lib/python3.6/site-packages/sklearn/utils/validation.py:72: FutureWarning: Pass shuffle=True, random_state=10 as keyword args. From version 1.0 (renaming of 0.25) passing these as positional arguments will result in an error\n",
      "  \"will result in an error\", FutureWarning)\n"
     ]
    },
    {
     "name": "stdout",
     "output_type": "stream",
     "text": [
      "0.8514172553545272\n",
      "0.853187700963697\n",
      "0.8505393785776242\n",
      "0.8501603560491876\n",
      "0.8564150514969824\n"
     ]
    },
    {
     "name": "stderr",
     "output_type": "stream",
     "text": [
      "/data/xiayunpeng/anaconda3/envs/BERT/lib/python3.6/site-packages/sklearn/utils/validation.py:72: FutureWarning: Pass shuffle=True, random_state=10 as keyword args. From version 1.0 (renaming of 0.25) passing these as positional arguments will result in an error\n",
      "  \"will result in an error\", FutureWarning)\n"
     ]
    },
    {
     "name": "stdout",
     "output_type": "stream",
     "text": [
      "0.8549540942970402\n",
      "0.8586045957699272\n",
      "0.8544252323239968\n",
      "0.8544927706546379\n",
      "0.8607353167406658\n"
     ]
    },
    {
     "name": "stderr",
     "output_type": "stream",
     "text": [
      "/data/xiayunpeng/anaconda3/envs/BERT/lib/python3.6/site-packages/sklearn/utils/validation.py:72: FutureWarning: Pass shuffle=True, random_state=10 as keyword args. From version 1.0 (renaming of 0.25) passing these as positional arguments will result in an error\n",
      "  \"will result in an error\", FutureWarning)\n"
     ]
    },
    {
     "name": "stdout",
     "output_type": "stream",
     "text": [
      "0.8538380172287228\n",
      "0.8545219162166359\n",
      "0.8536854405285953\n",
      "0.8480044656460907\n",
      "0.8555211328489077\n"
     ]
    },
    {
     "name": "stderr",
     "output_type": "stream",
     "text": [
      "/data/xiayunpeng/anaconda3/envs/BERT/lib/python3.6/site-packages/sklearn/utils/validation.py:72: FutureWarning: Pass shuffle=True, random_state=10 as keyword args. From version 1.0 (renaming of 0.25) passing these as positional arguments will result in an error\n",
      "  \"will result in an error\", FutureWarning)\n"
     ]
    },
    {
     "name": "stdout",
     "output_type": "stream",
     "text": [
      "0.8554244527678287\n",
      "0.8525243491893574\n",
      "0.8514457089138557\n",
      "0.8515130314057358\n",
      "0.8565571385203657\n"
     ]
    },
    {
     "name": "stderr",
     "output_type": "stream",
     "text": [
      "/data/xiayunpeng/anaconda3/envs/BERT/lib/python3.6/site-packages/sklearn/utils/validation.py:72: FutureWarning: Pass shuffle=True, random_state=10 as keyword args. From version 1.0 (renaming of 0.25) passing these as positional arguments will result in an error\n",
      "  \"will result in an error\", FutureWarning)\n"
     ]
    },
    {
     "name": "stdout",
     "output_type": "stream",
     "text": [
      "0.8562254552159052\n",
      "0.8576287570983898\n",
      "0.851328899683003\n",
      "0.8542578732975408\n",
      "0.8624980155634474\n"
     ]
    },
    {
     "name": "stderr",
     "output_type": "stream",
     "text": [
      "/data/xiayunpeng/anaconda3/envs/BERT/lib/python3.6/site-packages/sklearn/utils/validation.py:72: FutureWarning: Pass shuffle=True, random_state=10 as keyword args. From version 1.0 (renaming of 0.25) passing these as positional arguments will result in an error\n",
      "  \"will result in an error\", FutureWarning)\n"
     ]
    },
    {
     "name": "stdout",
     "output_type": "stream",
     "text": [
      "0.8263479025509477\n",
      "0.8365055326181519\n",
      "0.8331617790074326\n",
      "0.8229818209352291\n",
      "0.8478422464662349\n"
     ]
    },
    {
     "name": "stderr",
     "output_type": "stream",
     "text": [
      "/data/xiayunpeng/anaconda3/envs/BERT/lib/python3.6/site-packages/sklearn/utils/validation.py:72: FutureWarning: Pass shuffle=True, random_state=10 as keyword args. From version 1.0 (renaming of 0.25) passing these as positional arguments will result in an error\n",
      "  \"will result in an error\", FutureWarning)\n"
     ]
    },
    {
     "name": "stdout",
     "output_type": "stream",
     "text": [
      "0.8303405825163566\n",
      "0.8418366604692032\n",
      "0.8275518432802061\n",
      "0.8299108192701434\n",
      "0.8496645516859781\n"
     ]
    },
    {
     "name": "stderr",
     "output_type": "stream",
     "text": [
      "/data/xiayunpeng/anaconda3/envs/BERT/lib/python3.6/site-packages/sklearn/utils/validation.py:72: FutureWarning: Pass shuffle=True, random_state=10 as keyword args. From version 1.0 (renaming of 0.25) passing these as positional arguments will result in an error\n",
      "  \"will result in an error\", FutureWarning)\n"
     ]
    },
    {
     "name": "stdout",
     "output_type": "stream",
     "text": [
      "0.831738930413084\n",
      "0.8425589704645771\n",
      "0.8325148990014882\n",
      "0.8309788912000922\n",
      "0.8513325106386076\n"
     ]
    },
    {
     "name": "stderr",
     "output_type": "stream",
     "text": [
      "/data/xiayunpeng/anaconda3/envs/BERT/lib/python3.6/site-packages/sklearn/utils/validation.py:72: FutureWarning: Pass shuffle=True, random_state=10 as keyword args. From version 1.0 (renaming of 0.25) passing these as positional arguments will result in an error\n",
      "  \"will result in an error\", FutureWarning)\n"
     ]
    },
    {
     "name": "stdout",
     "output_type": "stream",
     "text": [
      "0.8310313853034437\n",
      "0.8371747422815394\n",
      "0.8327043008050306\n",
      "0.8285464247256831\n",
      "0.8467436213856946\n"
     ]
    },
    {
     "name": "stderr",
     "output_type": "stream",
     "text": [
      "/data/xiayunpeng/anaconda3/envs/BERT/lib/python3.6/site-packages/sklearn/utils/validation.py:72: FutureWarning: Pass shuffle=True, random_state=10 as keyword args. From version 1.0 (renaming of 0.25) passing these as positional arguments will result in an error\n",
      "  \"will result in an error\", FutureWarning)\n"
     ]
    },
    {
     "name": "stdout",
     "output_type": "stream",
     "text": [
      "0.8302990906735073\n",
      "0.8370212605000451\n",
      "0.8236042726133005\n",
      "0.8271485391731944\n",
      "0.8481866133735216\n"
     ]
    },
    {
     "name": "stderr",
     "output_type": "stream",
     "text": [
      "/data/xiayunpeng/anaconda3/envs/BERT/lib/python3.6/site-packages/sklearn/utils/validation.py:72: FutureWarning: Pass shuffle=True, random_state=10 as keyword args. From version 1.0 (renaming of 0.25) passing these as positional arguments will result in an error\n",
      "  \"will result in an error\", FutureWarning)\n"
     ]
    },
    {
     "name": "stdout",
     "output_type": "stream",
     "text": [
      "0.8924972071496968\n",
      "0.886508686769275\n",
      "0.8955148493841771\n",
      "0.8833277489250013\n",
      "0.8905728437600947\n"
     ]
    },
    {
     "name": "stderr",
     "output_type": "stream",
     "text": [
      "/data/xiayunpeng/anaconda3/envs/BERT/lib/python3.6/site-packages/sklearn/utils/validation.py:72: FutureWarning: Pass shuffle=True, random_state=10 as keyword args. From version 1.0 (renaming of 0.25) passing these as positional arguments will result in an error\n",
      "  \"will result in an error\", FutureWarning)\n"
     ]
    },
    {
     "name": "stdout",
     "output_type": "stream",
     "text": [
      "0.8874221991701244\n",
      "0.8838729214460251\n",
      "0.8962211801601748\n",
      "0.8814609609968967\n",
      "0.8929766419806261\n"
     ]
    },
    {
     "name": "stderr",
     "output_type": "stream",
     "text": [
      "/data/xiayunpeng/anaconda3/envs/BERT/lib/python3.6/site-packages/sklearn/utils/validation.py:72: FutureWarning: Pass shuffle=True, random_state=10 as keyword args. From version 1.0 (renaming of 0.25) passing these as positional arguments will result in an error\n",
      "  \"will result in an error\", FutureWarning)\n"
     ]
    },
    {
     "name": "stdout",
     "output_type": "stream",
     "text": [
      "0.8957788062559847\n",
      "0.883513317787033\n",
      "0.8954311656251026\n",
      "0.87964403385747\n",
      "0.8920962795464787\n"
     ]
    },
    {
     "name": "stderr",
     "output_type": "stream",
     "text": [
      "/data/xiayunpeng/anaconda3/envs/BERT/lib/python3.6/site-packages/sklearn/utils/validation.py:72: FutureWarning: Pass shuffle=True, random_state=10 as keyword args. From version 1.0 (renaming of 0.25) passing these as positional arguments will result in an error\n",
      "  \"will result in an error\", FutureWarning)\n"
     ]
    },
    {
     "name": "stdout",
     "output_type": "stream",
     "text": [
      "0.8893632301308649\n",
      "0.8809223784046547\n",
      "0.8945873543877687\n",
      "0.8834723452121676\n",
      "0.8956984873319535\n"
     ]
    },
    {
     "name": "stderr",
     "output_type": "stream",
     "text": [
      "/data/xiayunpeng/anaconda3/envs/BERT/lib/python3.6/site-packages/sklearn/utils/validation.py:72: FutureWarning: Pass shuffle=True, random_state=10 as keyword args. From version 1.0 (renaming of 0.25) passing these as positional arguments will result in an error\n",
      "  \"will result in an error\", FutureWarning)\n"
     ]
    },
    {
     "name": "stdout",
     "output_type": "stream",
     "text": [
      "0.8916015001595914\n",
      "0.8842335212370366\n",
      "0.8943014348775976\n",
      "0.8823843828032134\n",
      "0.8872288623284639\n"
     ]
    },
    {
     "name": "stderr",
     "output_type": "stream",
     "text": [
      "/data/xiayunpeng/anaconda3/envs/BERT/lib/python3.6/site-packages/sklearn/utils/validation.py:72: FutureWarning: Pass shuffle=True, random_state=10 as keyword args. From version 1.0 (renaming of 0.25) passing these as positional arguments will result in an error\n",
      "  \"will result in an error\", FutureWarning)\n"
     ]
    },
    {
     "name": "stdout",
     "output_type": "stream",
     "text": [
      "0.8070465633138687\n",
      "0.8070992886113331\n",
      "0.8070603477971035\n",
      "0.8044710080053025\n",
      "0.8127509321157476\n"
     ]
    },
    {
     "name": "stderr",
     "output_type": "stream",
     "text": [
      "/data/xiayunpeng/anaconda3/envs/BERT/lib/python3.6/site-packages/sklearn/utils/validation.py:72: FutureWarning: Pass shuffle=True, random_state=10 as keyword args. From version 1.0 (renaming of 0.25) passing these as positional arguments will result in an error\n",
      "  \"will result in an error\", FutureWarning)\n"
     ]
    },
    {
     "name": "stdout",
     "output_type": "stream",
     "text": [
      "0.8101400632753953\n",
      "0.8062290229250567\n",
      "0.8051722682299085\n",
      "0.8052419809571268\n",
      "0.8148985805533095\n"
     ]
    },
    {
     "name": "stderr",
     "output_type": "stream",
     "text": [
      "/data/xiayunpeng/anaconda3/envs/BERT/lib/python3.6/site-packages/sklearn/utils/validation.py:72: FutureWarning: Pass shuffle=True, random_state=10 as keyword args. From version 1.0 (renaming of 0.25) passing these as positional arguments will result in an error\n",
      "  \"will result in an error\", FutureWarning)\n"
     ]
    },
    {
     "name": "stdout",
     "output_type": "stream",
     "text": [
      "0.8069698202175921\n",
      "0.8030919874656991\n",
      "0.8009456843529242\n",
      "0.8015135692786597\n",
      "0.8118330187762961\n"
     ]
    },
    {
     "name": "stderr",
     "output_type": "stream",
     "text": [
      "/data/xiayunpeng/anaconda3/envs/BERT/lib/python3.6/site-packages/sklearn/utils/validation.py:72: FutureWarning: Pass shuffle=True, random_state=10 as keyword args. From version 1.0 (renaming of 0.25) passing these as positional arguments will result in an error\n",
      "  \"will result in an error\", FutureWarning)\n"
     ]
    },
    {
     "name": "stdout",
     "output_type": "stream",
     "text": [
      "0.8094843067492805\n",
      "0.8073596599898262\n",
      "0.806001880182378\n",
      "0.805278947923397\n",
      "0.8114255369273808\n"
     ]
    },
    {
     "name": "stderr",
     "output_type": "stream",
     "text": [
      "/data/xiayunpeng/anaconda3/envs/BERT/lib/python3.6/site-packages/sklearn/utils/validation.py:72: FutureWarning: Pass shuffle=True, random_state=10 as keyword args. From version 1.0 (renaming of 0.25) passing these as positional arguments will result in an error\n",
      "  \"will result in an error\", FutureWarning)\n"
     ]
    },
    {
     "name": "stdout",
     "output_type": "stream",
     "text": [
      "0.8075615766655388\n",
      "0.8024662575628198\n",
      "0.7992560521983048\n",
      "0.7989009655787875\n",
      "0.8069809467824063\n"
     ]
    },
    {
     "name": "stderr",
     "output_type": "stream",
     "text": [
      "/data/xiayunpeng/anaconda3/envs/BERT/lib/python3.6/site-packages/sklearn/utils/validation.py:72: FutureWarning: Pass shuffle=True, random_state=10 as keyword args. From version 1.0 (renaming of 0.25) passing these as positional arguments will result in an error\n",
      "  \"will result in an error\", FutureWarning)\n"
     ]
    },
    {
     "name": "stdout",
     "output_type": "stream",
     "text": [
      "0.8186914193827813\n",
      "0.8104337955962857\n",
      "0.8190900199499308\n",
      "0.8107591687568207\n",
      "0.8127403097991333\n"
     ]
    },
    {
     "name": "stderr",
     "output_type": "stream",
     "text": [
      "/data/xiayunpeng/anaconda3/envs/BERT/lib/python3.6/site-packages/sklearn/utils/validation.py:72: FutureWarning: Pass shuffle=True, random_state=10 as keyword args. From version 1.0 (renaming of 0.25) passing these as positional arguments will result in an error\n",
      "  \"will result in an error\", FutureWarning)\n"
     ]
    },
    {
     "name": "stdout",
     "output_type": "stream",
     "text": [
      "0.8235854508299695\n",
      "0.8176489629748855\n",
      "0.8211798275392792\n",
      "0.8126050063183288\n",
      "0.8144155952979484\n"
     ]
    },
    {
     "name": "stderr",
     "output_type": "stream",
     "text": [
      "/data/xiayunpeng/anaconda3/envs/BERT/lib/python3.6/site-packages/sklearn/utils/validation.py:72: FutureWarning: Pass shuffle=True, random_state=10 as keyword args. From version 1.0 (renaming of 0.25) passing these as positional arguments will result in an error\n",
      "  \"will result in an error\", FutureWarning)\n"
     ]
    },
    {
     "name": "stdout",
     "output_type": "stream",
     "text": [
      "0.8223211145063376\n",
      "0.8099302865902657\n",
      "0.8189198323846896\n",
      "0.8104438506385341\n",
      "0.8160798079915726\n"
     ]
    },
    {
     "name": "stderr",
     "output_type": "stream",
     "text": [
      "/data/xiayunpeng/anaconda3/envs/BERT/lib/python3.6/site-packages/sklearn/utils/validation.py:72: FutureWarning: Pass shuffle=True, random_state=10 as keyword args. From version 1.0 (renaming of 0.25) passing these as positional arguments will result in an error\n",
      "  \"will result in an error\", FutureWarning)\n"
     ]
    },
    {
     "name": "stdout",
     "output_type": "stream",
     "text": [
      "0.8208973527603032\n",
      "0.8111901062125771\n",
      "0.815070422956478\n",
      "0.8119836441440579\n",
      "0.8131577844813138\n"
     ]
    },
    {
     "name": "stderr",
     "output_type": "stream",
     "text": [
      "/data/xiayunpeng/anaconda3/envs/BERT/lib/python3.6/site-packages/sklearn/utils/validation.py:72: FutureWarning: Pass shuffle=True, random_state=10 as keyword args. From version 1.0 (renaming of 0.25) passing these as positional arguments will result in an error\n",
      "  \"will result in an error\", FutureWarning)\n"
     ]
    },
    {
     "name": "stdout",
     "output_type": "stream",
     "text": [
      "0.8222894088876233\n",
      "0.8116864350545184\n",
      "0.8163586441225471\n",
      "0.809476655689368\n",
      "0.8142677583854053\n"
     ]
    },
    {
     "name": "stderr",
     "output_type": "stream",
     "text": [
      "/data/xiayunpeng/anaconda3/envs/BERT/lib/python3.6/site-packages/sklearn/utils/validation.py:72: FutureWarning: Pass shuffle=True, random_state=10 as keyword args. From version 1.0 (renaming of 0.25) passing these as positional arguments will result in an error\n",
      "  \"will result in an error\", FutureWarning)\n"
     ]
    },
    {
     "name": "stdout",
     "output_type": "stream",
     "text": [
      "0.8283077836878942\n",
      "0.8203365041016583\n",
      "0.8184996334147238\n",
      "0.8165655859840169\n",
      "0.8222688236745372\n"
     ]
    },
    {
     "name": "stderr",
     "output_type": "stream",
     "text": [
      "/data/xiayunpeng/anaconda3/envs/BERT/lib/python3.6/site-packages/sklearn/utils/validation.py:72: FutureWarning: Pass shuffle=True, random_state=10 as keyword args. From version 1.0 (renaming of 0.25) passing these as positional arguments will result in an error\n",
      "  \"will result in an error\", FutureWarning)\n"
     ]
    },
    {
     "name": "stdout",
     "output_type": "stream",
     "text": [
      "0.8254839119220454\n",
      "0.8201161485023776\n",
      "0.8188061879733042\n",
      "0.8150141351526414\n",
      "0.8222078373254449\n"
     ]
    },
    {
     "name": "stderr",
     "output_type": "stream",
     "text": [
      "/data/xiayunpeng/anaconda3/envs/BERT/lib/python3.6/site-packages/sklearn/utils/validation.py:72: FutureWarning: Pass shuffle=True, random_state=10 as keyword args. From version 1.0 (renaming of 0.25) passing these as positional arguments will result in an error\n",
      "  \"will result in an error\", FutureWarning)\n"
     ]
    },
    {
     "name": "stdout",
     "output_type": "stream",
     "text": [
      "0.8241004292368108\n",
      "0.8157430238599798\n",
      "0.812404093575952\n",
      "0.808322314342618\n",
      "0.8192935548934236\n"
     ]
    },
    {
     "name": "stderr",
     "output_type": "stream",
     "text": [
      "/data/xiayunpeng/anaconda3/envs/BERT/lib/python3.6/site-packages/sklearn/utils/validation.py:72: FutureWarning: Pass shuffle=True, random_state=10 as keyword args. From version 1.0 (renaming of 0.25) passing these as positional arguments will result in an error\n",
      "  \"will result in an error\", FutureWarning)\n"
     ]
    },
    {
     "name": "stdout",
     "output_type": "stream",
     "text": [
      "0.8290979004480556\n",
      "0.8191997874623544\n",
      "0.8188851621019677\n",
      "0.8125805885308524\n",
      "0.82261181782227\n"
     ]
    },
    {
     "name": "stderr",
     "output_type": "stream",
     "text": [
      "/data/xiayunpeng/anaconda3/envs/BERT/lib/python3.6/site-packages/sklearn/utils/validation.py:72: FutureWarning: Pass shuffle=True, random_state=10 as keyword args. From version 1.0 (renaming of 0.25) passing these as positional arguments will result in an error\n",
      "  \"will result in an error\", FutureWarning)\n"
     ]
    },
    {
     "name": "stdout",
     "output_type": "stream",
     "text": [
      "0.829879887723163\n",
      "0.8198733076378641\n",
      "0.8171935760558053\n",
      "0.8176972629951303\n",
      "0.8226482366208061\n"
     ]
    },
    {
     "name": "stderr",
     "output_type": "stream",
     "text": [
      "/data/xiayunpeng/anaconda3/envs/BERT/lib/python3.6/site-packages/sklearn/utils/validation.py:72: FutureWarning: Pass shuffle=True, random_state=10 as keyword args. From version 1.0 (renaming of 0.25) passing these as positional arguments will result in an error\n",
      "  \"will result in an error\", FutureWarning)\n"
     ]
    },
    {
     "name": "stdout",
     "output_type": "stream",
     "text": [
      "0.8096060543376569\n",
      "0.8120722840034218\n",
      "0.8059389421041898\n",
      "0.8027387546799813\n",
      "0.8112666790024465\n"
     ]
    },
    {
     "name": "stderr",
     "output_type": "stream",
     "text": [
      "/data/xiayunpeng/anaconda3/envs/BERT/lib/python3.6/site-packages/sklearn/utils/validation.py:72: FutureWarning: Pass shuffle=True, random_state=10 as keyword args. From version 1.0 (renaming of 0.25) passing these as positional arguments will result in an error\n",
      "  \"will result in an error\", FutureWarning)\n"
     ]
    },
    {
     "name": "stdout",
     "output_type": "stream",
     "text": [
      "0.8052185635639636\n",
      "0.8074643491666589\n",
      "0.8081195288041674\n",
      "0.804986878722028\n",
      "0.8101179829237561\n"
     ]
    },
    {
     "name": "stderr",
     "output_type": "stream",
     "text": [
      "/data/xiayunpeng/anaconda3/envs/BERT/lib/python3.6/site-packages/sklearn/utils/validation.py:72: FutureWarning: Pass shuffle=True, random_state=10 as keyword args. From version 1.0 (renaming of 0.25) passing these as positional arguments will result in an error\n",
      "  \"will result in an error\", FutureWarning)\n"
     ]
    },
    {
     "name": "stdout",
     "output_type": "stream",
     "text": [
      "0.8059687151809767\n",
      "0.8128034550992207\n",
      "0.8052239234380916\n",
      "0.8010620979827835\n",
      "0.8076139664525528\n"
     ]
    },
    {
     "name": "stderr",
     "output_type": "stream",
     "text": [
      "/data/xiayunpeng/anaconda3/envs/BERT/lib/python3.6/site-packages/sklearn/utils/validation.py:72: FutureWarning: Pass shuffle=True, random_state=10 as keyword args. From version 1.0 (renaming of 0.25) passing these as positional arguments will result in an error\n",
      "  \"will result in an error\", FutureWarning)\n"
     ]
    },
    {
     "name": "stdout",
     "output_type": "stream",
     "text": [
      "0.8079942420794802\n",
      "0.8063266128653211\n",
      "0.8050434803291318\n",
      "0.8006076852444224\n",
      "0.8032907161507667\n"
     ]
    },
    {
     "name": "stderr",
     "output_type": "stream",
     "text": [
      "/data/xiayunpeng/anaconda3/envs/BERT/lib/python3.6/site-packages/sklearn/utils/validation.py:72: FutureWarning: Pass shuffle=True, random_state=10 as keyword args. From version 1.0 (renaming of 0.25) passing these as positional arguments will result in an error\n",
      "  \"will result in an error\", FutureWarning)\n"
     ]
    },
    {
     "name": "stdout",
     "output_type": "stream",
     "text": [
      "0.8063618616218553\n",
      "0.8103276375036426\n",
      "0.8049954698355355\n",
      "0.8037578787884129\n",
      "0.8086138988994722\n"
     ]
    },
    {
     "name": "stderr",
     "output_type": "stream",
     "text": [
      "/data/xiayunpeng/anaconda3/envs/BERT/lib/python3.6/site-packages/sklearn/utils/validation.py:72: FutureWarning: Pass shuffle=True, random_state=10 as keyword args. From version 1.0 (renaming of 0.25) passing these as positional arguments will result in an error\n",
      "  \"will result in an error\", FutureWarning)\n"
     ]
    },
    {
     "name": "stdout",
     "output_type": "stream",
     "text": [
      "0.7594922121447509\n",
      "0.7525367053858901\n",
      "0.7583863504916137\n",
      "0.7427052430563668\n",
      "0.7478613575780934\n"
     ]
    },
    {
     "name": "stderr",
     "output_type": "stream",
     "text": [
      "/data/xiayunpeng/anaconda3/envs/BERT/lib/python3.6/site-packages/sklearn/utils/validation.py:72: FutureWarning: Pass shuffle=True, random_state=10 as keyword args. From version 1.0 (renaming of 0.25) passing these as positional arguments will result in an error\n",
      "  \"will result in an error\", FutureWarning)\n"
     ]
    },
    {
     "name": "stdout",
     "output_type": "stream",
     "text": [
      "0.7665707544245448\n",
      "0.755207382692434\n",
      "0.7605815237394186\n",
      "0.751123449508281\n",
      "0.7533977407761009\n"
     ]
    },
    {
     "name": "stderr",
     "output_type": "stream",
     "text": [
      "/data/xiayunpeng/anaconda3/envs/BERT/lib/python3.6/site-packages/sklearn/utils/validation.py:72: FutureWarning: Pass shuffle=True, random_state=10 as keyword args. From version 1.0 (renaming of 0.25) passing these as positional arguments will result in an error\n",
      "  \"will result in an error\", FutureWarning)\n"
     ]
    },
    {
     "name": "stdout",
     "output_type": "stream",
     "text": [
      "0.760091025458683\n",
      "0.7506129124108374\n",
      "0.7542012081485765\n",
      "0.7418445887547012\n",
      "0.7485686423927101\n"
     ]
    },
    {
     "name": "stderr",
     "output_type": "stream",
     "text": [
      "/data/xiayunpeng/anaconda3/envs/BERT/lib/python3.6/site-packages/sklearn/utils/validation.py:72: FutureWarning: Pass shuffle=True, random_state=10 as keyword args. From version 1.0 (renaming of 0.25) passing these as positional arguments will result in an error\n",
      "  \"will result in an error\", FutureWarning)\n"
     ]
    },
    {
     "name": "stdout",
     "output_type": "stream",
     "text": [
      "0.7561772224835801\n",
      "0.7480298461695712\n",
      "0.7508098626519678\n",
      "0.7417839998598426\n",
      "0.752135722773549\n"
     ]
    },
    {
     "name": "stderr",
     "output_type": "stream",
     "text": [
      "/data/xiayunpeng/anaconda3/envs/BERT/lib/python3.6/site-packages/sklearn/utils/validation.py:72: FutureWarning: Pass shuffle=True, random_state=10 as keyword args. From version 1.0 (renaming of 0.25) passing these as positional arguments will result in an error\n",
      "  \"will result in an error\", FutureWarning)\n"
     ]
    },
    {
     "name": "stdout",
     "output_type": "stream",
     "text": [
      "0.7645810312571798\n",
      "0.7529944732019653\n",
      "0.756900993743099\n",
      "0.7486940538204583\n",
      "0.754205023546964\n"
     ]
    },
    {
     "name": "stderr",
     "output_type": "stream",
     "text": [
      "/data/xiayunpeng/anaconda3/envs/BERT/lib/python3.6/site-packages/sklearn/utils/validation.py:72: FutureWarning: Pass shuffle=True, random_state=10 as keyword args. From version 1.0 (renaming of 0.25) passing these as positional arguments will result in an error\n",
      "  \"will result in an error\", FutureWarning)\n"
     ]
    },
    {
     "name": "stdout",
     "output_type": "stream",
     "text": [
      "0.81391130524913\n",
      "0.8042883630972598\n",
      "0.8176209496670082\n",
      "0.8203326362155205\n",
      "0.816365265461062\n"
     ]
    },
    {
     "name": "stderr",
     "output_type": "stream",
     "text": [
      "/data/xiayunpeng/anaconda3/envs/BERT/lib/python3.6/site-packages/sklearn/utils/validation.py:72: FutureWarning: Pass shuffle=True, random_state=10 as keyword args. From version 1.0 (renaming of 0.25) passing these as positional arguments will result in an error\n",
      "  \"will result in an error\", FutureWarning)\n"
     ]
    },
    {
     "name": "stdout",
     "output_type": "stream",
     "text": [
      "0.8248855948567209\n",
      "0.8193344975164537\n",
      "0.830872582607582\n",
      "0.8357892483829767\n",
      "0.8302973211892848\n"
     ]
    },
    {
     "name": "stderr",
     "output_type": "stream",
     "text": [
      "/data/xiayunpeng/anaconda3/envs/BERT/lib/python3.6/site-packages/sklearn/utils/validation.py:72: FutureWarning: Pass shuffle=True, random_state=10 as keyword args. From version 1.0 (renaming of 0.25) passing these as positional arguments will result in an error\n",
      "  \"will result in an error\", FutureWarning)\n"
     ]
    },
    {
     "name": "stdout",
     "output_type": "stream",
     "text": [
      "0.8132589908335818\n",
      "0.8068138678985164\n",
      "0.8165063076331969\n",
      "0.8260596040730883\n",
      "0.8266523066092264\n"
     ]
    },
    {
     "name": "stderr",
     "output_type": "stream",
     "text": [
      "/data/xiayunpeng/anaconda3/envs/BERT/lib/python3.6/site-packages/sklearn/utils/validation.py:72: FutureWarning: Pass shuffle=True, random_state=10 as keyword args. From version 1.0 (renaming of 0.25) passing these as positional arguments will result in an error\n",
      "  \"will result in an error\", FutureWarning)\n"
     ]
    },
    {
     "name": "stdout",
     "output_type": "stream",
     "text": [
      "0.8208806644802795\n",
      "0.8137640011668472\n",
      "0.8224697425717213\n",
      "0.8269227499447407\n",
      "0.8259383037532151\n"
     ]
    },
    {
     "name": "stderr",
     "output_type": "stream",
     "text": [
      "/data/xiayunpeng/anaconda3/envs/BERT/lib/python3.6/site-packages/sklearn/utils/validation.py:72: FutureWarning: Pass shuffle=True, random_state=10 as keyword args. From version 1.0 (renaming of 0.25) passing these as positional arguments will result in an error\n",
      "  \"will result in an error\", FutureWarning)\n"
     ]
    },
    {
     "name": "stdout",
     "output_type": "stream",
     "text": [
      "0.8190697916395703\n",
      "0.8079927032092293\n",
      "0.8172397300845287\n",
      "0.8242372961030415\n",
      "0.8226612906451627\n"
     ]
    },
    {
     "name": "stderr",
     "output_type": "stream",
     "text": [
      "/data/xiayunpeng/anaconda3/envs/BERT/lib/python3.6/site-packages/sklearn/utils/validation.py:72: FutureWarning: Pass shuffle=True, random_state=10 as keyword args. From version 1.0 (renaming of 0.25) passing these as positional arguments will result in an error\n",
      "  \"will result in an error\", FutureWarning)\n"
     ]
    },
    {
     "name": "stdout",
     "output_type": "stream",
     "text": [
      "0.7562079703840672\n",
      "0.7570316539891474\n",
      "0.7552812517524742\n",
      "0.7551397656208996\n",
      "0.7477259777774345\n"
     ]
    },
    {
     "name": "stderr",
     "output_type": "stream",
     "text": [
      "/data/xiayunpeng/anaconda3/envs/BERT/lib/python3.6/site-packages/sklearn/utils/validation.py:72: FutureWarning: Pass shuffle=True, random_state=10 as keyword args. From version 1.0 (renaming of 0.25) passing these as positional arguments will result in an error\n",
      "  \"will result in an error\", FutureWarning)\n"
     ]
    },
    {
     "name": "stdout",
     "output_type": "stream",
     "text": [
      "0.7542291999357816\n",
      "0.7580421198701988\n",
      "0.7544857613679262\n",
      "0.7544427810448971\n",
      "0.7472702535450464\n"
     ]
    },
    {
     "name": "stderr",
     "output_type": "stream",
     "text": [
      "/data/xiayunpeng/anaconda3/envs/BERT/lib/python3.6/site-packages/sklearn/utils/validation.py:72: FutureWarning: Pass shuffle=True, random_state=10 as keyword args. From version 1.0 (renaming of 0.25) passing these as positional arguments will result in an error\n",
      "  \"will result in an error\", FutureWarning)\n"
     ]
    },
    {
     "name": "stdout",
     "output_type": "stream",
     "text": [
      "0.7479661990081794\n",
      "0.752791481988833\n",
      "0.7473617856915715\n",
      "0.7511884014179881\n",
      "0.7411438122272267\n"
     ]
    },
    {
     "name": "stderr",
     "output_type": "stream",
     "text": [
      "/data/xiayunpeng/anaconda3/envs/BERT/lib/python3.6/site-packages/sklearn/utils/validation.py:72: FutureWarning: Pass shuffle=True, random_state=10 as keyword args. From version 1.0 (renaming of 0.25) passing these as positional arguments will result in an error\n",
      "  \"will result in an error\", FutureWarning)\n"
     ]
    },
    {
     "name": "stdout",
     "output_type": "stream",
     "text": [
      "0.7510412489831046\n",
      "0.7566757041708376\n",
      "0.7499369722447347\n",
      "0.7553595992406135\n",
      "0.7444244298602879\n"
     ]
    },
    {
     "name": "stderr",
     "output_type": "stream",
     "text": [
      "/data/xiayunpeng/anaconda3/envs/BERT/lib/python3.6/site-packages/sklearn/utils/validation.py:72: FutureWarning: Pass shuffle=True, random_state=10 as keyword args. From version 1.0 (renaming of 0.25) passing these as positional arguments will result in an error\n",
      "  \"will result in an error\", FutureWarning)\n"
     ]
    },
    {
     "name": "stdout",
     "output_type": "stream",
     "text": [
      "0.7535030051559747\n",
      "0.7576750938777286\n",
      "0.7517111912932428\n",
      "0.7529413067943713\n",
      "0.7449919185393343\n"
     ]
    },
    {
     "name": "stderr",
     "output_type": "stream",
     "text": [
      "/data/xiayunpeng/anaconda3/envs/BERT/lib/python3.6/site-packages/sklearn/utils/validation.py:72: FutureWarning: Pass shuffle=True, random_state=10 as keyword args. From version 1.0 (renaming of 0.25) passing these as positional arguments will result in an error\n",
      "  \"will result in an error\", FutureWarning)\n"
     ]
    },
    {
     "name": "stdout",
     "output_type": "stream",
     "text": [
      "0.7469546080070545\n",
      "0.7564435281752768\n",
      "0.7531937926077366\n",
      "0.7382979781961106\n",
      "0.7249495549330456\n"
     ]
    },
    {
     "name": "stderr",
     "output_type": "stream",
     "text": [
      "/data/xiayunpeng/anaconda3/envs/BERT/lib/python3.6/site-packages/sklearn/utils/validation.py:72: FutureWarning: Pass shuffle=True, random_state=10 as keyword args. From version 1.0 (renaming of 0.25) passing these as positional arguments will result in an error\n",
      "  \"will result in an error\", FutureWarning)\n"
     ]
    },
    {
     "name": "stdout",
     "output_type": "stream",
     "text": [
      "0.7409497366227245\n",
      "0.7567809100916063\n",
      "0.7501806282006322\n",
      "0.7316796955167075\n",
      "0.7246824836694783\n"
     ]
    },
    {
     "name": "stderr",
     "output_type": "stream",
     "text": [
      "/data/xiayunpeng/anaconda3/envs/BERT/lib/python3.6/site-packages/sklearn/utils/validation.py:72: FutureWarning: Pass shuffle=True, random_state=10 as keyword args. From version 1.0 (renaming of 0.25) passing these as positional arguments will result in an error\n",
      "  \"will result in an error\", FutureWarning)\n"
     ]
    },
    {
     "name": "stdout",
     "output_type": "stream",
     "text": [
      "0.7458789138782875\n",
      "0.7578169990733659\n",
      "0.7532124461224317\n",
      "0.7393477490251684\n",
      "0.7283135957616816\n"
     ]
    },
    {
     "name": "stderr",
     "output_type": "stream",
     "text": [
      "/data/xiayunpeng/anaconda3/envs/BERT/lib/python3.6/site-packages/sklearn/utils/validation.py:72: FutureWarning: Pass shuffle=True, random_state=10 as keyword args. From version 1.0 (renaming of 0.25) passing these as positional arguments will result in an error\n",
      "  \"will result in an error\", FutureWarning)\n"
     ]
    },
    {
     "name": "stdout",
     "output_type": "stream",
     "text": [
      "0.7396090028949285\n",
      "0.7544040000746284\n",
      "0.7459481457162825\n",
      "0.7353579357823841\n",
      "0.7227019901317324\n"
     ]
    },
    {
     "name": "stderr",
     "output_type": "stream",
     "text": [
      "/data/xiayunpeng/anaconda3/envs/BERT/lib/python3.6/site-packages/sklearn/utils/validation.py:72: FutureWarning: Pass shuffle=True, random_state=10 as keyword args. From version 1.0 (renaming of 0.25) passing these as positional arguments will result in an error\n",
      "  \"will result in an error\", FutureWarning)\n"
     ]
    },
    {
     "name": "stdout",
     "output_type": "stream",
     "text": [
      "0.7364021169610739\n",
      "0.7555909003277423\n",
      "0.7501053923580281\n",
      "0.7291330062128024\n",
      "0.7263219094818072\n"
     ]
    }
   ],
   "source": [
    "#对TestData做五折交叉训练\n",
    "Auc = []\n",
    "Auc_train = []\n",
    "for typei in range(len(type_name)):\n",
    "    for celli in range(len(cell_name)):\n",
    "        testLabel = np.array(pd.read_csv(\"Result/\"+feature_name[0]+\"/\"+type_name[typei]+\"_\"+cell_name[celli]+\"test_result.csv\").iloc[:,1])\n",
    "        test_1 = pd.read_csv(\"Result/\"+feature_name[0]+\"/\"+type_name[typei]+\"_\"+cell_name[celli]+\"test_result.csv\").iloc[:,2:7]\n",
    "        test_2 = pd.read_csv(\"Result/\"+feature_name[1]+\"/\"+type_name[typei]+\"_\"+cell_name[celli]+\"test_result.csv\").iloc[:,2:7]\n",
    "        test_3 = pd.read_csv(\"Result/\"+feature_name[2]+\"/\"+type_name[typei]+\"_\"+cell_name[celli]+\"test_result.csv\").iloc[:,2:7]\n",
    "        test_4 = pd.read_csv(\"Result/\"+feature_name[3]+\"/\"+type_name[typei]+\"_\"+cell_name[celli]+\"test_result.csv\").iloc[:,2:7]\n",
    "\n",
    "        for networki in range(len(network_name)):\n",
    "            if network_name[networki] == \"SVM\":\n",
    "                for i in range(5):\n",
    "                    testData = np.array(pd.DataFrame([test_1.iloc[:,i],test_2.iloc[:,i],test_3.iloc[:,i],test_4.iloc[:,i]]).T)\n",
    "                    kf = KFold(5,True,10)\n",
    "                    for j,[train_index, test_index] in enumerate(kf.split(testData)):\n",
    "                        \n",
    "                        X_train = testData[train_index]\n",
    "                        X_test = testData[test_index]\n",
    "                        Y_train = testLabel[train_index]\n",
    "                        Y_test = testLabel[test_index]\n",
    "                        \n",
    "                        model = LogisticRegression()\n",
    "                        clf =model.fit(X_train, Y_train)\n",
    "                        th,_,_,_,_,_,_,acc,mcc,auc = metricsCal.get_train_metrics(clf.decision_function(X_train).reshape(-1),Y_train.reshape(-1))\n",
    "                        Auc_train.append(auc)\n",
    "                        _,_,_,_,_,_, _,_, auc = metricsCal.get_test_metrics(clf.decision_function(X_test).reshape(-1),Y_test.reshape(-1),th)\n",
    "\n",
    "                        Auc.append(auc)\n",
    "                        print(auc)\n",
    "                "
   ]
  },
  {
   "cell_type": "code",
   "execution_count": 42,
   "id": "3854593d",
   "metadata": {
    "ExecuteTime": {
     "end_time": "2023-03-21T06:24:59.650120Z",
     "start_time": "2023-03-21T06:24:59.642915Z"
    }
   },
   "outputs": [
    {
     "data": {
      "text/plain": [
       "(0.8130155846217334, 0.8132218483026112)"
      ]
     },
     "execution_count": 42,
     "metadata": {},
     "output_type": "execute_result"
    }
   ],
   "source": [
    "np.mean(Auc),np.mean(Auc_train)"
   ]
  },
  {
   "cell_type": "code",
   "execution_count": 43,
   "id": "995b7e49",
   "metadata": {
    "ExecuteTime": {
     "end_time": "2023-03-21T06:28:39.763053Z",
     "start_time": "2023-03-21T06:25:00.001023Z"
    }
   },
   "outputs": [
    {
     "name": "stderr",
     "output_type": "stream",
     "text": [
      "/data/xiayunpeng/anaconda3/envs/BERT/lib/python3.6/site-packages/sklearn/utils/validation.py:72: FutureWarning: Pass shuffle=True, random_state=10 as keyword args. From version 1.0 (renaming of 0.25) passing these as positional arguments will result in an error\n",
      "  \"will result in an error\", FutureWarning)\n"
     ]
    },
    {
     "name": "stdout",
     "output_type": "stream",
     "text": [
      "0.8671857552049935\n",
      "0.8661851290476588\n",
      "0.8579759211182683\n",
      "0.8699273410199967\n",
      "0.8700882796047636\n"
     ]
    },
    {
     "name": "stderr",
     "output_type": "stream",
     "text": [
      "/data/xiayunpeng/anaconda3/envs/BERT/lib/python3.6/site-packages/sklearn/utils/validation.py:72: FutureWarning: Pass shuffle=True, random_state=10 as keyword args. From version 1.0 (renaming of 0.25) passing these as positional arguments will result in an error\n",
      "  \"will result in an error\", FutureWarning)\n"
     ]
    },
    {
     "name": "stdout",
     "output_type": "stream",
     "text": [
      "0.8618024881364627\n",
      "0.8639985109622454\n",
      "0.8608261365991083\n",
      "0.8661194152388869\n",
      "0.8724577622149882\n"
     ]
    },
    {
     "name": "stderr",
     "output_type": "stream",
     "text": [
      "/data/xiayunpeng/anaconda3/envs/BERT/lib/python3.6/site-packages/sklearn/utils/validation.py:72: FutureWarning: Pass shuffle=True, random_state=10 as keyword args. From version 1.0 (renaming of 0.25) passing these as positional arguments will result in an error\n",
      "  \"will result in an error\", FutureWarning)\n"
     ]
    },
    {
     "name": "stdout",
     "output_type": "stream",
     "text": [
      "0.8681088452823734\n",
      "0.8678400334332409\n",
      "0.8630117750125694\n",
      "0.869010466108725\n",
      "0.8712678040456866\n"
     ]
    },
    {
     "name": "stderr",
     "output_type": "stream",
     "text": [
      "/data/xiayunpeng/anaconda3/envs/BERT/lib/python3.6/site-packages/sklearn/utils/validation.py:72: FutureWarning: Pass shuffle=True, random_state=10 as keyword args. From version 1.0 (renaming of 0.25) passing these as positional arguments will result in an error\n",
      "  \"will result in an error\", FutureWarning)\n"
     ]
    },
    {
     "name": "stdout",
     "output_type": "stream",
     "text": [
      "0.8673925868923945\n",
      "0.8676661299655681\n",
      "0.8630090383678445\n",
      "0.8658734556973501\n",
      "0.8735184105702904\n"
     ]
    },
    {
     "name": "stderr",
     "output_type": "stream",
     "text": [
      "/data/xiayunpeng/anaconda3/envs/BERT/lib/python3.6/site-packages/sklearn/utils/validation.py:72: FutureWarning: Pass shuffle=True, random_state=10 as keyword args. From version 1.0 (renaming of 0.25) passing these as positional arguments will result in an error\n",
      "  \"will result in an error\", FutureWarning)\n"
     ]
    },
    {
     "name": "stdout",
     "output_type": "stream",
     "text": [
      "0.8647429353170023\n",
      "0.8677383759981068\n",
      "0.8630264844779649\n",
      "0.8678803008300706\n",
      "0.8682493777392813\n"
     ]
    },
    {
     "name": "stderr",
     "output_type": "stream",
     "text": [
      "/data/xiayunpeng/anaconda3/envs/BERT/lib/python3.6/site-packages/sklearn/utils/validation.py:72: FutureWarning: Pass shuffle=True, random_state=10 as keyword args. From version 1.0 (renaming of 0.25) passing these as positional arguments will result in an error\n",
      "  \"will result in an error\", FutureWarning)\n"
     ]
    },
    {
     "name": "stdout",
     "output_type": "stream",
     "text": [
      "0.8560274239201319\n",
      "0.8556960638806256\n",
      "0.8525101074139433\n",
      "0.8522073382535607\n",
      "0.858932177765075\n"
     ]
    },
    {
     "name": "stderr",
     "output_type": "stream",
     "text": [
      "/data/xiayunpeng/anaconda3/envs/BERT/lib/python3.6/site-packages/sklearn/utils/validation.py:72: FutureWarning: Pass shuffle=True, random_state=10 as keyword args. From version 1.0 (renaming of 0.25) passing these as positional arguments will result in an error\n",
      "  \"will result in an error\", FutureWarning)\n"
     ]
    },
    {
     "name": "stdout",
     "output_type": "stream",
     "text": [
      "0.8587020755728396\n",
      "0.8606789187570943\n",
      "0.8561926721129369\n",
      "0.8561295365320732\n",
      "0.8629574758130998\n"
     ]
    },
    {
     "name": "stderr",
     "output_type": "stream",
     "text": [
      "/data/xiayunpeng/anaconda3/envs/BERT/lib/python3.6/site-packages/sklearn/utils/validation.py:72: FutureWarning: Pass shuffle=True, random_state=10 as keyword args. From version 1.0 (renaming of 0.25) passing these as positional arguments will result in an error\n",
      "  \"will result in an error\", FutureWarning)\n"
     ]
    },
    {
     "name": "stdout",
     "output_type": "stream",
     "text": [
      "0.8581811849783019\n",
      "0.8567278988930069\n",
      "0.8549318155146431\n",
      "0.8502383818728658\n",
      "0.8580912685064932\n"
     ]
    },
    {
     "name": "stderr",
     "output_type": "stream",
     "text": [
      "/data/xiayunpeng/anaconda3/envs/BERT/lib/python3.6/site-packages/sklearn/utils/validation.py:72: FutureWarning: Pass shuffle=True, random_state=10 as keyword args. From version 1.0 (renaming of 0.25) passing these as positional arguments will result in an error\n",
      "  \"will result in an error\", FutureWarning)\n"
     ]
    },
    {
     "name": "stdout",
     "output_type": "stream",
     "text": [
      "0.8596138389732418\n",
      "0.8547469941915405\n",
      "0.8536322957440318\n",
      "0.8536187721113022\n",
      "0.8591365644833264\n"
     ]
    },
    {
     "name": "stderr",
     "output_type": "stream",
     "text": [
      "/data/xiayunpeng/anaconda3/envs/BERT/lib/python3.6/site-packages/sklearn/utils/validation.py:72: FutureWarning: Pass shuffle=True, random_state=10 as keyword args. From version 1.0 (renaming of 0.25) passing these as positional arguments will result in an error\n",
      "  \"will result in an error\", FutureWarning)\n"
     ]
    },
    {
     "name": "stdout",
     "output_type": "stream",
     "text": [
      "0.8604405172031151\n",
      "0.8605424788924525\n",
      "0.8534613853957311\n",
      "0.8565192557074319\n",
      "0.8646754991967984\n"
     ]
    },
    {
     "name": "stderr",
     "output_type": "stream",
     "text": [
      "/data/xiayunpeng/anaconda3/envs/BERT/lib/python3.6/site-packages/sklearn/utils/validation.py:72: FutureWarning: Pass shuffle=True, random_state=10 as keyword args. From version 1.0 (renaming of 0.25) passing these as positional arguments will result in an error\n",
      "  \"will result in an error\", FutureWarning)\n"
     ]
    },
    {
     "name": "stdout",
     "output_type": "stream",
     "text": [
      "0.8344337164170847\n",
      "0.8449033864918574\n",
      "0.8407196394372436\n",
      "0.8298846089160343\n",
      "0.8577655465641574\n"
     ]
    },
    {
     "name": "stderr",
     "output_type": "stream",
     "text": [
      "/data/xiayunpeng/anaconda3/envs/BERT/lib/python3.6/site-packages/sklearn/utils/validation.py:72: FutureWarning: Pass shuffle=True, random_state=10 as keyword args. From version 1.0 (renaming of 0.25) passing these as positional arguments will result in an error\n",
      "  \"will result in an error\", FutureWarning)\n"
     ]
    },
    {
     "name": "stdout",
     "output_type": "stream",
     "text": [
      "0.8383863603937793\n",
      "0.8473103590746287\n",
      "0.8365156478670807\n",
      "0.8340986514044746\n",
      "0.8592842555886817\n"
     ]
    },
    {
     "name": "stderr",
     "output_type": "stream",
     "text": [
      "/data/xiayunpeng/anaconda3/envs/BERT/lib/python3.6/site-packages/sklearn/utils/validation.py:72: FutureWarning: Pass shuffle=True, random_state=10 as keyword args. From version 1.0 (renaming of 0.25) passing these as positional arguments will result in an error\n",
      "  \"will result in an error\", FutureWarning)\n"
     ]
    },
    {
     "name": "stdout",
     "output_type": "stream",
     "text": [
      "0.8393916276740401\n",
      "0.8487644352888803\n",
      "0.840686129887386\n",
      "0.8347473576686764\n",
      "0.8604782550135235\n"
     ]
    },
    {
     "name": "stderr",
     "output_type": "stream",
     "text": [
      "/data/xiayunpeng/anaconda3/envs/BERT/lib/python3.6/site-packages/sklearn/utils/validation.py:72: FutureWarning: Pass shuffle=True, random_state=10 as keyword args. From version 1.0 (renaming of 0.25) passing these as positional arguments will result in an error\n",
      "  \"will result in an error\", FutureWarning)\n"
     ]
    },
    {
     "name": "stdout",
     "output_type": "stream",
     "text": [
      "0.8386753474395894\n",
      "0.844793548818845\n",
      "0.8415967154813393\n",
      "0.8335511462297498\n",
      "0.8571030224930563\n"
     ]
    },
    {
     "name": "stderr",
     "output_type": "stream",
     "text": [
      "/data/xiayunpeng/anaconda3/envs/BERT/lib/python3.6/site-packages/sklearn/utils/validation.py:72: FutureWarning: Pass shuffle=True, random_state=10 as keyword args. From version 1.0 (renaming of 0.25) passing these as positional arguments will result in an error\n",
      "  \"will result in an error\", FutureWarning)\n"
     ]
    },
    {
     "name": "stdout",
     "output_type": "stream",
     "text": [
      "0.83886388055008\n",
      "0.8440588729927347\n",
      "0.8332644930624306\n",
      "0.8319443059097797\n",
      "0.858476849880054\n"
     ]
    },
    {
     "name": "stderr",
     "output_type": "stream",
     "text": [
      "/data/xiayunpeng/anaconda3/envs/BERT/lib/python3.6/site-packages/sklearn/utils/validation.py:72: FutureWarning: Pass shuffle=True, random_state=10 as keyword args. From version 1.0 (renaming of 0.25) passing these as positional arguments will result in an error\n",
      "  \"will result in an error\", FutureWarning)\n"
     ]
    },
    {
     "name": "stdout",
     "output_type": "stream",
     "text": [
      "0.8959792930098948\n",
      "0.8890816957753044\n",
      "0.8983810181324774\n",
      "0.8880435823181677\n",
      "0.8957563140830073\n"
     ]
    },
    {
     "name": "stderr",
     "output_type": "stream",
     "text": [
      "/data/xiayunpeng/anaconda3/envs/BERT/lib/python3.6/site-packages/sklearn/utils/validation.py:72: FutureWarning: Pass shuffle=True, random_state=10 as keyword args. From version 1.0 (renaming of 0.25) passing these as positional arguments will result in an error\n",
      "  \"will result in an error\", FutureWarning)\n"
     ]
    },
    {
     "name": "stdout",
     "output_type": "stream",
     "text": [
      "0.8921640600063836\n",
      "0.8875356988812442\n",
      "0.8995804853458781\n",
      "0.8867222714182004\n",
      "0.8986267143637661\n"
     ]
    },
    {
     "name": "stderr",
     "output_type": "stream",
     "text": [
      "/data/xiayunpeng/anaconda3/envs/BERT/lib/python3.6/site-packages/sklearn/utils/validation.py:72: FutureWarning: Pass shuffle=True, random_state=10 as keyword args. From version 1.0 (renaming of 0.25) passing these as positional arguments will result in an error\n",
      "  \"will result in an error\", FutureWarning)\n"
     ]
    },
    {
     "name": "stdout",
     "output_type": "stream",
     "text": [
      "0.8995032716246409\n",
      "0.8870954085286832\n",
      "0.8990006764437192\n",
      "0.8848774222371141\n",
      "0.8969168371558811\n"
     ]
    },
    {
     "name": "stderr",
     "output_type": "stream",
     "text": [
      "/data/xiayunpeng/anaconda3/envs/BERT/lib/python3.6/site-packages/sklearn/utils/validation.py:72: FutureWarning: Pass shuffle=True, random_state=10 as keyword args. From version 1.0 (renaming of 0.25) passing these as positional arguments will result in an error\n",
      "  \"will result in an error\", FutureWarning)\n"
     ]
    },
    {
     "name": "stdout",
     "output_type": "stream",
     "text": [
      "0.8941150654324929\n",
      "0.8842863162340631\n",
      "0.8978739344018952\n",
      "0.8884763739638928\n",
      "0.9000404787257377\n"
     ]
    },
    {
     "name": "stderr",
     "output_type": "stream",
     "text": [
      "/data/xiayunpeng/anaconda3/envs/BERT/lib/python3.6/site-packages/sklearn/utils/validation.py:72: FutureWarning: Pass shuffle=True, random_state=10 as keyword args. From version 1.0 (renaming of 0.25) passing these as positional arguments will result in an error\n",
      "  \"will result in an error\", FutureWarning)\n"
     ]
    },
    {
     "name": "stdout",
     "output_type": "stream",
     "text": [
      "0.8962625678263645\n",
      "0.8874032133226681\n",
      "0.8978998365177993\n",
      "0.8880316157288849\n",
      "0.8934103426135299\n"
     ]
    },
    {
     "name": "stderr",
     "output_type": "stream",
     "text": [
      "/data/xiayunpeng/anaconda3/envs/BERT/lib/python3.6/site-packages/sklearn/utils/validation.py:72: FutureWarning: Pass shuffle=True, random_state=10 as keyword args. From version 1.0 (renaming of 0.25) passing these as positional arguments will result in an error\n",
      "  \"will result in an error\", FutureWarning)\n"
     ]
    },
    {
     "name": "stdout",
     "output_type": "stream",
     "text": [
      "0.8129346519303637\n",
      "0.8133780410041771\n",
      "0.8134827573826304\n",
      "0.8101023634838027\n",
      "0.819634141896615\n"
     ]
    },
    {
     "name": "stderr",
     "output_type": "stream",
     "text": [
      "/data/xiayunpeng/anaconda3/envs/BERT/lib/python3.6/site-packages/sklearn/utils/validation.py:72: FutureWarning: Pass shuffle=True, random_state=10 as keyword args. From version 1.0 (renaming of 0.25) passing these as positional arguments will result in an error\n",
      "  \"will result in an error\", FutureWarning)\n"
     ]
    },
    {
     "name": "stdout",
     "output_type": "stream",
     "text": [
      "0.8167032468640165\n",
      "0.8130717504707528\n",
      "0.8118221087270374\n",
      "0.8116114950980093\n",
      "0.8219180927275731\n"
     ]
    },
    {
     "name": "stderr",
     "output_type": "stream",
     "text": [
      "/data/xiayunpeng/anaconda3/envs/BERT/lib/python3.6/site-packages/sklearn/utils/validation.py:72: FutureWarning: Pass shuffle=True, random_state=10 as keyword args. From version 1.0 (renaming of 0.25) passing these as positional arguments will result in an error\n",
      "  \"will result in an error\", FutureWarning)\n"
     ]
    },
    {
     "name": "stdout",
     "output_type": "stream",
     "text": [
      "0.8135830802032531\n",
      "0.8110289179949026\n",
      "0.8080941875790889\n",
      "0.8081108292447787\n",
      "0.8195456899102226\n"
     ]
    },
    {
     "name": "stderr",
     "output_type": "stream",
     "text": [
      "/data/xiayunpeng/anaconda3/envs/BERT/lib/python3.6/site-packages/sklearn/utils/validation.py:72: FutureWarning: Pass shuffle=True, random_state=10 as keyword args. From version 1.0 (renaming of 0.25) passing these as positional arguments will result in an error\n",
      "  \"will result in an error\", FutureWarning)\n"
     ]
    },
    {
     "name": "stdout",
     "output_type": "stream",
     "text": [
      "0.8154209246871345\n",
      "0.8144128096204862\n",
      "0.8121997490647732\n",
      "0.8105837890081902\n",
      "0.8180932773436062\n"
     ]
    },
    {
     "name": "stderr",
     "output_type": "stream",
     "text": [
      "/data/xiayunpeng/anaconda3/envs/BERT/lib/python3.6/site-packages/sklearn/utils/validation.py:72: FutureWarning: Pass shuffle=True, random_state=10 as keyword args. From version 1.0 (renaming of 0.25) passing these as positional arguments will result in an error\n",
      "  \"will result in an error\", FutureWarning)\n"
     ]
    },
    {
     "name": "stdout",
     "output_type": "stream",
     "text": [
      "0.8138951823656171\n",
      "0.8097233159231345\n",
      "0.8062192564250759\n",
      "0.8052420623821627\n",
      "0.8150083310612874\n"
     ]
    },
    {
     "name": "stderr",
     "output_type": "stream",
     "text": [
      "/data/xiayunpeng/anaconda3/envs/BERT/lib/python3.6/site-packages/sklearn/utils/validation.py:72: FutureWarning: Pass shuffle=True, random_state=10 as keyword args. From version 1.0 (renaming of 0.25) passing these as positional arguments will result in an error\n",
      "  \"will result in an error\", FutureWarning)\n"
     ]
    },
    {
     "name": "stdout",
     "output_type": "stream",
     "text": [
      "0.8223884141687027\n",
      "0.8148609650978209\n",
      "0.8231464061710192\n",
      "0.8186995610676062\n",
      "0.8182515741339271\n"
     ]
    },
    {
     "name": "stderr",
     "output_type": "stream",
     "text": [
      "/data/xiayunpeng/anaconda3/envs/BERT/lib/python3.6/site-packages/sklearn/utils/validation.py:72: FutureWarning: Pass shuffle=True, random_state=10 as keyword args. From version 1.0 (renaming of 0.25) passing these as positional arguments will result in an error\n",
      "  \"will result in an error\", FutureWarning)\n"
     ]
    },
    {
     "name": "stdout",
     "output_type": "stream",
     "text": [
      "0.826846343803765\n",
      "0.821069413637884\n",
      "0.8244570597929635\n",
      "0.8196888941009783\n",
      "0.8190838301132419\n"
     ]
    },
    {
     "name": "stderr",
     "output_type": "stream",
     "text": [
      "/data/xiayunpeng/anaconda3/envs/BERT/lib/python3.6/site-packages/sklearn/utils/validation.py:72: FutureWarning: Pass shuffle=True, random_state=10 as keyword args. From version 1.0 (renaming of 0.25) passing these as positional arguments will result in an error\n",
      "  \"will result in an error\", FutureWarning)\n"
     ]
    },
    {
     "name": "stdout",
     "output_type": "stream",
     "text": [
      "0.8264093446628079\n",
      "0.8141585057121197\n",
      "0.8230647520316328\n",
      "0.8178254059047656\n",
      "0.8207193133663722\n"
     ]
    },
    {
     "name": "stderr",
     "output_type": "stream",
     "text": [
      "/data/xiayunpeng/anaconda3/envs/BERT/lib/python3.6/site-packages/sklearn/utils/validation.py:72: FutureWarning: Pass shuffle=True, random_state=10 as keyword args. From version 1.0 (renaming of 0.25) passing these as positional arguments will result in an error\n",
      "  \"will result in an error\", FutureWarning)\n"
     ]
    },
    {
     "name": "stdout",
     "output_type": "stream",
     "text": [
      "0.8249188814736292\n",
      "0.8158619996397951\n",
      "0.8195769537921318\n",
      "0.8190205632885945\n",
      "0.8179190907132083\n"
     ]
    },
    {
     "name": "stderr",
     "output_type": "stream",
     "text": [
      "/data/xiayunpeng/anaconda3/envs/BERT/lib/python3.6/site-packages/sklearn/utils/validation.py:72: FutureWarning: Pass shuffle=True, random_state=10 as keyword args. From version 1.0 (renaming of 0.25) passing these as positional arguments will result in an error\n",
      "  \"will result in an error\", FutureWarning)\n"
     ]
    },
    {
     "name": "stdout",
     "output_type": "stream",
     "text": [
      "0.8263291832871906\n",
      "0.81549850383331\n",
      "0.8209878057169862\n",
      "0.8176192823910088\n",
      "0.8188845196198138\n"
     ]
    },
    {
     "name": "stderr",
     "output_type": "stream",
     "text": [
      "/data/xiayunpeng/anaconda3/envs/BERT/lib/python3.6/site-packages/sklearn/utils/validation.py:72: FutureWarning: Pass shuffle=True, random_state=10 as keyword args. From version 1.0 (renaming of 0.25) passing these as positional arguments will result in an error\n",
      "  \"will result in an error\", FutureWarning)\n"
     ]
    },
    {
     "name": "stdout",
     "output_type": "stream",
     "text": [
      "0.8302412173886571\n",
      "0.8227099103287622\n",
      "0.8215515985643836\n",
      "0.8192450816673686\n",
      "0.8237531708576256\n"
     ]
    },
    {
     "name": "stderr",
     "output_type": "stream",
     "text": [
      "/data/xiayunpeng/anaconda3/envs/BERT/lib/python3.6/site-packages/sklearn/utils/validation.py:72: FutureWarning: Pass shuffle=True, random_state=10 as keyword args. From version 1.0 (renaming of 0.25) passing these as positional arguments will result in an error\n",
      "  \"will result in an error\", FutureWarning)\n"
     ]
    },
    {
     "name": "stdout",
     "output_type": "stream",
     "text": [
      "0.8276390038163607\n",
      "0.8219856253429003\n",
      "0.8215708879736848\n",
      "0.8172279361466424\n",
      "0.8235964229646391\n"
     ]
    },
    {
     "name": "stderr",
     "output_type": "stream",
     "text": [
      "/data/xiayunpeng/anaconda3/envs/BERT/lib/python3.6/site-packages/sklearn/utils/validation.py:72: FutureWarning: Pass shuffle=True, random_state=10 as keyword args. From version 1.0 (renaming of 0.25) passing these as positional arguments will result in an error\n",
      "  \"will result in an error\", FutureWarning)\n"
     ]
    },
    {
     "name": "stdout",
     "output_type": "stream",
     "text": [
      "0.8267435496860289\n",
      "0.817799820256249\n",
      "0.8160993562008271\n",
      "0.81117866158395\n",
      "0.8205887146361357\n"
     ]
    },
    {
     "name": "stderr",
     "output_type": "stream",
     "text": [
      "/data/xiayunpeng/anaconda3/envs/BERT/lib/python3.6/site-packages/sklearn/utils/validation.py:72: FutureWarning: Pass shuffle=True, random_state=10 as keyword args. From version 1.0 (renaming of 0.25) passing these as positional arguments will result in an error\n",
      "  \"will result in an error\", FutureWarning)\n"
     ]
    },
    {
     "name": "stdout",
     "output_type": "stream",
     "text": [
      "0.8309470988462357\n",
      "0.8211281584014292\n",
      "0.8215990003415004\n",
      "0.8154096945786565\n",
      "0.8242424457377202\n"
     ]
    },
    {
     "name": "stderr",
     "output_type": "stream",
     "text": [
      "/data/xiayunpeng/anaconda3/envs/BERT/lib/python3.6/site-packages/sklearn/utils/validation.py:72: FutureWarning: Pass shuffle=True, random_state=10 as keyword args. From version 1.0 (renaming of 0.25) passing these as positional arguments will result in an error\n",
      "  \"will result in an error\", FutureWarning)\n"
     ]
    },
    {
     "name": "stdout",
     "output_type": "stream",
     "text": [
      "0.8315226490912966\n",
      "0.8218492435610849\n",
      "0.8201821370035919\n",
      "0.8195742244691642\n",
      "0.8238725483920191\n"
     ]
    },
    {
     "name": "stderr",
     "output_type": "stream",
     "text": [
      "/data/xiayunpeng/anaconda3/envs/BERT/lib/python3.6/site-packages/sklearn/utils/validation.py:72: FutureWarning: Pass shuffle=True, random_state=10 as keyword args. From version 1.0 (renaming of 0.25) passing these as positional arguments will result in an error\n",
      "  \"will result in an error\", FutureWarning)\n"
     ]
    },
    {
     "name": "stdout",
     "output_type": "stream",
     "text": [
      "0.8097991015810482\n",
      "0.812517772539693\n",
      "0.8076720181482602\n",
      "0.8044649062358824\n",
      "0.8122738073209916\n"
     ]
    },
    {
     "name": "stderr",
     "output_type": "stream",
     "text": [
      "/data/xiayunpeng/anaconda3/envs/BERT/lib/python3.6/site-packages/sklearn/utils/validation.py:72: FutureWarning: Pass shuffle=True, random_state=10 as keyword args. From version 1.0 (renaming of 0.25) passing these as positional arguments will result in an error\n",
      "  \"will result in an error\", FutureWarning)\n"
     ]
    },
    {
     "name": "stdout",
     "output_type": "stream",
     "text": [
      "0.8054374679723751\n",
      "0.8080656779063538\n",
      "0.8094111138566653\n",
      "0.8065175476164039\n",
      "0.811120265043043\n"
     ]
    },
    {
     "name": "stderr",
     "output_type": "stream",
     "text": [
      "/data/xiayunpeng/anaconda3/envs/BERT/lib/python3.6/site-packages/sklearn/utils/validation.py:72: FutureWarning: Pass shuffle=True, random_state=10 as keyword args. From version 1.0 (renaming of 0.25) passing these as positional arguments will result in an error\n",
      "  \"will result in an error\", FutureWarning)\n"
     ]
    },
    {
     "name": "stdout",
     "output_type": "stream",
     "text": [
      "0.8061962876162986\n",
      "0.8130331761907896\n",
      "0.8068837357625762\n",
      "0.8028606559640277\n",
      "0.8088557682988078\n"
     ]
    },
    {
     "name": "stderr",
     "output_type": "stream",
     "text": [
      "/data/xiayunpeng/anaconda3/envs/BERT/lib/python3.6/site-packages/sklearn/utils/validation.py:72: FutureWarning: Pass shuffle=True, random_state=10 as keyword args. From version 1.0 (renaming of 0.25) passing these as positional arguments will result in an error\n",
      "  \"will result in an error\", FutureWarning)\n"
     ]
    },
    {
     "name": "stdout",
     "output_type": "stream",
     "text": [
      "0.8081919906256023\n",
      "0.8068860806644169\n",
      "0.8066426555470252\n",
      "0.8026637046123333\n",
      "0.8048177094806344\n"
     ]
    },
    {
     "name": "stderr",
     "output_type": "stream",
     "text": [
      "/data/xiayunpeng/anaconda3/envs/BERT/lib/python3.6/site-packages/sklearn/utils/validation.py:72: FutureWarning: Pass shuffle=True, random_state=10 as keyword args. From version 1.0 (renaming of 0.25) passing these as positional arguments will result in an error\n",
      "  \"will result in an error\", FutureWarning)\n"
     ]
    },
    {
     "name": "stdout",
     "output_type": "stream",
     "text": [
      "0.8064510394580338\n",
      "0.8104682021357599\n",
      "0.8065141871008576\n",
      "0.8054026649089383\n",
      "0.8094728510043381\n"
     ]
    },
    {
     "name": "stderr",
     "output_type": "stream",
     "text": [
      "/data/xiayunpeng/anaconda3/envs/BERT/lib/python3.6/site-packages/sklearn/utils/validation.py:72: FutureWarning: Pass shuffle=True, random_state=10 as keyword args. From version 1.0 (renaming of 0.25) passing these as positional arguments will result in an error\n",
      "  \"will result in an error\", FutureWarning)\n"
     ]
    },
    {
     "name": "stdout",
     "output_type": "stream",
     "text": [
      "0.765551823608999\n",
      "0.7539589250122289\n",
      "0.7621267621267622\n",
      "0.7442710644957836\n",
      "0.7498708055601784\n"
     ]
    },
    {
     "name": "stderr",
     "output_type": "stream",
     "text": [
      "/data/xiayunpeng/anaconda3/envs/BERT/lib/python3.6/site-packages/sklearn/utils/validation.py:72: FutureWarning: Pass shuffle=True, random_state=10 as keyword args. From version 1.0 (renaming of 0.25) passing these as positional arguments will result in an error\n",
      "  \"will result in an error\", FutureWarning)\n"
     ]
    },
    {
     "name": "stdout",
     "output_type": "stream",
     "text": [
      "0.7718470217972422\n",
      "0.757223897378239\n",
      "0.764239415555205\n",
      "0.7518855556074657\n",
      "0.7548546453065194\n"
     ]
    },
    {
     "name": "stderr",
     "output_type": "stream",
     "text": [
      "/data/xiayunpeng/anaconda3/envs/BERT/lib/python3.6/site-packages/sklearn/utils/validation.py:72: FutureWarning: Pass shuffle=True, random_state=10 as keyword args. From version 1.0 (renaming of 0.25) passing these as positional arguments will result in an error\n",
      "  \"will result in an error\", FutureWarning)\n"
     ]
    },
    {
     "name": "stdout",
     "output_type": "stream",
     "text": [
      "0.7664832299450419\n",
      "0.7518650205520958\n",
      "0.75818552792237\n",
      "0.7436571456936625\n",
      "0.7502963443082915\n"
     ]
    },
    {
     "name": "stderr",
     "output_type": "stream",
     "text": [
      "/data/xiayunpeng/anaconda3/envs/BERT/lib/python3.6/site-packages/sklearn/utils/validation.py:72: FutureWarning: Pass shuffle=True, random_state=10 as keyword args. From version 1.0 (renaming of 0.25) passing these as positional arguments will result in an error\n",
      "  \"will result in an error\", FutureWarning)\n"
     ]
    },
    {
     "name": "stdout",
     "output_type": "stream",
     "text": [
      "0.7626496577428166\n",
      "0.7498360942987099\n",
      "0.7550256760783076\n",
      "0.7436213763460955\n",
      "0.753550292402783\n"
     ]
    },
    {
     "name": "stderr",
     "output_type": "stream",
     "text": [
      "/data/xiayunpeng/anaconda3/envs/BERT/lib/python3.6/site-packages/sklearn/utils/validation.py:72: FutureWarning: Pass shuffle=True, random_state=10 as keyword args. From version 1.0 (renaming of 0.25) passing these as positional arguments will result in an error\n",
      "  \"will result in an error\", FutureWarning)\n"
     ]
    },
    {
     "name": "stdout",
     "output_type": "stream",
     "text": [
      "0.7706362664974528\n",
      "0.7542173776547978\n",
      "0.7608393068919386\n",
      "0.7502394356326941\n",
      "0.7557276201654274\n"
     ]
    },
    {
     "name": "stderr",
     "output_type": "stream",
     "text": [
      "/data/xiayunpeng/anaconda3/envs/BERT/lib/python3.6/site-packages/sklearn/utils/validation.py:72: FutureWarning: Pass shuffle=True, random_state=10 as keyword args. From version 1.0 (renaming of 0.25) passing these as positional arguments will result in an error\n",
      "  \"will result in an error\", FutureWarning)\n"
     ]
    },
    {
     "name": "stdout",
     "output_type": "stream",
     "text": [
      "0.8168057003475676\n",
      "0.8065601186028203\n",
      "0.819642113857582\n",
      "0.8235261759237312\n",
      "0.8163202652810612\n"
     ]
    },
    {
     "name": "stderr",
     "output_type": "stream",
     "text": [
      "/data/xiayunpeng/anaconda3/envs/BERT/lib/python3.6/site-packages/sklearn/utils/validation.py:72: FutureWarning: Pass shuffle=True, random_state=10 as keyword args. From version 1.0 (renaming of 0.25) passing these as positional arguments will result in an error\n",
      "  \"will result in an error\", FutureWarning)\n"
     ]
    },
    {
     "name": "stdout",
     "output_type": "stream",
     "text": [
      "0.8266794594994786\n",
      "0.8208939567707105\n",
      "0.8321663278048155\n",
      "0.8377435786647943\n",
      "0.8294823179292717\n"
     ]
    },
    {
     "name": "stderr",
     "output_type": "stream",
     "text": [
      "/data/xiayunpeng/anaconda3/envs/BERT/lib/python3.6/site-packages/sklearn/utils/validation.py:72: FutureWarning: Pass shuffle=True, random_state=10 as keyword args. From version 1.0 (renaming of 0.25) passing these as positional arguments will result in an error\n",
      "  \"will result in an error\", FutureWarning)\n"
     ]
    },
    {
     "name": "stdout",
     "output_type": "stream",
     "text": [
      "0.8164715392819338\n",
      "0.8087059984735082\n",
      "0.8192188700691598\n",
      "0.8288870819168439\n",
      "0.8258283033132132\n"
     ]
    },
    {
     "name": "stderr",
     "output_type": "stream",
     "text": [
      "/data/xiayunpeng/anaconda3/envs/BERT/lib/python3.6/site-packages/sklearn/utils/validation.py:72: FutureWarning: Pass shuffle=True, random_state=10 as keyword args. From version 1.0 (renaming of 0.25) passing these as positional arguments will result in an error\n",
      "  \"will result in an error\", FutureWarning)\n"
     ]
    },
    {
     "name": "stdout",
     "output_type": "stream",
     "text": [
      "0.8227855826508377\n",
      "0.8152145680068091\n",
      "0.8244268698770492\n",
      "0.8294861831649549\n",
      "0.8242862971451885\n"
     ]
    },
    {
     "name": "stderr",
     "output_type": "stream",
     "text": [
      "/data/xiayunpeng/anaconda3/envs/BERT/lib/python3.6/site-packages/sklearn/utils/validation.py:72: FutureWarning: Pass shuffle=True, random_state=10 as keyword args. From version 1.0 (renaming of 0.25) passing these as positional arguments will result in an error\n",
      "  \"will result in an error\", FutureWarning)\n"
     ]
    },
    {
     "name": "stdout",
     "output_type": "stream",
     "text": [
      "0.821763089809288\n",
      "0.8099557637054589\n",
      "0.8198222175973362\n",
      "0.8271627905115965\n",
      "0.8215292861171444\n"
     ]
    },
    {
     "name": "stderr",
     "output_type": "stream",
     "text": [
      "/data/xiayunpeng/anaconda3/envs/BERT/lib/python3.6/site-packages/sklearn/utils/validation.py:72: FutureWarning: Pass shuffle=True, random_state=10 as keyword args. From version 1.0 (renaming of 0.25) passing these as positional arguments will result in an error\n",
      "  \"will result in an error\", FutureWarning)\n"
     ]
    },
    {
     "name": "stdout",
     "output_type": "stream",
     "text": [
      "0.7583407895786881\n",
      "0.7584007263354474\n",
      "0.7554286843810356\n",
      "0.7579987472181523\n",
      "0.7509346066794915\n"
     ]
    },
    {
     "name": "stderr",
     "output_type": "stream",
     "text": [
      "/data/xiayunpeng/anaconda3/envs/BERT/lib/python3.6/site-packages/sklearn/utils/validation.py:72: FutureWarning: Pass shuffle=True, random_state=10 as keyword args. From version 1.0 (renaming of 0.25) passing these as positional arguments will result in an error\n",
      "  \"will result in an error\", FutureWarning)\n"
     ]
    },
    {
     "name": "stdout",
     "output_type": "stream",
     "text": [
      "0.7566953691761861\n",
      "0.759450510591193\n",
      "0.7543895030257409\n",
      "0.7568402673713115\n",
      "0.7500879930400265\n"
     ]
    },
    {
     "name": "stderr",
     "output_type": "stream",
     "text": [
      "/data/xiayunpeng/anaconda3/envs/BERT/lib/python3.6/site-packages/sklearn/utils/validation.py:72: FutureWarning: Pass shuffle=True, random_state=10 as keyword args. From version 1.0 (renaming of 0.25) passing these as positional arguments will result in an error\n",
      "  \"will result in an error\", FutureWarning)\n"
     ]
    },
    {
     "name": "stdout",
     "output_type": "stream",
     "text": [
      "0.7506634413680869\n",
      "0.75488912954023\n",
      "0.7481814326282346\n",
      "0.7539736418754188\n",
      "0.7448130300175431\n"
     ]
    },
    {
     "name": "stderr",
     "output_type": "stream",
     "text": [
      "/data/xiayunpeng/anaconda3/envs/BERT/lib/python3.6/site-packages/sklearn/utils/validation.py:72: FutureWarning: Pass shuffle=True, random_state=10 as keyword args. From version 1.0 (renaming of 0.25) passing these as positional arguments will result in an error\n",
      "  \"will result in an error\", FutureWarning)\n"
     ]
    },
    {
     "name": "stdout",
     "output_type": "stream",
     "text": [
      "0.7536832871370972\n",
      "0.7587056276610407\n",
      "0.750928617102381\n",
      "0.758539297569044\n",
      "0.7479768550302299\n"
     ]
    },
    {
     "name": "stderr",
     "output_type": "stream",
     "text": [
      "/data/xiayunpeng/anaconda3/envs/BERT/lib/python3.6/site-packages/sklearn/utils/validation.py:72: FutureWarning: Pass shuffle=True, random_state=10 as keyword args. From version 1.0 (renaming of 0.25) passing these as positional arguments will result in an error\n",
      "  \"will result in an error\", FutureWarning)\n"
     ]
    },
    {
     "name": "stdout",
     "output_type": "stream",
     "text": [
      "0.7557244943186454\n",
      "0.7585872229505521\n",
      "0.7517756496395811\n",
      "0.7560954573332294\n",
      "0.7479759556820857\n"
     ]
    },
    {
     "name": "stderr",
     "output_type": "stream",
     "text": [
      "/data/xiayunpeng/anaconda3/envs/BERT/lib/python3.6/site-packages/sklearn/utils/validation.py:72: FutureWarning: Pass shuffle=True, random_state=10 as keyword args. From version 1.0 (renaming of 0.25) passing these as positional arguments will result in an error\n",
      "  \"will result in an error\", FutureWarning)\n"
     ]
    },
    {
     "name": "stdout",
     "output_type": "stream",
     "text": [
      "0.7500440438020661\n",
      "0.758686729230023\n",
      "0.756140426145761\n",
      "0.737322213722893\n",
      "0.7271060232498128\n"
     ]
    },
    {
     "name": "stderr",
     "output_type": "stream",
     "text": [
      "/data/xiayunpeng/anaconda3/envs/BERT/lib/python3.6/site-packages/sklearn/utils/validation.py:72: FutureWarning: Pass shuffle=True, random_state=10 as keyword args. From version 1.0 (renaming of 0.25) passing these as positional arguments will result in an error\n",
      "  \"will result in an error\", FutureWarning)\n"
     ]
    },
    {
     "name": "stdout",
     "output_type": "stream",
     "text": [
      "0.744490019379273\n",
      "0.7589672070996349\n",
      "0.7538233487287008\n",
      "0.731084535159238\n",
      "0.7263542440701786\n"
     ]
    },
    {
     "name": "stderr",
     "output_type": "stream",
     "text": [
      "/data/xiayunpeng/anaconda3/envs/BERT/lib/python3.6/site-packages/sklearn/utils/validation.py:72: FutureWarning: Pass shuffle=True, random_state=10 as keyword args. From version 1.0 (renaming of 0.25) passing these as positional arguments will result in an error\n",
      "  \"will result in an error\", FutureWarning)\n"
     ]
    },
    {
     "name": "stdout",
     "output_type": "stream",
     "text": [
      "0.7490780319458163\n",
      "0.7599970770598954\n",
      "0.7563981555404671\n",
      "0.7386139044882678\n",
      "0.7306678025227197\n"
     ]
    },
    {
     "name": "stderr",
     "output_type": "stream",
     "text": [
      "/data/xiayunpeng/anaconda3/envs/BERT/lib/python3.6/site-packages/sklearn/utils/validation.py:72: FutureWarning: Pass shuffle=True, random_state=10 as keyword args. From version 1.0 (renaming of 0.25) passing these as positional arguments will result in an error\n",
      "  \"will result in an error\", FutureWarning)\n"
     ]
    },
    {
     "name": "stdout",
     "output_type": "stream",
     "text": [
      "0.7428736817542452\n",
      "0.7572227715691213\n",
      "0.7498106668258433\n",
      "0.7344676828547796\n",
      "0.724647972714582\n"
     ]
    },
    {
     "name": "stderr",
     "output_type": "stream",
     "text": [
      "/data/xiayunpeng/anaconda3/envs/BERT/lib/python3.6/site-packages/sklearn/utils/validation.py:72: FutureWarning: Pass shuffle=True, random_state=10 as keyword args. From version 1.0 (renaming of 0.25) passing these as positional arguments will result in an error\n",
      "  \"will result in an error\", FutureWarning)\n"
     ]
    },
    {
     "name": "stdout",
     "output_type": "stream",
     "text": [
      "0.740201846452897\n",
      "0.7577977201067184\n",
      "0.7534922488428604\n",
      "0.7289641597791005\n",
      "0.7280113917242107\n"
     ]
    }
   ],
   "source": [
    "#对测试集做五折交叉验证,考虑Blastn\n",
    "Auc = []\n",
    "Auc_train = []\n",
    "for typei in range(len(type_name)):\n",
    "    for celli in range(len(cell_name)):\n",
    "        testLabel = np.array(pd.read_csv(\"Result/\"+feature_name[0]+\"/\"+type_name[typei]+\"_\"+cell_name[celli]+\"test_result.csv\").iloc[:,1])\n",
    "        test_1 = pd.read_csv(\"Result/\"+feature_name[0]+\"/\"+type_name[typei]+\"_\"+cell_name[celli]+\"test_result.csv\").iloc[:,2:7]\n",
    "        test_2 = pd.read_csv(\"Result/\"+feature_name[1]+\"/\"+type_name[typei]+\"_\"+cell_name[celli]+\"test_result.csv\").iloc[:,2:7]\n",
    "        test_3 = pd.read_csv(\"Result/\"+feature_name[2]+\"/\"+type_name[typei]+\"_\"+cell_name[celli]+\"test_result.csv\").iloc[:,2:7]\n",
    "        test_4 = pd.read_csv(\"Result/\"+feature_name[3]+\"/\"+type_name[typei]+\"_\"+cell_name[celli]+\"test_result.csv\").iloc[:,2:7]\n",
    "        test_Blastn = pd.read_csv(\"Stacking_result/all_test_KFold/test_\"+type_name[typei]+\"_\"+cell_name[celli]+\"_Kfold\"+str(i)+\".csv\").iloc[:,10]\n",
    "\n",
    "        for networki in range(len(network_name)):\n",
    "            if network_name[networki] == \"SVM\":\n",
    "                for i in range(5):\n",
    "                    testData = np.array(pd.DataFrame([test_1.iloc[:,i],test_2.iloc[:,i],test_3.iloc[:,i],test_4.iloc[:,i],test_Blastn]).T)\n",
    "                    kf = KFold(5,True,10)\n",
    "                    for j,[train_index, test_index] in enumerate(kf.split(testData)):\n",
    "                        \n",
    "                        X_train = testData[train_index]\n",
    "                        X_test = testData[test_index]\n",
    "                        Y_train = testLabel[train_index]\n",
    "                        Y_test = testLabel[test_index]\n",
    "                        \n",
    "                        model = LogisticRegression()\n",
    "                        clf =model.fit(X_train, Y_train)\n",
    "                        th,_,_,_,_,_,_,acc,mcc,auc = metricsCal.get_train_metrics(clf.decision_function(X_train).reshape(-1),Y_train.reshape(-1))\n",
    "                        Auc_train.append(auc)\n",
    "                        _,_,_,_,_,_, _,_, auc = metricsCal.get_test_metrics(clf.decision_function(X_test).reshape(-1),Y_test.reshape(-1),th)\n",
    "\n",
    "                        Auc.append(auc)\n",
    "                        print(auc)\n",
    "                "
   ]
  },
  {
   "cell_type": "code",
   "execution_count": 44,
   "id": "45ad5a0c",
   "metadata": {
    "ExecuteTime": {
     "end_time": "2023-03-21T06:28:40.136564Z",
     "start_time": "2023-03-21T06:28:40.131233Z"
    }
   },
   "outputs": [
    {
     "data": {
      "text/plain": [
       "(0.8165320383582648, 0.816774182040436)"
      ]
     },
     "execution_count": 44,
     "metadata": {},
     "output_type": "execute_result"
    }
   ],
   "source": [
    "np.mean(Auc),np.mean(Auc_train)"
   ]
  },
  {
   "cell_type": "code",
   "execution_count": 19,
   "id": "07fed7c6",
   "metadata": {
    "ExecuteTime": {
     "end_time": "2023-03-21T04:42:38.641179Z",
     "start_time": "2023-03-21T04:41:02.692154Z"
    }
   },
   "outputs": [],
   "source": [
    "#原来的老数据,测试集软投票\n",
    "#3 emb 4 PSNP 8 PCP 9 DBPF 10 Blastn 11 True\n",
    "Auc = []\n",
    "for typei in range(len(type_name)):\n",
    "    for celli in range(len(cell_name)):\n",
    "        \n",
    "        for networki in range(len(network_name)):\n",
    "            if network_name[networki] == \"SVM\":\n",
    "                for i in range(5):\n",
    "                    device = torch.device(\"cuda:0\" if torch.cuda.is_available() else \"cpu\")  #选择设备\n",
    "                    os.environ['CUDA_VISIBLE_DEVICES'] = '0'\n",
    "                    model = SVC(kernel = \"rbf\",gamma=\"auto\", degree = 1,tol =1e-3, cache_size=7000)\n",
    "\n",
    "                    train_emb = pd.read_csv(\"Stacking_result/all_test_KFold/test_\"+type_name[typei]+\"_\"+cell_name[celli]+\"_Kfold\"+str(i)+\".csv\").iloc[:,3]\n",
    "                    train_PSNP = pd.read_csv(\"Stacking_result/all_test_KFold/test_\"+type_name[typei]+\"_\"+cell_name[celli]+\"_Kfold\"+str(i)+\".csv\").iloc[:,4]\n",
    "                    train_PCP = pd.read_csv(\"Stacking_result/all_test_KFold/test_\"+type_name[typei]+\"_\"+cell_name[celli]+\"_Kfold\"+str(i)+\".csv\").iloc[:,8]\n",
    "                    train_DBPF = pd.read_csv(\"Stacking_result/all_test_KFold/test_\"+type_name[typei]+\"_\"+cell_name[celli]+\"_Kfold\"+str(i)+\".csv\").iloc[:,9]\n",
    "                    train_Blastn = pd.read_csv(\"Stacking_result/all_test_KFold/test_\"+type_name[typei]+\"_\"+cell_name[celli]+\"_Kfold\"+str(i)+\".csv\").iloc[:,10]\n",
    "                    train_true = pd.read_csv(\"Stacking_result/all_test_KFold/test_\"+type_name[typei]+\"_\"+cell_name[celli]+\"_Kfold\"+str(i)+\".csv\").iloc[:,11]\n",
    "                    \n",
    "                    trainData = np.array(pd.DataFrame([train_emb,train_PSNP,train_PCP,train_DBPF,train_Blastn]).T)\n",
    "\n",
    "                    _,_,_,_,_,_, _,_, auc = metricsCal.get_test_metrics(np.mean(trainData,axis=1),np.array(train_true).reshape(-1),0.5)\n",
    "                    \n",
    "                    Auc.append(auc)\n"
   ]
  },
  {
   "cell_type": "code",
   "execution_count": 20,
   "id": "3225167d",
   "metadata": {
    "ExecuteTime": {
     "end_time": "2023-03-21T04:42:39.032653Z",
     "start_time": "2023-03-21T04:42:39.027067Z"
    }
   },
   "outputs": [
    {
     "data": {
      "text/plain": [
       "0.789622520289296"
      ]
     },
     "execution_count": 20,
     "metadata": {},
     "output_type": "execute_result"
    }
   ],
   "source": [
    "np.mean(Auc)"
   ]
  },
  {
   "cell_type": "code",
   "execution_count": 60,
   "id": "4171f06b",
   "metadata": {
    "ExecuteTime": {
     "end_time": "2023-03-22T07:03:26.295315Z",
     "start_time": "2023-03-22T07:01:44.664395Z"
    }
   },
   "outputs": [
    {
     "name": "stdout",
     "output_type": "stream",
     "text": [
      "0.8484179201957963\n",
      "0.8472636009982235\n",
      "0.85273963216949\n",
      "0.8510226774889623\n",
      "0.8480091551762864\n",
      "0.8423964506104639\n",
      "0.8496328719889563\n",
      "0.8460252658960482\n",
      "0.8467391666659063\n",
      "0.8496388599526795\n",
      "0.8256514793128333\n",
      "0.8307085191862055\n",
      "0.8336144045231915\n",
      "0.8276594661381435\n",
      "0.8276394669072551\n",
      "0.8608489147563931\n",
      "0.8556395254363667\n",
      "0.8592765403985743\n",
      "0.864151853475483\n",
      "0.8553753174411832\n",
      "0.8049649289150271\n",
      "0.8011846010470931\n",
      "0.7990566432699646\n",
      "0.8027379395573367\n",
      "0.7975193513928421\n",
      "0.8046548535058392\n",
      "0.8090087743199125\n",
      "0.8071737654769606\n",
      "0.8067876984638827\n",
      "0.8070351613649078\n",
      "0.8110991522949735\n",
      "0.808637063823916\n",
      "0.8019605552747374\n",
      "0.8114580021108114\n",
      "0.8093303505150297\n",
      "0.801177022763125\n",
      "0.7987475199220355\n",
      "0.7969059846408193\n",
      "0.7956874834346539\n",
      "0.7967870133689283\n",
      "0.7407373643618853\n",
      "0.7449255725932302\n",
      "0.7379138456510493\n",
      "0.7383522300111488\n",
      "0.7415534166438762\n",
      "0.783424158999434\n",
      "0.795901247664884\n",
      "0.7773837753944911\n",
      "0.804595129764289\n",
      "0.785375858241669\n",
      "0.7508207622638421\n",
      "0.7511429007990599\n",
      "0.7442079680506264\n",
      "0.7463843562586883\n",
      "0.7441190713570212\n",
      "0.738686282518237\n",
      "0.7342885841103386\n",
      "0.7419249511196913\n",
      "0.733600365478287\n",
      "0.7331921094608562\n"
     ]
    }
   ],
   "source": [
    "#Logistic回归模型,训练新数据测试新数据\n",
    "Auc = []\n",
    "for typei in range(len(type_name)):\n",
    "    for celli in range(len(cell_name)):\n",
    "        true = np.array(pd.read_csv(\"Result/\"+feature_name[0]+\"/\"+type_name[typei]+\"_\"+cell_name[celli]+\"val.csv\").iloc[:,1])\n",
    "        testLabel = np.array(pd.read_csv(\"Result/\"+feature_name[0]+\"/\"+type_name[typei]+\"_\"+cell_name[celli]+\"test_result.csv\").iloc[:,1])\n",
    "        \n",
    "        pred_1 = pd.read_csv(\"Result/\"+feature_name[0]+\"/\"+type_name[typei]+\"_\"+cell_name[celli]+\"val.csv\").iloc[:,2]\n",
    "        test_1 = pd.read_csv(\"Result/\"+feature_name[0]+\"/\"+type_name[typei]+\"_\"+cell_name[celli]+\"test_result.csv\").iloc[:,2:7]\n",
    "        \n",
    "        pred_2 = pd.read_csv(\"Result/\"+feature_name[1]+\"/\"+type_name[typei]+\"_\"+cell_name[celli]+\"val.csv\").iloc[:,2]\n",
    "        test_2 = pd.read_csv(\"Result/\"+feature_name[1]+\"/\"+type_name[typei]+\"_\"+cell_name[celli]+\"test_result.csv\").iloc[:,2:7]\n",
    "        \n",
    "        pred_3 = pd.read_csv(\"Result/\"+feature_name[2]+\"/\"+type_name[typei]+\"_\"+cell_name[celli]+\"val.csv\").iloc[:,2]\n",
    "        test_3 = pd.read_csv(\"Result/\"+feature_name[2]+\"/\"+type_name[typei]+\"_\"+cell_name[celli]+\"test_result.csv\").iloc[:,2:7]\n",
    "        \n",
    "        pred_4 = pd.read_csv(\"Result/\"+feature_name[3]+\"/\"+type_name[typei]+\"_\"+cell_name[celli]+\"val.csv\").iloc[:,2]\n",
    "        test_4 = pd.read_csv(\"Result/\"+feature_name[3]+\"/\"+type_name[typei]+\"_\"+cell_name[celli]+\"test_result.csv\").iloc[:,2:7]\n",
    "\n",
    "        for networki in range(len(network_name)):\n",
    "            if network_name[networki] == \"SVM\":\n",
    "\n",
    "                device = torch.device(\"cuda:0\" if torch.cuda.is_available() else \"cpu\")  #选择设备\n",
    "                os.environ['CUDA_VISIBLE_DEVICES'] = '0'\n",
    "\n",
    "                #model = SVC(kernel = \"rbf\",gamma=\"auto\", degree = 1,tol =1e-2, cache_size=7000)\n",
    "                model = LogisticRegression()\n",
    "                trainData = np.array(pd.DataFrame([pred_1,pred_2,pred_3,pred_4]).T)\n",
    "                \n",
    "                #trainData = np.array(pd.DataFrame([pred_1,pred_2,pred_4]).T)\n",
    "\n",
    "                clf =model.fit(trainData, true)\n",
    "                \n",
    "\n",
    "\n",
    "                th,_,_,_,_,_,_,acc,mcc,auc = metricsCal.get_train_metrics(clf.decision_function(trainData).reshape(-1),true.reshape(-1))\n",
    "\n",
    "                for i in range(5):\n",
    "                    testData = np.array(pd.DataFrame([test_1.iloc[:,i],test_2.iloc[:,i],test_3.iloc[:,i],test_4.iloc[:,i]]).T)\n",
    "                    #testData = np.array(pd.DataFrame([test_1.iloc[:,i],test_2.iloc[:,i],test_4.iloc[:,i]]).T)\n",
    "                    \n",
    "                    _,_,_,_,_,_, _,_, auc = metricsCal.get_test_metrics(clf.decision_function(testData).reshape(-1),testLabel.reshape(-1),0.5)\n",
    "\n",
    "                    Auc.append(auc)\n",
    "                    print(auc)"
   ]
  },
  {
   "cell_type": "code",
   "execution_count": 61,
   "id": "ec1c20ef",
   "metadata": {
    "ExecuteTime": {
     "end_time": "2023-03-22T07:03:26.381436Z",
     "start_time": "2023-03-22T07:03:26.375932Z"
    }
   },
   "outputs": [
    {
     "data": {
      "text/plain": [
       "0.8010482484153975"
      ]
     },
     "execution_count": 61,
     "metadata": {},
     "output_type": "execute_result"
    }
   ],
   "source": [
    "np.mean(Auc)"
   ]
  },
  {
   "cell_type": "code",
   "execution_count": 36,
   "id": "a8a8adb7",
   "metadata": {
    "ExecuteTime": {
     "end_time": "2023-03-21T05:43:11.739430Z",
     "start_time": "2023-03-21T05:41:48.302249Z"
    }
   },
   "outputs": [
    {
     "name": "stdout",
     "output_type": "stream",
     "text": [
      "0.853879853073066\n",
      "0.8518293311148553\n",
      "0.8549919423735072\n",
      "0.852367716984895\n",
      "0.854524656778965\n",
      "0.8415654184954792\n",
      "0.844083821636022\n",
      "0.8406232429990911\n",
      "0.8421246538775308\n",
      "0.8438044743867883\n",
      "0.8263467364180841\n",
      "0.8303721129094278\n",
      "0.8313709391263295\n",
      "0.8297635482489888\n",
      "0.82742279401715\n",
      "0.8818201503614116\n",
      "0.8797919783519234\n",
      "0.8801888284059347\n",
      "0.8824119380084903\n",
      "0.8794652755405612\n",
      "0.7881894448539697\n",
      "0.7915300168172623\n",
      "0.7886352937572049\n",
      "0.7909506739296077\n",
      "0.7871990671739646\n",
      "0.8080168168522308\n",
      "0.8116654408785741\n",
      "0.8107212003652142\n",
      "0.8057853791901719\n",
      "0.807627100473288\n",
      "0.8151750305786177\n",
      "0.8139809932060138\n",
      "0.8113390577810196\n",
      "0.8141478190024793\n",
      "0.8157990913446096\n",
      "0.8057233074828731\n",
      "0.8057783650242878\n",
      "0.8055715131070923\n",
      "0.8034708579493643\n",
      "0.8057024883912128\n",
      "0.7407352626390242\n",
      "0.7432817334099412\n",
      "0.7390032094767618\n",
      "0.7407800118216072\n",
      "0.7408334306109922\n",
      "0.8069114431462838\n",
      "0.8159150813308644\n",
      "0.8052581845158662\n",
      "0.816190691075942\n",
      "0.8073631824324997\n",
      "0.7412429118516423\n",
      "0.7408884138083349\n",
      "0.738581127752773\n",
      "0.7409637749259369\n",
      "0.7411776582782947\n",
      "0.734356125277625\n",
      "0.7349999050046909\n",
      "0.7390620113461203\n",
      "0.7345304864316857\n",
      "0.7338706544868423\n"
     ]
    }
   ],
   "source": [
    "#Logistic回归模型,训练老数据测试新数据\n",
    "Auc = []\n",
    "for typei in range(len(type_name)):\n",
    "    for celli in range(len(cell_name)):\n",
    "        testLabel = np.array(pd.read_csv(\"Result/\"+feature_name[0]+\"/\"+type_name[typei]+\"_\"+cell_name[celli]+\"test_result.csv\").iloc[:,1])\n",
    "        \n",
    "        test_1 = pd.read_csv(\"Result/\"+feature_name[0]+\"/\"+type_name[typei]+\"_\"+cell_name[celli]+\"test_result.csv\").iloc[:,2:7]\n",
    "        test_2 = pd.read_csv(\"Result/\"+feature_name[1]+\"/\"+type_name[typei]+\"_\"+cell_name[celli]+\"test_result.csv\").iloc[:,2:7]\n",
    "        test_3 = pd.read_csv(\"Result/\"+feature_name[2]+\"/\"+type_name[typei]+\"_\"+cell_name[celli]+\"test_result.csv\").iloc[:,2:7]\n",
    "        test_4 = pd.read_csv(\"Result/\"+feature_name[3]+\"/\"+type_name[typei]+\"_\"+cell_name[celli]+\"test_result.csv\").iloc[:,2:7]\n",
    "\n",
    "        for networki in range(len(network_name)):\n",
    "            if network_name[networki] == \"SVM\":\n",
    "                \n",
    "                train_emb = pd.read_csv(\"Stacking_result/all_train_KFold/train_\"+type_name[typei]+\"_\"+cell_name[celli]+\"_Kfold\"+str(i)+\".csv\").iloc[:,3]\n",
    "                train_PSNP = pd.read_csv(\"Stacking_result/all_train_KFold/train_\"+type_name[typei]+\"_\"+cell_name[celli]+\"_Kfold\"+str(i)+\".csv\").iloc[:,4]\n",
    "                train_PCP = pd.read_csv(\"Stacking_result/all_train_KFold/train_\"+type_name[typei]+\"_\"+cell_name[celli]+\"_Kfold\"+str(i)+\".csv\").iloc[:,8]\n",
    "                train_DBPF = pd.read_csv(\"Stacking_result/all_train_KFold/train_\"+type_name[typei]+\"_\"+cell_name[celli]+\"_Kfold\"+str(i)+\".csv\").iloc[:,9]\n",
    "                train_Blastn = pd.read_csv(\"Stacking_result/all_train_KFold/train_\"+type_name[typei]+\"_\"+cell_name[celli]+\"_Kfold\"+str(i)+\".csv\").iloc[:,10]\n",
    "                train_true = pd.read_csv(\"Stacking_result/all_train_KFold/train_\"+type_name[typei]+\"_\"+cell_name[celli]+\"_Kfold\"+str(i)+\".csv\").iloc[:,11]\n",
    "\n",
    "                trainData = np.array(pd.DataFrame([train_emb,train_PSNP,train_PCP,train_DBPF]).T)\n",
    "                model = LogisticRegression()\n",
    "                \n",
    "                #trainData = np.array(pd.DataFrame([pred_1,pred_2,pred_4]).T)\n",
    "\n",
    "                clf =model.fit(trainData, train_true)\n",
    "                \n",
    "\n",
    "\n",
    "                th,_,_,_,_,_,_,acc,mcc,auc = metricsCal.get_train_metrics(clf.decision_function(trainData).reshape(-1),np.array(train_true).reshape(-1))\n",
    "\n",
    "                \n",
    "                for i in range(5):\n",
    "                    testData = np.array(pd.DataFrame([test_1.iloc[:,i],test_2.iloc[:,i],test_3.iloc[:,i],test_4.iloc[:,i]]).T)\n",
    "                    #testData = np.array(pd.DataFrame([test_1.iloc[:,i],test_2.iloc[:,i],test_4.iloc[:,i]]).T)\n",
    "                    \n",
    "                    _,_,_,_,_,_, _,_, auc = metricsCal.get_test_metrics(clf.decision_function(testData).reshape(-1),testLabel.reshape(-1),0.5)\n",
    "\n",
    "                    Auc.append(auc)\n",
    "                    print(auc)"
   ]
  },
  {
   "cell_type": "code",
   "execution_count": 37,
   "id": "a290091c",
   "metadata": {
    "ExecuteTime": {
     "end_time": "2023-03-21T05:43:12.168266Z",
     "start_time": "2023-03-21T05:43:12.162096Z"
    }
   },
   "outputs": [
    {
     "data": {
      "text/plain": [
       "0.8041950611815216"
      ]
     },
     "execution_count": 37,
     "metadata": {},
     "output_type": "execute_result"
    }
   ],
   "source": [
    "np.mean(Auc)"
   ]
  },
  {
   "cell_type": "code",
   "execution_count": 28,
   "id": "b993de4e",
   "metadata": {
    "ExecuteTime": {
     "end_time": "2023-03-21T05:10:23.223571Z",
     "start_time": "2023-03-21T05:07:16.495151Z"
    }
   },
   "outputs": [
    {
     "name": "stderr",
     "output_type": "stream",
     "text": [
      "/data/xiayunpeng/anaconda3/envs/BERT/lib/python3.6/site-packages/sklearn/utils/validation.py:72: FutureWarning: Pass shuffle=True, random_state=10 as keyword args. From version 1.0 (renaming of 0.25) passing these as positional arguments will result in an error\n",
      "  \"will result in an error\", FutureWarning)\n"
     ]
    },
    {
     "name": "stdout",
     "output_type": "stream",
     "text": [
      "0.8620221452695482\n",
      "0.8620748000366617\n",
      "0.8543591885540518\n",
      "0.8667032698251429\n",
      "0.8651290942976424\n"
     ]
    },
    {
     "name": "stderr",
     "output_type": "stream",
     "text": [
      "/data/xiayunpeng/anaconda3/envs/BERT/lib/python3.6/site-packages/sklearn/utils/validation.py:72: FutureWarning: Pass shuffle=True, random_state=10 as keyword args. From version 1.0 (renaming of 0.25) passing these as positional arguments will result in an error\n",
      "  \"will result in an error\", FutureWarning)\n"
     ]
    },
    {
     "name": "stdout",
     "output_type": "stream",
     "text": [
      "0.8551405241332137\n",
      "0.859253442844069\n",
      "0.8576095528057407\n",
      "0.8624884332308786\n",
      "0.8668495476893225\n"
     ]
    },
    {
     "name": "stderr",
     "output_type": "stream",
     "text": [
      "/data/xiayunpeng/anaconda3/envs/BERT/lib/python3.6/site-packages/sklearn/utils/validation.py:72: FutureWarning: Pass shuffle=True, random_state=10 as keyword args. From version 1.0 (renaming of 0.25) passing these as positional arguments will result in an error\n",
      "  \"will result in an error\", FutureWarning)\n"
     ]
    },
    {
     "name": "stdout",
     "output_type": "stream",
     "text": [
      "0.8629501090162883\n",
      "0.8641294088034485\n",
      "0.860405634033119\n",
      "0.8656886439556042\n",
      "0.8668900852897429\n"
     ]
    },
    {
     "name": "stderr",
     "output_type": "stream",
     "text": [
      "/data/xiayunpeng/anaconda3/envs/BERT/lib/python3.6/site-packages/sklearn/utils/validation.py:72: FutureWarning: Pass shuffle=True, random_state=10 as keyword args. From version 1.0 (renaming of 0.25) passing these as positional arguments will result in an error\n",
      "  \"will result in an error\", FutureWarning)\n"
     ]
    },
    {
     "name": "stdout",
     "output_type": "stream",
     "text": [
      "0.8617145055790688\n",
      "0.8633630023706957\n",
      "0.860206970730131\n",
      "0.8619300640213188\n",
      "0.868791760570222\n"
     ]
    },
    {
     "name": "stderr",
     "output_type": "stream",
     "text": [
      "/data/xiayunpeng/anaconda3/envs/BERT/lib/python3.6/site-packages/sklearn/utils/validation.py:72: FutureWarning: Pass shuffle=True, random_state=10 as keyword args. From version 1.0 (renaming of 0.25) passing these as positional arguments will result in an error\n",
      "  \"will result in an error\", FutureWarning)\n"
     ]
    },
    {
     "name": "stdout",
     "output_type": "stream",
     "text": [
      "0.8594630413406865\n",
      "0.8646886529440814\n",
      "0.8605026138805529\n",
      "0.8650873430040931\n",
      "0.8634201864250695\n"
     ]
    },
    {
     "name": "stderr",
     "output_type": "stream",
     "text": [
      "/data/xiayunpeng/anaconda3/envs/BERT/lib/python3.6/site-packages/sklearn/utils/validation.py:72: FutureWarning: Pass shuffle=True, random_state=10 as keyword args. From version 1.0 (renaming of 0.25) passing these as positional arguments will result in an error\n",
      "  \"will result in an error\", FutureWarning)\n"
     ]
    },
    {
     "name": "stdout",
     "output_type": "stream",
     "text": [
      "0.8514172553545272\n",
      "0.853187700963697\n",
      "0.8505393785776242\n",
      "0.8501603560491876\n",
      "0.8564150514969824\n"
     ]
    },
    {
     "name": "stderr",
     "output_type": "stream",
     "text": [
      "/data/xiayunpeng/anaconda3/envs/BERT/lib/python3.6/site-packages/sklearn/utils/validation.py:72: FutureWarning: Pass shuffle=True, random_state=10 as keyword args. From version 1.0 (renaming of 0.25) passing these as positional arguments will result in an error\n",
      "  \"will result in an error\", FutureWarning)\n"
     ]
    },
    {
     "name": "stdout",
     "output_type": "stream",
     "text": [
      "0.8549540942970402\n",
      "0.8586045957699272\n",
      "0.8544252323239968\n",
      "0.8544927706546379\n",
      "0.8607353167406658\n"
     ]
    },
    {
     "name": "stderr",
     "output_type": "stream",
     "text": [
      "/data/xiayunpeng/anaconda3/envs/BERT/lib/python3.6/site-packages/sklearn/utils/validation.py:72: FutureWarning: Pass shuffle=True, random_state=10 as keyword args. From version 1.0 (renaming of 0.25) passing these as positional arguments will result in an error\n",
      "  \"will result in an error\", FutureWarning)\n"
     ]
    },
    {
     "name": "stdout",
     "output_type": "stream",
     "text": [
      "0.8538380172287228\n",
      "0.8545219162166359\n",
      "0.8536854405285953\n",
      "0.8480044656460907\n",
      "0.8555211328489077\n"
     ]
    },
    {
     "name": "stderr",
     "output_type": "stream",
     "text": [
      "/data/xiayunpeng/anaconda3/envs/BERT/lib/python3.6/site-packages/sklearn/utils/validation.py:72: FutureWarning: Pass shuffle=True, random_state=10 as keyword args. From version 1.0 (renaming of 0.25) passing these as positional arguments will result in an error\n",
      "  \"will result in an error\", FutureWarning)\n"
     ]
    },
    {
     "name": "stdout",
     "output_type": "stream",
     "text": [
      "0.8554244527678287\n",
      "0.8525243491893574\n",
      "0.8514457089138557\n",
      "0.8515130314057358\n",
      "0.8565571385203657\n"
     ]
    },
    {
     "name": "stderr",
     "output_type": "stream",
     "text": [
      "/data/xiayunpeng/anaconda3/envs/BERT/lib/python3.6/site-packages/sklearn/utils/validation.py:72: FutureWarning: Pass shuffle=True, random_state=10 as keyword args. From version 1.0 (renaming of 0.25) passing these as positional arguments will result in an error\n",
      "  \"will result in an error\", FutureWarning)\n"
     ]
    },
    {
     "name": "stdout",
     "output_type": "stream",
     "text": [
      "0.8562254552159052\n",
      "0.8576287570983898\n",
      "0.851328899683003\n",
      "0.8542578732975408\n",
      "0.8624980155634474\n"
     ]
    },
    {
     "name": "stderr",
     "output_type": "stream",
     "text": [
      "/data/xiayunpeng/anaconda3/envs/BERT/lib/python3.6/site-packages/sklearn/utils/validation.py:72: FutureWarning: Pass shuffle=True, random_state=10 as keyword args. From version 1.0 (renaming of 0.25) passing these as positional arguments will result in an error\n",
      "  \"will result in an error\", FutureWarning)\n"
     ]
    },
    {
     "name": "stdout",
     "output_type": "stream",
     "text": [
      "0.8263479025509477\n",
      "0.8365055326181519\n",
      "0.8331617790074326\n",
      "0.8229818209352291\n",
      "0.8478422464662349\n"
     ]
    },
    {
     "name": "stderr",
     "output_type": "stream",
     "text": [
      "/data/xiayunpeng/anaconda3/envs/BERT/lib/python3.6/site-packages/sklearn/utils/validation.py:72: FutureWarning: Pass shuffle=True, random_state=10 as keyword args. From version 1.0 (renaming of 0.25) passing these as positional arguments will result in an error\n",
      "  \"will result in an error\", FutureWarning)\n"
     ]
    },
    {
     "name": "stdout",
     "output_type": "stream",
     "text": [
      "0.8303405825163566\n",
      "0.8418366604692032\n",
      "0.8275518432802061\n",
      "0.8299108192701434\n",
      "0.8496645516859781\n"
     ]
    },
    {
     "name": "stderr",
     "output_type": "stream",
     "text": [
      "/data/xiayunpeng/anaconda3/envs/BERT/lib/python3.6/site-packages/sklearn/utils/validation.py:72: FutureWarning: Pass shuffle=True, random_state=10 as keyword args. From version 1.0 (renaming of 0.25) passing these as positional arguments will result in an error\n",
      "  \"will result in an error\", FutureWarning)\n"
     ]
    },
    {
     "name": "stdout",
     "output_type": "stream",
     "text": [
      "0.831738930413084\n",
      "0.8425589704645771\n",
      "0.8325148990014882\n",
      "0.8309788912000922\n",
      "0.8513325106386076\n"
     ]
    },
    {
     "name": "stderr",
     "output_type": "stream",
     "text": [
      "/data/xiayunpeng/anaconda3/envs/BERT/lib/python3.6/site-packages/sklearn/utils/validation.py:72: FutureWarning: Pass shuffle=True, random_state=10 as keyword args. From version 1.0 (renaming of 0.25) passing these as positional arguments will result in an error\n",
      "  \"will result in an error\", FutureWarning)\n"
     ]
    },
    {
     "name": "stdout",
     "output_type": "stream",
     "text": [
      "0.8310313853034437\n",
      "0.8371747422815394\n",
      "0.8327043008050306\n",
      "0.8285464247256831\n",
      "0.8467436213856946\n"
     ]
    },
    {
     "name": "stderr",
     "output_type": "stream",
     "text": [
      "/data/xiayunpeng/anaconda3/envs/BERT/lib/python3.6/site-packages/sklearn/utils/validation.py:72: FutureWarning: Pass shuffle=True, random_state=10 as keyword args. From version 1.0 (renaming of 0.25) passing these as positional arguments will result in an error\n",
      "  \"will result in an error\", FutureWarning)\n"
     ]
    },
    {
     "name": "stdout",
     "output_type": "stream",
     "text": [
      "0.8302990906735073\n",
      "0.8370212605000451\n",
      "0.8236042726133005\n",
      "0.8271485391731944\n",
      "0.8481866133735216\n"
     ]
    },
    {
     "name": "stderr",
     "output_type": "stream",
     "text": [
      "/data/xiayunpeng/anaconda3/envs/BERT/lib/python3.6/site-packages/sklearn/utils/validation.py:72: FutureWarning: Pass shuffle=True, random_state=10 as keyword args. From version 1.0 (renaming of 0.25) passing these as positional arguments will result in an error\n",
      "  \"will result in an error\", FutureWarning)\n"
     ]
    },
    {
     "name": "stdout",
     "output_type": "stream",
     "text": [
      "0.8924972071496968\n",
      "0.886508686769275\n",
      "0.8955148493841771\n",
      "0.8833277489250013\n",
      "0.8905728437600947\n"
     ]
    },
    {
     "name": "stderr",
     "output_type": "stream",
     "text": [
      "/data/xiayunpeng/anaconda3/envs/BERT/lib/python3.6/site-packages/sklearn/utils/validation.py:72: FutureWarning: Pass shuffle=True, random_state=10 as keyword args. From version 1.0 (renaming of 0.25) passing these as positional arguments will result in an error\n",
      "  \"will result in an error\", FutureWarning)\n"
     ]
    },
    {
     "name": "stdout",
     "output_type": "stream",
     "text": [
      "0.8874221991701244\n",
      "0.8838729214460251\n",
      "0.8962211801601748\n",
      "0.8814609609968967\n",
      "0.8929766419806261\n"
     ]
    },
    {
     "name": "stderr",
     "output_type": "stream",
     "text": [
      "/data/xiayunpeng/anaconda3/envs/BERT/lib/python3.6/site-packages/sklearn/utils/validation.py:72: FutureWarning: Pass shuffle=True, random_state=10 as keyword args. From version 1.0 (renaming of 0.25) passing these as positional arguments will result in an error\n",
      "  \"will result in an error\", FutureWarning)\n"
     ]
    },
    {
     "name": "stdout",
     "output_type": "stream",
     "text": [
      "0.8957788062559847\n",
      "0.883513317787033\n",
      "0.8954311656251026\n",
      "0.87964403385747\n",
      "0.8920962795464787\n"
     ]
    },
    {
     "name": "stderr",
     "output_type": "stream",
     "text": [
      "/data/xiayunpeng/anaconda3/envs/BERT/lib/python3.6/site-packages/sklearn/utils/validation.py:72: FutureWarning: Pass shuffle=True, random_state=10 as keyword args. From version 1.0 (renaming of 0.25) passing these as positional arguments will result in an error\n",
      "  \"will result in an error\", FutureWarning)\n"
     ]
    },
    {
     "name": "stdout",
     "output_type": "stream",
     "text": [
      "0.8893632301308649\n",
      "0.8809223784046547\n",
      "0.8945873543877687\n",
      "0.8834723452121676\n",
      "0.8956984873319535\n"
     ]
    },
    {
     "name": "stderr",
     "output_type": "stream",
     "text": [
      "/data/xiayunpeng/anaconda3/envs/BERT/lib/python3.6/site-packages/sklearn/utils/validation.py:72: FutureWarning: Pass shuffle=True, random_state=10 as keyword args. From version 1.0 (renaming of 0.25) passing these as positional arguments will result in an error\n",
      "  \"will result in an error\", FutureWarning)\n"
     ]
    },
    {
     "name": "stdout",
     "output_type": "stream",
     "text": [
      "0.8916015001595914\n",
      "0.8842335212370366\n",
      "0.8943014348775976\n",
      "0.8823843828032134\n",
      "0.8872288623284639\n"
     ]
    },
    {
     "name": "stderr",
     "output_type": "stream",
     "text": [
      "/data/xiayunpeng/anaconda3/envs/BERT/lib/python3.6/site-packages/sklearn/utils/validation.py:72: FutureWarning: Pass shuffle=True, random_state=10 as keyword args. From version 1.0 (renaming of 0.25) passing these as positional arguments will result in an error\n",
      "  \"will result in an error\", FutureWarning)\n"
     ]
    },
    {
     "name": "stdout",
     "output_type": "stream",
     "text": [
      "0.8070465633138687\n",
      "0.8070992886113331\n",
      "0.8070603477971035\n",
      "0.8044710080053025\n",
      "0.8127509321157476\n"
     ]
    },
    {
     "name": "stderr",
     "output_type": "stream",
     "text": [
      "/data/xiayunpeng/anaconda3/envs/BERT/lib/python3.6/site-packages/sklearn/utils/validation.py:72: FutureWarning: Pass shuffle=True, random_state=10 as keyword args. From version 1.0 (renaming of 0.25) passing these as positional arguments will result in an error\n",
      "  \"will result in an error\", FutureWarning)\n"
     ]
    },
    {
     "name": "stdout",
     "output_type": "stream",
     "text": [
      "0.8101400632753953\n",
      "0.8062290229250567\n",
      "0.8051722682299085\n",
      "0.8052419809571268\n",
      "0.8148985805533095\n"
     ]
    },
    {
     "name": "stderr",
     "output_type": "stream",
     "text": [
      "/data/xiayunpeng/anaconda3/envs/BERT/lib/python3.6/site-packages/sklearn/utils/validation.py:72: FutureWarning: Pass shuffle=True, random_state=10 as keyword args. From version 1.0 (renaming of 0.25) passing these as positional arguments will result in an error\n",
      "  \"will result in an error\", FutureWarning)\n"
     ]
    },
    {
     "name": "stdout",
     "output_type": "stream",
     "text": [
      "0.8069698202175921\n",
      "0.8030919874656991\n",
      "0.8009456843529242\n",
      "0.8015135692786597\n",
      "0.8118330187762961\n"
     ]
    },
    {
     "name": "stderr",
     "output_type": "stream",
     "text": [
      "/data/xiayunpeng/anaconda3/envs/BERT/lib/python3.6/site-packages/sklearn/utils/validation.py:72: FutureWarning: Pass shuffle=True, random_state=10 as keyword args. From version 1.0 (renaming of 0.25) passing these as positional arguments will result in an error\n",
      "  \"will result in an error\", FutureWarning)\n"
     ]
    },
    {
     "name": "stdout",
     "output_type": "stream",
     "text": [
      "0.8094843067492805\n",
      "0.8073596599898262\n",
      "0.806001880182378\n",
      "0.805278947923397\n",
      "0.8114255369273808\n"
     ]
    },
    {
     "name": "stderr",
     "output_type": "stream",
     "text": [
      "/data/xiayunpeng/anaconda3/envs/BERT/lib/python3.6/site-packages/sklearn/utils/validation.py:72: FutureWarning: Pass shuffle=True, random_state=10 as keyword args. From version 1.0 (renaming of 0.25) passing these as positional arguments will result in an error\n",
      "  \"will result in an error\", FutureWarning)\n"
     ]
    },
    {
     "name": "stdout",
     "output_type": "stream",
     "text": [
      "0.8075615766655388\n",
      "0.8024662575628198\n",
      "0.7992560521983048\n",
      "0.7989009655787875\n",
      "0.8069809467824063\n"
     ]
    },
    {
     "name": "stderr",
     "output_type": "stream",
     "text": [
      "/data/xiayunpeng/anaconda3/envs/BERT/lib/python3.6/site-packages/sklearn/utils/validation.py:72: FutureWarning: Pass shuffle=True, random_state=10 as keyword args. From version 1.0 (renaming of 0.25) passing these as positional arguments will result in an error\n",
      "  \"will result in an error\", FutureWarning)\n"
     ]
    },
    {
     "name": "stdout",
     "output_type": "stream",
     "text": [
      "0.8186914193827813\n",
      "0.8104337955962857\n",
      "0.8190900199499308\n",
      "0.8107591687568207\n",
      "0.8127403097991333\n"
     ]
    },
    {
     "name": "stderr",
     "output_type": "stream",
     "text": [
      "/data/xiayunpeng/anaconda3/envs/BERT/lib/python3.6/site-packages/sklearn/utils/validation.py:72: FutureWarning: Pass shuffle=True, random_state=10 as keyword args. From version 1.0 (renaming of 0.25) passing these as positional arguments will result in an error\n",
      "  \"will result in an error\", FutureWarning)\n"
     ]
    },
    {
     "name": "stdout",
     "output_type": "stream",
     "text": [
      "0.8235854508299695\n",
      "0.8176489629748855\n",
      "0.8211798275392792\n",
      "0.8126050063183288\n",
      "0.8144155952979484\n"
     ]
    },
    {
     "name": "stderr",
     "output_type": "stream",
     "text": [
      "/data/xiayunpeng/anaconda3/envs/BERT/lib/python3.6/site-packages/sklearn/utils/validation.py:72: FutureWarning: Pass shuffle=True, random_state=10 as keyword args. From version 1.0 (renaming of 0.25) passing these as positional arguments will result in an error\n",
      "  \"will result in an error\", FutureWarning)\n"
     ]
    },
    {
     "name": "stdout",
     "output_type": "stream",
     "text": [
      "0.8223211145063376\n",
      "0.8099302865902657\n",
      "0.8189198323846896\n",
      "0.8104438506385341\n",
      "0.8160798079915726\n"
     ]
    },
    {
     "name": "stderr",
     "output_type": "stream",
     "text": [
      "/data/xiayunpeng/anaconda3/envs/BERT/lib/python3.6/site-packages/sklearn/utils/validation.py:72: FutureWarning: Pass shuffle=True, random_state=10 as keyword args. From version 1.0 (renaming of 0.25) passing these as positional arguments will result in an error\n",
      "  \"will result in an error\", FutureWarning)\n"
     ]
    },
    {
     "name": "stdout",
     "output_type": "stream",
     "text": [
      "0.8208973527603032\n",
      "0.8111901062125771\n",
      "0.815070422956478\n",
      "0.8119836441440579\n",
      "0.8131577844813138\n"
     ]
    },
    {
     "name": "stderr",
     "output_type": "stream",
     "text": [
      "/data/xiayunpeng/anaconda3/envs/BERT/lib/python3.6/site-packages/sklearn/utils/validation.py:72: FutureWarning: Pass shuffle=True, random_state=10 as keyword args. From version 1.0 (renaming of 0.25) passing these as positional arguments will result in an error\n",
      "  \"will result in an error\", FutureWarning)\n"
     ]
    },
    {
     "name": "stdout",
     "output_type": "stream",
     "text": [
      "0.8222894088876233\n",
      "0.8116864350545184\n",
      "0.8163586441225471\n",
      "0.809476655689368\n",
      "0.8142677583854053\n"
     ]
    },
    {
     "name": "stderr",
     "output_type": "stream",
     "text": [
      "/data/xiayunpeng/anaconda3/envs/BERT/lib/python3.6/site-packages/sklearn/utils/validation.py:72: FutureWarning: Pass shuffle=True, random_state=10 as keyword args. From version 1.0 (renaming of 0.25) passing these as positional arguments will result in an error\n",
      "  \"will result in an error\", FutureWarning)\n"
     ]
    },
    {
     "name": "stdout",
     "output_type": "stream",
     "text": [
      "0.8283077836878942\n",
      "0.8203365041016583\n",
      "0.8184996334147238\n",
      "0.8165655859840169\n",
      "0.8222688236745372\n"
     ]
    },
    {
     "name": "stderr",
     "output_type": "stream",
     "text": [
      "/data/xiayunpeng/anaconda3/envs/BERT/lib/python3.6/site-packages/sklearn/utils/validation.py:72: FutureWarning: Pass shuffle=True, random_state=10 as keyword args. From version 1.0 (renaming of 0.25) passing these as positional arguments will result in an error\n",
      "  \"will result in an error\", FutureWarning)\n"
     ]
    },
    {
     "name": "stdout",
     "output_type": "stream",
     "text": [
      "0.8254839119220454\n",
      "0.8201161485023776\n",
      "0.8188061879733042\n",
      "0.8150141351526414\n",
      "0.8222078373254449\n"
     ]
    },
    {
     "name": "stderr",
     "output_type": "stream",
     "text": [
      "/data/xiayunpeng/anaconda3/envs/BERT/lib/python3.6/site-packages/sklearn/utils/validation.py:72: FutureWarning: Pass shuffle=True, random_state=10 as keyword args. From version 1.0 (renaming of 0.25) passing these as positional arguments will result in an error\n",
      "  \"will result in an error\", FutureWarning)\n"
     ]
    },
    {
     "name": "stdout",
     "output_type": "stream",
     "text": [
      "0.8241004292368108\n",
      "0.8157430238599798\n",
      "0.812404093575952\n",
      "0.808322314342618\n",
      "0.8192935548934236\n"
     ]
    },
    {
     "name": "stderr",
     "output_type": "stream",
     "text": [
      "/data/xiayunpeng/anaconda3/envs/BERT/lib/python3.6/site-packages/sklearn/utils/validation.py:72: FutureWarning: Pass shuffle=True, random_state=10 as keyword args. From version 1.0 (renaming of 0.25) passing these as positional arguments will result in an error\n",
      "  \"will result in an error\", FutureWarning)\n"
     ]
    },
    {
     "name": "stdout",
     "output_type": "stream",
     "text": [
      "0.8290979004480556\n",
      "0.8191997874623544\n",
      "0.8188851621019677\n",
      "0.8125805885308524\n",
      "0.82261181782227\n"
     ]
    },
    {
     "name": "stderr",
     "output_type": "stream",
     "text": [
      "/data/xiayunpeng/anaconda3/envs/BERT/lib/python3.6/site-packages/sklearn/utils/validation.py:72: FutureWarning: Pass shuffle=True, random_state=10 as keyword args. From version 1.0 (renaming of 0.25) passing these as positional arguments will result in an error\n",
      "  \"will result in an error\", FutureWarning)\n"
     ]
    },
    {
     "name": "stdout",
     "output_type": "stream",
     "text": [
      "0.829879887723163\n",
      "0.8198733076378641\n",
      "0.8171935760558053\n",
      "0.8176972629951303\n",
      "0.8226482366208061\n"
     ]
    },
    {
     "name": "stderr",
     "output_type": "stream",
     "text": [
      "/data/xiayunpeng/anaconda3/envs/BERT/lib/python3.6/site-packages/sklearn/utils/validation.py:72: FutureWarning: Pass shuffle=True, random_state=10 as keyword args. From version 1.0 (renaming of 0.25) passing these as positional arguments will result in an error\n",
      "  \"will result in an error\", FutureWarning)\n"
     ]
    },
    {
     "name": "stdout",
     "output_type": "stream",
     "text": [
      "0.8096060543376569\n",
      "0.8120722840034218\n",
      "0.8059389421041898\n",
      "0.8027387546799813\n",
      "0.8112666790024465\n"
     ]
    },
    {
     "name": "stderr",
     "output_type": "stream",
     "text": [
      "/data/xiayunpeng/anaconda3/envs/BERT/lib/python3.6/site-packages/sklearn/utils/validation.py:72: FutureWarning: Pass shuffle=True, random_state=10 as keyword args. From version 1.0 (renaming of 0.25) passing these as positional arguments will result in an error\n",
      "  \"will result in an error\", FutureWarning)\n"
     ]
    },
    {
     "name": "stdout",
     "output_type": "stream",
     "text": [
      "0.8052185635639636\n",
      "0.8074643491666589\n",
      "0.8081195288041674\n",
      "0.804986878722028\n",
      "0.8101179829237561\n"
     ]
    },
    {
     "name": "stderr",
     "output_type": "stream",
     "text": [
      "/data/xiayunpeng/anaconda3/envs/BERT/lib/python3.6/site-packages/sklearn/utils/validation.py:72: FutureWarning: Pass shuffle=True, random_state=10 as keyword args. From version 1.0 (renaming of 0.25) passing these as positional arguments will result in an error\n",
      "  \"will result in an error\", FutureWarning)\n"
     ]
    },
    {
     "name": "stdout",
     "output_type": "stream",
     "text": [
      "0.8059687151809767\n",
      "0.8128034550992207\n",
      "0.8052239234380916\n",
      "0.8010620979827835\n",
      "0.8076139664525528\n"
     ]
    },
    {
     "name": "stderr",
     "output_type": "stream",
     "text": [
      "/data/xiayunpeng/anaconda3/envs/BERT/lib/python3.6/site-packages/sklearn/utils/validation.py:72: FutureWarning: Pass shuffle=True, random_state=10 as keyword args. From version 1.0 (renaming of 0.25) passing these as positional arguments will result in an error\n",
      "  \"will result in an error\", FutureWarning)\n"
     ]
    },
    {
     "name": "stdout",
     "output_type": "stream",
     "text": [
      "0.8079942420794802\n",
      "0.8063266128653211\n",
      "0.8050434803291318\n",
      "0.8006076852444224\n",
      "0.8032907161507667\n"
     ]
    },
    {
     "name": "stderr",
     "output_type": "stream",
     "text": [
      "/data/xiayunpeng/anaconda3/envs/BERT/lib/python3.6/site-packages/sklearn/utils/validation.py:72: FutureWarning: Pass shuffle=True, random_state=10 as keyword args. From version 1.0 (renaming of 0.25) passing these as positional arguments will result in an error\n",
      "  \"will result in an error\", FutureWarning)\n"
     ]
    },
    {
     "name": "stdout",
     "output_type": "stream",
     "text": [
      "0.8063618616218553\n",
      "0.8103276375036426\n",
      "0.8049954698355355\n",
      "0.8037578787884129\n",
      "0.8086138988994722\n"
     ]
    },
    {
     "name": "stderr",
     "output_type": "stream",
     "text": [
      "/data/xiayunpeng/anaconda3/envs/BERT/lib/python3.6/site-packages/sklearn/utils/validation.py:72: FutureWarning: Pass shuffle=True, random_state=10 as keyword args. From version 1.0 (renaming of 0.25) passing these as positional arguments will result in an error\n",
      "  \"will result in an error\", FutureWarning)\n"
     ]
    },
    {
     "name": "stdout",
     "output_type": "stream",
     "text": [
      "0.7594922121447509\n",
      "0.7525367053858901\n",
      "0.7583863504916137\n",
      "0.7427052430563668\n",
      "0.7478613575780934\n"
     ]
    },
    {
     "name": "stderr",
     "output_type": "stream",
     "text": [
      "/data/xiayunpeng/anaconda3/envs/BERT/lib/python3.6/site-packages/sklearn/utils/validation.py:72: FutureWarning: Pass shuffle=True, random_state=10 as keyword args. From version 1.0 (renaming of 0.25) passing these as positional arguments will result in an error\n",
      "  \"will result in an error\", FutureWarning)\n"
     ]
    },
    {
     "name": "stdout",
     "output_type": "stream",
     "text": [
      "0.7665707544245448\n",
      "0.755207382692434\n",
      "0.7605815237394186\n",
      "0.751123449508281\n",
      "0.7533977407761009\n"
     ]
    },
    {
     "name": "stderr",
     "output_type": "stream",
     "text": [
      "/data/xiayunpeng/anaconda3/envs/BERT/lib/python3.6/site-packages/sklearn/utils/validation.py:72: FutureWarning: Pass shuffle=True, random_state=10 as keyword args. From version 1.0 (renaming of 0.25) passing these as positional arguments will result in an error\n",
      "  \"will result in an error\", FutureWarning)\n"
     ]
    },
    {
     "name": "stdout",
     "output_type": "stream",
     "text": [
      "0.760091025458683\n",
      "0.7506129124108374\n",
      "0.7542012081485765\n",
      "0.7418445887547012\n",
      "0.7485686423927101\n"
     ]
    },
    {
     "name": "stderr",
     "output_type": "stream",
     "text": [
      "/data/xiayunpeng/anaconda3/envs/BERT/lib/python3.6/site-packages/sklearn/utils/validation.py:72: FutureWarning: Pass shuffle=True, random_state=10 as keyword args. From version 1.0 (renaming of 0.25) passing these as positional arguments will result in an error\n",
      "  \"will result in an error\", FutureWarning)\n"
     ]
    },
    {
     "name": "stdout",
     "output_type": "stream",
     "text": [
      "0.7561772224835801\n",
      "0.7480298461695712\n",
      "0.7508098626519678\n",
      "0.7417839998598426\n",
      "0.752135722773549\n"
     ]
    },
    {
     "name": "stderr",
     "output_type": "stream",
     "text": [
      "/data/xiayunpeng/anaconda3/envs/BERT/lib/python3.6/site-packages/sklearn/utils/validation.py:72: FutureWarning: Pass shuffle=True, random_state=10 as keyword args. From version 1.0 (renaming of 0.25) passing these as positional arguments will result in an error\n",
      "  \"will result in an error\", FutureWarning)\n"
     ]
    },
    {
     "name": "stdout",
     "output_type": "stream",
     "text": [
      "0.7645810312571798\n",
      "0.7529944732019653\n",
      "0.756900993743099\n",
      "0.7486940538204583\n",
      "0.754205023546964\n"
     ]
    },
    {
     "name": "stderr",
     "output_type": "stream",
     "text": [
      "/data/xiayunpeng/anaconda3/envs/BERT/lib/python3.6/site-packages/sklearn/utils/validation.py:72: FutureWarning: Pass shuffle=True, random_state=10 as keyword args. From version 1.0 (renaming of 0.25) passing these as positional arguments will result in an error\n",
      "  \"will result in an error\", FutureWarning)\n"
     ]
    },
    {
     "name": "stdout",
     "output_type": "stream",
     "text": [
      "0.81391130524913\n",
      "0.8042883630972598\n",
      "0.8176209496670082\n",
      "0.8203326362155205\n",
      "0.816365265461062\n"
     ]
    },
    {
     "name": "stderr",
     "output_type": "stream",
     "text": [
      "/data/xiayunpeng/anaconda3/envs/BERT/lib/python3.6/site-packages/sklearn/utils/validation.py:72: FutureWarning: Pass shuffle=True, random_state=10 as keyword args. From version 1.0 (renaming of 0.25) passing these as positional arguments will result in an error\n",
      "  \"will result in an error\", FutureWarning)\n"
     ]
    },
    {
     "name": "stdout",
     "output_type": "stream",
     "text": [
      "0.8248855948567209\n",
      "0.8193344975164537\n",
      "0.830872582607582\n",
      "0.8357892483829767\n",
      "0.8302973211892848\n"
     ]
    },
    {
     "name": "stderr",
     "output_type": "stream",
     "text": [
      "/data/xiayunpeng/anaconda3/envs/BERT/lib/python3.6/site-packages/sklearn/utils/validation.py:72: FutureWarning: Pass shuffle=True, random_state=10 as keyword args. From version 1.0 (renaming of 0.25) passing these as positional arguments will result in an error\n",
      "  \"will result in an error\", FutureWarning)\n"
     ]
    },
    {
     "name": "stdout",
     "output_type": "stream",
     "text": [
      "0.8132589908335818\n",
      "0.8068138678985164\n",
      "0.8165063076331969\n",
      "0.8260596040730883\n",
      "0.8266523066092264\n"
     ]
    },
    {
     "name": "stderr",
     "output_type": "stream",
     "text": [
      "/data/xiayunpeng/anaconda3/envs/BERT/lib/python3.6/site-packages/sklearn/utils/validation.py:72: FutureWarning: Pass shuffle=True, random_state=10 as keyword args. From version 1.0 (renaming of 0.25) passing these as positional arguments will result in an error\n",
      "  \"will result in an error\", FutureWarning)\n"
     ]
    },
    {
     "name": "stdout",
     "output_type": "stream",
     "text": [
      "0.8208806644802795\n",
      "0.8137640011668472\n",
      "0.8224697425717213\n",
      "0.8269227499447407\n",
      "0.8259383037532151\n"
     ]
    },
    {
     "name": "stderr",
     "output_type": "stream",
     "text": [
      "/data/xiayunpeng/anaconda3/envs/BERT/lib/python3.6/site-packages/sklearn/utils/validation.py:72: FutureWarning: Pass shuffle=True, random_state=10 as keyword args. From version 1.0 (renaming of 0.25) passing these as positional arguments will result in an error\n",
      "  \"will result in an error\", FutureWarning)\n"
     ]
    },
    {
     "name": "stdout",
     "output_type": "stream",
     "text": [
      "0.8190697916395703\n",
      "0.8079927032092293\n",
      "0.8172397300845287\n",
      "0.8242372961030415\n",
      "0.8226612906451627\n"
     ]
    },
    {
     "name": "stderr",
     "output_type": "stream",
     "text": [
      "/data/xiayunpeng/anaconda3/envs/BERT/lib/python3.6/site-packages/sklearn/utils/validation.py:72: FutureWarning: Pass shuffle=True, random_state=10 as keyword args. From version 1.0 (renaming of 0.25) passing these as positional arguments will result in an error\n",
      "  \"will result in an error\", FutureWarning)\n"
     ]
    },
    {
     "name": "stdout",
     "output_type": "stream",
     "text": [
      "0.7562079703840672\n",
      "0.7570316539891474\n",
      "0.7552812517524742\n",
      "0.7551397656208996\n",
      "0.7477259777774345\n"
     ]
    },
    {
     "name": "stderr",
     "output_type": "stream",
     "text": [
      "/data/xiayunpeng/anaconda3/envs/BERT/lib/python3.6/site-packages/sklearn/utils/validation.py:72: FutureWarning: Pass shuffle=True, random_state=10 as keyword args. From version 1.0 (renaming of 0.25) passing these as positional arguments will result in an error\n",
      "  \"will result in an error\", FutureWarning)\n"
     ]
    },
    {
     "name": "stdout",
     "output_type": "stream",
     "text": [
      "0.7542291999357816\n",
      "0.7580421198701988\n",
      "0.7544857613679262\n",
      "0.7544427810448971\n",
      "0.7472702535450464\n"
     ]
    },
    {
     "name": "stderr",
     "output_type": "stream",
     "text": [
      "/data/xiayunpeng/anaconda3/envs/BERT/lib/python3.6/site-packages/sklearn/utils/validation.py:72: FutureWarning: Pass shuffle=True, random_state=10 as keyword args. From version 1.0 (renaming of 0.25) passing these as positional arguments will result in an error\n",
      "  \"will result in an error\", FutureWarning)\n"
     ]
    },
    {
     "name": "stdout",
     "output_type": "stream",
     "text": [
      "0.7479661990081794\n",
      "0.752791481988833\n",
      "0.7473617856915715\n",
      "0.7511884014179881\n",
      "0.7411438122272267\n"
     ]
    },
    {
     "name": "stderr",
     "output_type": "stream",
     "text": [
      "/data/xiayunpeng/anaconda3/envs/BERT/lib/python3.6/site-packages/sklearn/utils/validation.py:72: FutureWarning: Pass shuffle=True, random_state=10 as keyword args. From version 1.0 (renaming of 0.25) passing these as positional arguments will result in an error\n",
      "  \"will result in an error\", FutureWarning)\n"
     ]
    },
    {
     "name": "stdout",
     "output_type": "stream",
     "text": [
      "0.7510412489831046\n",
      "0.7566757041708376\n",
      "0.7499369722447347\n",
      "0.7553595992406135\n",
      "0.7444244298602879\n"
     ]
    },
    {
     "name": "stderr",
     "output_type": "stream",
     "text": [
      "/data/xiayunpeng/anaconda3/envs/BERT/lib/python3.6/site-packages/sklearn/utils/validation.py:72: FutureWarning: Pass shuffle=True, random_state=10 as keyword args. From version 1.0 (renaming of 0.25) passing these as positional arguments will result in an error\n",
      "  \"will result in an error\", FutureWarning)\n"
     ]
    },
    {
     "name": "stdout",
     "output_type": "stream",
     "text": [
      "0.7535030051559747\n",
      "0.7576750938777286\n",
      "0.7517111912932428\n",
      "0.7529413067943713\n",
      "0.7449919185393343\n"
     ]
    },
    {
     "name": "stderr",
     "output_type": "stream",
     "text": [
      "/data/xiayunpeng/anaconda3/envs/BERT/lib/python3.6/site-packages/sklearn/utils/validation.py:72: FutureWarning: Pass shuffle=True, random_state=10 as keyword args. From version 1.0 (renaming of 0.25) passing these as positional arguments will result in an error\n",
      "  \"will result in an error\", FutureWarning)\n"
     ]
    },
    {
     "name": "stdout",
     "output_type": "stream",
     "text": [
      "0.7469546080070545\n",
      "0.7564435281752768\n",
      "0.7531937926077366\n",
      "0.7382979781961106\n",
      "0.7249495549330456\n"
     ]
    },
    {
     "name": "stderr",
     "output_type": "stream",
     "text": [
      "/data/xiayunpeng/anaconda3/envs/BERT/lib/python3.6/site-packages/sklearn/utils/validation.py:72: FutureWarning: Pass shuffle=True, random_state=10 as keyword args. From version 1.0 (renaming of 0.25) passing these as positional arguments will result in an error\n",
      "  \"will result in an error\", FutureWarning)\n"
     ]
    },
    {
     "name": "stdout",
     "output_type": "stream",
     "text": [
      "0.7409497366227245\n",
      "0.7567809100916063\n",
      "0.7501806282006322\n",
      "0.7316796955167075\n",
      "0.7246824836694783\n"
     ]
    },
    {
     "name": "stderr",
     "output_type": "stream",
     "text": [
      "/data/xiayunpeng/anaconda3/envs/BERT/lib/python3.6/site-packages/sklearn/utils/validation.py:72: FutureWarning: Pass shuffle=True, random_state=10 as keyword args. From version 1.0 (renaming of 0.25) passing these as positional arguments will result in an error\n",
      "  \"will result in an error\", FutureWarning)\n"
     ]
    },
    {
     "name": "stdout",
     "output_type": "stream",
     "text": [
      "0.7458789138782875\n",
      "0.7578169990733659\n",
      "0.7532124461224317\n",
      "0.7393477490251684\n",
      "0.7283135957616816\n"
     ]
    },
    {
     "name": "stderr",
     "output_type": "stream",
     "text": [
      "/data/xiayunpeng/anaconda3/envs/BERT/lib/python3.6/site-packages/sklearn/utils/validation.py:72: FutureWarning: Pass shuffle=True, random_state=10 as keyword args. From version 1.0 (renaming of 0.25) passing these as positional arguments will result in an error\n",
      "  \"will result in an error\", FutureWarning)\n"
     ]
    },
    {
     "name": "stdout",
     "output_type": "stream",
     "text": [
      "0.7396090028949285\n",
      "0.7544040000746284\n",
      "0.7459481457162825\n",
      "0.7353579357823841\n",
      "0.7227019901317324\n"
     ]
    },
    {
     "name": "stderr",
     "output_type": "stream",
     "text": [
      "/data/xiayunpeng/anaconda3/envs/BERT/lib/python3.6/site-packages/sklearn/utils/validation.py:72: FutureWarning: Pass shuffle=True, random_state=10 as keyword args. From version 1.0 (renaming of 0.25) passing these as positional arguments will result in an error\n",
      "  \"will result in an error\", FutureWarning)\n"
     ]
    },
    {
     "name": "stdout",
     "output_type": "stream",
     "text": [
      "0.7364021169610739\n",
      "0.7555909003277423\n",
      "0.7501053923580281\n",
      "0.7291330062128024\n",
      "0.7263219094818072\n"
     ]
    }
   ],
   "source": [
    "#Logistic回归模型,训练新数据测试集测试新数据\n",
    "Auc = []\n",
    "for typei in range(len(type_name)):\n",
    "    for celli in range(len(cell_name)):\n",
    "        testLabel = np.array(pd.read_csv(\"Result/\"+feature_name[0]+\"/\"+type_name[typei]+\"_\"+cell_name[celli]+\"test_result.csv\").iloc[:,1])\n",
    "        \n",
    "        test_1 = pd.read_csv(\"Result/\"+feature_name[0]+\"/\"+type_name[typei]+\"_\"+cell_name[celli]+\"test_result.csv\").iloc[:,2:7]\n",
    "        test_2 = pd.read_csv(\"Result/\"+feature_name[1]+\"/\"+type_name[typei]+\"_\"+cell_name[celli]+\"test_result.csv\").iloc[:,2:7]\n",
    "        test_3 = pd.read_csv(\"Result/\"+feature_name[2]+\"/\"+type_name[typei]+\"_\"+cell_name[celli]+\"test_result.csv\").iloc[:,2:7]\n",
    "        test_4 = pd.read_csv(\"Result/\"+feature_name[3]+\"/\"+type_name[typei]+\"_\"+cell_name[celli]+\"test_result.csv\").iloc[:,2:7]\n",
    "\n",
    "        for networki in range(len(network_name)):\n",
    "            if network_name[networki] == \"SVM\":\n",
    "                \n",
    "                for i in range(5):\n",
    "                    testData = np.array(pd.DataFrame([test_1.iloc[:,i],test_2.iloc[:,i],test_3.iloc[:,i],test_4.iloc[:,i]]).T)\n",
    "                    kf = KFold(5,True,10)\n",
    "                    for j,[train_index, test_index] in enumerate(kf.split(testData)):\n",
    "                        \n",
    "                        X_train = testData[train_index]\n",
    "                        X_test = testData[test_index]\n",
    "                        Y_train = testLabel[train_index]\n",
    "                        Y_test = testLabel[test_index]\n",
    "                        \n",
    "                        model = LogisticRegression()\n",
    "                        clf =model.fit(X_train, Y_train)\n",
    "                        th,_,_,_,_,_,_,acc,mcc,auc = metricsCal.get_train_metrics(clf.decision_function(X_train).reshape(-1),Y_train.reshape(-1))\n",
    "\n",
    "                        _,_,_,_,_,_, _,_, auc = metricsCal.get_test_metrics(clf.decision_function(X_test).reshape(-1),Y_test.reshape(-1),0.5)\n",
    "\n",
    "                        Auc.append(auc)\n",
    "                        print(auc)"
   ]
  },
  {
   "cell_type": "code",
   "execution_count": 29,
   "id": "d2de71cd",
   "metadata": {
    "ExecuteTime": {
     "end_time": "2023-03-21T05:10:23.573534Z",
     "start_time": "2023-03-21T05:10:23.568714Z"
    }
   },
   "outputs": [
    {
     "data": {
      "text/plain": [
       "0.8130155846217334"
      ]
     },
     "execution_count": 29,
     "metadata": {},
     "output_type": "execute_result"
    }
   ],
   "source": [
    "np.mean(Auc)"
   ]
  },
  {
   "cell_type": "code",
   "execution_count": 38,
   "id": "2c489448",
   "metadata": {
    "ExecuteTime": {
     "end_time": "2023-03-21T05:50:13.837610Z",
     "start_time": "2023-03-21T05:48:46.511796Z"
    }
   },
   "outputs": [
    {
     "name": "stdout",
     "output_type": "stream",
     "text": [
      "0.8560165928369702\n",
      "0.8549341263711492\n",
      "0.8567742410391892\n",
      "0.85479876975181\n",
      "0.8563786474243811\n",
      "0.8463623401751154\n",
      "0.8482686051482687\n",
      "0.8453153862405149\n",
      "0.8471737147230604\n",
      "0.8481588877326789\n",
      "0.8372536241037136\n",
      "0.8397824642609815\n",
      "0.8402918478739143\n",
      "0.8392932545447088\n",
      "0.8376430414422783\n",
      "0.8861194589208381\n",
      "0.8853784888139659\n",
      "0.885430820251238\n",
      "0.8868025575525245\n",
      "0.8852491149789433\n",
      "0.7988541528338067\n",
      "0.8014217460233545\n",
      "0.798971601813378\n",
      "0.8001709651116334\n",
      "0.7979262927061805\n",
      "0.8156548438858715\n",
      "0.8181550543525784\n",
      "0.8172847105066943\n",
      "0.8140038946989718\n",
      "0.8151770880510859\n",
      "0.8169310671962159\n",
      "0.8156461411758321\n",
      "0.8134439292700135\n",
      "0.8159575246522267\n",
      "0.8174442232631183\n",
      "0.805645022999987\n",
      "0.8056635693163376\n",
      "0.8055837579043028\n",
      "0.8038276014537094\n",
      "0.8056096452261756\n",
      "0.7435807618681152\n",
      "0.7456622848372167\n",
      "0.7419955665907683\n",
      "0.7438228102842787\n",
      "0.7438477390526583\n",
      "0.8083961292124698\n",
      "0.816750467143124\n",
      "0.8071102836021478\n",
      "0.8167996474690266\n",
      "0.8087656613848196\n",
      "0.743343608726359\n",
      "0.7429415874064831\n",
      "0.74092704414608\n",
      "0.7430136561750427\n",
      "0.7431313813569107\n",
      "0.7356948006630374\n",
      "0.7366509955906261\n",
      "0.7403120824682626\n",
      "0.7363289565198017\n",
      "0.7357357953663775\n"
     ]
    }
   ],
   "source": [
    "#Logistic回归模型,训练老数据测试新数据 带Blastn的\n",
    "Auc = []\n",
    "for typei in range(len(type_name)):\n",
    "    for celli in range(len(cell_name)):\n",
    "        testLabel = np.array(pd.read_csv(\"Result/\"+feature_name[0]+\"/\"+type_name[typei]+\"_\"+cell_name[celli]+\"test_result.csv\").iloc[:,1])\n",
    "        \n",
    "        test_1 = pd.read_csv(\"Result/\"+feature_name[0]+\"/\"+type_name[typei]+\"_\"+cell_name[celli]+\"test_result.csv\").iloc[:,2:7]\n",
    "        test_2 = pd.read_csv(\"Result/\"+feature_name[1]+\"/\"+type_name[typei]+\"_\"+cell_name[celli]+\"test_result.csv\").iloc[:,2:7]\n",
    "        test_3 = pd.read_csv(\"Result/\"+feature_name[2]+\"/\"+type_name[typei]+\"_\"+cell_name[celli]+\"test_result.csv\").iloc[:,2:7]\n",
    "        test_4 = pd.read_csv(\"Result/\"+feature_name[3]+\"/\"+type_name[typei]+\"_\"+cell_name[celli]+\"test_result.csv\").iloc[:,2:7]\n",
    "\n",
    "        for networki in range(len(network_name)):\n",
    "            if network_name[networki] == \"SVM\":\n",
    "                \n",
    "                train_emb = pd.read_csv(\"Stacking_result/all_train_KFold/train_\"+type_name[typei]+\"_\"+cell_name[celli]+\"_Kfold\"+str(i)+\".csv\").iloc[:,3]\n",
    "                train_PSNP = pd.read_csv(\"Stacking_result/all_train_KFold/train_\"+type_name[typei]+\"_\"+cell_name[celli]+\"_Kfold\"+str(i)+\".csv\").iloc[:,4]\n",
    "                train_PCP = pd.read_csv(\"Stacking_result/all_train_KFold/train_\"+type_name[typei]+\"_\"+cell_name[celli]+\"_Kfold\"+str(i)+\".csv\").iloc[:,8]\n",
    "                train_DBPF = pd.read_csv(\"Stacking_result/all_train_KFold/train_\"+type_name[typei]+\"_\"+cell_name[celli]+\"_Kfold\"+str(i)+\".csv\").iloc[:,9]\n",
    "                train_Blastn = pd.read_csv(\"Stacking_result/all_train_KFold/train_\"+type_name[typei]+\"_\"+cell_name[celli]+\"_Kfold\"+str(i)+\".csv\").iloc[:,10]\n",
    "                train_true = pd.read_csv(\"Stacking_result/all_train_KFold/train_\"+type_name[typei]+\"_\"+cell_name[celli]+\"_Kfold\"+str(i)+\".csv\").iloc[:,11]\n",
    "\n",
    "                trainData = np.array(pd.DataFrame([train_emb,train_PSNP,train_PCP,train_DBPF,train_Blastn]).T)\n",
    "                model = LogisticRegression()\n",
    "                \n",
    "                #trainData = np.array(pd.DataFrame([pred_1,pred_2,pred_4]).T)\n",
    "                test_Blastn = pd.read_csv(\"Stacking_result/all_test_KFold/test_\"+type_name[typei]+\"_\"+cell_name[celli]+\"_Kfold\"+str(i)+\".csv\").iloc[:,10]\n",
    "\n",
    "                clf =model.fit(trainData, train_true)\n",
    "                \n",
    "\n",
    "\n",
    "                th,_,_,_,_,_,_,acc,mcc,auc = metricsCal.get_train_metrics(clf.decision_function(trainData).reshape(-1),np.array(train_true).reshape(-1))\n",
    "\n",
    "                \n",
    "                for i in range(5):\n",
    "                    testData = np.array(pd.DataFrame([test_1.iloc[:,i],test_2.iloc[:,i],test_3.iloc[:,i],test_4.iloc[:,i],test_Blastn]).T)\n",
    "                    #testData = np.array(pd.DataFrame([test_1.iloc[:,i],test_2.iloc[:,i],test_4.iloc[:,i]]).T)\n",
    "                    \n",
    "                    _,_,_,_,_,_, _,_, auc = metricsCal.get_test_metrics(clf.decision_function(testData).reshape(-1),testLabel.reshape(-1),0.5)\n",
    "\n",
    "                    Auc.append(auc)\n",
    "                    print(auc)"
   ]
  },
  {
   "cell_type": "code",
   "execution_count": 39,
   "id": "0ba71fe9",
   "metadata": {
    "ExecuteTime": {
     "end_time": "2023-03-21T05:50:14.237976Z",
     "start_time": "2023-03-21T05:50:14.232764Z"
    }
   },
   "outputs": [
    {
     "data": {
      "text/plain": [
       "0.8082601679415221"
      ]
     },
     "execution_count": 39,
     "metadata": {},
     "output_type": "execute_result"
    }
   ],
   "source": [
    "np.mean(Auc)"
   ]
  },
  {
   "cell_type": "code",
   "execution_count": 52,
   "id": "b3678e6d",
   "metadata": {
    "ExecuteTime": {
     "end_time": "2023-03-21T06:47:22.338828Z",
     "start_time": "2023-03-21T06:45:12.656591Z"
    }
   },
   "outputs": [
    {
     "name": "stdout",
     "output_type": "stream",
     "text": [
      "0.8423214443797283\n",
      "0.8389400564652065\n",
      "0.8453946296328401\n",
      "0.843535187099838\n",
      "0.8431659568159677\n",
      "0.8272349920253272\n",
      "0.8348317893847836\n",
      "0.834116910653697\n",
      "0.8306970840436004\n",
      "0.8237673381940338\n",
      "0.8199890769848416\n",
      "0.8182183153888025\n",
      "0.8221137696567768\n",
      "0.8216966677933579\n",
      "0.8195727320064343\n",
      "0.8667341488455138\n",
      "0.8699701288329839\n",
      "0.8700296344200722\n",
      "0.8697360921234172\n",
      "0.8665504507538258\n",
      "0.7889946422709992\n",
      "0.7791882736630555\n",
      "0.7830557955648454\n",
      "0.7807012863573802\n",
      "0.7814956345895812\n",
      "0.7986500074351344\n",
      "0.8021777716431208\n",
      "0.800844640345063\n",
      "0.804315342829087\n",
      "0.7984541501569754\n",
      "0.7945354166557983\n",
      "0.7936665276866823\n",
      "0.7949687022435039\n",
      "0.7955892759407575\n",
      "0.793226707304486\n",
      "0.776054522082599\n",
      "0.7755260695226933\n",
      "0.7764910006525214\n",
      "0.7826230717667094\n",
      "0.7826793743426608\n",
      "0.7259780155702051\n",
      "0.7284714178388807\n",
      "0.7291777134825725\n",
      "0.7302016319936396\n",
      "0.7268001978772073\n",
      "0.7846142029342582\n",
      "0.7935000482407019\n",
      "0.7808401527053118\n",
      "0.7887079652655751\n",
      "0.7865400725093934\n",
      "0.7197513776572193\n",
      "0.7206118773806481\n",
      "0.7220629597869039\n",
      "0.7208582935226242\n",
      "0.7188914124909587\n",
      "0.7192898195467122\n",
      "0.7149009741047762\n",
      "0.724366585206117\n",
      "0.7215635645940248\n",
      "0.7202171179955135\n"
     ]
    }
   ],
   "source": [
    "##老数据带Blastn,训练加结果\n",
    "Auc = []\n",
    "Auc_train = []\n",
    "for typei in range(len(type_name)):\n",
    "    for celli in range(len(cell_name)):\n",
    "        for networki in range(len(network_name)):\n",
    "            if network_name[networki] == \"SVM\":\n",
    "                for i in range(5):\n",
    "                    train_emb = pd.read_csv(\"Stacking_result/all_train_KFold/train_\"+type_name[typei]+\"_\"+cell_name[celli]+\"_Kfold\"+str(i)+\".csv\").iloc[:,3]\n",
    "                    train_PSNP = pd.read_csv(\"Stacking_result/all_train_KFold/train_\"+type_name[typei]+\"_\"+cell_name[celli]+\"_Kfold\"+str(i)+\".csv\").iloc[:,4]\n",
    "                    train_PCP = pd.read_csv(\"Stacking_result/all_train_KFold/train_\"+type_name[typei]+\"_\"+cell_name[celli]+\"_Kfold\"+str(i)+\".csv\").iloc[:,8]\n",
    "                    train_DBPF = pd.read_csv(\"Stacking_result/all_train_KFold/train_\"+type_name[typei]+\"_\"+cell_name[celli]+\"_Kfold\"+str(i)+\".csv\").iloc[:,9]\n",
    "                    train_Blastn = pd.read_csv(\"Stacking_result/all_train_KFold/train_\"+type_name[typei]+\"_\"+cell_name[celli]+\"_Kfold\"+str(i)+\".csv\").iloc[:,10]\n",
    "                    trainLabel = pd.read_csv(\"Stacking_result/all_train_KFold/train_\"+type_name[typei]+\"_\"+cell_name[celli]+\"_Kfold\"+str(i)+\".csv\").iloc[:,11]\n",
    "\n",
    "                    trainData = np.array(pd.DataFrame([train_emb,train_PSNP,train_PCP,train_DBPF,train_Blastn]).T)\n",
    "                    model = LogisticRegression()\n",
    "                    clf =model.fit(trainData, trainLabel)\n",
    "                    th,_,_,_,_,_,_,acc,mcc,auc = metricsCal.get_train_metrics(clf.decision_function(trainData).reshape(-1),np.array(trainLabel).reshape(-1))\n",
    "                    Auc_train.append(auc)\n",
    "                    \n",
    "                    train_emb = pd.read_csv(\"Stacking_result/all_test_KFold/test_\"+type_name[typei]+\"_\"+cell_name[celli]+\"_Kfold\"+str(i)+\".csv\").iloc[:,3]\n",
    "                    train_PSNP = pd.read_csv(\"Stacking_result/all_test_KFold/test_\"+type_name[typei]+\"_\"+cell_name[celli]+\"_Kfold\"+str(i)+\".csv\").iloc[:,4]\n",
    "                    train_PCP = pd.read_csv(\"Stacking_result/all_test_KFold/test_\"+type_name[typei]+\"_\"+cell_name[celli]+\"_Kfold\"+str(i)+\".csv\").iloc[:,8]\n",
    "                    train_DBPF = pd.read_csv(\"Stacking_result/all_test_KFold/test_\"+type_name[typei]+\"_\"+cell_name[celli]+\"_Kfold\"+str(i)+\".csv\").iloc[:,9]\n",
    "                    train_Blastn = pd.read_csv(\"Stacking_result/all_test_KFold/test_\"+type_name[typei]+\"_\"+cell_name[celli]+\"_Kfold\"+str(i)+\".csv\").iloc[:,10]\n",
    "                    testLabel = pd.read_csv(\"Stacking_result/all_test_KFold/test_\"+type_name[typei]+\"_\"+cell_name[celli]+\"_Kfold\"+str(i)+\".csv\").iloc[:,11]\n",
    "                    testData = np.array(pd.DataFrame([train_emb,train_PSNP,train_PCP,train_DBPF,train_Blastn]).T)\n",
    "                    \n",
    "                    _,_,_,_,_,_, _,_, auc = metricsCal.get_test_metrics(clf.decision_function(testData).reshape(-1),\n",
    "                                                                          np.array(testLabel).reshape(-1),th)\n",
    "\n",
    "                    Auc.append(auc)\n",
    "                    print(auc)"
   ]
  },
  {
   "cell_type": "code",
   "execution_count": 54,
   "id": "5a57f534",
   "metadata": {
    "ExecuteTime": {
     "end_time": "2023-03-21T06:48:00.104700Z",
     "start_time": "2023-03-21T06:48:00.096941Z"
    }
   },
   "outputs": [
    {
     "data": {
      "text/plain": [
       "(0.7894866669876326, 0.8319548321210921)"
      ]
     },
     "execution_count": 54,
     "metadata": {},
     "output_type": "execute_result"
    }
   ],
   "source": [
    "np.mean(Auc),np.mean(Auc_train)"
   ]
  },
  {
   "cell_type": "code",
   "execution_count": 56,
   "id": "4e9608bb",
   "metadata": {
    "ExecuteTime": {
     "end_time": "2023-03-21T06:54:39.863476Z",
     "start_time": "2023-03-21T06:50:41.192038Z"
    }
   },
   "outputs": [
    {
     "name": "stderr",
     "output_type": "stream",
     "text": [
      "/data/xiayunpeng/anaconda3/envs/BERT/lib/python3.6/site-packages/sklearn/utils/validation.py:72: FutureWarning: Pass shuffle=True, random_state=10 as keyword args. From version 1.0 (renaming of 0.25) passing these as positional arguments will result in an error\n",
      "  \"will result in an error\", FutureWarning)\n"
     ]
    },
    {
     "name": "stdout",
     "output_type": "stream",
     "text": [
      "0.8423037065538027\n",
      "0.8470153924233491\n",
      "0.8388157306785827\n",
      "0.8418008069799144\n",
      "0.8475257695986471\n"
     ]
    },
    {
     "name": "stderr",
     "output_type": "stream",
     "text": [
      "/data/xiayunpeng/anaconda3/envs/BERT/lib/python3.6/site-packages/sklearn/utils/validation.py:72: FutureWarning: Pass shuffle=True, random_state=10 as keyword args. From version 1.0 (renaming of 0.25) passing these as positional arguments will result in an error\n",
      "  \"will result in an error\", FutureWarning)\n"
     ]
    },
    {
     "name": "stdout",
     "output_type": "stream",
     "text": [
      "0.8385904835193024\n",
      "0.8440694642610419\n",
      "0.8356679050839246\n",
      "0.8392623608353046\n",
      "0.845164839224798\n"
     ]
    },
    {
     "name": "stderr",
     "output_type": "stream",
     "text": [
      "/data/xiayunpeng/anaconda3/envs/BERT/lib/python3.6/site-packages/sklearn/utils/validation.py:72: FutureWarning: Pass shuffle=True, random_state=10 as keyword args. From version 1.0 (renaming of 0.25) passing these as positional arguments will result in an error\n",
      "  \"will result in an error\", FutureWarning)\n"
     ]
    },
    {
     "name": "stdout",
     "output_type": "stream",
     "text": [
      "0.8460578855115216\n",
      "0.8485397409607816\n",
      "0.8408551296395643\n",
      "0.8450714018154483\n",
      "0.8524454435737128\n"
     ]
    },
    {
     "name": "stderr",
     "output_type": "stream",
     "text": [
      "/data/xiayunpeng/anaconda3/envs/BERT/lib/python3.6/site-packages/sklearn/utils/validation.py:72: FutureWarning: Pass shuffle=True, random_state=10 as keyword args. From version 1.0 (renaming of 0.25) passing these as positional arguments will result in an error\n",
      "  \"will result in an error\", FutureWarning)\n"
     ]
    },
    {
     "name": "stdout",
     "output_type": "stream",
     "text": [
      "0.8426642725834723\n",
      "0.846340212637601\n",
      "0.8382950840196967\n",
      "0.8436827908711039\n",
      "0.8495126251534271\n"
     ]
    },
    {
     "name": "stderr",
     "output_type": "stream",
     "text": [
      "/data/xiayunpeng/anaconda3/envs/BERT/lib/python3.6/site-packages/sklearn/utils/validation.py:72: FutureWarning: Pass shuffle=True, random_state=10 as keyword args. From version 1.0 (renaming of 0.25) passing these as positional arguments will result in an error\n",
      "  \"will result in an error\", FutureWarning)\n"
     ]
    },
    {
     "name": "stdout",
     "output_type": "stream",
     "text": [
      "0.845009191569407\n",
      "0.8473119858989424\n",
      "0.8375801355853525\n",
      "0.8434100631318961\n",
      "0.8520249301111243\n"
     ]
    },
    {
     "name": "stderr",
     "output_type": "stream",
     "text": [
      "/data/xiayunpeng/anaconda3/envs/BERT/lib/python3.6/site-packages/sklearn/utils/validation.py:72: FutureWarning: Pass shuffle=True, random_state=10 as keyword args. From version 1.0 (renaming of 0.25) passing these as positional arguments will result in an error\n",
      "  \"will result in an error\", FutureWarning)\n"
     ]
    },
    {
     "name": "stdout",
     "output_type": "stream",
     "text": [
      "0.8313273218315845\n",
      "0.8287604581702553\n",
      "0.8202967173054037\n",
      "0.8282970009934285\n",
      "0.8310788858956496\n"
     ]
    },
    {
     "name": "stderr",
     "output_type": "stream",
     "text": [
      "/data/xiayunpeng/anaconda3/envs/BERT/lib/python3.6/site-packages/sklearn/utils/validation.py:72: FutureWarning: Pass shuffle=True, random_state=10 as keyword args. From version 1.0 (renaming of 0.25) passing these as positional arguments will result in an error\n",
      "  \"will result in an error\", FutureWarning)\n"
     ]
    },
    {
     "name": "stdout",
     "output_type": "stream",
     "text": [
      "0.8379800807831113\n",
      "0.837258654063757\n",
      "0.8307147345076464\n",
      "0.8322074475717024\n",
      "0.8380431993735056\n"
     ]
    },
    {
     "name": "stderr",
     "output_type": "stream",
     "text": [
      "/data/xiayunpeng/anaconda3/envs/BERT/lib/python3.6/site-packages/sklearn/utils/validation.py:72: FutureWarning: Pass shuffle=True, random_state=10 as keyword args. From version 1.0 (renaming of 0.25) passing these as positional arguments will result in an error\n",
      "  \"will result in an error\", FutureWarning)\n"
     ]
    },
    {
     "name": "stdout",
     "output_type": "stream",
     "text": [
      "0.8355094696517039\n",
      "0.8351381682395036\n",
      "0.831196453043304\n",
      "0.8349372582190162\n",
      "0.837133569179576\n"
     ]
    },
    {
     "name": "stderr",
     "output_type": "stream",
     "text": [
      "/data/xiayunpeng/anaconda3/envs/BERT/lib/python3.6/site-packages/sklearn/utils/validation.py:72: FutureWarning: Pass shuffle=True, random_state=10 as keyword args. From version 1.0 (renaming of 0.25) passing these as positional arguments will result in an error\n",
      "  \"will result in an error\", FutureWarning)\n"
     ]
    },
    {
     "name": "stdout",
     "output_type": "stream",
     "text": [
      "0.8322244718880919\n",
      "0.8308249476536644\n",
      "0.8268399468989335\n",
      "0.8283471506909589\n",
      "0.8356219818461968\n"
     ]
    },
    {
     "name": "stderr",
     "output_type": "stream",
     "text": [
      "/data/xiayunpeng/anaconda3/envs/BERT/lib/python3.6/site-packages/sklearn/utils/validation.py:72: FutureWarning: Pass shuffle=True, random_state=10 as keyword args. From version 1.0 (renaming of 0.25) passing these as positional arguments will result in an error\n",
      "  \"will result in an error\", FutureWarning)\n"
     ]
    },
    {
     "name": "stdout",
     "output_type": "stream",
     "text": [
      "0.8294398787229029\n",
      "0.8258314398147915\n",
      "0.8207229685337791\n",
      "0.8237898140088467\n",
      "0.8291021001828278\n"
     ]
    },
    {
     "name": "stderr",
     "output_type": "stream",
     "text": [
      "/data/xiayunpeng/anaconda3/envs/BERT/lib/python3.6/site-packages/sklearn/utils/validation.py:72: FutureWarning: Pass shuffle=True, random_state=10 as keyword args. From version 1.0 (renaming of 0.25) passing these as positional arguments will result in an error\n",
      "  \"will result in an error\", FutureWarning)\n"
     ]
    },
    {
     "name": "stdout",
     "output_type": "stream",
     "text": [
      "0.8168440867572595\n",
      "0.8244590312753682\n",
      "0.8219258812465262\n",
      "0.8118788237084302\n",
      "0.8390437811923249\n"
     ]
    },
    {
     "name": "stderr",
     "output_type": "stream",
     "text": [
      "/data/xiayunpeng/anaconda3/envs/BERT/lib/python3.6/site-packages/sklearn/utils/validation.py:72: FutureWarning: Pass shuffle=True, random_state=10 as keyword args. From version 1.0 (renaming of 0.25) passing these as positional arguments will result in an error\n",
      "  \"will result in an error\", FutureWarning)\n"
     ]
    },
    {
     "name": "stdout",
     "output_type": "stream",
     "text": [
      "0.8141194557434902\n",
      "0.8210715210553727\n",
      "0.8211886711496617\n",
      "0.8073801076517487\n",
      "0.8328633780719095\n"
     ]
    },
    {
     "name": "stderr",
     "output_type": "stream",
     "text": [
      "/data/xiayunpeng/anaconda3/envs/BERT/lib/python3.6/site-packages/sklearn/utils/validation.py:72: FutureWarning: Pass shuffle=True, random_state=10 as keyword args. From version 1.0 (renaming of 0.25) passing these as positional arguments will result in an error\n",
      "  \"will result in an error\", FutureWarning)\n"
     ]
    },
    {
     "name": "stdout",
     "output_type": "stream",
     "text": [
      "0.8165237988475459\n",
      "0.8241615239358838\n",
      "0.825252068304118\n",
      "0.8121227256147239\n",
      "0.8382582169365904\n"
     ]
    },
    {
     "name": "stderr",
     "output_type": "stream",
     "text": [
      "/data/xiayunpeng/anaconda3/envs/BERT/lib/python3.6/site-packages/sklearn/utils/validation.py:72: FutureWarning: Pass shuffle=True, random_state=10 as keyword args. From version 1.0 (renaming of 0.25) passing these as positional arguments will result in an error\n",
      "  \"will result in an error\", FutureWarning)\n"
     ]
    },
    {
     "name": "stdout",
     "output_type": "stream",
     "text": [
      "0.8176870263014607\n",
      "0.824675797014161\n",
      "0.8235758623427692\n",
      "0.8122450406005666\n",
      "0.8381235279770811\n"
     ]
    },
    {
     "name": "stderr",
     "output_type": "stream",
     "text": [
      "/data/xiayunpeng/anaconda3/envs/BERT/lib/python3.6/site-packages/sklearn/utils/validation.py:72: FutureWarning: Pass shuffle=True, random_state=10 as keyword args. From version 1.0 (renaming of 0.25) passing these as positional arguments will result in an error\n",
      "  \"will result in an error\", FutureWarning)\n"
     ]
    },
    {
     "name": "stdout",
     "output_type": "stream",
     "text": [
      "0.8141274629412331\n",
      "0.8236872579570483\n",
      "0.8224124981879346\n",
      "0.8106258231689338\n",
      "0.8346536491607423\n"
     ]
    },
    {
     "name": "stderr",
     "output_type": "stream",
     "text": [
      "/data/xiayunpeng/anaconda3/envs/BERT/lib/python3.6/site-packages/sklearn/utils/validation.py:72: FutureWarning: Pass shuffle=True, random_state=10 as keyword args. From version 1.0 (renaming of 0.25) passing these as positional arguments will result in an error\n",
      "  \"will result in an error\", FutureWarning)\n"
     ]
    },
    {
     "name": "stdout",
     "output_type": "stream",
     "text": [
      "0.8783853335461219\n",
      "0.8695674695158699\n",
      "0.8756509151914914\n",
      "0.8680035341327016\n",
      "0.8794033076901603\n"
     ]
    },
    {
     "name": "stderr",
     "output_type": "stream",
     "text": [
      "/data/xiayunpeng/anaconda3/envs/BERT/lib/python3.6/site-packages/sklearn/utils/validation.py:72: FutureWarning: Pass shuffle=True, random_state=10 as keyword args. From version 1.0 (renaming of 0.25) passing these as positional arguments will result in an error\n",
      "  \"will result in an error\", FutureWarning)\n"
     ]
    },
    {
     "name": "stdout",
     "output_type": "stream",
     "text": [
      "0.881539259495691\n",
      "0.8721394823898801\n",
      "0.8789165742658493\n",
      "0.8670950705629881\n",
      "0.8807622363399257\n"
     ]
    },
    {
     "name": "stderr",
     "output_type": "stream",
     "text": [
      "/data/xiayunpeng/anaconda3/envs/BERT/lib/python3.6/site-packages/sklearn/utils/validation.py:72: FutureWarning: Pass shuffle=True, random_state=10 as keyword args. From version 1.0 (renaming of 0.25) passing these as positional arguments will result in an error\n",
      "  \"will result in an error\", FutureWarning)\n"
     ]
    },
    {
     "name": "stdout",
     "output_type": "stream",
     "text": [
      "0.8800021943823811\n",
      "0.8710536984887681\n",
      "0.8771363019150629\n",
      "0.8661726459724448\n",
      "0.8793704062628366\n"
     ]
    },
    {
     "name": "stderr",
     "output_type": "stream",
     "text": [
      "/data/xiayunpeng/anaconda3/envs/BERT/lib/python3.6/site-packages/sklearn/utils/validation.py:72: FutureWarning: Pass shuffle=True, random_state=10 as keyword args. From version 1.0 (renaming of 0.25) passing these as positional arguments will result in an error\n",
      "  \"will result in an error\", FutureWarning)\n"
     ]
    },
    {
     "name": "stdout",
     "output_type": "stream",
     "text": [
      "0.8800101739546761\n",
      "0.8679995577173834\n",
      "0.8785300349977435\n",
      "0.8670731318159699\n",
      "0.8779008091757096\n"
     ]
    },
    {
     "name": "stderr",
     "output_type": "stream",
     "text": [
      "/data/xiayunpeng/anaconda3/envs/BERT/lib/python3.6/site-packages/sklearn/utils/validation.py:72: FutureWarning: Pass shuffle=True, random_state=10 as keyword args. From version 1.0 (renaming of 0.25) passing these as positional arguments will result in an error\n",
      "  \"will result in an error\", FutureWarning)\n"
     ]
    },
    {
     "name": "stdout",
     "output_type": "stream",
     "text": [
      "0.8774018512607724\n",
      "0.8680672946947005\n",
      "0.8773684247229718\n",
      "0.8659831749754685\n",
      "0.8782996143553913\n"
     ]
    },
    {
     "name": "stderr",
     "output_type": "stream",
     "text": [
      "/data/xiayunpeng/anaconda3/envs/BERT/lib/python3.6/site-packages/sklearn/utils/validation.py:72: FutureWarning: Pass shuffle=True, random_state=10 as keyword args. From version 1.0 (renaming of 0.25) passing these as positional arguments will result in an error\n",
      "  \"will result in an error\", FutureWarning)\n"
     ]
    },
    {
     "name": "stdout",
     "output_type": "stream",
     "text": [
      "0.7963981635397417\n",
      "0.7940507582522582\n",
      "0.7922779084432434\n",
      "0.7942680846022407\n",
      "0.801805853998431\n"
     ]
    },
    {
     "name": "stderr",
     "output_type": "stream",
     "text": [
      "/data/xiayunpeng/anaconda3/envs/BERT/lib/python3.6/site-packages/sklearn/utils/validation.py:72: FutureWarning: Pass shuffle=True, random_state=10 as keyword args. From version 1.0 (renaming of 0.25) passing these as positional arguments will result in an error\n",
      "  \"will result in an error\", FutureWarning)\n"
     ]
    },
    {
     "name": "stdout",
     "output_type": "stream",
     "text": [
      "0.7857240334542903\n",
      "0.7836218586901513\n",
      "0.7835169131336039\n",
      "0.7849287551292683\n",
      "0.7899449394529456\n"
     ]
    },
    {
     "name": "stderr",
     "output_type": "stream",
     "text": [
      "/data/xiayunpeng/anaconda3/envs/BERT/lib/python3.6/site-packages/sklearn/utils/validation.py:72: FutureWarning: Pass shuffle=True, random_state=10 as keyword args. From version 1.0 (renaming of 0.25) passing these as positional arguments will result in an error\n",
      "  \"will result in an error\", FutureWarning)\n"
     ]
    },
    {
     "name": "stdout",
     "output_type": "stream",
     "text": [
      "0.7966692274840437\n",
      "0.7907764131212847\n",
      "0.791101145817042\n",
      "0.7903245479790916\n",
      "0.7972908932123485\n"
     ]
    },
    {
     "name": "stderr",
     "output_type": "stream",
     "text": [
      "/data/xiayunpeng/anaconda3/envs/BERT/lib/python3.6/site-packages/sklearn/utils/validation.py:72: FutureWarning: Pass shuffle=True, random_state=10 as keyword args. From version 1.0 (renaming of 0.25) passing these as positional arguments will result in an error\n",
      "  \"will result in an error\", FutureWarning)\n"
     ]
    },
    {
     "name": "stdout",
     "output_type": "stream",
     "text": [
      "0.7912692005323569\n",
      "0.7871442405330009\n",
      "0.7889075997095462\n",
      "0.7854929492025842\n",
      "0.7949568521681019\n"
     ]
    },
    {
     "name": "stderr",
     "output_type": "stream",
     "text": [
      "/data/xiayunpeng/anaconda3/envs/BERT/lib/python3.6/site-packages/sklearn/utils/validation.py:72: FutureWarning: Pass shuffle=True, random_state=10 as keyword args. From version 1.0 (renaming of 0.25) passing these as positional arguments will result in an error\n",
      "  \"will result in an error\", FutureWarning)\n"
     ]
    },
    {
     "name": "stdout",
     "output_type": "stream",
     "text": [
      "0.7876899188070255\n",
      "0.7856488555709052\n",
      "0.7851883084798472\n",
      "0.7850859868734701\n",
      "0.792138850071236\n"
     ]
    },
    {
     "name": "stderr",
     "output_type": "stream",
     "text": [
      "/data/xiayunpeng/anaconda3/envs/BERT/lib/python3.6/site-packages/sklearn/utils/validation.py:72: FutureWarning: Pass shuffle=True, random_state=10 as keyword args. From version 1.0 (renaming of 0.25) passing these as positional arguments will result in an error\n",
      "  \"will result in an error\", FutureWarning)\n"
     ]
    },
    {
     "name": "stdout",
     "output_type": "stream",
     "text": [
      "0.8028754005077686\n",
      "0.7949267354007818\n",
      "0.8016393638753714\n",
      "0.8015311776024815\n",
      "0.8037429074193779\n"
     ]
    },
    {
     "name": "stderr",
     "output_type": "stream",
     "text": [
      "/data/xiayunpeng/anaconda3/envs/BERT/lib/python3.6/site-packages/sklearn/utils/validation.py:72: FutureWarning: Pass shuffle=True, random_state=10 as keyword args. From version 1.0 (renaming of 0.25) passing these as positional arguments will result in an error\n",
      "  \"will result in an error\", FutureWarning)\n"
     ]
    },
    {
     "name": "stdout",
     "output_type": "stream",
     "text": [
      "0.8049464354509496\n",
      "0.7972213961709381\n",
      "0.8037659606923553\n",
      "0.803423086312202\n",
      "0.8050554837319543\n"
     ]
    },
    {
     "name": "stderr",
     "output_type": "stream",
     "text": [
      "/data/xiayunpeng/anaconda3/envs/BERT/lib/python3.6/site-packages/sklearn/utils/validation.py:72: FutureWarning: Pass shuffle=True, random_state=10 as keyword args. From version 1.0 (renaming of 0.25) passing these as positional arguments will result in an error\n",
      "  \"will result in an error\", FutureWarning)\n"
     ]
    },
    {
     "name": "stdout",
     "output_type": "stream",
     "text": [
      "0.8054973953535117\n",
      "0.7926670779305092\n",
      "0.800377762556941\n",
      "0.8029186969882632\n",
      "0.804673023055376\n"
     ]
    },
    {
     "name": "stderr",
     "output_type": "stream",
     "text": [
      "/data/xiayunpeng/anaconda3/envs/BERT/lib/python3.6/site-packages/sklearn/utils/validation.py:72: FutureWarning: Pass shuffle=True, random_state=10 as keyword args. From version 1.0 (renaming of 0.25) passing these as positional arguments will result in an error\n",
      "  \"will result in an error\", FutureWarning)\n"
     ]
    },
    {
     "name": "stdout",
     "output_type": "stream",
     "text": [
      "0.8076467970146468\n",
      "0.8011327905528187\n",
      "0.8042310602775045\n",
      "0.8039600844358499\n",
      "0.8087600852306734\n"
     ]
    },
    {
     "name": "stderr",
     "output_type": "stream",
     "text": [
      "/data/xiayunpeng/anaconda3/envs/BERT/lib/python3.6/site-packages/sklearn/utils/validation.py:72: FutureWarning: Pass shuffle=True, random_state=10 as keyword args. From version 1.0 (renaming of 0.25) passing these as positional arguments will result in an error\n",
      "  \"will result in an error\", FutureWarning)\n"
     ]
    },
    {
     "name": "stdout",
     "output_type": "stream",
     "text": [
      "0.8001603825731562\n",
      "0.7923134548496324\n",
      "0.8027920930079531\n",
      "0.8009968719485342\n",
      "0.7994071560248031\n"
     ]
    },
    {
     "name": "stderr",
     "output_type": "stream",
     "text": [
      "/data/xiayunpeng/anaconda3/envs/BERT/lib/python3.6/site-packages/sklearn/utils/validation.py:72: FutureWarning: Pass shuffle=True, random_state=10 as keyword args. From version 1.0 (renaming of 0.25) passing these as positional arguments will result in an error\n",
      "  \"will result in an error\", FutureWarning)\n"
     ]
    },
    {
     "name": "stdout",
     "output_type": "stream",
     "text": [
      "0.8019771599522885\n",
      "0.7971243594293862\n",
      "0.7978334100873058\n",
      "0.7917227417266764\n",
      "0.7961871680569248\n"
     ]
    },
    {
     "name": "stderr",
     "output_type": "stream",
     "text": [
      "/data/xiayunpeng/anaconda3/envs/BERT/lib/python3.6/site-packages/sklearn/utils/validation.py:72: FutureWarning: Pass shuffle=True, random_state=10 as keyword args. From version 1.0 (renaming of 0.25) passing these as positional arguments will result in an error\n",
      "  \"will result in an error\", FutureWarning)\n"
     ]
    },
    {
     "name": "stdout",
     "output_type": "stream",
     "text": [
      "0.8018921462947538\n",
      "0.7941547477464576\n",
      "0.7949707060477402\n",
      "0.7907192280451115\n",
      "0.7940756562909712\n"
     ]
    },
    {
     "name": "stderr",
     "output_type": "stream",
     "text": [
      "/data/xiayunpeng/anaconda3/envs/BERT/lib/python3.6/site-packages/sklearn/utils/validation.py:72: FutureWarning: Pass shuffle=True, random_state=10 as keyword args. From version 1.0 (renaming of 0.25) passing these as positional arguments will result in an error\n",
      "  \"will result in an error\", FutureWarning)\n"
     ]
    },
    {
     "name": "stdout",
     "output_type": "stream",
     "text": [
      "0.802918969444206\n",
      "0.7945887998472386\n",
      "0.7963094602529179\n",
      "0.7915628402446693\n",
      "0.7965149372437492\n"
     ]
    },
    {
     "name": "stderr",
     "output_type": "stream",
     "text": [
      "/data/xiayunpeng/anaconda3/envs/BERT/lib/python3.6/site-packages/sklearn/utils/validation.py:72: FutureWarning: Pass shuffle=True, random_state=10 as keyword args. From version 1.0 (renaming of 0.25) passing these as positional arguments will result in an error\n",
      "  \"will result in an error\", FutureWarning)\n"
     ]
    },
    {
     "name": "stdout",
     "output_type": "stream",
     "text": [
      "0.8041718614652722\n",
      "0.7966984366168047\n",
      "0.7970623527128176\n",
      "0.7941005952416986\n",
      "0.7982794756108238\n"
     ]
    },
    {
     "name": "stderr",
     "output_type": "stream",
     "text": [
      "/data/xiayunpeng/anaconda3/envs/BERT/lib/python3.6/site-packages/sklearn/utils/validation.py:72: FutureWarning: Pass shuffle=True, random_state=10 as keyword args. From version 1.0 (renaming of 0.25) passing these as positional arguments will result in an error\n",
      "  \"will result in an error\", FutureWarning)\n"
     ]
    },
    {
     "name": "stdout",
     "output_type": "stream",
     "text": [
      "0.8005808776522878\n",
      "0.7951251599048285\n",
      "0.7955064845285098\n",
      "0.7914348498750796\n",
      "0.7943984081611328\n"
     ]
    },
    {
     "name": "stderr",
     "output_type": "stream",
     "text": [
      "/data/xiayunpeng/anaconda3/envs/BERT/lib/python3.6/site-packages/sklearn/utils/validation.py:72: FutureWarning: Pass shuffle=True, random_state=10 as keyword args. From version 1.0 (renaming of 0.25) passing these as positional arguments will result in an error\n",
      "  \"will result in an error\", FutureWarning)\n"
     ]
    },
    {
     "name": "stdout",
     "output_type": "stream",
     "text": [
      "0.7765414983992063\n",
      "0.7789310507712989\n",
      "0.7753593409260388\n",
      "0.7751686496921333\n",
      "0.7802821369095347\n"
     ]
    },
    {
     "name": "stderr",
     "output_type": "stream",
     "text": [
      "/data/xiayunpeng/anaconda3/envs/BERT/lib/python3.6/site-packages/sklearn/utils/validation.py:72: FutureWarning: Pass shuffle=True, random_state=10 as keyword args. From version 1.0 (renaming of 0.25) passing these as positional arguments will result in an error\n",
      "  \"will result in an error\", FutureWarning)\n"
     ]
    },
    {
     "name": "stdout",
     "output_type": "stream",
     "text": [
      "0.7783365145481813\n",
      "0.7791162670733887\n",
      "0.7738155172558083\n",
      "0.7743047661345895\n",
      "0.7799885747181128\n"
     ]
    },
    {
     "name": "stderr",
     "output_type": "stream",
     "text": [
      "/data/xiayunpeng/anaconda3/envs/BERT/lib/python3.6/site-packages/sklearn/utils/validation.py:72: FutureWarning: Pass shuffle=True, random_state=10 as keyword args. From version 1.0 (renaming of 0.25) passing these as positional arguments will result in an error\n",
      "  \"will result in an error\", FutureWarning)\n"
     ]
    },
    {
     "name": "stdout",
     "output_type": "stream",
     "text": [
      "0.7768675043604583\n",
      "0.7791919105274536\n",
      "0.7749958119286549\n",
      "0.7752751297294027\n",
      "0.7790735241854714\n"
     ]
    },
    {
     "name": "stderr",
     "output_type": "stream",
     "text": [
      "/data/xiayunpeng/anaconda3/envs/BERT/lib/python3.6/site-packages/sklearn/utils/validation.py:72: FutureWarning: Pass shuffle=True, random_state=10 as keyword args. From version 1.0 (renaming of 0.25) passing these as positional arguments will result in an error\n",
      "  \"will result in an error\", FutureWarning)\n"
     ]
    },
    {
     "name": "stdout",
     "output_type": "stream",
     "text": [
      "0.7846364071234139\n",
      "0.787944812886002\n",
      "0.7809119674010216\n",
      "0.7803327111961775\n",
      "0.7860148969228103\n"
     ]
    },
    {
     "name": "stderr",
     "output_type": "stream",
     "text": [
      "/data/xiayunpeng/anaconda3/envs/BERT/lib/python3.6/site-packages/sklearn/utils/validation.py:72: FutureWarning: Pass shuffle=True, random_state=10 as keyword args. From version 1.0 (renaming of 0.25) passing these as positional arguments will result in an error\n",
      "  \"will result in an error\", FutureWarning)\n"
     ]
    },
    {
     "name": "stdout",
     "output_type": "stream",
     "text": [
      "0.7831560844259945\n",
      "0.7844809302117899\n",
      "0.7826506226461828\n",
      "0.7808850855688266\n",
      "0.7851500706370256\n"
     ]
    },
    {
     "name": "stderr",
     "output_type": "stream",
     "text": [
      "/data/xiayunpeng/anaconda3/envs/BERT/lib/python3.6/site-packages/sklearn/utils/validation.py:72: FutureWarning: Pass shuffle=True, random_state=10 as keyword args. From version 1.0 (renaming of 0.25) passing these as positional arguments will result in an error\n",
      "  \"will result in an error\", FutureWarning)\n"
     ]
    },
    {
     "name": "stdout",
     "output_type": "stream",
     "text": [
      "0.7489418655113435\n",
      "0.7324007622162679\n",
      "0.7338421812106022\n",
      "0.7218779929454087\n",
      "0.7277230830318797\n"
     ]
    },
    {
     "name": "stderr",
     "output_type": "stream",
     "text": [
      "/data/xiayunpeng/anaconda3/envs/BERT/lib/python3.6/site-packages/sklearn/utils/validation.py:72: FutureWarning: Pass shuffle=True, random_state=10 as keyword args. From version 1.0 (renaming of 0.25) passing these as positional arguments will result in an error\n",
      "  \"will result in an error\", FutureWarning)\n"
     ]
    },
    {
     "name": "stdout",
     "output_type": "stream",
     "text": [
      "0.75051876488372\n",
      "0.7356569734757499\n",
      "0.735299787931367\n",
      "0.7243555677544441\n",
      "0.7308996604448961\n"
     ]
    },
    {
     "name": "stderr",
     "output_type": "stream",
     "text": [
      "/data/xiayunpeng/anaconda3/envs/BERT/lib/python3.6/site-packages/sklearn/utils/validation.py:72: FutureWarning: Pass shuffle=True, random_state=10 as keyword args. From version 1.0 (renaming of 0.25) passing these as positional arguments will result in an error\n",
      "  \"will result in an error\", FutureWarning)\n"
     ]
    },
    {
     "name": "stdout",
     "output_type": "stream",
     "text": [
      "0.7456290639621602\n",
      "0.7362950740678548\n",
      "0.7349682481261429\n",
      "0.7211480062603659\n",
      "0.7307471088182139\n"
     ]
    },
    {
     "name": "stderr",
     "output_type": "stream",
     "text": [
      "/data/xiayunpeng/anaconda3/envs/BERT/lib/python3.6/site-packages/sklearn/utils/validation.py:72: FutureWarning: Pass shuffle=True, random_state=10 as keyword args. From version 1.0 (renaming of 0.25) passing these as positional arguments will result in an error\n",
      "  \"will result in an error\", FutureWarning)\n"
     ]
    },
    {
     "name": "stdout",
     "output_type": "stream",
     "text": [
      "0.7442957743910666\n",
      "0.7340310581226409\n",
      "0.7364236640552431\n",
      "0.722291165409143\n",
      "0.7295683007938525\n"
     ]
    },
    {
     "name": "stderr",
     "output_type": "stream",
     "text": [
      "/data/xiayunpeng/anaconda3/envs/BERT/lib/python3.6/site-packages/sklearn/utils/validation.py:72: FutureWarning: Pass shuffle=True, random_state=10 as keyword args. From version 1.0 (renaming of 0.25) passing these as positional arguments will result in an error\n",
      "  \"will result in an error\", FutureWarning)\n"
     ]
    },
    {
     "name": "stdout",
     "output_type": "stream",
     "text": [
      "0.7482766794671217\n",
      "0.7374062744124583\n",
      "0.7358255779308411\n",
      "0.7271879160924104\n",
      "0.732547801942734\n"
     ]
    },
    {
     "name": "stderr",
     "output_type": "stream",
     "text": [
      "/data/xiayunpeng/anaconda3/envs/BERT/lib/python3.6/site-packages/sklearn/utils/validation.py:72: FutureWarning: Pass shuffle=True, random_state=10 as keyword args. From version 1.0 (renaming of 0.25) passing these as positional arguments will result in an error\n",
      "  \"will result in an error\", FutureWarning)\n"
     ]
    },
    {
     "name": "stdout",
     "output_type": "stream",
     "text": [
      "0.8014372927751177\n",
      "0.7873171306748933\n",
      "0.7920182024846311\n",
      "0.7976448019715331\n",
      "0.8001442005768025\n"
     ]
    },
    {
     "name": "stderr",
     "output_type": "stream",
     "text": [
      "/data/xiayunpeng/anaconda3/envs/BERT/lib/python3.6/site-packages/sklearn/utils/validation.py:72: FutureWarning: Pass shuffle=True, random_state=10 as keyword args. From version 1.0 (renaming of 0.25) passing these as positional arguments will result in an error\n",
      "  \"will result in an error\", FutureWarning)\n"
     ]
    },
    {
     "name": "stdout",
     "output_type": "stream",
     "text": [
      "0.8121774695403186\n",
      "0.799518076140773\n",
      "0.80267333984375\n",
      "0.8090697327848405\n",
      "0.8122932491729968\n"
     ]
    },
    {
     "name": "stderr",
     "output_type": "stream",
     "text": [
      "/data/xiayunpeng/anaconda3/envs/BERT/lib/python3.6/site-packages/sklearn/utils/validation.py:72: FutureWarning: Pass shuffle=True, random_state=10 as keyword args. From version 1.0 (renaming of 0.25) passing these as positional arguments will result in an error\n",
      "  \"will result in an error\", FutureWarning)\n"
     ]
    },
    {
     "name": "stdout",
     "output_type": "stream",
     "text": [
      "0.8042476473660304\n",
      "0.7876827694238093\n",
      "0.795927454213627\n",
      "0.8002422409387187\n",
      "0.8019182076728306\n"
     ]
    },
    {
     "name": "stderr",
     "output_type": "stream",
     "text": [
      "/data/xiayunpeng/anaconda3/envs/BERT/lib/python3.6/site-packages/sklearn/utils/validation.py:72: FutureWarning: Pass shuffle=True, random_state=10 as keyword args. From version 1.0 (renaming of 0.25) passing these as positional arguments will result in an error\n",
      "  \"will result in an error\", FutureWarning)\n"
     ]
    },
    {
     "name": "stdout",
     "output_type": "stream",
     "text": [
      "0.8007329532834826\n",
      "0.7919715321262591\n",
      "0.7945906842341188\n",
      "0.7981548881761017\n",
      "0.8029452117808471\n"
     ]
    },
    {
     "name": "stderr",
     "output_type": "stream",
     "text": [
      "/data/xiayunpeng/anaconda3/envs/BERT/lib/python3.6/site-packages/sklearn/utils/validation.py:72: FutureWarning: Pass shuffle=True, random_state=10 as keyword args. From version 1.0 (renaming of 0.25) passing these as positional arguments will result in an error\n",
      "  \"will result in an error\", FutureWarning)\n"
     ]
    },
    {
     "name": "stdout",
     "output_type": "stream",
     "text": [
      "0.8016333872926751\n",
      "0.7871562895858891\n",
      "0.7937281874359632\n",
      "0.8012604130097987\n",
      "0.8018272073088292\n"
     ]
    },
    {
     "name": "stderr",
     "output_type": "stream",
     "text": [
      "/data/xiayunpeng/anaconda3/envs/BERT/lib/python3.6/site-packages/sklearn/utils/validation.py:72: FutureWarning: Pass shuffle=True, random_state=10 as keyword args. From version 1.0 (renaming of 0.25) passing these as positional arguments will result in an error\n",
      "  \"will result in an error\", FutureWarning)\n"
     ]
    },
    {
     "name": "stdout",
     "output_type": "stream",
     "text": [
      "0.7281467449561192\n",
      "0.7275145081532903\n",
      "0.7270463297327672\n",
      "0.7284597388909628\n",
      "0.7189048539536285\n"
     ]
    },
    {
     "name": "stderr",
     "output_type": "stream",
     "text": [
      "/data/xiayunpeng/anaconda3/envs/BERT/lib/python3.6/site-packages/sklearn/utils/validation.py:72: FutureWarning: Pass shuffle=True, random_state=10 as keyword args. From version 1.0 (renaming of 0.25) passing these as positional arguments will result in an error\n",
      "  \"will result in an error\", FutureWarning)\n"
     ]
    },
    {
     "name": "stdout",
     "output_type": "stream",
     "text": [
      "0.7267947526829102\n",
      "0.7276315641045636\n",
      "0.7246545449551391\n",
      "0.7281311738788281\n",
      "0.7180341623115732\n"
     ]
    },
    {
     "name": "stderr",
     "output_type": "stream",
     "text": [
      "/data/xiayunpeng/anaconda3/envs/BERT/lib/python3.6/site-packages/sklearn/utils/validation.py:72: FutureWarning: Pass shuffle=True, random_state=10 as keyword args. From version 1.0 (renaming of 0.25) passing these as positional arguments will result in an error\n",
      "  \"will result in an error\", FutureWarning)\n"
     ]
    },
    {
     "name": "stdout",
     "output_type": "stream",
     "text": [
      "0.7288374308869697\n",
      "0.7307137650114858\n",
      "0.7295763913560908\n",
      "0.7299182111020801\n",
      "0.7209886436039463\n"
     ]
    },
    {
     "name": "stderr",
     "output_type": "stream",
     "text": [
      "/data/xiayunpeng/anaconda3/envs/BERT/lib/python3.6/site-packages/sklearn/utils/validation.py:72: FutureWarning: Pass shuffle=True, random_state=10 as keyword args. From version 1.0 (renaming of 0.25) passing these as positional arguments will result in an error\n",
      "  \"will result in an error\", FutureWarning)\n"
     ]
    },
    {
     "name": "stdout",
     "output_type": "stream",
     "text": [
      "0.7280343751809409\n",
      "0.7289625850924015\n",
      "0.7271471250923549\n",
      "0.7320243708744408\n",
      "0.7190093827356716\n"
     ]
    },
    {
     "name": "stderr",
     "output_type": "stream",
     "text": [
      "/data/xiayunpeng/anaconda3/envs/BERT/lib/python3.6/site-packages/sklearn/utils/validation.py:72: FutureWarning: Pass shuffle=True, random_state=10 as keyword args. From version 1.0 (renaming of 0.25) passing these as positional arguments will result in an error\n",
      "  \"will result in an error\", FutureWarning)\n"
     ]
    },
    {
     "name": "stdout",
     "output_type": "stream",
     "text": [
      "0.7296370133454022\n",
      "0.7314215774989687\n",
      "0.7314432718320868\n",
      "0.7338468479913878\n",
      "0.7223278547497151\n"
     ]
    },
    {
     "name": "stderr",
     "output_type": "stream",
     "text": [
      "/data/xiayunpeng/anaconda3/envs/BERT/lib/python3.6/site-packages/sklearn/utils/validation.py:72: FutureWarning: Pass shuffle=True, random_state=10 as keyword args. From version 1.0 (renaming of 0.25) passing these as positional arguments will result in an error\n",
      "  \"will result in an error\", FutureWarning)\n"
     ]
    },
    {
     "name": "stdout",
     "output_type": "stream",
     "text": [
      "0.7254640290306914\n",
      "0.7369658637909912\n",
      "0.7318429796875661\n",
      "0.707107408720312\n",
      "0.7082848055416511\n"
     ]
    },
    {
     "name": "stderr",
     "output_type": "stream",
     "text": [
      "/data/xiayunpeng/anaconda3/envs/BERT/lib/python3.6/site-packages/sklearn/utils/validation.py:72: FutureWarning: Pass shuffle=True, random_state=10 as keyword args. From version 1.0 (renaming of 0.25) passing these as positional arguments will result in an error\n",
      "  \"will result in an error\", FutureWarning)\n"
     ]
    },
    {
     "name": "stdout",
     "output_type": "stream",
     "text": [
      "0.7212215311583101\n",
      "0.7343566733210196\n",
      "0.727649980475988\n",
      "0.7033296641106488\n",
      "0.6999959581764535\n"
     ]
    },
    {
     "name": "stderr",
     "output_type": "stream",
     "text": [
      "/data/xiayunpeng/anaconda3/envs/BERT/lib/python3.6/site-packages/sklearn/utils/validation.py:72: FutureWarning: Pass shuffle=True, random_state=10 as keyword args. From version 1.0 (renaming of 0.25) passing these as positional arguments will result in an error\n",
      "  \"will result in an error\", FutureWarning)\n"
     ]
    },
    {
     "name": "stdout",
     "output_type": "stream",
     "text": [
      "0.7320825618547426\n",
      "0.7434320913947399\n",
      "0.7344712599081252\n",
      "0.712419696884892\n",
      "0.7144209155041241\n"
     ]
    },
    {
     "name": "stderr",
     "output_type": "stream",
     "text": [
      "/data/xiayunpeng/anaconda3/envs/BERT/lib/python3.6/site-packages/sklearn/utils/validation.py:72: FutureWarning: Pass shuffle=True, random_state=10 as keyword args. From version 1.0 (renaming of 0.25) passing these as positional arguments will result in an error\n",
      "  \"will result in an error\", FutureWarning)\n"
     ]
    },
    {
     "name": "stdout",
     "output_type": "stream",
     "text": [
      "0.7295974660598616\n",
      "0.7384976087862335\n",
      "0.7349609146688753\n",
      "0.7089765356318837\n",
      "0.7066829997792543\n"
     ]
    },
    {
     "name": "stderr",
     "output_type": "stream",
     "text": [
      "/data/xiayunpeng/anaconda3/envs/BERT/lib/python3.6/site-packages/sklearn/utils/validation.py:72: FutureWarning: Pass shuffle=True, random_state=10 as keyword args. From version 1.0 (renaming of 0.25) passing these as positional arguments will result in an error\n",
      "  \"will result in an error\", FutureWarning)\n"
     ]
    },
    {
     "name": "stdout",
     "output_type": "stream",
     "text": [
      "0.7247183138634352\n",
      "0.7377886403353298\n",
      "0.7284853470424231\n",
      "0.7050573082831147\n",
      "0.7053218379726214\n"
     ]
    }
   ],
   "source": [
    "##老数据带Blastn,训练加结果\n",
    "Auc = []\n",
    "Auc_train = []\n",
    "for typei in range(len(type_name)):\n",
    "    for celli in range(len(cell_name)):\n",
    "        for networki in range(len(network_name)):\n",
    "            if network_name[networki] == \"SVM\":\n",
    "                for i in range(5):\n",
    "                    \n",
    "                    train_emb = pd.read_csv(\"Stacking_result/all_test_KFold/test_\"+type_name[typei]+\"_\"+cell_name[celli]+\"_Kfold\"+str(i)+\".csv\").iloc[:,3]\n",
    "                    train_PSNP = pd.read_csv(\"Stacking_result/all_test_KFold/test_\"+type_name[typei]+\"_\"+cell_name[celli]+\"_Kfold\"+str(i)+\".csv\").iloc[:,4]\n",
    "                    train_PCP = pd.read_csv(\"Stacking_result/all_test_KFold/test_\"+type_name[typei]+\"_\"+cell_name[celli]+\"_Kfold\"+str(i)+\".csv\").iloc[:,8]\n",
    "                    train_DBPF = pd.read_csv(\"Stacking_result/all_test_KFold/test_\"+type_name[typei]+\"_\"+cell_name[celli]+\"_Kfold\"+str(i)+\".csv\").iloc[:,9]\n",
    "                    train_Blastn = pd.read_csv(\"Stacking_result/all_test_KFold/test_\"+type_name[typei]+\"_\"+cell_name[celli]+\"_Kfold\"+str(i)+\".csv\").iloc[:,10]\n",
    "                    testLabel = pd.read_csv(\"Stacking_result/all_test_KFold/test_\"+type_name[typei]+\"_\"+cell_name[celli]+\"_Kfold\"+str(i)+\".csv\").iloc[:,11]\n",
    "                    testData = np.array(pd.DataFrame([train_emb,train_PSNP,train_PCP,train_DBPF,train_Blastn]).T)\n",
    "                    testLabel = np.array(testLabel)\n",
    "                    kf = KFold(5,True,10)\n",
    "                    for j,[train_index, test_index] in enumerate(kf.split(testData)):\n",
    "                        \n",
    "                        X_train = testData[train_index]\n",
    "                        X_test = testData[test_index]\n",
    "                        Y_train = testLabel[train_index]\n",
    "                        Y_test = testLabel[test_index]\n",
    "                        \n",
    "                        model = LogisticRegression()\n",
    "                        clf =model.fit(X_train, Y_train)\n",
    "                        th,_,_,_,_,_,_,acc,mcc,auc = metricsCal.get_train_metrics(clf.decision_function(X_train).reshape(-1),Y_train.reshape(-1))\n",
    "                        Auc_train.append(auc)\n",
    "                        _,_,_,_,_,_, _,_, auc = metricsCal.get_test_metrics(clf.decision_function(X_test).reshape(-1),Y_test.reshape(-1),th)\n",
    "\n",
    "                        Auc.append(auc)\n",
    "                        print(auc)\n",
    "                "
   ]
  },
  {
   "cell_type": "code",
   "execution_count": 57,
   "id": "9c2a727a",
   "metadata": {
    "ExecuteTime": {
     "end_time": "2023-03-21T06:54:40.307824Z",
     "start_time": "2023-03-21T06:54:40.301669Z"
    }
   },
   "outputs": [
    {
     "data": {
      "text/plain": [
       "(0.7935313302572278, 0.793774302807808)"
      ]
     },
     "execution_count": 57,
     "metadata": {},
     "output_type": "execute_result"
    }
   ],
   "source": [
    "np.mean(Auc),np.mean(Auc_train)"
   ]
  },
  {
   "cell_type": "code",
   "execution_count": 58,
   "id": "363d797c",
   "metadata": {
    "ExecuteTime": {
     "end_time": "2023-03-21T06:56:50.805017Z",
     "start_time": "2023-03-21T06:54:40.683898Z"
    }
   },
   "outputs": [
    {
     "name": "stdout",
     "output_type": "stream",
     "text": [
      "0.8331754720015286\n",
      "0.8304090392214094\n",
      "0.8380536698384282\n",
      "0.8344608280354912\n",
      "0.8337433883592849\n",
      "0.8199301789224868\n",
      "0.8292484612176172\n",
      "0.8288790595833041\n",
      "0.8240830776206024\n",
      "0.8149734671196678\n",
      "0.808199079156228\n",
      "0.8008570616541937\n",
      "0.8099504237406182\n",
      "0.8099964481715274\n",
      "0.8065908440609896\n",
      "0.8574692524906554\n",
      "0.8619984526953101\n",
      "0.8618566835236601\n",
      "0.8602979799068803\n",
      "0.8567218655053365\n",
      "0.7784764088701268\n",
      "0.7630944743497817\n",
      "0.7722379777924497\n",
      "0.7706268209264977\n",
      "0.7689639452165242\n",
      "0.7895314506179059\n",
      "0.7951942613685883\n",
      "0.7921863822321399\n",
      "0.7971483352597997\n",
      "0.7875234020072996\n",
      "0.7893490142201971\n",
      "0.7874882998119709\n",
      "0.7885316840531407\n",
      "0.7898312363896213\n",
      "0.78734844344793\n",
      "0.7714147305709145\n",
      "0.7693388703934376\n",
      "0.7709929986128847\n",
      "0.7773060401952001\n",
      "0.7779384531389056\n",
      "0.7167714769585933\n",
      "0.7203828498363678\n",
      "0.7223230903242546\n",
      "0.7230927587503261\n",
      "0.7190056959316687\n",
      "0.7756695011727509\n",
      "0.7869190009228708\n",
      "0.7740554668510409\n",
      "0.7820931714476941\n",
      "0.779785894450784\n",
      "0.7133794006309302\n",
      "0.7141761916021857\n",
      "0.7162765844168618\n",
      "0.7149225282234701\n",
      "0.7130682589338492\n",
      "0.7120368655407552\n",
      "0.7075751696387433\n",
      "0.7196037641219728\n",
      "0.7158461774285575\n",
      "0.7149090188645764\n"
     ]
    }
   ],
   "source": [
    "##老数据不带Blastn,训练加结果\n",
    "Auc = []\n",
    "Auc_train = []\n",
    "for typei in range(len(type_name)):\n",
    "    for celli in range(len(cell_name)):\n",
    "        for networki in range(len(network_name)):\n",
    "            if network_name[networki] == \"SVM\":\n",
    "                for i in range(5):\n",
    "                    train_emb = pd.read_csv(\"Stacking_result/all_train_KFold/train_\"+type_name[typei]+\"_\"+cell_name[celli]+\"_Kfold\"+str(i)+\".csv\").iloc[:,3]\n",
    "                    train_PSNP = pd.read_csv(\"Stacking_result/all_train_KFold/train_\"+type_name[typei]+\"_\"+cell_name[celli]+\"_Kfold\"+str(i)+\".csv\").iloc[:,4]\n",
    "                    train_PCP = pd.read_csv(\"Stacking_result/all_train_KFold/train_\"+type_name[typei]+\"_\"+cell_name[celli]+\"_Kfold\"+str(i)+\".csv\").iloc[:,8]\n",
    "                    train_DBPF = pd.read_csv(\"Stacking_result/all_train_KFold/train_\"+type_name[typei]+\"_\"+cell_name[celli]+\"_Kfold\"+str(i)+\".csv\").iloc[:,9]\n",
    "                    train_Blastn = pd.read_csv(\"Stacking_result/all_train_KFold/train_\"+type_name[typei]+\"_\"+cell_name[celli]+\"_Kfold\"+str(i)+\".csv\").iloc[:,10]\n",
    "                    trainLabel = pd.read_csv(\"Stacking_result/all_train_KFold/train_\"+type_name[typei]+\"_\"+cell_name[celli]+\"_Kfold\"+str(i)+\".csv\").iloc[:,11]\n",
    "\n",
    "                    trainData = np.array(pd.DataFrame([train_emb,train_PSNP,train_PCP,train_DBPF]).T)\n",
    "                    model = LogisticRegression()\n",
    "                    clf =model.fit(trainData, trainLabel)\n",
    "                    th,_,_,_,_,_,_,acc,mcc,auc = metricsCal.get_train_metrics(clf.decision_function(trainData).reshape(-1),np.array(trainLabel).reshape(-1))\n",
    "                    Auc_train.append(auc)\n",
    "                    \n",
    "                    train_emb = pd.read_csv(\"Stacking_result/all_test_KFold/test_\"+type_name[typei]+\"_\"+cell_name[celli]+\"_Kfold\"+str(i)+\".csv\").iloc[:,3]\n",
    "                    train_PSNP = pd.read_csv(\"Stacking_result/all_test_KFold/test_\"+type_name[typei]+\"_\"+cell_name[celli]+\"_Kfold\"+str(i)+\".csv\").iloc[:,4]\n",
    "                    train_PCP = pd.read_csv(\"Stacking_result/all_test_KFold/test_\"+type_name[typei]+\"_\"+cell_name[celli]+\"_Kfold\"+str(i)+\".csv\").iloc[:,8]\n",
    "                    train_DBPF = pd.read_csv(\"Stacking_result/all_test_KFold/test_\"+type_name[typei]+\"_\"+cell_name[celli]+\"_Kfold\"+str(i)+\".csv\").iloc[:,9]\n",
    "                    train_Blastn = pd.read_csv(\"Stacking_result/all_test_KFold/test_\"+type_name[typei]+\"_\"+cell_name[celli]+\"_Kfold\"+str(i)+\".csv\").iloc[:,10]\n",
    "                    testLabel = pd.read_csv(\"Stacking_result/all_test_KFold/test_\"+type_name[typei]+\"_\"+cell_name[celli]+\"_Kfold\"+str(i)+\".csv\").iloc[:,11]\n",
    "                    testData = np.array(pd.DataFrame([train_emb,train_PSNP,train_PCP,train_DBPF]).T)\n",
    "                    \n",
    "                    _,_,_,_,_,_, _,_, auc = metricsCal.get_test_metrics(clf.decision_function(testData).reshape(-1),\n",
    "                                                                          np.array(testLabel).reshape(-1),th)\n",
    "\n",
    "                    Auc.append(auc)\n",
    "                    print(auc)"
   ]
  },
  {
   "cell_type": "code",
   "execution_count": 59,
   "id": "8349713a",
   "metadata": {
    "ExecuteTime": {
     "end_time": "2023-03-21T06:56:51.226862Z",
     "start_time": "2023-03-21T06:56:51.220909Z"
    }
   },
   "outputs": [
    {
     "data": {
      "text/plain": [
       "(0.7814551804724797, 0.8272232907546385)"
      ]
     },
     "execution_count": 59,
     "metadata": {},
     "output_type": "execute_result"
    }
   ],
   "source": [
    "np.mean(Auc),np.mean(Auc_train)"
   ]
  },
  {
   "cell_type": "markdown",
   "id": "80b73928",
   "metadata": {},
   "source": [
    "# 开始生成集成学习的结果"
   ]
  },
  {
   "cell_type": "code",
   "execution_count": 71,
   "id": "744aaadb",
   "metadata": {
    "ExecuteTime": {
     "end_time": "2023-03-22T07:26:58.060666Z",
     "start_time": "2023-03-22T07:24:21.961514Z"
    }
   },
   "outputs": [],
   "source": [
    "#软投票\n",
    "type_name = [\"FullTranscript\",\"matureRNA\"]\n",
    "cell_name = [\"A549\",\"CD8T\",\"Hek293_abacm\",\"Hek293_sysy\",\"HeLa\",\"MOLM13\"]\n",
    "\n",
    "Param_SoftVoting = np.zeros(60*6).reshape(60,6)\n",
    "\n",
    "row_name = []\n",
    "rows = -1\n",
    "for typei in range(len(type_name)):\n",
    "    for celli in range(len(cell_name)):\n",
    "        true = np.array(pd.read_csv(\"Result/\"+feature_name[0]+\"/\"+type_name[typei]+\"_\"+cell_name[celli]+\"val.csv\").iloc[:,1])\n",
    "        testLabel = np.array(pd.read_csv(\"Result/\"+feature_name[0]+\"/\"+type_name[typei]+\"_\"+cell_name[celli]+\"test_result.csv\").iloc[:,1])\n",
    "        trainLabel = pd.read_csv(\"Result/\"+feature_name[0]+\"/\"+type_name[typei]+\"_\"+cell_name[celli]+\"val.csv\").iloc[:,1]\n",
    "        \n",
    "        pred_1 = pd.read_csv(\"Result/\"+feature_name[0]+\"/\"+type_name[typei]+\"_\"+cell_name[celli]+\"val.csv\").iloc[:,2]\n",
    "        test_1 = pd.read_csv(\"Result/\"+feature_name[0]+\"/\"+type_name[typei]+\"_\"+cell_name[celli]+\"test_result.csv\").iloc[:,2:7]\n",
    "        \n",
    "        pred_2 = pd.read_csv(\"Result/\"+feature_name[1]+\"/\"+type_name[typei]+\"_\"+cell_name[celli]+\"val.csv\").iloc[:,2]\n",
    "        test_2 = pd.read_csv(\"Result/\"+feature_name[1]+\"/\"+type_name[typei]+\"_\"+cell_name[celli]+\"test_result.csv\").iloc[:,2:7]\n",
    "        \n",
    "        pred_3 = pd.read_csv(\"Result/\"+feature_name[2]+\"/\"+type_name[typei]+\"_\"+cell_name[celli]+\"val.csv\").iloc[:,2]\n",
    "        test_3 = pd.read_csv(\"Result/\"+feature_name[2]+\"/\"+type_name[typei]+\"_\"+cell_name[celli]+\"test_result.csv\").iloc[:,2:7]\n",
    "        \n",
    "        pred_4 = pd.read_csv(\"Result/\"+feature_name[3]+\"/\"+type_name[typei]+\"_\"+cell_name[celli]+\"val.csv\").iloc[:,2]\n",
    "        test_4 = pd.read_csv(\"Result/\"+feature_name[3]+\"/\"+type_name[typei]+\"_\"+cell_name[celli]+\"test_result.csv\").iloc[:,2:7]\n",
    "        \n",
    "        test_Blastn = pd.read_csv(\"Stacking_result/all_test_KFold/test_\"+type_name[typei]+\"_\"+cell_name[celli]+\"_Kfold0\"+\".csv\").iloc[:,10]\n",
    "        \n",
    "        for networki in range(len(network_name)):\n",
    "            if network_name[networki] == \"SVM\":\n",
    "                for i in range(5):\n",
    "                    rows+=1\n",
    "                    row_name.append([type_name[typei]+\"_\"+cell_name[celli]+\"_Kfold_\"+str(i)])\n",
    "                    trainData = np.array(pd.DataFrame([pred_1,pred_2,pred_3,pred_4]).T)\n",
    "                    testData = np.array(pd.DataFrame([test_1.iloc[:,i],test_2.iloc[:,i],test_3.iloc[:,i],test_4.iloc[:,i]]).T)\n",
    "                    th,_,_,_,_,_,_,_,_,_ = metricsCal.get_train_metrics(np.mean(trainData,axis=1),trainLabel)\n",
    "                    _,_,_,_,sen,spe, acc,mcc, auc = metricsCal.get_test_metrics(np.mean(testData,axis=1),testLabel.reshape(-1),th)\n",
    "                    Param_SoftVoting[typei*30+celli*5+i][0] = sen\n",
    "                    Param_SoftVoting[typei*30+celli*5+i][1] = spe\n",
    "                    Param_SoftVoting[typei*30+celli*5+i][2] = acc\n",
    "                    Param_SoftVoting[typei*30+celli*5+i][3] = mcc\n",
    "                    Param_SoftVoting[typei*30+celli*5+i][4] = auc\n",
    "                    Param_SoftVoting[typei*30+celli*5+i][5] = th"
   ]
  },
  {
   "cell_type": "code",
   "execution_count": 79,
   "id": "e86e1e89",
   "metadata": {
    "ExecuteTime": {
     "end_time": "2023-03-22T07:30:33.546496Z",
     "start_time": "2023-03-22T07:30:33.464441Z"
    }
   },
   "outputs": [],
   "source": [
    "header_name = [\"name\",'Sen', 'Spe', 'Acc', 'mcc', 'AUC','th']\n",
    "pd.DataFrame(np.append(np.array(row_name).reshape(-1,1),Param_SoftVoting,axis=1)).to_csv(\"Table/Soft_Voting_result.csv\",header=header_name,index=0)"
   ]
  },
  {
   "cell_type": "code",
   "execution_count": 81,
   "id": "72e108c2",
   "metadata": {
    "ExecuteTime": {
     "end_time": "2023-03-22T07:41:57.204588Z",
     "start_time": "2023-03-22T07:41:57.187465Z"
    }
   },
   "outputs": [],
   "source": [
    "def para4(x1, x2, x3, x4, label, th=0.5):\n",
    "    num_pos = np.int(np.sum(label))\n",
    "    num_neg = len(label)-num_pos\n",
    "    \n",
    "    max1 = float(max(x1))\n",
    "    min1 = float(min(x1))\n",
    "    \n",
    "    max2 = float(max(x2))\n",
    "    min2 = float(min(x2))\n",
    "    \n",
    "    max3 = float(max(x3))\n",
    "    min3 = float(min(x3))\n",
    "    \n",
    "    max4 = float(max(x4))\n",
    "    min4 = float(min(x4))\n",
    "\n",
    "    max6 = max(max1,max2,max3,max4)\n",
    "    min6 = min(min1,min2,min3,min4)\n",
    "    \n",
    "    pred =[]\n",
    "    for j in range(len(x1)):\n",
    "        temp1l = 0\n",
    "        if x1[j]>th:\n",
    "            temp1l+=1\n",
    "        else:\n",
    "            temp1l-=1\n",
    "        if x2[j]>th:\n",
    "            temp1l+=1\n",
    "        else:\n",
    "            temp1l-=1\n",
    "        if x3[j]>th:\n",
    "            temp1l+=1\n",
    "        else:\n",
    "            temp1l-=1\n",
    "        if x4[j]>th:\n",
    "            temp1l+=1\n",
    "        else:\n",
    "            temp1l-=1\n",
    "        \n",
    "        if temp1l>0:\n",
    "            pred.append(1)\n",
    "        elif temp1l<0:\n",
    "            pred.append(0)\n",
    "        elif np.mean([x1[j],x2[j],x3[j],x4[j]])>th:\n",
    "            pred.append(1)\n",
    "        else:\n",
    "            pred.append(0)\n",
    "    TN, FN, FP, TP, Sen, Spe, Acc, mcc, AUC = metricsCal.get_test_metrics(np.array(pred),label,th)\n",
    "    return Sen, Spe, Acc, mcc, AUC"
   ]
  },
  {
   "cell_type": "code",
   "execution_count": 82,
   "id": "a65c8530",
   "metadata": {
    "ExecuteTime": {
     "end_time": "2023-03-22T07:45:35.949595Z",
     "start_time": "2023-03-22T07:45:35.918760Z"
    }
   },
   "outputs": [],
   "source": [
    "def roc4(x1, x2, x3, x4, label, iter = 500, low = 0.01 , high = 0.99):\n",
    "    num_pos = np.int(np.sum(label))\n",
    "    num_neg = len(label)-num_pos\n",
    "    \n",
    "    max1 = float(max(x1))\n",
    "    min1 = float(min(x1))\n",
    "    \n",
    "    max2 = float(max(x2))\n",
    "    min2 = float(min(x2))\n",
    "    \n",
    "    max3 = float(max(x3))\n",
    "    min3 = float(min(x3))\n",
    "    \n",
    "    max4 = float(max(x4))\n",
    "    min4 = float(min(x4))\n",
    "    \n",
    "    max6 = max(max1,max2,max3,max4)\n",
    "    min6 = min(min1,min2,min3,min4)\n",
    "    \n",
    "    TPR = []\n",
    "    FPR = []\n",
    "    \n",
    "    for i in range(iter+1):\n",
    "        if i == 0 or (i/iter > low and i/iter < high) or i == iter:\n",
    "            bool_ = min6+i*(max6-min6)/iter\n",
    "            tp = 0\n",
    "            tn = 0\n",
    "            for j in range(len(x1)):\n",
    "                temp1l = 0\n",
    "                if x1[j]>bool_:\n",
    "                    temp1l+=1\n",
    "                else:\n",
    "                    temp1l-=1\n",
    "                if x2[j]>bool_:\n",
    "                    temp1l+=1\n",
    "                else:\n",
    "                    temp1l-=1\n",
    "                if x3[j]>bool_:\n",
    "                    temp1l+=1\n",
    "                else:\n",
    "                    temp1l-=1\n",
    "                if x4[j]>bool_:\n",
    "                    temp1l+=1\n",
    "                else:\n",
    "                    temp1l-=1\n",
    "                \n",
    "                if temp1l>0 and label[j]==1:\n",
    "                    tp += 1\n",
    "                elif temp1l<0 and label[j]==0:\n",
    "                    tn += 1\n",
    "                elif np.mean([x1[j],x2[j],x3[j],x4[j]])>bool_ and label[j]==1:\n",
    "                    tp += 1\n",
    "                elif np.mean([x1[j],x2[j],x3[j],x4[j]])<bool_ and label[j]==0:\n",
    "                    tn += 1\n",
    "            tpr_ = tp/num_pos\n",
    "            fpr_ = 1- tn/num_neg\n",
    "            TPR.append(tpr_)\n",
    "            FPR.append(fpr_)\n",
    "    area = 0\n",
    "    for i in range(len(TPR)-1):\n",
    "        temp = (-FPR[i+1]+FPR[i])*(TPR[i]+TPR[i+1])/2\n",
    "        area += temp \n",
    "    return area"
   ]
  },
  {
   "cell_type": "code",
   "execution_count": 83,
   "id": "9da544be",
   "metadata": {
    "ExecuteTime": {
     "end_time": "2023-03-22T18:21:43.390769Z",
     "start_time": "2023-03-22T07:49:42.026973Z"
    }
   },
   "outputs": [],
   "source": [
    "#硬投票\n",
    "type_name = [\"FullTranscript\",\"matureRNA\"]\n",
    "cell_name = [\"A549\",\"CD8T\",\"Hek293_abacm\",\"Hek293_sysy\",\"HeLa\",\"MOLM13\"]\n",
    "\n",
    "Param_HardVoting = np.zeros(60*6).reshape(60,6)\n",
    "\n",
    "row_name = []\n",
    "rows = -1\n",
    "for typei in range(len(type_name)):\n",
    "    for celli in range(len(cell_name)):\n",
    "        true = np.array(pd.read_csv(\"Result/\"+feature_name[0]+\"/\"+type_name[typei]+\"_\"+cell_name[celli]+\"val.csv\").iloc[:,1])\n",
    "        testLabel = np.array(pd.read_csv(\"Result/\"+feature_name[0]+\"/\"+type_name[typei]+\"_\"+cell_name[celli]+\"test_result.csv\").iloc[:,1])\n",
    "        \n",
    "        test_1 = pd.read_csv(\"Result/\"+feature_name[0]+\"/\"+type_name[typei]+\"_\"+cell_name[celli]+\"test_result.csv\").iloc[:,2:7]\n",
    "        \n",
    "        test_2 = pd.read_csv(\"Result/\"+feature_name[1]+\"/\"+type_name[typei]+\"_\"+cell_name[celli]+\"test_result.csv\").iloc[:,2:7]\n",
    "        \n",
    "        test_3 = pd.read_csv(\"Result/\"+feature_name[2]+\"/\"+type_name[typei]+\"_\"+cell_name[celli]+\"test_result.csv\").iloc[:,2:7]\n",
    "        \n",
    "        test_4 = pd.read_csv(\"Result/\"+feature_name[3]+\"/\"+type_name[typei]+\"_\"+cell_name[celli]+\"test_result.csv\").iloc[:,2:7]\n",
    "        \n",
    "        test_Blastn = pd.read_csv(\"Stacking_result/all_test_KFold/test_\"+type_name[typei]+\"_\"+cell_name[celli]+\"_Kfold0\"+\".csv\").iloc[:,10]\n",
    "        \n",
    "        for networki in range(len(network_name)):\n",
    "            if network_name[networki] == \"SVM\":\n",
    "                for i in range(5):\n",
    "                    rows+=1\n",
    "                    row_name.append([type_name[typei]+\"_\"+cell_name[celli]+\"_Kfold_\"+str(i)])\n",
    "                    #testData = np.array(pd.DataFrame([test_1.iloc[:,i],test_2.iloc[:,i],test_3.iloc[:,i],test_4.iloc[:,i]]).T)\n",
    "                    \n",
    "                    #_,_,_,_,sen,spe, acc,mcc, _ = metricsCal.get_test_metrics(np.mean(testData,axis=1),testLabel.reshape(-1),th)\n",
    "                    sen,spe,acc,mcc,_ = para4(test_1.iloc[:,i],test_2.iloc[:,i],test_3.iloc[:,i],test_4.iloc[:,i],testLabel)\n",
    "                    auc = roc4(test_1.iloc[:,i],test_2.iloc[:,i],test_3.iloc[:,i],test_4.iloc[:,i],testLabel)\n",
    "                    \n",
    "                    Param_HardVoting[typei*30+celli*5+i][0] = sen\n",
    "                    Param_HardVoting[typei*30+celli*5+i][1] = spe\n",
    "                    Param_HardVoting[typei*30+celli*5+i][2] = acc\n",
    "                    Param_HardVoting[typei*30+celli*5+i][3] = mcc\n",
    "                    Param_HardVoting[typei*30+celli*5+i][4] = auc\n",
    "                    Param_HardVoting[typei*30+celli*5+i][5] = 0.5"
   ]
  },
  {
   "cell_type": "code",
   "execution_count": 84,
   "id": "f5bdc09a",
   "metadata": {
    "ExecuteTime": {
     "end_time": "2023-03-22T18:21:44.864497Z",
     "start_time": "2023-03-22T18:21:44.539955Z"
    }
   },
   "outputs": [],
   "source": [
    "header_name = [\"name\",'Sen', 'Spe', 'Acc', 'mcc', 'AUC','th']\n",
    "pd.DataFrame(np.append(np.array(row_name).reshape(-1,1),Param_SoftVoting,axis=1)).to_csv(\"Table/Hard_Voting_result.csv\",header=header_name,index=0)"
   ]
  },
  {
   "cell_type": "code",
   "execution_count": 85,
   "id": "ebc0d0e8",
   "metadata": {
    "ExecuteTime": {
     "end_time": "2023-03-22T18:21:45.041446Z",
     "start_time": "2023-03-22T18:21:45.034233Z"
    }
   },
   "outputs": [
    {
     "data": {
      "text/plain": [
       "array([0.87899331, 0.87555326, 0.87962725, 0.87812886, 0.8780614 ,\n",
       "       0.86534171, 0.86943568, 0.86515172, 0.86741532, 0.87185431,\n",
       "       0.84998411, 0.85127399, 0.85207498, 0.85118329, 0.85010581,\n",
       "       0.90212983, 0.90165044, 0.90177258, 0.90313774, 0.90280707,\n",
       "       0.81390413, 0.81521987, 0.81460369, 0.81391513, 0.8120204 ,\n",
       "       0.83093303, 0.8357769 , 0.83329443, 0.83157517, 0.83147743,\n",
       "       0.84680537, 0.84378003, 0.84170046, 0.84839925, 0.84547885,\n",
       "       0.82819033, 0.83045691, 0.82937324, 0.82991855, 0.82937095,\n",
       "       0.77655944, 0.77579946, 0.77320078, 0.77370929, 0.7793263 ,\n",
       "       0.835113  , 0.84491586, 0.83615444, 0.843857  , 0.83694233,\n",
       "       0.76812687, 0.77047337, 0.7686218 , 0.76876583, 0.76514344,\n",
       "       0.76170644, 0.76456007, 0.77151011, 0.7657982 , 0.76165394])"
      ]
     },
     "execution_count": 85,
     "metadata": {},
     "output_type": "execute_result"
    }
   ],
   "source": [
    "Param_HardVoting[:,-2]"
   ]
  },
  {
   "cell_type": "code",
   "execution_count": 86,
   "id": "2bff3ec4",
   "metadata": {
    "ExecuteTime": {
     "end_time": "2023-03-22T18:21:45.194038Z",
     "start_time": "2023-03-22T18:21:45.187985Z"
    }
   },
   "outputs": [
    {
     "data": {
      "text/plain": [
       "0.8307302454477582"
      ]
     },
     "execution_count": 86,
     "metadata": {},
     "output_type": "execute_result"
    }
   ],
   "source": [
    "np.mean(Param_HardVoting[:,-2])"
   ]
  },
  {
   "cell_type": "code",
   "execution_count": null,
   "id": "db358f2d",
   "metadata": {},
   "outputs": [],
   "source": []
  }
 ],
 "metadata": {
  "kernelspec": {
   "display_name": "Python [conda env:BERT]",
   "language": "python",
   "name": "conda-env-BERT-py"
  },
  "language_info": {
   "codemirror_mode": {
    "name": "ipython",
    "version": 3
   },
   "file_extension": ".py",
   "mimetype": "text/x-python",
   "name": "python",
   "nbconvert_exporter": "python",
   "pygments_lexer": "ipython3",
   "version": "3.6.8"
  },
  "toc": {
   "base_numbering": 1,
   "nav_menu": {},
   "number_sections": true,
   "sideBar": true,
   "skip_h1_title": false,
   "title_cell": "Table of Contents",
   "title_sidebar": "Contents",
   "toc_cell": false,
   "toc_position": {},
   "toc_section_display": true,
   "toc_window_display": false
  },
  "varInspector": {
   "cols": {
    "lenName": 16,
    "lenType": 16,
    "lenVar": 40
   },
   "kernels_config": {
    "python": {
     "delete_cmd_postfix": "",
     "delete_cmd_prefix": "del ",
     "library": "var_list.py",
     "varRefreshCmd": "print(var_dic_list())"
    },
    "r": {
     "delete_cmd_postfix": ") ",
     "delete_cmd_prefix": "rm(",
     "library": "var_list.r",
     "varRefreshCmd": "cat(var_dic_list()) "
    }
   },
   "types_to_exclude": [
    "module",
    "function",
    "builtin_function_or_method",
    "instance",
    "_Feature"
   ],
   "window_display": false
  }
 },
 "nbformat": 4,
 "nbformat_minor": 5
}
