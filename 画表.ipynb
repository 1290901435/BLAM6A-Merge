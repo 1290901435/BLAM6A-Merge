{
 "cells": [
  {
   "cell_type": "markdown",
   "id": "63574596",
   "metadata": {},
   "source": [
    "# 表1:不同特征，不同网络顺序构表"
   ]
  },
  {
   "cell_type": "code",
   "execution_count": 216,
   "id": "2643659d",
   "metadata": {
    "ExecuteTime": {
     "end_time": "2023-03-10T06:33:05.606330Z",
     "start_time": "2023-03-10T06:33:05.601591Z"
    }
   },
   "outputs": [],
   "source": [
    "import pandas as pd\n",
    "import numpy as np\n",
    "import seaborn as sns\n",
    "import matplotlib as plt"
   ]
  },
  {
   "cell_type": "code",
   "execution_count": 217,
   "id": "7b5cea2c",
   "metadata": {
    "ExecuteTime": {
     "end_time": "2023-03-10T06:33:06.752906Z",
     "start_time": "2023-03-10T06:33:06.674051Z"
    }
   },
   "outputs": [],
   "source": [
    "AUC = np.array(pd.read_csv(\"out/All_Parameter.csv\").iloc[:,-1])\n",
    "name = np.array(pd.read_csv(\"out/All_Parameter.csv\").iloc[:,0])"
   ]
  },
  {
   "cell_type": "code",
   "execution_count": 218,
   "id": "e7a42515",
   "metadata": {
    "ExecuteTime": {
     "end_time": "2023-03-10T06:33:07.804338Z",
     "start_time": "2023-03-10T06:33:07.798842Z"
    }
   },
   "outputs": [],
   "source": [
    "def get_normal_avg(x):\n",
    "    n = 0 \n",
    "    sum_x = 0\n",
    "    for i in x:\n",
    "        if i>0.55:\n",
    "            n+=1\n",
    "            sum_x+=i\n",
    "    return sum_x/n"
   ]
  },
  {
   "cell_type": "code",
   "execution_count": 219,
   "id": "bbd05576",
   "metadata": {
    "ExecuteTime": {
     "end_time": "2023-03-10T06:33:08.653832Z",
     "start_time": "2023-03-10T06:33:08.631236Z"
    }
   },
   "outputs": [],
   "source": [
    "#对KFold取均值\n",
    "name_no_fold = []\n",
    "AUC_no_fold = []\n",
    "for i in range(len(name)):\n",
    "    if i%5==0:\n",
    "        AUC_no_fold.append(get_normal_avg(AUC[i:i+5]))\n",
    "        name_no_fold.append(name[i])"
   ]
  },
  {
   "cell_type": "code",
   "execution_count": 220,
   "id": "adef898c",
   "metadata": {
    "ExecuteTime": {
     "end_time": "2023-03-10T06:33:10.128959Z",
     "start_time": "2023-03-10T06:33:10.122988Z"
    }
   },
   "outputs": [],
   "source": [
    "data = np.zeros(len(AUC_no_fold)).reshape(9,-1)\n",
    "for i in range(9):\n",
    "    for j in range(12):\n",
    "        data[i][3*j] = AUC_no_fold[27*j+3*i]\n",
    "        data[i][3*j+1] = AUC_no_fold[27*j+3*i+1]\n",
    "        data[i][3*j+2] = AUC_no_fold[27*j+3*i+2]"
   ]
  },
  {
   "cell_type": "code",
   "execution_count": 221,
   "id": "33fe3c68",
   "metadata": {
    "ExecuteTime": {
     "end_time": "2023-03-10T06:33:10.769426Z",
     "start_time": "2023-03-10T06:33:10.759904Z"
    }
   },
   "outputs": [
    {
     "data": {
      "text/plain": [
       "array([[0.78838817, 0.80826815, 0.78285231, 0.78010394, 0.80342548,\n",
       "        0.76815927, 0.7618227 , 0.78399216, 0.75871705, 0.84136662,\n",
       "        0.83991369, 0.83693945, 0.72943121, 0.74107235, 0.71997396,\n",
       "        0.75141061, 0.76748734, 0.74807504, 0.7617223 , 0.76741106,\n",
       "        0.75681669, 0.74799743, 0.75722394, 0.7457834 , 0.71100302,\n",
       "        0.71027925, 0.7142273 , 0.78053222, 0.7747354 , 0.776799  ,\n",
       "        0.69274746, 0.69823034, 0.69039816, 0.6990949 , 0.70339161,\n",
       "        0.70205372],\n",
       "       [0.79748469, 0.81324299, 0.80684091, 0.78109838, 0.80442568,\n",
       "        0.79976773, 0.76974595, 0.78386701, 0.77828882, 0.83653322,\n",
       "        0.84165487, 0.83887311, 0.73356722, 0.75243357, 0.7432468 ,\n",
       "        0.76160331, 0.77096147, 0.76641833, 0.76389214, 0.77027251,\n",
       "        0.7676088 , 0.74985302, 0.76056659, 0.75677953, 0.71443954,\n",
       "        0.71019066, 0.71292529, 0.77815594, 0.77009305, 0.77678844,\n",
       "        0.6961202 , 0.69885447, 0.69899394, 0.70114397, 0.70368045,\n",
       "        0.70487511],\n",
       "       [0.80891507, 0.82572608, 0.81809021, 0.81025872, 0.81910992,\n",
       "        0.81239361, 0.78782997, 0.79768167, 0.79277858, 0.8417739 ,\n",
       "        0.84584559, 0.84202825, 0.75507361, 0.77538363, 0.75695669,\n",
       "        0.77163985, 0.78211711, 0.77117789, 0.76933623, 0.78002539,\n",
       "        0.77609916, 0.7599723 , 0.766153  , 0.76520827, 0.71081147,\n",
       "        0.71153011, 0.7148202 , 0.77370796, 0.76863234, 0.77291941,\n",
       "        0.69957716, 0.70686246, 0.70161623, 0.70489555, 0.71011127,\n",
       "        0.70756674],\n",
       "       [0.79545216, 0.79558726, 0.79497526, 0.77974669, 0.78008049,\n",
       "        0.77967738, 0.77923505, 0.77932358, 0.7798715 , 0.85006294,\n",
       "        0.84858089, 0.85053108, 0.72613937, 0.73209417, 0.73080587,\n",
       "        0.75699603, 0.75581467, 0.75514867, 0.76337934, 0.76513726,\n",
       "        0.76408505, 0.74957379, 0.75110695, 0.7504579 , 0.71961722,\n",
       "        0.71941718, 0.72030897, 0.78717503, 0.78748499, 0.78536409,\n",
       "        0.69094842, 0.69321503, 0.6914362 , 0.70277221, 0.7022585 ,\n",
       "        0.70515882],\n",
       "       [0.79629092, 0.79618094, 0.79774725, 0.77991871, 0.78231918,\n",
       "        0.78514416, 0.76233159, 0.76308844, 0.77000766, 0.83122693,\n",
       "        0.83047958, 0.83699847, 0.72896259, 0.72957586, 0.73427126,\n",
       "        0.75265855, 0.75357596, 0.75644771, 0.76553345, 0.76518609,\n",
       "        0.76437005, 0.75130062, 0.75171989, 0.75070374, 0.71248174,\n",
       "        0.70869882, 0.71109354, 0.76733481, 0.77292394, 0.77376288,\n",
       "        0.69687548, 0.69684472, 0.69546019, 0.69725933, 0.69873554,\n",
       "        0.69536018],\n",
       "       [0.69856579, 0.69964701, 0.69662896, 0.67909768, 0.69955462,\n",
       "        0.69174725, 0.67730601, 0.68856093, 0.6878062 , 0.70828352,\n",
       "        0.71495501, 0.70131945, 0.63384579, 0.67803212, 0.67464618,\n",
       "        0.66539116, 0.67750698, 0.67559501, 0.6198587 , 0.64072016,\n",
       "        0.64058083, 0.62081695, 0.6384586 , 0.63850681, 0.56388371,\n",
       "        0.5662393 , 0.56762529, 0.56781853, 0.57074951, 0.56454026,\n",
       "        0.60453352, 0.61738777, 0.61531926, 0.56335615, 0.56810643,\n",
       "        0.56325912],\n",
       "       [0.71832908, 0.73336685, 0.73339971, 0.70777969, 0.72483296,\n",
       "        0.72631444, 0.73050444, 0.7397825 , 0.73912133, 0.76764836,\n",
       "        0.7791964 , 0.78434752, 0.68320543, 0.6815558 , 0.68786674,\n",
       "        0.70080932, 0.70928417, 0.70799393, 0.66286149, 0.66948415,\n",
       "        0.6679617 , 0.65853521, 0.66140165, 0.6654242 , 0.67951455,\n",
       "        0.67888135, 0.68174871, 0.70980447, 0.72327608, 0.7270076 ,\n",
       "        0.61459211, 0.6171068 , 0.61781902, 0.64958003, 0.64624475,\n",
       "        0.64769964],\n",
       "       [0.78105653, 0.7818774 , 0.78263782, 0.77823208, 0.78153258,\n",
       "        0.78083392, 0.76144176, 0.76585318, 0.76968191, 0.78705496,\n",
       "        0.79824109, 0.79843251, 0.74342713, 0.75295996, 0.75140229,\n",
       "        0.75611858, 0.75968392, 0.76247186, 0.71454271, 0.71223994,\n",
       "        0.71347249, 0.70784232, 0.70760178, 0.70937001, 0.64627162,\n",
       "        0.64966431, 0.65752668, 0.67242588, 0.67623843, 0.67703198,\n",
       "        0.67330337, 0.67794148, 0.67682434, 0.64231741, 0.64813807,\n",
       "        0.64848611],\n",
       "       [0.80184468, 0.81253555, 0.81200651, 0.78981428, 0.80121703,\n",
       "        0.80079484, 0.7818045 , 0.78683785, 0.78394524, 0.83465451,\n",
       "        0.8398729 , 0.8372998 , 0.74420041, 0.7546323 , 0.75132501,\n",
       "        0.76071907, 0.77191801, 0.76621623, 0.76354282, 0.77002323,\n",
       "        0.76938793, 0.75362424, 0.76257156, 0.75802313, 0.71125717,\n",
       "        0.70863448, 0.71059286, 0.76718427, 0.76681689, 0.76508838,\n",
       "        0.69713039, 0.70631227, 0.69786683, 0.69728511, 0.70186681,\n",
       "        0.70074498]])"
      ]
     },
     "execution_count": 221,
     "metadata": {},
     "output_type": "execute_result"
    }
   ],
   "source": [
    "data"
   ]
  },
  {
   "cell_type": "code",
   "execution_count": 229,
   "id": "f78b05b2",
   "metadata": {
    "ExecuteTime": {
     "end_time": "2023-03-10T06:35:04.622589Z",
     "start_time": "2023-03-10T06:35:04.618803Z"
    }
   },
   "outputs": [],
   "source": [
    "row_name = [\"binary\",\"NCPA\",\"emb\",\"PSNP\",\"ENAC\",\"PseDNC\",\"EIIP\",\"PCP\",\"DBPF\"]"
   ]
  },
  {
   "cell_type": "code",
   "execution_count": 223,
   "id": "44589f71",
   "metadata": {
    "ExecuteTime": {
     "end_time": "2023-03-10T06:33:21.546829Z",
     "start_time": "2023-03-10T06:33:21.539504Z"
    }
   },
   "outputs": [],
   "source": [
    "header_name=[]\n",
    "for i in range(12):\n",
    "    header_name.append(name_no_fold[27*i][:-8])\n",
    "    header_name.append(name_no_fold[27*i+1][:-8])\n",
    "    header_name.append(name_no_fold[27*i+2][:-8])"
   ]
  },
  {
   "cell_type": "code",
   "execution_count": 224,
   "id": "c91c26ef",
   "metadata": {
    "ExecuteTime": {
     "end_time": "2023-03-10T06:33:30.204422Z",
     "start_time": "2023-03-10T06:33:30.080795Z"
    }
   },
   "outputs": [],
   "source": [
    "pd.DataFrame(np.append(np.array(header_name).reshape(-1,1),data.T,axis=1)).to_csv(\"Table/fea_net_cell.csv\",header=row_name,index=None)"
   ]
  },
  {
   "cell_type": "code",
   "execution_count": 225,
   "id": "ccba4e10",
   "metadata": {
    "ExecuteTime": {
     "end_time": "2023-03-10T06:33:38.152147Z",
     "start_time": "2023-03-10T06:33:38.144260Z"
    }
   },
   "outputs": [],
   "source": [
    "AUC_no_cell = np.zeros(9*6).reshape(9,6)\n",
    "for i in range(9):\n",
    "    for j in range(3):\n",
    "        AUC_no_cell[i][j] = (data[i][j]+data[i][j+3]+data[i][j+6]+data[i][j+9]+data[i][j+12]+data[i][j+15])/6\n",
    "        AUC_no_cell[i][j+3] = (data[i][j+18]+data[i][j+21]+data[i][j+24]+data[i][j+27]+data[i][j+30]+data[i][j+33])/6"
   ]
  },
  {
   "cell_type": "code",
   "execution_count": 232,
   "id": "08970a1b",
   "metadata": {
    "ExecuteTime": {
     "end_time": "2023-03-10T06:35:09.914355Z",
     "start_time": "2023-03-10T06:35:09.906031Z"
    }
   },
   "outputs": [],
   "source": [
    "pd.DataFrame(np.append(np.array(row_name).reshape(-1,1),AUC_no_cell,axis=1)).to_csv(\"Table/feature_network.csv\",header = header_name,index=0)"
   ]
  },
  {
   "cell_type": "code",
   "execution_count": 231,
   "id": "0511c4a2",
   "metadata": {
    "ExecuteTime": {
     "end_time": "2023-03-10T06:35:08.604736Z",
     "start_time": "2023-03-10T06:35:08.600850Z"
    }
   },
   "outputs": [],
   "source": [
    "header_name = [\"#\",\"FullTranscript_Self-Attention+BiLSTM\",\"FullTranscript_BILSTM+Self-Attention\",\"FullTranscript_BILSTM\",\n",
    "              \"matureRNA_Self-Attention+BiLSTM\",\"matureRNA_BILSTM+Self-Attention\",\"matureRNA_BILSTM\"]"
   ]
  },
  {
   "cell_type": "markdown",
   "id": "acf6ed89",
   "metadata": {},
   "source": [
    "# 表2:不同特征，不同模式构表"
   ]
  },
  {
   "cell_type": "code",
   "execution_count": 23,
   "id": "dac6d7a2",
   "metadata": {
    "ExecuteTime": {
     "end_time": "2023-03-07T13:44:08.139767Z",
     "start_time": "2023-03-07T13:44:08.129246Z"
    }
   },
   "outputs": [],
   "source": [
    "AUC_no_cell = np.array([[0.78044989, 0.7967157 , 0.77302184, 0.73554214, 0.74163047,\n",
    "        0.73500879],\n",
    "       [0.78537678, 0.79877831, 0.79591146, 0.73711679, 0.73963639,\n",
    "        0.74029554],\n",
    "       [0.7998955 , 0.8121221 , 0.80273764, 0.7384296 , 0.74618843,\n",
    "        0.74513795],\n",
    "       [0.78495357, 0.78453728, 0.78368283, 0.73742559, 0.73868289,\n",
    "        0.7385597 ],\n",
    "       [0.77959792, 0.77976204, 0.78403731, 0.7354851 , 0.73531707,\n",
    "        0.73639035],\n",
    "       [0.69802114, 0.70266828, 0.69488115, 0.60122892, 0.60597871,\n",
    "        0.60233149],\n",
    "       [0.72576409, 0.7335714 , 0.73330189, 0.666836  , 0.66999631,\n",
    "        0.67003306],\n",
    "       [0.77498507, 0.77857799, 0.7782328 , 0.68365315, 0.68647034,\n",
    "        0.68830622],\n",
    "       [0.79089841, 0.79757488, 0.79763699, 0.73664117, 0.74011017,\n",
    "        0.73840446]])"
   ]
  },
  {
   "cell_type": "code",
   "execution_count": 24,
   "id": "1ac68654",
   "metadata": {
    "ExecuteTime": {
     "end_time": "2023-03-07T13:45:36.724915Z",
     "start_time": "2023-03-07T13:45:36.719694Z"
    }
   },
   "outputs": [],
   "source": [
    "##仅仅选取LSTM+Self_Attention作为参考\n",
    "fea_result = np.zeros(9*2).reshape(9,2)\n",
    "for i in range(9):\n",
    "    for j in range(2):\n",
    "        fea_result[i][j] = AUC_no_cell[i][1+3*j]"
   ]
  },
  {
   "cell_type": "code",
   "execution_count": 25,
   "id": "a28ab79e",
   "metadata": {
    "ExecuteTime": {
     "end_time": "2023-03-07T13:45:41.522561Z",
     "start_time": "2023-03-07T13:45:41.517011Z"
    }
   },
   "outputs": [
    {
     "data": {
      "text/plain": [
       "array([[0.7967157 , 0.74163047],\n",
       "       [0.79877831, 0.73963639],\n",
       "       [0.8121221 , 0.74618843],\n",
       "       [0.78453728, 0.73868289],\n",
       "       [0.77976204, 0.73531707],\n",
       "       [0.70266828, 0.60597871],\n",
       "       [0.7335714 , 0.66999631],\n",
       "       [0.77857799, 0.68647034],\n",
       "       [0.79757488, 0.74011017]])"
      ]
     },
     "execution_count": 25,
     "metadata": {},
     "output_type": "execute_result"
    }
   ],
   "source": [
    "fea_result"
   ]
  },
  {
   "cell_type": "code",
   "execution_count": 26,
   "id": "36349dbf",
   "metadata": {
    "ExecuteTime": {
     "end_time": "2023-03-08T02:06:31.170191Z",
     "start_time": "2023-03-08T02:06:31.165550Z"
    }
   },
   "outputs": [],
   "source": [
    "row_name = [\"binary\",\"NCPA\",\"emb\",\"PSNP\",\"ENAC\",\"PseDNC\",\"EIIP\",\"PCP\",\"DBPF\"]\n",
    "header_name = [\"FullTranscript\",\"matureRNA\"]\n",
    "network = [\"BILSTM+Self-Attention\"]"
   ]
  },
  {
   "cell_type": "markdown",
   "id": "f3c5f190",
   "metadata": {},
   "source": [
    "# 分析第二阶段不同注意力机制的结果--DBPF特征"
   ]
  },
  {
   "cell_type": "code",
   "execution_count": 152,
   "id": "bee5f8cb",
   "metadata": {
    "ExecuteTime": {
     "end_time": "2023-03-09T11:42:59.472535Z",
     "start_time": "2023-03-09T11:42:59.439100Z"
    }
   },
   "outputs": [],
   "source": [
    "DBPF_AUC = np.array(pd.read_csv(\"First_Second_Result/DBPF_Parameter.csv\").iloc[:,-1])\n",
    "DBPF_name = np.array(pd.read_csv(\"First_Second_Result/DBPF_Parameter.csv\").iloc[:,0])"
   ]
  },
  {
   "cell_type": "code",
   "execution_count": 153,
   "id": "87919b82",
   "metadata": {
    "ExecuteTime": {
     "end_time": "2023-03-09T11:43:00.344909Z",
     "start_time": "2023-03-09T11:43:00.337105Z"
    }
   },
   "outputs": [],
   "source": [
    "#对KFold取均值\n",
    "name_no_fold = []\n",
    "AUC_no_fold = []\n",
    "for i in range(len(DBPF_name)):\n",
    "    if i%5==0:\n",
    "        AUC_no_fold.append(np.mean(DBPF_AUC[i:i+5]))\n",
    "        name_no_fold.append(DBPF_name[i][:-8])"
   ]
  },
  {
   "cell_type": "code",
   "execution_count": 71,
   "id": "4d1bad49",
   "metadata": {
    "ExecuteTime": {
     "end_time": "2023-03-08T04:51:01.924418Z",
     "start_time": "2023-03-08T04:51:01.915912Z"
    }
   },
   "outputs": [
    {
     "data": {
      "text/plain": [
       "['FullTranscript_A549_DBPF_BILSTM+Self-Attention',\n",
       " 'FullTranscript_A549_DBPF_BILSTM+MultiSelf-Attention',\n",
       " 'FullTranscript_A549_DBPF_BILSTM+Bah-Attention',\n",
       " 'FullTranscript_CD8T_DBPF_BILSTM+Self-Attention',\n",
       " 'FullTranscript_CD8T_DBPF_BILSTM+MultiSelf-Attention',\n",
       " 'FullTranscript_CD8T_DBPF_BILSTM+Bah-Attention',\n",
       " 'FullTranscript_Hek293_abacm_DBPF_BILSTM+Self-Attention',\n",
       " 'FullTranscript_Hek293_abacm_DBPF_BILSTM+MultiSelf-Attention',\n",
       " 'FullTranscript_Hek293_abacm_DBPF_BILSTM+Bah-Attention',\n",
       " 'FullTranscript_Hek293_sysy_DBPF_BILSTM+Self-Attention',\n",
       " 'FullTranscript_Hek293_sysy_DBPF_BILSTM+MultiSelf-Attention',\n",
       " 'FullTranscript_Hek293_sysy_DBPF_BILSTM+Bah-Attention',\n",
       " 'FullTranscript_HeLa_DBPF_BILSTM+Self-Attention',\n",
       " 'FullTranscript_HeLa_DBPF_BILSTM+MultiSelf-Attention',\n",
       " 'FullTranscript_HeLa_DBPF_BILSTM+Bah-Attention',\n",
       " 'FullTranscript_MOLM13_DBPF_BILSTM+Self-Attention',\n",
       " 'FullTranscript_MOLM13_DBPF_BILSTM+MultiSelf-Attention',\n",
       " 'FullTranscript_MOLM13_DBPF_BILSTM+Bah-Attention',\n",
       " 'matureRNA_A549_DBPF_BILSTM+Self-Attention',\n",
       " 'matureRNA_A549_DBPF_BILSTM+MultiSelf-Attention',\n",
       " 'matureRNA_A549_DBPF_BILSTM+Bah-Attention',\n",
       " 'matureRNA_CD8T_DBPF_BILSTM+Self-Attention',\n",
       " 'matureRNA_CD8T_DBPF_BILSTM+MultiSelf-Attention',\n",
       " 'matureRNA_CD8T_DBPF_BILSTM+Bah-Attention',\n",
       " 'matureRNA_Hek293_abacm_DBPF_BILSTM+Self-Attention',\n",
       " 'matureRNA_Hek293_abacm_DBPF_BILSTM+MultiSelf-Attention',\n",
       " 'matureRNA_Hek293_abacm_DBPF_BILSTM+Bah-Attention',\n",
       " 'matureRNA_Hek293_sysy_DBPF_BILSTM+Self-Attention',\n",
       " 'matureRNA_Hek293_sysy_DBPF_BILSTM+MultiSelf-Attention',\n",
       " 'matureRNA_Hek293_sysy_DBPF_BILSTM+Bah-Attention',\n",
       " 'matureRNA_HeLa_DBPF_BILSTM+Self-Attention',\n",
       " 'matureRNA_HeLa_DBPF_BILSTM+MultiSelf-Attention',\n",
       " 'matureRNA_HeLa_DBPF_BILSTM+Bah-Attention',\n",
       " 'matureRNA_MOLM13_DBPF_BILSTM+Self-Attention',\n",
       " 'matureRNA_MOLM13_DBPF_BILSTM+MultiSelf-Attention',\n",
       " 'matureRNA_MOLM13_DBPF_BILSTM+Bah-Attention']"
      ]
     },
     "execution_count": 71,
     "metadata": {},
     "output_type": "execute_result"
    }
   ],
   "source": [
    "name_no_fold"
   ]
  },
  {
   "cell_type": "code",
   "execution_count": 154,
   "id": "b9a57acf",
   "metadata": {
    "ExecuteTime": {
     "end_time": "2023-03-09T11:43:06.182965Z",
     "start_time": "2023-03-09T11:43:06.178193Z"
    }
   },
   "outputs": [],
   "source": [
    "data = np.zeros(len(AUC_no_fold)).reshape(12,-1)\n",
    "for i in range(12):\n",
    "    for j in range(3):\n",
    "        data[i][j] = AUC_no_fold[j+3*i]"
   ]
  },
  {
   "cell_type": "code",
   "execution_count": 158,
   "id": "c62688db",
   "metadata": {
    "ExecuteTime": {
     "end_time": "2023-03-09T11:55:32.699839Z",
     "start_time": "2023-03-09T11:55:32.694472Z"
    }
   },
   "outputs": [
    {
     "data": {
      "text/plain": [
       "array([[0.78250359, 0.77983761, 0.78900835],\n",
       "       [0.77354184, 0.7698477 , 0.77672936],\n",
       "       [0.76602997, 0.75837229, 0.77151424],\n",
       "       [0.81419113, 0.819798  , 0.82547734],\n",
       "       [0.72342785, 0.73031947, 0.73451602],\n",
       "       [0.74044012, 0.73826836, 0.74961786],\n",
       "       [0.75324082, 0.74991761, 0.75381255],\n",
       "       [0.7398461 , 0.73760197, 0.74157065],\n",
       "       [0.71736291, 0.71672426, 0.71437547],\n",
       "       [0.7714969 , 0.77309798, 0.76617868],\n",
       "       [0.68635233, 0.68836472, 0.68946688],\n",
       "       [0.69814343, 0.69938631, 0.69740692]])"
      ]
     },
     "execution_count": 158,
     "metadata": {},
     "output_type": "execute_result"
    }
   ],
   "source": [
    "data"
   ]
  },
  {
   "cell_type": "code",
   "execution_count": 160,
   "id": "3d4b8cc2",
   "metadata": {
    "ExecuteTime": {
     "end_time": "2023-03-09T11:56:55.441313Z",
     "start_time": "2023-03-09T11:56:55.435140Z"
    }
   },
   "outputs": [],
   "source": [
    "type_name = [\"FullTranscript\",\"matureRNA\"]\n",
    "cell_name = [\"A549\",\"CD8T\",\"Hek293_abacm\",\"Hek293_sysy\",\"HeLa\",\"MOLM13\"]\n",
    "row_name = [\"Net_name\",\"FullTranscript_A549\",\"FullTranscript_CD8T\",\"FullTranscript_Hek293_abacm\",\"FullTranscript_Hek293_sysy\",\"FullTranscript_HeLa\",\"FullTranscript_MOLM13\",\n",
    "           \"matureRNA_A549\",\"matureRNA_CD8T\",\"matureRNA_Hek293_abacm\",\"matureRNA_Hek293_sysy\",\"matureRNA_HeLa\",\"matureRNA_MOLM13\"]\n",
    "header_name = [\"BILSTM+Self-Attention\",\"BILSTM+MultiSelf-Attention\",\"BILSTM+Bah-Attention\"]"
   ]
  },
  {
   "cell_type": "code",
   "execution_count": 161,
   "id": "3793eb1b",
   "metadata": {
    "ExecuteTime": {
     "end_time": "2023-03-09T11:56:56.050514Z",
     "start_time": "2023-03-09T11:56:56.041781Z"
    }
   },
   "outputs": [],
   "source": [
    "pd.DataFrame(np.append(np.array(header_name).reshape(-1,1),data.T,axis=1)).to_csv(\"Table/DBPF.csv\",header=row_name,index=0)"
   ]
  },
  {
   "cell_type": "code",
   "execution_count": 77,
   "id": "9d5fc3bb",
   "metadata": {
    "ExecuteTime": {
     "end_time": "2023-03-08T04:51:38.440036Z",
     "start_time": "2023-03-08T04:51:38.431871Z"
    }
   },
   "outputs": [],
   "source": [
    "data_no_cell = np.zeros(2*3).reshape(2,3)\n",
    "for i in range(2):\n",
    "    for j in range(3):\n",
    "        data_no_cell[i][j] = np.mean(data[6*i:6*i+6,j])"
   ]
  },
  {
   "cell_type": "code",
   "execution_count": 78,
   "id": "ead287bd",
   "metadata": {
    "ExecuteTime": {
     "end_time": "2023-03-08T04:51:39.459284Z",
     "start_time": "2023-03-08T04:51:39.450982Z"
    }
   },
   "outputs": [
    {
     "data": {
      "text/plain": [
       "array([[0.76668908, 0.76607391, 0.7744772 ],\n",
       "       [0.72774041, 0.72751548, 0.72713519]])"
      ]
     },
     "execution_count": 78,
     "metadata": {},
     "output_type": "execute_result"
    }
   ],
   "source": [
    "row_name = [\"FullTranscript\",\"matureRNA\"]\n",
    "header_name = [\"BILSTM+Self-Attention\",\"BILSTM+MultiSelf-Attention\",\"BILSTM+Bah-Attention\"]\n",
    "data_no_cell"
   ]
  },
  {
   "cell_type": "code",
   "execution_count": 115,
   "id": "247cc566",
   "metadata": {
    "ExecuteTime": {
     "end_time": "2023-03-08T08:28:25.731852Z",
     "start_time": "2023-03-08T08:28:25.725116Z"
    }
   },
   "outputs": [
    {
     "data": {
      "text/plain": [
       "array([[0.76668908, 0.72774041],\n",
       "       [0.76607391, 0.72751548],\n",
       "       [0.7744772 , 0.72713519]])"
      ]
     },
     "execution_count": 115,
     "metadata": {},
     "output_type": "execute_result"
    }
   ],
   "source": [
    "np.array([[0.76668908, 0.76607391, 0.7744772 ],\n",
    "       [0.72774041, 0.72751548, 0.72713519]]).T"
   ]
  },
  {
   "cell_type": "markdown",
   "id": "d5f4e66c",
   "metadata": {},
   "source": [
    "# 分析第二阶段不同注意力机制的结果--emb特征"
   ]
  },
  {
   "cell_type": "code",
   "execution_count": 162,
   "id": "ecd16f10",
   "metadata": {
    "ExecuteTime": {
     "end_time": "2023-03-09T11:57:09.721692Z",
     "start_time": "2023-03-09T11:57:09.685793Z"
    }
   },
   "outputs": [],
   "source": [
    "emb_AUC = np.array(pd.read_csv(\"First_Second_Result/emb_Parameter.csv\").iloc[:,-1])\n",
    "emb_name = np.array(pd.read_csv(\"First_Second_Result/emb_Parameter.csv\").iloc[:,0])\n",
    "#对KFold取均值\n",
    "name_no_fold = []\n",
    "AUC_no_fold = []\n",
    "for i in range(len(emb_name)):\n",
    "    if i%5==0:\n",
    "        AUC_no_fold.append(np.mean(emb_AUC[i:i+5]))\n",
    "        name_no_fold.append(emb_name[i][:-8])"
   ]
  },
  {
   "cell_type": "code",
   "execution_count": 163,
   "id": "17199042",
   "metadata": {
    "ExecuteTime": {
     "end_time": "2023-03-09T11:57:16.808386Z",
     "start_time": "2023-03-09T11:57:16.802966Z"
    }
   },
   "outputs": [],
   "source": [
    "data = np.zeros(len(AUC_no_fold)).reshape(12,-1)\n",
    "for i in range(12):\n",
    "    for j in range(4):\n",
    "        data[i][j] = AUC_no_fold[j+4*i]"
   ]
  },
  {
   "cell_type": "code",
   "execution_count": 164,
   "id": "5c661d1c",
   "metadata": {
    "ExecuteTime": {
     "end_time": "2023-03-09T11:57:17.379810Z",
     "start_time": "2023-03-09T11:57:17.373976Z"
    }
   },
   "outputs": [
    {
     "data": {
      "text/plain": [
       "array([[0.82067331, 0.82444505, 0.82338461, 0.81887285],\n",
       "       [0.81477583, 0.81737109, 0.81580552, 0.81296362],\n",
       "       [0.79185419, 0.7949792 , 0.79242394, 0.79193947],\n",
       "       [0.84098322, 0.8420623 , 0.84106901, 0.83855615],\n",
       "       [0.76794831, 0.77133285, 0.76946454, 0.76488906],\n",
       "       [0.78471246, 0.78544351, 0.78544698, 0.78206273],\n",
       "       [0.77344769, 0.77944032, 0.77745042, 0.77371194],\n",
       "       [0.76430054, 0.76739511, 0.76597989, 0.76296515],\n",
       "       [0.70872725, 0.70954653, 0.71286605, 0.71008035],\n",
       "       [0.76753308, 0.76856745, 0.77227696, 0.76425235],\n",
       "       [0.70728591, 0.71300673, 0.71156896, 0.70561538],\n",
       "       [0.70456903, 0.70515722, 0.70559123, 0.70534031]])"
      ]
     },
     "execution_count": 164,
     "metadata": {},
     "output_type": "execute_result"
    }
   ],
   "source": [
    "data"
   ]
  },
  {
   "cell_type": "code",
   "execution_count": 165,
   "id": "f0961fe1",
   "metadata": {
    "ExecuteTime": {
     "end_time": "2023-03-09T11:57:27.809373Z",
     "start_time": "2023-03-09T11:57:27.804090Z"
    }
   },
   "outputs": [],
   "source": [
    "type_name = [\"FullTranscript\",\"matureRNA\"]\n",
    "cell_name = [\"A549\",\"CD8T\",\"Hek293_abacm\",\"Hek293_sysy\",\"HeLa\",\"MOLM13\"]\n",
    "row_name = [\"Net_name\",\"FullTranscript_A549\",\"FullTranscript_CD8T\",\"Full Transcript_Hek293_abacm\",\"FullTranscript_Hek293_sysy\",\"FullTranscript_HeLa\",\"FullTranscript_MOLM13\",\n",
    "           \"matureRNA_A549\",\"matureRNA_CD8T\",\"matureRNA_Hek293_abacm\",\"matureRNA_Hek293_sysy\",\"matureRNA_HeLa\",\"matureRNA_MOLM13\"]\n",
    "header_name = [\"BILSTM+Self-Attention\",\"BILSTM+MultiSelf-Attention\",\"BILSTM+Bah-Attention\",\"BILSTM+MultiHead-Attention\"]"
   ]
  },
  {
   "cell_type": "code",
   "execution_count": 166,
   "id": "dcb8d1ce",
   "metadata": {
    "ExecuteTime": {
     "end_time": "2023-03-09T11:57:57.634870Z",
     "start_time": "2023-03-09T11:57:57.624608Z"
    }
   },
   "outputs": [],
   "source": [
    "pd.DataFrame(np.append(np.array(header_name).reshape(-1,1),data.T,axis=1)).to_csv(\"Table/W2v.csv\",header=row_name,index=0)"
   ]
  },
  {
   "cell_type": "code",
   "execution_count": 91,
   "id": "db477d8b",
   "metadata": {
    "ExecuteTime": {
     "end_time": "2023-03-08T04:58:10.545390Z",
     "start_time": "2023-03-08T04:58:10.532314Z"
    }
   },
   "outputs": [
    {
     "data": {
      "text/plain": [
       "array([[0.80349122, 0.805939  , 0.8045991 , 0.80154731],\n",
       "       [0.73764392, 0.74051889, 0.74095559, 0.73699425]])"
      ]
     },
     "execution_count": 91,
     "metadata": {},
     "output_type": "execute_result"
    }
   ],
   "source": [
    "data_no_cell = np.zeros(2*4).reshape(2,4)\n",
    "for i in range(2):\n",
    "    for j in range(4):\n",
    "        data_no_cell[i][j] = np.mean(data[6*i:6*i+6,j])\n",
    "row_name = [\"FullTranscript\",\"matureRNA\"]\n",
    "header_name = [\"BILSTM+Self-Attention\",\"BILSTM+MultiSelf-Attention\",\"BILSTM+Bah-Attention\",\"BILSTM+MultiHead-Attention\"]\n",
    "data_no_cell\n",
    "#[\"MultiSelf-Attention\"]"
   ]
  },
  {
   "cell_type": "code",
   "execution_count": 93,
   "id": "e3dacb45",
   "metadata": {
    "ExecuteTime": {
     "end_time": "2023-03-08T05:05:39.495547Z",
     "start_time": "2023-03-08T05:05:39.488185Z"
    }
   },
   "outputs": [
    {
     "data": {
      "text/plain": [
       "(0.7705675673475474,\n",
       " 0.7732289465130607,\n",
       " 0.7727773419443279,\n",
       " 0.7692707809207672)"
      ]
     },
     "execution_count": 93,
     "metadata": {},
     "output_type": "execute_result"
    }
   ],
   "source": [
    "np.mean(data[:,0]),np.mean(data[:,1]),np.mean(data[:,2]),np.mean(data[:,3])"
   ]
  },
  {
   "cell_type": "markdown",
   "id": "9a4dcbcd",
   "metadata": {},
   "source": [
    "# 分析第二阶段不同注意力机制的结果--PCP特征"
   ]
  },
  {
   "cell_type": "code",
   "execution_count": 167,
   "id": "b7146a63",
   "metadata": {
    "ExecuteTime": {
     "end_time": "2023-03-09T11:58:18.266741Z",
     "start_time": "2023-03-09T11:58:18.234447Z"
    }
   },
   "outputs": [
    {
     "data": {
      "text/plain": [
       "array([[0.78699213, 0.78454707, 0.77092574],\n",
       "       [0.79006605, 0.78536811, 0.76195707],\n",
       "       [0.77179184, 0.77122212, 0.74477973],\n",
       "       [0.79399556, 0.79535382, 0.77675894],\n",
       "       [0.76185324, 0.75524968, 0.73522399],\n",
       "       [0.76177659, 0.76302969, 0.73912801],\n",
       "       [0.72024419, 0.72347525, 0.70175763],\n",
       "       [0.7169541 , 0.71622521, 0.69443562],\n",
       "       [0.66142304, 0.6538829 , 0.6370712 ],\n",
       "       [0.68748337, 0.68913069, 0.67054488],\n",
       "       [0.67532466, 0.68204619, 0.6581267 ],\n",
       "       [0.65290415, 0.65406223, 0.63425036]])"
      ]
     },
     "execution_count": 167,
     "metadata": {},
     "output_type": "execute_result"
    }
   ],
   "source": [
    "PCP_AUC = np.array(pd.read_csv(\"First_Second_Result/PCP_Parameter.csv\").iloc[:,-1])\n",
    "PCP_name = np.array(pd.read_csv(\"First_Second_Result/PCP_Parameter.csv\").iloc[:,0])\n",
    "#对KFold取均值\n",
    "name_no_fold = []\n",
    "AUC_no_fold = []\n",
    "for i in range(len(PCP_name)):\n",
    "    if i%5==0:\n",
    "        AUC_no_fold.append(np.mean(PCP_AUC[i:i+5]))\n",
    "        name_no_fold.append(PCP_name[i][:-8])\n",
    "data = np.zeros(len(AUC_no_fold)).reshape(12,-1)\n",
    "for i in range(12):\n",
    "    for j in range(3):\n",
    "        data[i][j] = AUC_no_fold[j+3*i]\n",
    "type_name = [\"FullTranscript\",\"matureRNA\"]\n",
    "cell_name = [\"A549\",\"CD8T\",\"Hek293_abacm\",\"Hek293_sysy\",\"HeLa\",\"MOLM13\"]\n",
    "row_name = [\"Net_name\",\"FullTranscript_A549\",\"FullTranscript_CD8T\",\"FullTranscript_Hek293_abacm\",\"FullTranscript_Hek293_sysy\",\"FullTranscript_HeLa\",\"FullTranscript_MOLM13\",\n",
    "           \"matureRNA_A549\",\"matureRNA_CD8T\",\"matureRNA_Hek293_abacm\",\"matureRNA_Hek293_sysy\",\"matureRNA_HeLa\",\"matureRNA_MOLM13\"]\n",
    "header_name = [\"BILSTM+Self-Attention\",\"BILSTM+MultiSelf-Attention\",\"BILSTM+Bah-Attention\"]\n",
    "data"
   ]
  },
  {
   "cell_type": "code",
   "execution_count": 168,
   "id": "290493e7",
   "metadata": {
    "ExecuteTime": {
     "end_time": "2023-03-09T11:58:29.109655Z",
     "start_time": "2023-03-09T11:58:29.102416Z"
    }
   },
   "outputs": [],
   "source": [
    "pd.DataFrame(np.append(np.array(header_name).reshape(-1,1),data.T,axis=1)).to_csv(\"Table/PCP.csv\",header=row_name,index=0)"
   ]
  },
  {
   "cell_type": "code",
   "execution_count": 95,
   "id": "acba6a34",
   "metadata": {
    "ExecuteTime": {
     "end_time": "2023-03-08T05:17:13.482088Z",
     "start_time": "2023-03-08T05:17:13.472987Z"
    }
   },
   "outputs": [
    {
     "data": {
      "text/plain": [
       "array([[0.7777459 , 0.77579508, 0.75479558],\n",
       "       [0.68572225, 0.68647041, 0.66603107]])"
      ]
     },
     "execution_count": 95,
     "metadata": {},
     "output_type": "execute_result"
    }
   ],
   "source": [
    "data_no_cell = np.zeros(2*3).reshape(2,3)\n",
    "for i in range(2):\n",
    "    for j in range(3):\n",
    "        data_no_cell[i][j] = np.mean(data[6*i:6*i+6,j])\n",
    "row_name = [\"FullTranscript\",\"matureRNA\"]\n",
    "header_name = [\"BILSTM+Self-Attention\",\"BILSTM+MultiSelf-Attention\",\"BILSTM+Bah-Attention\"]\n",
    "data_no_cell\n",
    "#[\"self_Attention\"]"
   ]
  },
  {
   "cell_type": "markdown",
   "id": "b37a1d6c",
   "metadata": {},
   "source": [
    "# 分析第二阶段不同注意力机制的结果--PSNP特征"
   ]
  },
  {
   "cell_type": "code",
   "execution_count": 98,
   "id": "7d646ebc",
   "metadata": {
    "ExecuteTime": {
     "end_time": "2023-03-08T05:22:13.866574Z",
     "start_time": "2023-03-08T05:22:13.816296Z"
    }
   },
   "outputs": [
    {
     "data": {
      "text/plain": [
       "array([[0.78734857, 0.78816989, 0.77329819],\n",
       "       [0.77070791, 0.76369823, 0.75896452],\n",
       "       [0.7717782 , 0.77039646, 0.76258938],\n",
       "       [0.85259952, 0.84934269, 0.84668586],\n",
       "       [0.71210298, 0.71903632, 0.71196931],\n",
       "       [0.74958082, 0.74673766, 0.74565701],\n",
       "       [0.76024044, 0.76187478, 0.75324461],\n",
       "       [0.74246659, 0.74555098, 0.7426551 ],\n",
       "       [0.72235349, 0.71822364, 0.71599319],\n",
       "       [0.78654818, 0.78785157, 0.78786743],\n",
       "       [0.68045619, 0.68488863, 0.67970679],\n",
       "       [0.69879228, 0.70101065, 0.69465429]])"
      ]
     },
     "execution_count": 98,
     "metadata": {},
     "output_type": "execute_result"
    }
   ],
   "source": [
    "PSNP_AUC = np.array(pd.read_csv(\"First_Second_Result/PSNP_Parameter.csv\").iloc[:,-1])\n",
    "PSNP_name = np.array(pd.read_csv(\"First_Second_Result/PSNP_Parameter.csv\").iloc[:,0])\n",
    "#对KFold取均值\n",
    "name_no_fold = []\n",
    "AUC_no_fold = []\n",
    "for i in range(len(PSNP_name)):\n",
    "    if i%5==0:\n",
    "        AUC_no_fold.append(np.mean(PSNP_AUC[i:i+5]))\n",
    "        name_no_fold.append(PSNP_name[i][:-8])\n",
    "data = np.zeros(len(AUC_no_fold)).reshape(12,-1)\n",
    "for i in range(12):\n",
    "    for j in range(3):\n",
    "        data[i][j] = AUC_no_fold[j+3*i]\n",
    "type_name = [\"FullTranscript\",\"matureRNA\"]\n",
    "cell_name = [\"A549\",\"CD8T\",\"Hek293_abacm\",\"Hek293_sysy\",\"HeLa\",\"MOLM13\"]\n",
    "row_name = [\"FullTranscript_A549\",\"FullTranscript_CD8T\",\"FullTranscript_Hek293_abacm\",\"FullTranscript_Hek293_sysy\",\"FullTranscript_HeLa\",\"FullTranscript_MOLM13\",\n",
    "           \"matureRNA_A549\",\"matureRNA_CD8T\",\"matureRNA_Hek293_abacm\",\"matureRNA_Hek293_sysy\",\"matureRNA_HeLa\",\"matureRNA_MOLM13\"]\n",
    "header_name = [\"BILSTM+Self-Attention\",\"BILSTM+MultiSelf-Attention\",\"BILSTM+Bah-Attention\"]\n",
    "data"
   ]
  },
  {
   "cell_type": "code",
   "execution_count": 99,
   "id": "34b06d7c",
   "metadata": {
    "ExecuteTime": {
     "end_time": "2023-03-08T05:22:33.007705Z",
     "start_time": "2023-03-08T05:22:32.996078Z"
    }
   },
   "outputs": [
    {
     "data": {
      "text/plain": [
       "array([[0.77401967, 0.77289688, 0.76652738],\n",
       "       [0.73180953, 0.73323338, 0.72902023]])"
      ]
     },
     "execution_count": 99,
     "metadata": {},
     "output_type": "execute_result"
    }
   ],
   "source": [
    "data_no_cell = np.zeros(2*3).reshape(2,3)\n",
    "for i in range(2):\n",
    "    for j in range(3):\n",
    "        data_no_cell[i][j] = np.mean(data[6*i:6*i+6,j])\n",
    "row_name = [\"FullTranscript\",\"matureRNA\"]\n",
    "header_name = [\"BILSTM+Self-Attention\",\"BILSTM+MultiSelf-Attention\",\"BILSTM+Bah-Attention\"]\n",
    "data_no_cell\n",
    "#[\"MultiSelf_Attention\"]"
   ]
  },
  {
   "cell_type": "markdown",
   "id": "47091241",
   "metadata": {},
   "source": [
    "# 分析单独使用Blastn得到的结果"
   ]
  },
  {
   "cell_type": "code",
   "execution_count": 339,
   "id": "f96a1ee4",
   "metadata": {
    "ExecuteTime": {
     "end_time": "2023-03-19T07:00:29.523369Z",
     "start_time": "2023-03-19T07:00:23.617694Z"
    }
   },
   "outputs": [],
   "source": [
    "from utils import metricsCal\n",
    "Th = []\n",
    "Sen_test = []\n",
    "Spe_test = []\n",
    "Acc_test = []\n",
    "Mcc_test = []\n",
    "Auc_test = []\n",
    "type_name = [\"FullTranscript\",\"matureRNA\"]\n",
    "cell_name = [\"A549\",\"CD8T\",\"Hek293_abacm\",\"Hek293_sysy\",\"HeLa\",\"MOLM13\"]\n",
    "for typei in range(len(type_name)):\n",
    "    for celli in range(len(cell_name)):\n",
    "        file_name = \"Blastn/\" + type_name[typei] + \"_\"+cell_name[celli]+\"_result_train.csv\"\n",
    "        y_pred = np.array(pd.read_csv(file_name,header=None,index_col=0).iloc[:,0])\n",
    "        y_true = np.array(pd.read_csv(file_name,header=None,index_col=0).iloc[:,1])\n",
    "        th,_,_,_,_,_,_,_,_,_ = metricsCal.get_train_metrics(y_pred,y_true)\n",
    "        file_name = \"Blastn/\" + type_name[typei] + \"_\"+cell_name[celli]+\"_result.csv\"\n",
    "        y_pred = np.array(pd.read_csv(file_name,header=None,index_col=0).iloc[:,0])\n",
    "        y_true = np.array(pd.read_csv(file_name,header=None,index_col=0).iloc[:,1])\n",
    "        _,_,_,_,sen,spe,acc,mcc,auc = metricsCal.get_test_metrics(y_pred,y_true,th)\n",
    "        Sen_test.append(sen)\n",
    "        Spe_test.append(spe)\n",
    "        Acc_test.append(acc)\n",
    "        Mcc_test.append(mcc)\n",
    "        Auc_test.append(auc)\n",
    "        Th.append(th)"
   ]
  },
  {
   "cell_type": "code",
   "execution_count": 343,
   "id": "b76ed803",
   "metadata": {
    "ExecuteTime": {
     "end_time": "2023-03-19T07:01:28.878565Z",
     "start_time": "2023-03-19T07:01:28.871698Z"
    }
   },
   "outputs": [
    {
     "data": {
      "text/plain": [
       "0.6711812724858165"
      ]
     },
     "execution_count": 343,
     "metadata": {},
     "output_type": "execute_result"
    }
   ],
   "source": [
    "np.mean(Auc_test[6:12])"
   ]
  },
  {
   "cell_type": "code",
   "execution_count": 127,
   "id": "b5bc5523",
   "metadata": {
    "ExecuteTime": {
     "end_time": "2023-03-08T13:26:18.718080Z",
     "start_time": "2023-03-08T13:26:18.714334Z"
    }
   },
   "outputs": [],
   "source": [
    "A = np.array([row_name,Sen_test,Spe_test,Acc_test,Mcc_test,Auc_test,Th])"
   ]
  },
  {
   "cell_type": "code",
   "execution_count": 122,
   "id": "ff865b50",
   "metadata": {
    "ExecuteTime": {
     "end_time": "2023-03-08T13:24:52.260855Z",
     "start_time": "2023-03-08T13:24:52.255091Z"
    }
   },
   "outputs": [],
   "source": [
    "header_name = [\"#\",\"Sensitivity\",\"Speciality\",\"Accuracy\",\"Mcc\",\"AuROC\",\"Threshold\"]\n",
    "row_name = [\"FullTranscript_A549\",\"FullTranscript_CD8T\",\"FullTranscript_Hek293_abacm\",\"FullTranscript_Hek293_sysy\",\"FullTranscript_HeLa\",\"FullTranscript_MOLM13\",\n",
    "           \"matureRNA_A549\",\"matureRNA_CD8T\",\"matureRNA_Hek293_abacm\",\"matureRNA_Hek293_sysy\",\"matureRNA_HeLa\",\"matureRNA_MOLM13\"]"
   ]
  },
  {
   "cell_type": "code",
   "execution_count": 130,
   "id": "e5e7f23f",
   "metadata": {
    "ExecuteTime": {
     "end_time": "2023-03-08T13:28:15.894603Z",
     "start_time": "2023-03-08T13:28:15.886392Z"
    }
   },
   "outputs": [],
   "source": [
    "(pd.DataFrame(A).T).to_csv(\"Table/Blastn_result.csv\",header=header_name,index=0)"
   ]
  },
  {
   "cell_type": "markdown",
   "id": "728db79b",
   "metadata": {},
   "source": [
    "# 选取最优特征--包含Blastn与不包含Blastn"
   ]
  },
  {
   "cell_type": "code",
   "execution_count": 344,
   "id": "4f91be21",
   "metadata": {
    "ExecuteTime": {
     "end_time": "2023-03-19T07:16:07.757410Z",
     "start_time": "2023-03-19T07:16:07.543894Z"
    }
   },
   "outputs": [],
   "source": [
    "data = np.array(pd.read_csv(\"Stacking_result/Poly_10_Standard.csv\"))[:,1:]\n",
    "row_name = np.array(pd.read_csv(\"Stacking_result/Poly_10_Standard.csv\"))[:,0]\n",
    "header_name = pd.read_csv(\"Stacking_result/Poly_10_Standard.csv\").columns[1:]"
   ]
  },
  {
   "cell_type": "code",
   "execution_count": 345,
   "id": "d06c6e6c",
   "metadata": {
    "ExecuteTime": {
     "end_time": "2023-03-19T07:16:09.137002Z",
     "start_time": "2023-03-19T07:16:09.131474Z"
    }
   },
   "outputs": [],
   "source": [
    "def get_normal_avg(x):\n",
    "    n = 0 \n",
    "    sum_x = 0\n",
    "    for i in x:\n",
    "        if i>0.55:\n",
    "            n+=1\n",
    "            sum_x+=i\n",
    "    return sum_x/n"
   ]
  },
  {
   "cell_type": "code",
   "execution_count": 346,
   "id": "1c5b8c96",
   "metadata": {
    "ExecuteTime": {
     "end_time": "2023-03-19T07:16:10.767507Z",
     "start_time": "2023-03-19T07:16:10.692676Z"
    }
   },
   "outputs": [],
   "source": [
    "data_no_fold = np.zeros(1023*12).reshape(1023,12)\n",
    "for i in range(len(data)):\n",
    "    for j in range(12):\n",
    "        data_no_fold[i][j] = get_normal_avg(data[i][5*j:5*j+5])"
   ]
  },
  {
   "cell_type": "code",
   "execution_count": 347,
   "id": "dad529c9",
   "metadata": {
    "ExecuteTime": {
     "end_time": "2023-03-19T07:16:12.033998Z",
     "start_time": "2023-03-19T07:16:12.026907Z"
    }
   },
   "outputs": [],
   "source": [
    "def get_n_best(n):\n",
    "    best_avg = 0\n",
    "    best_index = -1\n",
    "    for i in range(len(data_no_fold)):\n",
    "        if row_name[i].count('_')==n:\n",
    "            if np.mean(data_no_fold[i])>best_avg:\n",
    "                best_avg = np.mean(data_no_fold[i])\n",
    "                best_index = i\n",
    "    return best_avg,row_name[best_index],best_index"
   ]
  },
  {
   "cell_type": "code",
   "execution_count": 349,
   "id": "a32d0593",
   "metadata": {
    "ExecuteTime": {
     "end_time": "2023-03-19T07:17:46.757512Z",
     "start_time": "2023-03-19T07:17:46.718298Z"
    }
   },
   "outputs": [
    {
     "name": "stdout",
     "output_type": "stream",
     "text": [
      "0.7740982057094485 emb\n",
      "0.7794928740301416 DBPF_Blastn\n",
      "0.7840974307177527 emb_DBPF_Blastn\n",
      "0.7866428171829322 NCPA_emb_PCP_Blastn\n",
      "0.7878195384048565 emb_PSNP_PCP_DBPF_Blastn\n",
      "0.7880296173030604 NCPA_emb_PSNP_PCP_DBPF_Blastn\n",
      "0.7880897566218975 NCPA_emb_PSNP_PseDNC_PCP_DBPF_Blastn\n",
      "0.7881373061582262 NCPA_emb_PSNP_PseDNC_EIIP_PCP_DBPF_Blastn\n",
      "0.7880669411073417 binary_NCPA_emb_PSNP_PseDNC_EIIP_PCP_DBPF_Blastn\n",
      "0.7879072573098802 binary_NCPA_emb_PSNP_ENAC_PseDNC_EIIP_PCP_DBPF_Blastn\n"
     ]
    }
   ],
   "source": [
    "row_best = []\n",
    "data_best = []\n",
    "fea_with_blastn = []\n",
    "for i in range(10):\n",
    "    best_avg,best_fea,best_index = get_n_best(i)\n",
    "    fea_with_blastn.append(best_avg)\n",
    "    print(best_avg,best_fea)\n",
    "    row_best.append(row_name[best_index])\n",
    "    data_best.append(data_no_fold[best_index])"
   ]
  },
  {
   "cell_type": "code",
   "execution_count": 350,
   "id": "707bb537",
   "metadata": {
    "ExecuteTime": {
     "end_time": "2023-03-19T07:17:52.654206Z",
     "start_time": "2023-03-19T07:17:52.647526Z"
    }
   },
   "outputs": [
    {
     "data": {
      "text/plain": [
       "[0.7740982057094485,\n",
       " 0.7794928740301416,\n",
       " 0.7840974307177527,\n",
       " 0.7866428171829322,\n",
       " 0.7878195384048565,\n",
       " 0.7880296173030604,\n",
       " 0.7880897566218975,\n",
       " 0.7881373061582262,\n",
       " 0.7880669411073417,\n",
       " 0.7879072573098802]"
      ]
     },
     "execution_count": 350,
     "metadata": {},
     "output_type": "execute_result"
    }
   ],
   "source": [
    "fea_with_blastn"
   ]
  },
  {
   "cell_type": "code",
   "execution_count": 257,
   "id": "19906328",
   "metadata": {
    "ExecuteTime": {
     "end_time": "2023-03-10T07:00:03.843404Z",
     "start_time": "2023-03-10T07:00:03.835681Z"
    }
   },
   "outputs": [],
   "source": [
    "header_name = [\"fea\",\"FullTranscript_A549\",\"FullTranscript_CD8T\",\"FullTranscript_Hek293_abacm\",\"FullTranscript_Hek293_sysy\",\"FullTranscript_HeLa\",\"FullTranscript_MOLM13\",\n",
    "           \"matureRNA_A549\",\"matureRNA_CD8T\",\"matureRNA_Hek293_abacm\",\"matureRNA_Hek293_sysy\",\"matureRNA_HeLa\",\"matureRNA_MOLM13\"]"
   ]
  },
  {
   "cell_type": "code",
   "execution_count": 258,
   "id": "87ef429c",
   "metadata": {
    "ExecuteTime": {
     "end_time": "2023-03-10T07:00:04.314665Z",
     "start_time": "2023-03-10T07:00:04.306970Z"
    }
   },
   "outputs": [],
   "source": [
    "pd.DataFrame(np.append(  np.array(row_best).reshape(-1,1),np.array(data_best),axis=1)).to_csv(\"Table/fea_select_with_Blastn.csv\",header=header_name,index=0)"
   ]
  },
  {
   "cell_type": "code",
   "execution_count": 351,
   "id": "47fb6e1f",
   "metadata": {
    "ExecuteTime": {
     "end_time": "2023-03-19T07:18:31.183155Z",
     "start_time": "2023-03-19T07:18:31.047378Z"
    }
   },
   "outputs": [],
   "source": [
    "data = np.array(pd.read_csv(\"Stacking_result/Poly_9.csv\"))[:,1:]\n",
    "row_name = np.array(pd.read_csv(\"Stacking_result/Poly_9.csv\"))[:,0]\n",
    "header_name = pd.read_csv(\"Stacking_result/Poly_9.csv\").columns[1:]"
   ]
  },
  {
   "cell_type": "code",
   "execution_count": 352,
   "id": "f76cbbcd",
   "metadata": {
    "ExecuteTime": {
     "end_time": "2023-03-19T07:18:32.604531Z",
     "start_time": "2023-03-19T07:18:32.576572Z"
    }
   },
   "outputs": [],
   "source": [
    "data_no_fold = np.zeros(511*12).reshape(511,12)\n",
    "for i in range(len(data)):\n",
    "    for j in range(12):\n",
    "        data_no_fold[i][j] = get_normal_avg(data[i][5*j:5*j+5])"
   ]
  },
  {
   "cell_type": "code",
   "execution_count": 353,
   "id": "526e32b3",
   "metadata": {
    "ExecuteTime": {
     "end_time": "2023-03-19T07:18:49.070983Z",
     "start_time": "2023-03-19T07:18:49.047202Z"
    }
   },
   "outputs": [
    {
     "name": "stdout",
     "output_type": "stream",
     "text": [
      "0.7740982098609416 emb\n",
      "0.7736459253879353 PSNP_PCP\n",
      "0.7787062792712284 emb_PSNP_PCP\n",
      "0.7802190128673807 emb_PSNP_PCP_DBPF\n",
      "0.7804866415541132 NCPA_emb_PSNP_PCP_DBPF\n",
      "0.7806249680747861 NCPA_emb_PSNP_EIIP_PCP_DBPF\n",
      "0.7807561955074988 NCPA_emb_PSNP_PseDNC_EIIP_PCP_DBPF\n",
      "0.7807351183573213 binary_NCPA_emb_PSNP_PseDNC_EIIP_PCP_DBPF\n",
      "0.780717248757874 binary_NCPA_emb_PSNP_ENAC_PseDNC_EIIP_PCP_DBPF\n"
     ]
    }
   ],
   "source": [
    "row_best = []\n",
    "data_best = []\n",
    "fea =[]\n",
    "for i in range(9):\n",
    "    best_avg,best_fea,best_index = get_n_best(i)\n",
    "    fea.append(best_avg)\n",
    "    print(best_avg,best_fea)\n",
    "    row_best.append(row_name[best_index])\n",
    "    data_best.append(data_no_fold[best_index])"
   ]
  },
  {
   "cell_type": "code",
   "execution_count": 354,
   "id": "3bd588e0",
   "metadata": {
    "ExecuteTime": {
     "end_time": "2023-03-19T07:18:54.415541Z",
     "start_time": "2023-03-19T07:18:54.408857Z"
    }
   },
   "outputs": [
    {
     "data": {
      "text/plain": [
       "[0.7740982098609416,\n",
       " 0.7736459253879353,\n",
       " 0.7787062792712284,\n",
       " 0.7802190128673807,\n",
       " 0.7804866415541132,\n",
       " 0.7806249680747861,\n",
       " 0.7807561955074988,\n",
       " 0.7807351183573213,\n",
       " 0.780717248757874]"
      ]
     },
     "execution_count": 354,
     "metadata": {},
     "output_type": "execute_result"
    }
   ],
   "source": [
    "fea"
   ]
  },
  {
   "cell_type": "code",
   "execution_count": 265,
   "id": "6c181215",
   "metadata": {
    "ExecuteTime": {
     "end_time": "2023-03-10T07:02:00.882739Z",
     "start_time": "2023-03-10T07:02:00.874087Z"
    }
   },
   "outputs": [],
   "source": [
    "header_name = [\"fea\",\"FullTranscript_A549\",\"FullTranscript_CD8T\",\"FullTranscript_Hek293_abacm\",\"FullTranscript_Hek293_sysy\",\"FullTranscript_HeLa\",\"FullTranscript_MOLM13\",\n",
    "           \"matureRNA_A549\",\"matureRNA_CD8T\",\"matureRNA_Hek293_abacm\",\"matureRNA_Hek293_sysy\",\"matureRNA_HeLa\",\"matureRNA_MOLM13\"]\n",
    "pd.DataFrame(np.append(np.array(row_best).reshape(-1,1),np.array(data_best),axis=1)).to_csv(\"Table/fea_select_without_Blastn.csv\",header=header_name,index=0)"
   ]
  },
  {
   "cell_type": "markdown",
   "id": "9fbfa2e8",
   "metadata": {},
   "source": [
    "# 与其他模型对比 LA6mA、DeepM6ASeq-EL"
   ]
  },
  {
   "cell_type": "code",
   "execution_count": null,
   "id": "954b3d1d",
   "metadata": {},
   "outputs": [],
   "source": [
    "####LA6mA"
   ]
  },
  {
   "cell_type": "code",
   "execution_count": 448,
   "id": "3c29a5cc",
   "metadata": {
    "ExecuteTime": {
     "end_time": "2023-03-22T14:37:37.420115Z",
     "start_time": "2023-03-22T14:37:37.409932Z"
    }
   },
   "outputs": [],
   "source": [
    "data = np.array(pd.read_csv(\"Table/result_LA6mA_All.csv\").iloc[:,1:-1])\n",
    "header_name = [\"name\",'Sen', 'Spe', 'Acc', 'Mcc', 'Auc']"
   ]
  },
  {
   "cell_type": "code",
   "execution_count": 443,
   "id": "a61f0427",
   "metadata": {
    "ExecuteTime": {
     "end_time": "2023-03-22T14:36:02.442980Z",
     "start_time": "2023-03-22T14:36:02.433898Z"
    }
   },
   "outputs": [],
   "source": [
    "result_LA6mA = np.zeros(12*5).reshape(12,5)\n",
    "for i in range(12):\n",
    "    result_LA6mA[i][0] = np.mean(data[5*i:5*i+5,0])\n",
    "    result_LA6mA[i][1] = np.mean(data[5*i:5*i+5,1])\n",
    "    result_LA6mA[i][2] = np.mean(data[5*i:5*i+5,2])\n",
    "    result_LA6mA[i][3] = np.mean(data[5*i:5*i+5,3])\n",
    "    result_LA6mA[i][4] = np.mean(data[5*i:5*i+5,4])"
   ]
  },
  {
   "cell_type": "code",
   "execution_count": 449,
   "id": "2d21be8c",
   "metadata": {
    "ExecuteTime": {
     "end_time": "2023-03-22T14:37:41.495641Z",
     "start_time": "2023-03-22T14:37:41.472235Z"
    }
   },
   "outputs": [],
   "source": [
    "pd.DataFrame(np.append(np.array(row).reshape(-1,1),np.array(result_LA6mA),axis=1)).to_csv(\"Table/result_LA6mA.csv\",header=header_name,index=0)"
   ]
  },
  {
   "cell_type": "code",
   "execution_count": 291,
   "id": "76d8a3d7",
   "metadata": {
    "ExecuteTime": {
     "end_time": "2023-03-15T06:39:23.391303Z",
     "start_time": "2023-03-15T06:39:23.383530Z"
    }
   },
   "outputs": [],
   "source": [
    "row = []\n",
    "header_name = [\"name\",\"Acc\",\"Mcc\",\"Auc\"]\n",
    "result_LA6mA = np.zeros(12*3).reshape(12,3)\n",
    "for i in range(12):\n",
    "    row.append(row_name[5*i][:-15])\n",
    "    result_LA6mA[i][0] = np.mean(acc[5*i:5*i+5])\n",
    "    result_LA6mA[i][1] = np.mean(mcc[5*i:5*i+5])\n",
    "    result_LA6mA[i][2] = np.mean(auc[5*i:5*i+5])"
   ]
  },
  {
   "cell_type": "code",
   "execution_count": 292,
   "id": "9f3ba072",
   "metadata": {
    "ExecuteTime": {
     "end_time": "2023-03-15T06:39:23.790464Z",
     "start_time": "2023-03-15T06:39:23.666982Z"
    }
   },
   "outputs": [],
   "source": [
    "pd.DataFrame(np.append(np.array(row).reshape(-1,1),np.array(result_LA6mA),axis=1)).to_csv(\"Table/result_LA6mA.csv\",header=header_name,index=0)"
   ]
  },
  {
   "cell_type": "code",
   "execution_count": 301,
   "id": "ce29aff9",
   "metadata": {
    "ExecuteTime": {
     "end_time": "2023-03-15T09:30:36.160213Z",
     "start_time": "2023-03-15T09:30:36.156694Z"
    }
   },
   "outputs": [],
   "source": [
    "####DeepM6ASeq-EL"
   ]
  },
  {
   "cell_type": "code",
   "execution_count": 310,
   "id": "7002ecfc",
   "metadata": {
    "ExecuteTime": {
     "end_time": "2023-03-15T09:37:38.181053Z",
     "start_time": "2023-03-15T09:37:38.166621Z"
    }
   },
   "outputs": [],
   "source": [
    "row = np.array(pd.read_csv(\"DeepM6ASeq-EL/result_All_DeepM6ASeq-EL.csv\").iloc[:,0])\n",
    "data = np.array(pd.read_csv(\"DeepM6ASeq-EL/result_All_DeepM6ASeq-EL.csv\").iloc[:,1:])"
   ]
  },
  {
   "cell_type": "code",
   "execution_count": 311,
   "id": "7132861b",
   "metadata": {
    "ExecuteTime": {
     "end_time": "2023-03-15T09:37:39.121013Z",
     "start_time": "2023-03-15T09:37:39.111762Z"
    }
   },
   "outputs": [],
   "source": [
    "row_name = []\n",
    "header_name = [\"name\",\"Sen\",\"Spe\",\"Acc\",\"Mcc\",\"Auc\"]\n",
    "result_m6A_EL = np.zeros(12*5).reshape(12,5)\n",
    "for i in range(12):\n",
    "    row_name.append(row[5*i][:-7])\n",
    "    result_m6A_EL[i][0] = np.mean(data[5*i:5*i+5,0])\n",
    "    result_m6A_EL[i][1] = np.mean(data[5*i:5*i+5,1])\n",
    "    result_m6A_EL[i][2] = np.mean(data[5*i:5*i+5,2])\n",
    "    result_m6A_EL[i][3] = np.mean(data[5*i:5*i+5,3])\n",
    "    result_m6A_EL[i][4] = np.mean(data[5*i:5*i+5,4])"
   ]
  },
  {
   "cell_type": "code",
   "execution_count": 316,
   "id": "b1bb5e4e",
   "metadata": {
    "ExecuteTime": {
     "end_time": "2023-03-15T09:38:50.254952Z",
     "start_time": "2023-03-15T09:38:50.248421Z"
    }
   },
   "outputs": [],
   "source": [
    "pd.DataFrame(np.append(np.array(row_name).reshape(-1,1),np.array(result_m6A_EL),axis=1)).to_csv(\"Table/result_DeepM6ASeq-EL.csv\",header=header_name,index=0)"
   ]
  },
  {
   "cell_type": "code",
   "execution_count": 369,
   "id": "2ca9f707",
   "metadata": {
    "ExecuteTime": {
     "end_time": "2023-03-22T07:33:16.152092Z",
     "start_time": "2023-03-22T07:33:16.141524Z"
    }
   },
   "outputs": [
    {
     "data": {
      "text/plain": [
       "0.7630136739654462"
      ]
     },
     "execution_count": 369,
     "metadata": {},
     "output_type": "execute_result"
    }
   ],
   "source": [
    "np.mean(pd.read_csv(\"Table/result_DeepM6ASeq-EL.csv\").iloc[:,-1])"
   ]
  },
  {
   "cell_type": "code",
   "execution_count": 452,
   "id": "f56e651a",
   "metadata": {
    "ExecuteTime": {
     "end_time": "2023-03-22T14:40:56.079840Z",
     "start_time": "2023-03-22T14:40:56.069561Z"
    }
   },
   "outputs": [],
   "source": [
    "####Bert6mA\n",
    "#row = np.array(pd.read_csv(\"BERT6mA/Auc_BERT6mA.csv\").iloc[:,0])\n",
    "data = np.array(pd.read_csv(\"BERT6mA/result_BERT.csv\").iloc[:,1:-1])"
   ]
  },
  {
   "cell_type": "code",
   "execution_count": 453,
   "id": "d060b854",
   "metadata": {
    "ExecuteTime": {
     "end_time": "2023-03-22T14:41:20.093347Z",
     "start_time": "2023-03-22T14:41:20.085216Z"
    }
   },
   "outputs": [],
   "source": [
    "result_Bert6mA = np.zeros(12*5).reshape(12,5)\n",
    "for i in range(12):\n",
    "    result_Bert6mA[i][0] = np.mean(data[5*i:5*i+5,0])\n",
    "    result_Bert6mA[i][1] = np.mean(data[5*i:5*i+5,1])\n",
    "    result_Bert6mA[i][2] = np.mean(data[5*i:5*i+5,2])\n",
    "    result_Bert6mA[i][3] = np.mean(data[5*i:5*i+5,3])\n",
    "    result_Bert6mA[i][4] = np.mean(data[5*i:5*i+5,4])"
   ]
  },
  {
   "cell_type": "code",
   "execution_count": 455,
   "id": "77802355",
   "metadata": {
    "ExecuteTime": {
     "end_time": "2023-03-22T14:43:19.314006Z",
     "start_time": "2023-03-22T14:43:19.305020Z"
    }
   },
   "outputs": [],
   "source": [
    "pd.DataFrame(np.append(np.array(row).reshape(-1,1),np.array(result_Bert6mA),axis=1)).to_csv(\"Table/result_Bert6mA.csv\",header=header_name,index=0)"
   ]
  },
  {
   "cell_type": "code",
   "execution_count": 465,
   "id": "4d2e8039",
   "metadata": {
    "ExecuteTime": {
     "end_time": "2023-03-22T15:38:13.199295Z",
     "start_time": "2023-03-22T15:38:13.131422Z"
    }
   },
   "outputs": [],
   "source": [
    "###DeepM6ASeq\n",
    "Sen = pd.read_csv(\"DeepM6ASeq/Sen_DeepM6ASeq.csv\").iloc[:,-1]\n",
    "Spe = pd.read_csv(\"DeepM6ASeq/Spe_DeepM6ASeq.csv\").iloc[:,-1]\n",
    "Acc = pd.read_csv(\"DeepM6ASeq/Acc_DeepM6ASeq.csv\").iloc[:,-1]\n",
    "Mcc = pd.read_csv(\"DeepM6ASeq/Mcc_DeepM6ASeq.csv\").iloc[:,-1]\n",
    "Auc = pd.read_csv(\"DeepM6ASeq/Auc_DeepM6ASeq.csv\").iloc[:,-1]\n",
    "result_DeepM6ASeq = np.zeros(12*5).reshape(12,5)\n",
    "for i in range(12):\n",
    "    result_DeepM6ASeq[i][0] = np.mean(Sen[5*i:5*i+5])\n",
    "    result_DeepM6ASeq[i][1] = np.mean(Spe[5*i:5*i+5])\n",
    "    result_DeepM6ASeq[i][2] = np.mean(Acc[5*i:5*i+5])\n",
    "    result_DeepM6ASeq[i][3] = np.mean(Mcc[5*i:5*i+5])\n",
    "    result_DeepM6ASeq[i][4] = np.mean(Auc[5*i:5*i+5])"
   ]
  },
  {
   "cell_type": "code",
   "execution_count": 467,
   "id": "cef6b755",
   "metadata": {
    "ExecuteTime": {
     "end_time": "2023-03-22T15:38:55.037999Z",
     "start_time": "2023-03-22T15:38:54.847224Z"
    }
   },
   "outputs": [],
   "source": [
    "pd.DataFrame(np.append(np.array(row).reshape(-1,1),np.array(result_DeepM6ASeq),axis=1)).to_csv(\"Table/result_DeepM6ASeq.csv\",header=header_name,index=0)"
   ]
  },
  {
   "cell_type": "code",
   "execution_count": 456,
   "id": "2600633d",
   "metadata": {
    "ExecuteTime": {
     "end_time": "2023-03-22T14:47:02.292894Z",
     "start_time": "2023-03-22T14:47:02.269871Z"
    }
   },
   "outputs": [],
   "source": [
    "###LAMB-merge\n",
    "data = np.array(pd.read_csv(\"Table/Stacking_Result.csv\").iloc[:,1:-1])\n",
    "result_LAM = np.zeros(12*5).reshape(12,5)\n",
    "for i in range(12):\n",
    "    result_LAM[i][0] = np.mean(data[5*i:5*i+5,0])\n",
    "    result_LAM[i][1] = np.mean(data[5*i:5*i+5,1])\n",
    "    result_LAM[i][2] = np.mean(data[5*i:5*i+5,2])\n",
    "    result_LAM[i][3] = np.mean(data[5*i:5*i+5,3])\n",
    "    result_LAM[i][4] = np.mean(data[5*i:5*i+5,4])"
   ]
  },
  {
   "cell_type": "code",
   "execution_count": 496,
   "id": "b1830ce4",
   "metadata": {
    "ExecuteTime": {
     "end_time": "2023-03-24T14:57:07.007452Z",
     "start_time": "2023-03-24T14:57:07.000227Z"
    }
   },
   "outputs": [
    {
     "data": {
      "text/plain": [
       "0.848795759834189"
      ]
     },
     "execution_count": 496,
     "metadata": {},
     "output_type": "execute_result"
    }
   ],
   "source": [
    "np.mean(result_LAM[0:6,-1])"
   ]
  },
  {
   "cell_type": "code",
   "execution_count": 460,
   "id": "04325561",
   "metadata": {
    "ExecuteTime": {
     "end_time": "2023-03-22T14:48:30.553612Z",
     "start_time": "2023-03-22T14:48:30.545597Z"
    }
   },
   "outputs": [],
   "source": [
    "pd.DataFrame(np.append(np.array(row).reshape(-1,1),np.array(result_LAM),axis=1)).to_csv(\"Table/result_LAM.csv\",header=header_name,index=0)"
   ]
  },
  {
   "cell_type": "markdown",
   "id": "e70b4aba",
   "metadata": {},
   "source": [
    "# 多模态特征融合策略对比"
   ]
  },
  {
   "cell_type": "code",
   "execution_count": 411,
   "id": "01ffd021",
   "metadata": {
    "ExecuteTime": {
     "end_time": "2023-03-22T14:02:04.822141Z",
     "start_time": "2023-03-22T14:02:04.771135Z"
    }
   },
   "outputs": [],
   "source": [
    "###中期Attention层融合\n",
    "Auc = np.array(pd.read_csv(\"Model_Fusion_Extraction_Final/Auc_Mid.csv\").iloc[:,-1])\n",
    "ROW = np.array(pd.read_csv(\"Model_Fusion_Extraction_Final/Auc_Mid.csv\").iloc[:,0])"
   ]
  },
  {
   "cell_type": "code",
   "execution_count": 412,
   "id": "83e212ed",
   "metadata": {
    "ExecuteTime": {
     "end_time": "2023-03-22T14:02:06.697146Z",
     "start_time": "2023-03-22T14:02:06.688041Z"
    }
   },
   "outputs": [],
   "source": [
    "row = []\n",
    "Auc_attn_Fusion = np.zeros(12).reshape(12,1)\n",
    "for i in range(12):\n",
    "    row.append(ROW[5*i][:-19])\n",
    "    Auc_attn_Fusion[i][0] = np.mean(Auc[5*i:5*i+5])"
   ]
  },
  {
   "cell_type": "code",
   "execution_count": 413,
   "id": "e0d00511",
   "metadata": {
    "ExecuteTime": {
     "end_time": "2023-03-22T14:02:09.241780Z",
     "start_time": "2023-03-22T14:02:09.233202Z"
    }
   },
   "outputs": [
    {
     "data": {
      "text/plain": [
       "0.763632664062134"
      ]
     },
     "execution_count": 413,
     "metadata": {},
     "output_type": "execute_result"
    }
   ],
   "source": [
    "np.mean(Auc_attn_Fusion)"
   ]
  },
  {
   "cell_type": "code",
   "execution_count": 360,
   "id": "a071043d",
   "metadata": {
    "ExecuteTime": {
     "end_time": "2023-03-22T06:32:50.026372Z",
     "start_time": "2023-03-22T06:32:49.980966Z"
    }
   },
   "outputs": [],
   "source": [
    "###中期Fn层融合\n",
    "Auc = np.array(pd.read_csv(\"Model_Fusion_Extraction_Final/Auc_MidFn.csv\").iloc[:,-1])\n",
    "Auc_Fn_Fusion = np.zeros(12).reshape(12,1)\n",
    "for i in range(12):\n",
    "    Auc_Fn_Fusion[i][0] = np.mean(Auc[5*i:5*i+5])"
   ]
  },
  {
   "cell_type": "code",
   "execution_count": 362,
   "id": "a28800f2",
   "metadata": {
    "ExecuteTime": {
     "end_time": "2023-03-22T06:33:06.148979Z",
     "start_time": "2023-03-22T06:33:06.142599Z"
    }
   },
   "outputs": [
    {
     "data": {
      "text/plain": [
       "0.772522396894047"
      ]
     },
     "execution_count": 362,
     "metadata": {},
     "output_type": "execute_result"
    }
   ],
   "source": [
    "np.mean(Auc_Fn_Fusion)"
   ]
  },
  {
   "cell_type": "code",
   "execution_count": 364,
   "id": "fbdecfb0",
   "metadata": {
    "ExecuteTime": {
     "end_time": "2023-03-22T06:33:23.658583Z",
     "start_time": "2023-03-22T06:33:23.617008Z"
    }
   },
   "outputs": [],
   "source": [
    "###早期特征融合\n",
    "Auc = np.array(pd.read_csv(\"Model_Fusion_Extraction_Final/Auc_Early.csv\").iloc[:,-1])\n",
    "Auc_Early_Fusion = np.zeros(12).reshape(12,1)\n",
    "for i in range(12):\n",
    "    Auc_Early_Fusion[i][0] = np.mean(Auc[5*i:5*i+5])"
   ]
  },
  {
   "cell_type": "code",
   "execution_count": 365,
   "id": "058816cb",
   "metadata": {
    "ExecuteTime": {
     "end_time": "2023-03-22T06:33:34.491980Z",
     "start_time": "2023-03-22T06:33:34.484283Z"
    }
   },
   "outputs": [
    {
     "data": {
      "text/plain": [
       "0.7786235125399781"
      ]
     },
     "execution_count": 365,
     "metadata": {},
     "output_type": "execute_result"
    }
   ],
   "source": [
    "np.mean(Auc_Early_Fusion)"
   ]
  },
  {
   "cell_type": "code",
   "execution_count": 378,
   "id": "826be9a0",
   "metadata": {
    "ExecuteTime": {
     "end_time": "2023-03-22T09:12:54.444184Z",
     "start_time": "2023-03-22T09:12:54.432954Z"
    }
   },
   "outputs": [],
   "source": [
    "###后期融合软投票\n",
    "Auc = np.array(pd.read_csv(\"Table/Soft_Voting_result.csv\"))[:,-2]\n",
    "Auc_Soft_Voting_Fusion = np.zeros(12).reshape(12,1)\n",
    "for i in range(12):\n",
    "    Auc_Soft_Voting_Fusion[i][0] = np.mean(Auc[5*i:i*5+5])"
   ]
  },
  {
   "cell_type": "code",
   "execution_count": 400,
   "id": "5aeb8cf2",
   "metadata": {
    "ExecuteTime": {
     "end_time": "2023-03-22T13:17:07.880270Z",
     "start_time": "2023-03-22T13:17:07.871781Z"
    }
   },
   "outputs": [],
   "source": [
    "###后期融合硬投票\n",
    "Auc = np.array(pd.read_csv(\"Table/Hard_Voting_result_iter_0.3_0.7.csv\").iloc[:,-2])\n",
    "Auc_Hard_Voting_Fusion = np.zeros(12).reshape(12,1)\n",
    "for i in range(12):\n",
    "    Auc_Hard_Voting_Fusion[i][0] = np.mean(Auc[5*i:i*5+5])"
   ]
  },
  {
   "cell_type": "code",
   "execution_count": 404,
   "id": "7e5769a5",
   "metadata": {
    "ExecuteTime": {
     "end_time": "2023-03-22T13:56:57.067160Z",
     "start_time": "2023-03-22T13:56:57.057758Z"
    }
   },
   "outputs": [],
   "source": [
    "###后期融合堆叠策略\n",
    "Auc = np.array(pd.read_csv(\"Table/Stacking_Result_no_Blastn.csv\").iloc[:,-2])\n",
    "Auc_Stacking_Fusion = np.zeros(12).reshape(12,1)\n",
    "for i in range(12):\n",
    "    Auc_Stacking_Fusion[i][0] = np.mean(Auc[5*i:i*5+5])"
   ]
  },
  {
   "cell_type": "code",
   "execution_count": 405,
   "id": "d70dfa50",
   "metadata": {
    "ExecuteTime": {
     "end_time": "2023-03-22T13:57:12.277615Z",
     "start_time": "2023-03-22T13:57:12.252392Z"
    }
   },
   "outputs": [],
   "source": [
    "###后期融合堆叠策略 带Blastn\n",
    "Auc = np.array(pd.read_csv(\"Table/Stacking_Result.csv\").iloc[:,-2])\n",
    "Auc_Stacking_Blastn_Fusion = np.zeros(12).reshape(12,1)\n",
    "for i in range(12):\n",
    "    Auc_Stacking_Blastn_Fusion[i][0] = np.mean(Auc[5*i:i*5+5])"
   ]
  },
  {
   "cell_type": "code",
   "execution_count": 420,
   "id": "e21b9f83",
   "metadata": {
    "ExecuteTime": {
     "end_time": "2023-03-22T14:07:53.669064Z",
     "start_time": "2023-03-22T14:07:53.662338Z"
    }
   },
   "outputs": [],
   "source": [
    "row_name = [\"Early\",\"Attn_Fusion\",\"Fn_Fusion\",\"Hard_Voting\",\"Soft_Voting\",\"Stacking\",\"Stacking_With_Blastn\"]"
   ]
  },
  {
   "cell_type": "code",
   "execution_count": 421,
   "id": "656ccd6a",
   "metadata": {
    "ExecuteTime": {
     "end_time": "2023-03-22T14:07:54.006989Z",
     "start_time": "2023-03-22T14:07:54.003907Z"
    }
   },
   "outputs": [],
   "source": [
    "header_name = [\"name\",'FullTranscript_A549', 'FullTranscript_CD8T', 'FullTranscript_Hek293_abacm',\n",
    " 'FullTranscript_Hek293_sysy', 'FullTranscript_HeLa', 'FullTranscript_MOLM13',\n",
    " 'matureRNA_A549', 'matureRNA_CD8T', 'matureRNA_Hek293_abacm',\n",
    " 'matureRNA_Hek293_sysy', 'matureRNA_HeLa', 'matureRNA_MOLM13']"
   ]
  },
  {
   "cell_type": "code",
   "execution_count": 429,
   "id": "38b9a13a",
   "metadata": {
    "ExecuteTime": {
     "end_time": "2023-03-22T14:19:51.949392Z",
     "start_time": "2023-03-22T14:19:51.944313Z"
    }
   },
   "outputs": [],
   "source": [
    "data = np.concatenate((Auc_Early_Fusion,Auc_attn_Fusion,Auc_Fn_Fusion,Auc_Hard_Voting_Fusion,Auc_Soft_Voting_Fusion,Auc_Stacking_Fusion,Auc_Stacking_Blastn_Fusion), axis=1).T"
   ]
  },
  {
   "cell_type": "code",
   "execution_count": 432,
   "id": "b89c7cc3",
   "metadata": {
    "ExecuteTime": {
     "end_time": "2023-03-22T14:21:25.116829Z",
     "start_time": "2023-03-22T14:21:25.049341Z"
    }
   },
   "outputs": [],
   "source": [
    "pd.DataFrame(np.append(np.array(row_name).reshape(-1,1),data,axis=1)).to_csv(\"Table/Fusion_Result.csv\",header=header_name,index=0)"
   ]
  },
  {
   "cell_type": "markdown",
   "id": "6d8efba7",
   "metadata": {},
   "source": [
    "# 补充表S3"
   ]
  },
  {
   "cell_type": "code",
   "execution_count": null,
   "id": "07aaaa48",
   "metadata": {},
   "outputs": [],
   "source": [
    "DeepM6ASeq-EL\n",
    "LA6mA\n",
    "BERT6mA\n",
    "DeepM6ASeq\n",
    "BLAM6A-Merge\n"
   ]
  },
  {
   "cell_type": "code",
   "execution_count": 488,
   "id": "35133080",
   "metadata": {
    "ExecuteTime": {
     "end_time": "2023-03-23T01:31:21.905802Z",
     "start_time": "2023-03-23T01:31:21.897532Z"
    }
   },
   "outputs": [],
   "source": [
    "data_DeepM6ASeq_EL = np.array(pd.read_csv(\"Table/result_DeepM6ASeq-EL.csv\").iloc[:,1:])"
   ]
  },
  {
   "cell_type": "code",
   "execution_count": 489,
   "id": "a545d21f",
   "metadata": {
    "ExecuteTime": {
     "end_time": "2023-03-23T01:31:22.312396Z",
     "start_time": "2023-03-23T01:31:22.234690Z"
    }
   },
   "outputs": [],
   "source": [
    "data_LA6mA = np.array(pd.read_csv(\"Table/result_LA6mA.csv\").iloc[:,1:])\n",
    "data_Bert6mA = np.array(pd.read_csv(\"Table/result_Bert6mA.csv\").iloc[:,1:])\n",
    "data_DeepM6ASeq = np.array(pd.read_csv(\"Table/result_DeepM6ASeq.csv\").iloc[:,1:])\n",
    "data_BLAM6A_Merge = np.array(pd.read_csv(\"Table/result_LAM.csv\").iloc[:,1:])"
   ]
  },
  {
   "cell_type": "code",
   "execution_count": 490,
   "id": "c8123ea1",
   "metadata": {
    "ExecuteTime": {
     "end_time": "2023-03-23T01:31:22.893010Z",
     "start_time": "2023-03-23T01:31:22.886432Z"
    }
   },
   "outputs": [],
   "source": [
    "result_All = np.zeros(60*5).reshape(60,5)\n",
    "for i in range(12):\n",
    "    for j in range(5):\n",
    "        result_All[5*i,j] = data_DeepM6ASeq_EL[i,j]\n",
    "        result_All[5*i+1,j] = data_LA6mA[i,j]\n",
    "        result_All[5*i+2,j] = data_Bert6mA[i,j]\n",
    "        result_All[5*i+3,j] = data_DeepM6ASeq[i,j]\n",
    "        result_All[5*i+4,j] = data_BLAM6A_Merge[i,j]"
   ]
  },
  {
   "cell_type": "code",
   "execution_count": 492,
   "id": "c661f375",
   "metadata": {
    "ExecuteTime": {
     "end_time": "2023-03-23T01:32:44.760692Z",
     "start_time": "2023-03-23T01:32:44.735161Z"
    }
   },
   "outputs": [],
   "source": [
    "pd.DataFrame(result_All).to_csv(\"Table/result_All.csv\",header=[\"Sen\",\"Spe\",\"Acc\",\"Mcc\",\"Auc\"])"
   ]
  },
  {
   "cell_type": "code",
   "execution_count": null,
   "id": "7f86868a",
   "metadata": {},
   "outputs": [],
   "source": []
  }
 ],
 "metadata": {
  "kernelspec": {
   "display_name": "Python [conda env:BERT]",
   "language": "python",
   "name": "conda-env-BERT-py"
  },
  "language_info": {
   "codemirror_mode": {
    "name": "ipython",
    "version": 3
   },
   "file_extension": ".py",
   "mimetype": "text/x-python",
   "name": "python",
   "nbconvert_exporter": "python",
   "pygments_lexer": "ipython3",
   "version": "3.6.8"
  },
  "toc": {
   "base_numbering": 1,
   "nav_menu": {},
   "number_sections": true,
   "sideBar": true,
   "skip_h1_title": false,
   "title_cell": "Table of Contents",
   "title_sidebar": "Contents",
   "toc_cell": false,
   "toc_position": {},
   "toc_section_display": true,
   "toc_window_display": false
  },
  "varInspector": {
   "cols": {
    "lenName": 16,
    "lenType": 16,
    "lenVar": 40
   },
   "kernels_config": {
    "python": {
     "delete_cmd_postfix": "",
     "delete_cmd_prefix": "del ",
     "library": "var_list.py",
     "varRefreshCmd": "print(var_dic_list())"
    },
    "r": {
     "delete_cmd_postfix": ") ",
     "delete_cmd_prefix": "rm(",
     "library": "var_list.r",
     "varRefreshCmd": "cat(var_dic_list()) "
    }
   },
   "types_to_exclude": [
    "module",
    "function",
    "builtin_function_or_method",
    "instance",
    "_Feature"
   ],
   "window_display": false
  }
 },
 "nbformat": 4,
 "nbformat_minor": 5
}
