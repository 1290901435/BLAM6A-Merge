{
 "cells": [
  {
   "cell_type": "code",
   "execution_count": 8,
   "id": "7c666073",
   "metadata": {
    "ExecuteTime": {
     "end_time": "2023-03-22T10:33:54.748234Z",
     "start_time": "2023-03-22T10:33:51.137019Z"
    }
   },
   "outputs": [],
   "source": [
    "import pandas as pd\n",
    "import numpy as np\n",
    "import seaborn as sns\n",
    "import matplotlib as plt\n",
    "from utils import metricsCal"
   ]
  },
  {
   "cell_type": "code",
   "execution_count": 29,
   "id": "95803e7f",
   "metadata": {
    "ExecuteTime": {
     "end_time": "2023-03-22T12:36:30.180155Z",
     "start_time": "2023-03-22T12:29:38.716494Z"
    }
   },
   "outputs": [
    {
     "name": "stdout",
     "output_type": "stream",
     "text": [
      "0.8369134130221673\n",
      "0.8320722548443741\n",
      "0.8333106952308955\n",
      "0.8334442049121568\n",
      "0.8334637208911827\n",
      "0.8195708929038975\n",
      "0.8217861444540192\n",
      "0.8163989876604295\n",
      "0.8218622915748132\n",
      "0.8268710593250349\n",
      "0.8013748437796614\n",
      "0.7992921291149182\n",
      "0.7981287822963199\n",
      "0.8015407471520528\n",
      "0.7979710445487671\n",
      "0.8588807664670353\n",
      "0.8603319375493447\n",
      "0.858661297267235\n",
      "0.8612959440027316\n",
      "0.8623714487011819\n",
      "0.7590117655509753\n",
      "0.7643458626074344\n",
      "0.7636644701347035\n",
      "0.7608975933932123\n",
      "0.7606352028539645\n",
      "0.7830693689171951\n",
      "0.7855467499082633\n",
      "0.7868930727665365\n",
      "0.7825057273506834\n",
      "0.7817145687614953\n",
      "0.8086577077551619\n",
      "0.8039673149021365\n",
      "0.803950820513501\n",
      "0.812089531707563\n",
      "0.8068379577561271\n",
      "0.78602514038337\n",
      "0.792875059063528\n",
      "0.7913277248560122\n",
      "0.7937064015112698\n",
      "0.7902719062050179\n",
      "0.7356581278045412\n",
      "0.731209203771343\n",
      "0.7307757818124436\n",
      "0.732212265602074\n",
      "0.7393404776147686\n",
      "0.7880184011188165\n",
      "0.8032064452936248\n",
      "0.7885167817466301\n",
      "0.7945336147727463\n",
      "0.7901385329812661\n",
      "0.7290393337937271\n",
      "0.732979381399296\n",
      "0.7340476031724311\n",
      "0.7307260578272927\n",
      "0.7250019608194477\n",
      "0.7166257917436244\n",
      "0.7234226625782543\n",
      "0.7336325320835465\n",
      "0.7254544990872491\n",
      "0.7214752338774559\n"
     ]
    }
   ],
   "source": [
    "#硬投票\n",
    "type_name = [\"FullTranscript\",\"matureRNA\"]\n",
    "cell_name = [\"A549\",\"CD8T\",\"Hek293_abacm\",\"Hek293_sysy\",\"HeLa\",\"MOLM13\"]\n",
    "feature_name = [\"emb\",\"PSNP\",\"PCP\",\"DBPF\"]\n",
    "Param_HardVoting = np.zeros(60*6).reshape(60,6)\n",
    "\n",
    "row_name = []\n",
    "rows = -1\n",
    "for typei in range(len(type_name)):\n",
    "    for celli in range(len(cell_name)):\n",
    "        true = np.array(pd.read_csv(\"Result/\"+feature_name[0]+\"/\"+type_name[typei]+\"_\"+cell_name[celli]+\"val.csv\").iloc[:,1])\n",
    "        testLabel = np.array(pd.read_csv(\"Result/\"+feature_name[0]+\"/\"+type_name[typei]+\"_\"+cell_name[celli]+\"test_result.csv\").iloc[:,1])\n",
    "        \n",
    "        test_1 = pd.read_csv(\"Result/\"+feature_name[0]+\"/\"+type_name[typei]+\"_\"+cell_name[celli]+\"test_result.csv\").iloc[:,2:7]\n",
    "        \n",
    "        test_2 = pd.read_csv(\"Result/\"+feature_name[1]+\"/\"+type_name[typei]+\"_\"+cell_name[celli]+\"test_result.csv\").iloc[:,2:7]\n",
    "        \n",
    "        test_3 = pd.read_csv(\"Result/\"+feature_name[2]+\"/\"+type_name[typei]+\"_\"+cell_name[celli]+\"test_result.csv\").iloc[:,2:7]\n",
    "        \n",
    "        test_4 = pd.read_csv(\"Result/\"+feature_name[3]+\"/\"+type_name[typei]+\"_\"+cell_name[celli]+\"test_result.csv\").iloc[:,2:7]\n",
    "        \n",
    "        test_Blastn = pd.read_csv(\"Stacking_result/all_test_KFold/test_\"+type_name[typei]+\"_\"+cell_name[celli]+\"_Kfold0\"+\".csv\").iloc[:,10]\n",
    "        \n",
    "\n",
    "        for i in range(5):\n",
    "            rows+=1\n",
    "            row_name.append([type_name[typei]+\"_\"+cell_name[celli]+\"_Kfold_\"+str(i)])\n",
    "            #testData = np.array(pd.DataFrame([test_1.iloc[:,i],test_2.iloc[:,i],test_3.iloc[:,i],test_4.iloc[:,i]]).T)\n",
    "\n",
    "            #_,_,_,_,sen,spe, acc,mcc, _ = metricsCal.get_test_metrics(np.mean(testData,axis=1),testLabel.reshape(-1),th)\n",
    "            sen,spe,acc,mcc,_ = para4(test_1.iloc[:,i],test_2.iloc[:,i],test_3.iloc[:,i],test_4.iloc[:,i],testLabel)\n",
    "            auc = roc4(test_1.iloc[:,i],test_2.iloc[:,i],test_3.iloc[:,i],test_4.iloc[:,i],testLabel)\n",
    "            print(auc)\n",
    "\n",
    "            Param_HardVoting[typei*30+celli*5+i][0] = sen\n",
    "            Param_HardVoting[typei*30+celli*5+i][1] = spe\n",
    "            Param_HardVoting[typei*30+celli*5+i][2] = acc\n",
    "            Param_HardVoting[typei*30+celli*5+i][3] = mcc\n",
    "            Param_HardVoting[typei*30+celli*5+i][4] = auc\n",
    "            Param_HardVoting[typei*30+celli*5+i][5] = 0.5"
   ]
  },
  {
   "cell_type": "code",
   "execution_count": 30,
   "id": "c6519125",
   "metadata": {
    "ExecuteTime": {
     "end_time": "2023-03-22T12:36:30.337391Z",
     "start_time": "2023-03-22T12:36:30.329996Z"
    }
   },
   "outputs": [
    {
     "data": {
      "text/plain": [
       "(0.7866591873582823, 0.45068027420584494)"
      ]
     },
     "execution_count": 30,
     "metadata": {},
     "output_type": "execute_result"
    }
   ],
   "source": [
    "np.mean(Param_HardVoting[:,4]),np.mean(Param_HardVoting[:,3])"
   ]
  },
  {
   "cell_type": "code",
   "execution_count": 27,
   "id": "899d99c6",
   "metadata": {
    "ExecuteTime": {
     "end_time": "2023-03-22T12:26:50.994705Z",
     "start_time": "2023-03-22T12:26:50.803086Z"
    }
   },
   "outputs": [],
   "source": [
    "header_name = [\"name\",'Sen', 'Spe', 'Acc', 'mcc', 'AUC','th']\n",
    "pd.DataFrame(np.append(np.array(row_name).reshape(-1,1),Param_HardVoting,axis=1)).to_csv(\"Table/Hard_Voting_result_iter_0.3_0.7.csv\",header=header_name,index=0)"
   ]
  },
  {
   "cell_type": "code",
   "execution_count": 28,
   "id": "9fb49e43",
   "metadata": {
    "ExecuteTime": {
     "end_time": "2023-03-22T12:29:25.217396Z",
     "start_time": "2023-03-22T12:29:25.190636Z"
    }
   },
   "outputs": [],
   "source": [
    "def para4(x1, x2, x3, x4, label, th=0.5):\n",
    "    num_pos = np.int(np.sum(label))\n",
    "    num_neg = len(label)-num_pos\n",
    "    \n",
    "    max1 = float(max(x1))\n",
    "    min1 = float(min(x1))\n",
    "    \n",
    "    max2 = float(max(x2))\n",
    "    min2 = float(min(x2))\n",
    "    \n",
    "    max3 = float(max(x3))\n",
    "    min3 = float(min(x3))\n",
    "    \n",
    "    max4 = float(max(x4))\n",
    "    min4 = float(min(x4))\n",
    "\n",
    "    max6 = max(max1,max2,max3,max4)\n",
    "    min6 = min(min1,min2,min3,min4)\n",
    "    \n",
    "    pred =[]\n",
    "    for j in range(len(x1)):\n",
    "        temp1l = 0\n",
    "        if x1[j]>th:\n",
    "            temp1l+=1\n",
    "        else:\n",
    "            temp1l-=1\n",
    "        if x2[j]>th:\n",
    "            temp1l+=1\n",
    "        else:\n",
    "            temp1l-=1\n",
    "        if x3[j]>th:\n",
    "            temp1l+=1\n",
    "        else:\n",
    "            temp1l-=1\n",
    "        if x4[j]>th:\n",
    "            temp1l+=1\n",
    "        else:\n",
    "            temp1l-=1\n",
    "        \n",
    "        if temp1l>=0:\n",
    "            pred.append(1)\n",
    "        elif temp1l<0:\n",
    "            pred.append(0)\n",
    "#         elif np.mean([x1[j],x2[j],x3[j],x4[j]])>th:\n",
    "#             pred.append(1)\n",
    "#         else:\n",
    "#             pred.append(0)\n",
    "    TN, FN, FP, TP, Sen, Spe, Acc, mcc, AUC = metricsCal.get_test_metrics(np.array(pred),label,th)\n",
    "    return Sen, Spe, Acc, mcc, AUC"
   ]
  },
  {
   "cell_type": "code",
   "execution_count": 20,
   "id": "f402c59e",
   "metadata": {
    "ExecuteTime": {
     "end_time": "2023-03-22T11:32:24.448209Z",
     "start_time": "2023-03-22T11:32:24.423485Z"
    }
   },
   "outputs": [],
   "source": [
    "def roc4(x1, x2, x3, x4, label, iter = 10, low = 0.30 , high = 0.70):\n",
    "    num_pos = np.int(np.sum(label))\n",
    "    num_neg = len(label)-num_pos\n",
    "    \n",
    "    max1 = float(max(x1))\n",
    "    min1 = float(min(x1))\n",
    "    \n",
    "    max2 = float(max(x2))\n",
    "    min2 = float(min(x2))\n",
    "    \n",
    "    max3 = float(max(x3))\n",
    "    min3 = float(min(x3))\n",
    "    \n",
    "    max4 = float(max(x4))\n",
    "    min4 = float(min(x4))\n",
    "    \n",
    "    max6 = max(max1,max2,max3,max4)\n",
    "    min6 = min(min1,min2,min3,min4)\n",
    "    \n",
    "    TPR = []\n",
    "    FPR = []\n",
    "    \n",
    "    for i in range(iter+1):\n",
    "        if i == 0 or (i/iter > low and i/iter < high) or i == iter:\n",
    "            bool_ = min6+i*(max6-min6)/iter\n",
    "            tp = 0\n",
    "            tn = 0\n",
    "            for j in range(len(x1)):\n",
    "                temp1l = 0\n",
    "                if x1[j]>bool_:\n",
    "                    temp1l+=1\n",
    "                else:\n",
    "                    temp1l-=1\n",
    "                if x2[j]>bool_:\n",
    "                    temp1l+=1\n",
    "                else:\n",
    "                    temp1l-=1\n",
    "                if x3[j]>bool_:\n",
    "                    temp1l+=1\n",
    "                else:\n",
    "                    temp1l-=1\n",
    "                if x4[j]>bool_:\n",
    "                    temp1l+=1\n",
    "                else:\n",
    "                    temp1l-=1\n",
    "                \n",
    "                if temp1l>0 and label[j]==1:\n",
    "                    tp += 1\n",
    "                elif temp1l<0 and label[j]==0:\n",
    "                    tn += 1\n",
    "                elif np.mean([x1[j],x2[j],x3[j],x4[j]])>bool_ and label[j]==1:\n",
    "                    tp += 1\n",
    "                elif np.mean([x1[j],x2[j],x3[j],x4[j]])<bool_ and label[j]==0:\n",
    "                    tn += 1\n",
    "            tpr_ = tp/num_pos\n",
    "            fpr_ = 1- tn/num_neg\n",
    "            TPR.append(tpr_)\n",
    "            FPR.append(fpr_)\n",
    "    area = 0\n",
    "    for i in range(len(TPR)-1):\n",
    "        temp = (-FPR[i+1]+FPR[i])*(TPR[i]+TPR[i+1])/2\n",
    "        area += temp \n",
    "    return area"
   ]
  },
  {
   "cell_type": "code",
   "execution_count": 6,
   "id": "34f5f980",
   "metadata": {
    "ExecuteTime": {
     "end_time": "2023-03-22T10:33:15.701872Z",
     "start_time": "2023-03-22T10:33:15.678309Z"
    }
   },
   "outputs": [],
   "source": [
    "def roc5(x1, x2, x3, x4, x5, label, iter = 10, low = 0.01 , high = 0.99):\n",
    "    num_pos = np.int(np.sum(label))\n",
    "    num_neg = len(label)-num_pos\n",
    "    \n",
    "    max1 = float(max(x1))\n",
    "    min1 = float(min(x1))\n",
    "    \n",
    "    max2 = float(max(x2))\n",
    "    min2 = float(min(x2))\n",
    "    \n",
    "    max3 = float(max(x3))\n",
    "    min3 = float(min(x3))\n",
    "    \n",
    "    max4 = float(max(x4))\n",
    "    min4 = float(min(x4))\n",
    "    \n",
    "    max5 = float(max(x5))\n",
    "    min5 = float(min(x5))\n",
    "    \n",
    "    max6 = max(max1,max2,max3,max4,max5)\n",
    "    min6 = min(min1,min2,min3,min4,min5)\n",
    "    \n",
    "    TPR = []\n",
    "    FPR = []\n",
    "    \n",
    "    for i in range(iter+1):\n",
    "        if i == 0 or (i/iter > low and i/iter < high) or i == iter:\n",
    "            bool_ = min6+i*(max6-min6)/iter\n",
    "            tp = 0\n",
    "            tn = 0\n",
    "            for j in range(len(x1)):\n",
    "                temp1l = 0\n",
    "                if x1[j]>bool_:\n",
    "                    temp1l+=1\n",
    "                else:\n",
    "                    temp1l-=1\n",
    "                if x2[j]>bool_:\n",
    "                    temp1l+=1\n",
    "                else:\n",
    "                    temp1l-=1\n",
    "                if x3[j]>bool_:\n",
    "                    temp1l+=1\n",
    "                else:\n",
    "                    temp1l-=1\n",
    "                if x4[j]>bool_:\n",
    "                    temp1l+=1\n",
    "                else:\n",
    "                    temp1l-=1\n",
    "                if x5[j]>bool_:\n",
    "                    temp1l+=1\n",
    "                else:\n",
    "                    temp1l-=1\n",
    "                if temp1l>0 and label[j]==1:\n",
    "                    tp += 1\n",
    "                elif temp1l<0 and label[j]==0:\n",
    "                    tn += 1\n",
    "            tpr_ = tp/num_pos\n",
    "            fpr_ = 1- tn/num_neg\n",
    "            TPR.append(tpr_)\n",
    "            FPR.append(fpr_)\n",
    "    area = 0\n",
    "    for i in range(len(TPR)-1):\n",
    "        temp = (-FPR[i+1]+FPR[i])*(TPR[i]+TPR[i+1])/2\n",
    "        area += temp \n",
    "    return area"
   ]
  },
  {
   "cell_type": "code",
   "execution_count": 5,
   "id": "5411643c",
   "metadata": {
    "ExecuteTime": {
     "end_time": "2023-03-22T10:32:27.374802Z",
     "start_time": "2023-03-22T10:32:27.354873Z"
    }
   },
   "outputs": [],
   "source": [
    "def para5(x1, x2, x3, x4, x5, label, th=0.5):\n",
    "    num_pos = np.int(np.sum(label))\n",
    "    num_neg = len(label)-num_pos\n",
    "    \n",
    "    max1 = float(max(x1))\n",
    "    min1 = float(min(x1))\n",
    "    \n",
    "    max2 = float(max(x2))\n",
    "    min2 = float(min(x2))\n",
    "    \n",
    "    max3 = float(max(x3))\n",
    "    min3 = float(min(x3))\n",
    "    \n",
    "    max4 = float(max(x4))\n",
    "    min4 = float(min(x4))\n",
    "    \n",
    "    max5 = float(max(x5))\n",
    "    min5 = float(min(x5))\n",
    "    \n",
    "    max6 = max(max1,max2,max3,max4,max5)\n",
    "    min6 = min(min1,min2,min3,min4,min5)\n",
    "    \n",
    "    pred =[]\n",
    "    for j in range(len(x1)):\n",
    "        temp1l = 0\n",
    "        if x1[j]>th:\n",
    "            temp1l+=1\n",
    "        else:\n",
    "            temp1l-=1\n",
    "        if x2[j]>th:\n",
    "            temp1l+=1\n",
    "        else:\n",
    "            temp1l-=1\n",
    "        if x3[j]>th:\n",
    "            temp1l+=1\n",
    "        else:\n",
    "            temp1l-=1\n",
    "        if x4[j]>th:\n",
    "            temp1l+=1\n",
    "        else:\n",
    "            temp1l-=1\n",
    "        if x5[j]>th:\n",
    "            temp1l+=1\n",
    "        else:\n",
    "            temp1l-=1\n",
    "        \n",
    "        if temp1l>0:\n",
    "            pred.append(1)\n",
    "        elif temp1l<0:\n",
    "            pred.append(0)\n",
    "    TN, FN, FP, TP, Sen, Spe, Acc, mcc, AUC = metricsCal.get_test_metrics(np.array(pred),label,th)\n",
    "    return Sen, Spe, Acc, mcc"
   ]
  },
  {
   "cell_type": "code",
   "execution_count": 10,
   "id": "78bb34ed",
   "metadata": {
    "ExecuteTime": {
     "end_time": "2023-03-22T10:41:29.241690Z",
     "start_time": "2023-03-22T10:41:29.227463Z"
    }
   },
   "outputs": [],
   "source": [
    "def roc4_new(x1, x2, x3, x4, label, iter = 10, low = 0.01 , high = 0.99):\n",
    "    num_pos = np.int(np.sum(label))\n",
    "    num_neg = len(label)-num_pos\n",
    "    \n",
    "    max1 = float(max(x1))\n",
    "    min1 = float(min(x1))\n",
    "    \n",
    "    max2 = float(max(x2))\n",
    "    min2 = float(min(x2))\n",
    "    \n",
    "    max3 = float(max(x3))\n",
    "    min3 = float(min(x3))\n",
    "    \n",
    "    max4 = float(max(x4))\n",
    "    min4 = float(min(x4))\n",
    "    \n",
    "    max6 = max(max1,max2,max3,max4)\n",
    "    min6 = min(min1,min2,min3,min4)\n",
    "    \n",
    "    TPR = []\n",
    "    FPR = []\n",
    "    \n",
    "    for i in range(iter+1):\n",
    "        if i == 0 or (i/iter > low and i/iter < high) or i == iter:\n",
    "            bool_ = min6+i*(max6-min6)/iter\n",
    "            tp = 0\n",
    "            tn = 0\n",
    "            for j in range(len(x1)):\n",
    "                temp1l = 0\n",
    "                if x1[j]>bool_:\n",
    "                    temp1l+=1\n",
    "                else:\n",
    "                    temp1l-=1\n",
    "                if x2[j]>bool_:\n",
    "                    temp1l+=1\n",
    "                else:\n",
    "                    temp1l-=1\n",
    "                if x3[j]>bool_:\n",
    "                    temp1l+=1\n",
    "                else:\n",
    "                    temp1l-=1\n",
    "                if x4[j]>bool_:\n",
    "                    temp1l+=1\n",
    "                else:\n",
    "                    temp1l-=1\n",
    "                \n",
    "                if temp1l>0 and label[j]==1:\n",
    "                    tp += 1\n",
    "                elif temp1l<0 and label[j]==0:\n",
    "                    tn += 1\n",
    "#                 elif np.mean([x1[j],x2[j],x3[j],x4[j]])>bool_ and label[j]==1:\n",
    "#                     tp += 1\n",
    "#                 elif np.mean([x1[j],x2[j],x3[j],x4[j]])<bool_ and label[j]==0:\n",
    "#                     tn += 1\n",
    "            tpr_ = tp/num_pos\n",
    "            fpr_ = 1- tn/num_neg\n",
    "            TPR.append(tpr_)\n",
    "            FPR.append(fpr_)\n",
    "    area = 0\n",
    "    for i in range(len(TPR)-1):\n",
    "        temp = (-FPR[i+1]+FPR[i])*(TPR[i]+TPR[i+1])/2\n",
    "        area += temp \n",
    "    return area"
   ]
  },
  {
   "cell_type": "code",
   "execution_count": 16,
   "id": "acdd13f1",
   "metadata": {
    "ExecuteTime": {
     "end_time": "2023-03-22T11:00:27.609127Z",
     "start_time": "2023-03-22T11:00:27.596843Z"
    }
   },
   "outputs": [],
   "source": [
    "def para4_new(x1, x2, x3, x4, label, th=0.5):\n",
    "    num_pos = np.int(np.sum(label))\n",
    "    num_neg = len(label)-num_pos\n",
    "    \n",
    "    max1 = float(max(x1))\n",
    "    min1 = float(min(x1))\n",
    "    \n",
    "    max2 = float(max(x2))\n",
    "    min2 = float(min(x2))\n",
    "    \n",
    "    max3 = float(max(x3))\n",
    "    min3 = float(min(x3))\n",
    "    \n",
    "    max4 = float(max(x4))\n",
    "    min4 = float(min(x4))\n",
    "\n",
    "    max6 = max(max1,max2,max3,max4)\n",
    "    min6 = min(min1,min2,min3,min4)\n",
    "    \n",
    "    pred =[]\n",
    "    for j in range(len(x1)):\n",
    "        temp1l = 0\n",
    "        if x1[j]>th:\n",
    "            temp1l+=1\n",
    "        else:\n",
    "            temp1l-=1\n",
    "        if x2[j]>th:\n",
    "            temp1l+=1\n",
    "        else:\n",
    "            temp1l-=1\n",
    "        if x3[j]>th:\n",
    "            temp1l+=1\n",
    "        else:\n",
    "            temp1l-=1\n",
    "        if x4[j]>th:\n",
    "            temp1l+=1\n",
    "        else:\n",
    "            temp1l-=1\n",
    "        \n",
    "        if temp1l>=0:\n",
    "            pred.append(1)\n",
    "        elif temp1l<0:\n",
    "            pred.append(0)\n",
    "#         elif np.mean([x1[j],x2[j],x3[j],x4[j]])>th:\n",
    "#             pred.append(1)\n",
    "#         else:\n",
    "#             pred.append(0)\n",
    "    TN, FN, FP, TP, Sen, Spe, Acc, mcc, AUC = metricsCal.get_test_metrics(np.array(pred),label,th)\n",
    "    return Sen, Spe, Acc, mcc, AUC"
   ]
  },
  {
   "cell_type": "code",
   "execution_count": 18,
   "id": "0793f8c6",
   "metadata": {
    "ExecuteTime": {
     "end_time": "2023-03-22T11:06:43.608596Z",
     "start_time": "2023-03-22T11:00:48.567669Z"
    }
   },
   "outputs": [
    {
     "name": "stdout",
     "output_type": "stream",
     "text": [
      "0.7668453501731494\n",
      "0.7677192614172608\n",
      "0.7681798279194795\n",
      "0.7677250006063258\n",
      "0.7679603706327255\n",
      "0.7549901250228366\n",
      "0.7533949473310785\n",
      "0.7492346456303675\n",
      "0.758986265823925\n",
      "0.7542275556573168\n",
      "0.7287416981722478\n",
      "0.7378753934965119\n",
      "0.724257416476065\n",
      "0.7272524541341511\n",
      "0.736430194343909\n",
      "0.7859002328450037\n",
      "0.7852964085687886\n",
      "0.7899390998379002\n",
      "0.7988061895854381\n",
      "0.7965988631124786\n",
      "0.692937570159446\n",
      "0.7062114655696307\n",
      "0.7037374647137714\n",
      "0.7003354734684235\n",
      "0.6961166996416971\n",
      "0.7069206538361823\n",
      "0.7187132146912127\n",
      "0.7122794305323704\n",
      "0.7095155922686281\n",
      "0.7075807104523248\n",
      "0.7197561771658411\n",
      "0.7072599567263073\n",
      "0.7110147496642347\n",
      "0.7251666358757576\n",
      "0.7206118235762958\n",
      "0.6897714293362356\n",
      "0.6991105948968233\n",
      "0.6983792486898991\n",
      "0.7015231429515592\n",
      "0.697714732060845\n",
      "0.6404090110316806\n",
      "0.6220142509070029\n",
      "0.6216560093262783\n",
      "0.6346451382523515\n",
      "0.62874821473968\n",
      "0.6946941145664088\n",
      "0.7047974928109759\n",
      "0.6881296206265645\n",
      "0.706580839401006\n",
      "0.6953292804746387\n",
      "0.6326183516232016\n",
      "0.6478586565915643\n",
      "0.6487080736534575\n",
      "0.643213210125829\n",
      "0.6455569261706698\n",
      "0.5917325495606939\n",
      "0.6173309628107787\n",
      "0.6290456313696593\n",
      "0.6265549451374738\n",
      "0.6174086003381236\n"
     ]
    }
   ],
   "source": [
    "#硬投票\n",
    "type_name = [\"FullTranscript\",\"matureRNA\"]\n",
    "cell_name = [\"A549\",\"CD8T\",\"Hek293_abacm\",\"Hek293_sysy\",\"HeLa\",\"MOLM13\"]\n",
    "feature_name = [\"emb\",\"PSNP\",\"PCP\",\"DBPF\"]\n",
    "Param_HardVoting_1 = np.zeros(60*6).reshape(60,6)\n",
    "\n",
    "row_name = []\n",
    "rows = -1\n",
    "for typei in range(len(type_name)):\n",
    "    for celli in range(len(cell_name)):\n",
    "        true = np.array(pd.read_csv(\"Result/\"+feature_name[0]+\"/\"+type_name[typei]+\"_\"+cell_name[celli]+\"val.csv\").iloc[:,1])\n",
    "        testLabel = np.array(pd.read_csv(\"Result/\"+feature_name[0]+\"/\"+type_name[typei]+\"_\"+cell_name[celli]+\"test_result.csv\").iloc[:,1])\n",
    "        \n",
    "        test_1 = pd.read_csv(\"Result/\"+feature_name[0]+\"/\"+type_name[typei]+\"_\"+cell_name[celli]+\"test_result.csv\").iloc[:,2:7]\n",
    "        \n",
    "        test_2 = pd.read_csv(\"Result/\"+feature_name[1]+\"/\"+type_name[typei]+\"_\"+cell_name[celli]+\"test_result.csv\").iloc[:,2:7]\n",
    "        \n",
    "        test_3 = pd.read_csv(\"Result/\"+feature_name[2]+\"/\"+type_name[typei]+\"_\"+cell_name[celli]+\"test_result.csv\").iloc[:,2:7]\n",
    "        \n",
    "        test_4 = pd.read_csv(\"Result/\"+feature_name[3]+\"/\"+type_name[typei]+\"_\"+cell_name[celli]+\"test_result.csv\").iloc[:,2:7]\n",
    "        \n",
    "        test_Blastn = pd.read_csv(\"Stacking_result/all_test_KFold/test_\"+type_name[typei]+\"_\"+cell_name[celli]+\"_Kfold0\"+\".csv\").iloc[:,10]\n",
    "        \n",
    "\n",
    "        for i in range(5):\n",
    "            rows+=1\n",
    "            row_name.append([type_name[typei]+\"_\"+cell_name[celli]+\"_Kfold_\"+str(i)])\n",
    "            #testData = np.array(pd.DataFrame([test_1.iloc[:,i],test_2.iloc[:,i],test_3.iloc[:,i],test_4.iloc[:,i]]).T)\n",
    "\n",
    "            #_,_,_,_,sen,spe, acc,mcc, _ = metricsCal.get_test_metrics(np.mean(testData,axis=1),testLabel.reshape(-1),th)\n",
    "            sen,spe,acc,mcc,_ = para4_new(test_1.iloc[:,i],test_2.iloc[:,i],test_3.iloc[:,i],test_4.iloc[:,i],testLabel)\n",
    "            auc = roc4_new(test_1.iloc[:,i],test_2.iloc[:,i],test_3.iloc[:,i],test_4.iloc[:,i],testLabel)\n",
    "            print(auc)\n",
    "\n",
    "            Param_HardVoting_1[typei*30+celli*5+i][0] = sen\n",
    "            Param_HardVoting_1[typei*30+celli*5+i][1] = spe\n",
    "            Param_HardVoting_1[typei*30+celli*5+i][2] = acc\n",
    "            Param_HardVoting_1[typei*30+celli*5+i][3] = mcc\n",
    "            Param_HardVoting_1[typei*30+celli*5+i][4] = auc\n",
    "            Param_HardVoting_1[typei*30+celli*5+i][5] = 0.5"
   ]
  },
  {
   "cell_type": "code",
   "execution_count": 17,
   "id": "b5526423",
   "metadata": {
    "ExecuteTime": {
     "end_time": "2023-03-22T11:00:46.267445Z",
     "start_time": "2023-03-22T11:00:46.258197Z"
    }
   },
   "outputs": [
    {
     "data": {
      "text/plain": [
       "(0.7047008324430413, 0.45343689336412357)"
      ]
     },
     "execution_count": 17,
     "metadata": {},
     "output_type": "execute_result"
    }
   ],
   "source": [
    "np.mean(Param_HardVoting_1[:,4]),np.mean(Param_HardVoting_1[:,3])"
   ]
  },
  {
   "cell_type": "code",
   "execution_count": 19,
   "id": "90cdfd87",
   "metadata": {
    "ExecuteTime": {
     "end_time": "2023-03-22T11:06:43.701507Z",
     "start_time": "2023-03-22T11:06:43.695861Z"
    }
   },
   "outputs": [
    {
     "data": {
      "text/plain": [
       "(0.7047008324430413, 0.45068027420584494)"
      ]
     },
     "execution_count": 19,
     "metadata": {},
     "output_type": "execute_result"
    }
   ],
   "source": [
    "np.mean(Param_HardVoting_1[:,4]),np.mean(Param_HardVoting_1[:,3])"
   ]
  },
  {
   "cell_type": "code",
   "execution_count": null,
   "id": "6c704e19",
   "metadata": {},
   "outputs": [],
   "source": []
  },
  {
   "cell_type": "code",
   "execution_count": 36,
   "id": "c56fa996",
   "metadata": {
    "ExecuteTime": {
     "end_time": "2023-03-22T13:14:31.527953Z",
     "start_time": "2023-03-22T13:14:31.298673Z"
    }
   },
   "outputs": [],
   "source": [
    "from sklearn.model_selection import KFold\n",
    "from sklearn.linear_model import LogisticRegression"
   ]
  },
  {
   "cell_type": "code",
   "execution_count": 43,
   "id": "e8a53652",
   "metadata": {
    "ExecuteTime": {
     "end_time": "2023-03-22T13:31:34.123866Z",
     "start_time": "2023-03-22T13:26:19.228088Z"
    }
   },
   "outputs": [
    {
     "name": "stderr",
     "output_type": "stream",
     "text": [
      "/data/xiayunpeng/anaconda3/envs/BERT/lib/python3.6/site-packages/sklearn/utils/validation.py:72: FutureWarning: Pass shuffle=True, random_state=10 as keyword args. From version 1.0 (renaming of 0.25) passing these as positional arguments will result in an error\n",
      "  \"will result in an error\", FutureWarning)\n"
     ]
    },
    {
     "name": "stdout",
     "output_type": "stream",
     "text": [
      "0.8620221452695482\n",
      "0.8620748000366617\n",
      "0.8543591885540518\n",
      "0.8667032698251429\n",
      "0.8651290942976424\n"
     ]
    },
    {
     "name": "stderr",
     "output_type": "stream",
     "text": [
      "/data/xiayunpeng/anaconda3/envs/BERT/lib/python3.6/site-packages/sklearn/utils/validation.py:72: FutureWarning: Pass shuffle=True, random_state=10 as keyword args. From version 1.0 (renaming of 0.25) passing these as positional arguments will result in an error\n",
      "  \"will result in an error\", FutureWarning)\n"
     ]
    },
    {
     "name": "stdout",
     "output_type": "stream",
     "text": [
      "0.8551405241332137\n",
      "0.859253442844069\n",
      "0.8576095528057407\n",
      "0.8624884332308786\n",
      "0.8668495476893225\n"
     ]
    },
    {
     "name": "stderr",
     "output_type": "stream",
     "text": [
      "/data/xiayunpeng/anaconda3/envs/BERT/lib/python3.6/site-packages/sklearn/utils/validation.py:72: FutureWarning: Pass shuffle=True, random_state=10 as keyword args. From version 1.0 (renaming of 0.25) passing these as positional arguments will result in an error\n",
      "  \"will result in an error\", FutureWarning)\n"
     ]
    },
    {
     "name": "stdout",
     "output_type": "stream",
     "text": [
      "0.8629501090162883\n",
      "0.8641294088034485\n",
      "0.860405634033119\n",
      "0.8656886439556042\n",
      "0.8668900852897429\n"
     ]
    },
    {
     "name": "stderr",
     "output_type": "stream",
     "text": [
      "/data/xiayunpeng/anaconda3/envs/BERT/lib/python3.6/site-packages/sklearn/utils/validation.py:72: FutureWarning: Pass shuffle=True, random_state=10 as keyword args. From version 1.0 (renaming of 0.25) passing these as positional arguments will result in an error\n",
      "  \"will result in an error\", FutureWarning)\n"
     ]
    },
    {
     "name": "stdout",
     "output_type": "stream",
     "text": [
      "0.8617145055790688\n",
      "0.8633630023706957\n",
      "0.860206970730131\n",
      "0.8619300640213188\n",
      "0.868791760570222\n"
     ]
    },
    {
     "name": "stderr",
     "output_type": "stream",
     "text": [
      "/data/xiayunpeng/anaconda3/envs/BERT/lib/python3.6/site-packages/sklearn/utils/validation.py:72: FutureWarning: Pass shuffle=True, random_state=10 as keyword args. From version 1.0 (renaming of 0.25) passing these as positional arguments will result in an error\n",
      "  \"will result in an error\", FutureWarning)\n"
     ]
    },
    {
     "name": "stdout",
     "output_type": "stream",
     "text": [
      "0.8594630413406865\n",
      "0.8646886529440814\n",
      "0.8605026138805529\n",
      "0.8650873430040931\n",
      "0.8634201864250695\n"
     ]
    },
    {
     "name": "stderr",
     "output_type": "stream",
     "text": [
      "/data/xiayunpeng/anaconda3/envs/BERT/lib/python3.6/site-packages/sklearn/utils/validation.py:72: FutureWarning: Pass shuffle=True, random_state=10 as keyword args. From version 1.0 (renaming of 0.25) passing these as positional arguments will result in an error\n",
      "  \"will result in an error\", FutureWarning)\n"
     ]
    },
    {
     "name": "stdout",
     "output_type": "stream",
     "text": [
      "0.8514172553545272\n",
      "0.853187700963697\n",
      "0.8505393785776242\n",
      "0.8501603560491876\n",
      "0.8564150514969824\n"
     ]
    },
    {
     "name": "stderr",
     "output_type": "stream",
     "text": [
      "/data/xiayunpeng/anaconda3/envs/BERT/lib/python3.6/site-packages/sklearn/utils/validation.py:72: FutureWarning: Pass shuffle=True, random_state=10 as keyword args. From version 1.0 (renaming of 0.25) passing these as positional arguments will result in an error\n",
      "  \"will result in an error\", FutureWarning)\n"
     ]
    },
    {
     "name": "stdout",
     "output_type": "stream",
     "text": [
      "0.8549540942970402\n",
      "0.8586045957699272\n",
      "0.8544252323239968\n",
      "0.8544927706546379\n",
      "0.8607353167406658\n"
     ]
    },
    {
     "name": "stderr",
     "output_type": "stream",
     "text": [
      "/data/xiayunpeng/anaconda3/envs/BERT/lib/python3.6/site-packages/sklearn/utils/validation.py:72: FutureWarning: Pass shuffle=True, random_state=10 as keyword args. From version 1.0 (renaming of 0.25) passing these as positional arguments will result in an error\n",
      "  \"will result in an error\", FutureWarning)\n"
     ]
    },
    {
     "name": "stdout",
     "output_type": "stream",
     "text": [
      "0.8538380172287228\n",
      "0.8545219162166359\n",
      "0.8536854405285953\n",
      "0.8480044656460907\n",
      "0.8555211328489077\n"
     ]
    },
    {
     "name": "stderr",
     "output_type": "stream",
     "text": [
      "/data/xiayunpeng/anaconda3/envs/BERT/lib/python3.6/site-packages/sklearn/utils/validation.py:72: FutureWarning: Pass shuffle=True, random_state=10 as keyword args. From version 1.0 (renaming of 0.25) passing these as positional arguments will result in an error\n",
      "  \"will result in an error\", FutureWarning)\n"
     ]
    },
    {
     "name": "stdout",
     "output_type": "stream",
     "text": [
      "0.8554244527678287\n",
      "0.8525243491893574\n",
      "0.8514457089138557\n",
      "0.8515130314057358\n",
      "0.8565571385203657\n"
     ]
    },
    {
     "name": "stderr",
     "output_type": "stream",
     "text": [
      "/data/xiayunpeng/anaconda3/envs/BERT/lib/python3.6/site-packages/sklearn/utils/validation.py:72: FutureWarning: Pass shuffle=True, random_state=10 as keyword args. From version 1.0 (renaming of 0.25) passing these as positional arguments will result in an error\n",
      "  \"will result in an error\", FutureWarning)\n"
     ]
    },
    {
     "name": "stdout",
     "output_type": "stream",
     "text": [
      "0.8562254552159052\n",
      "0.8576287570983898\n",
      "0.851328899683003\n",
      "0.8542578732975408\n",
      "0.8624980155634474\n"
     ]
    },
    {
     "name": "stderr",
     "output_type": "stream",
     "text": [
      "/data/xiayunpeng/anaconda3/envs/BERT/lib/python3.6/site-packages/sklearn/utils/validation.py:72: FutureWarning: Pass shuffle=True, random_state=10 as keyword args. From version 1.0 (renaming of 0.25) passing these as positional arguments will result in an error\n",
      "  \"will result in an error\", FutureWarning)\n"
     ]
    },
    {
     "name": "stdout",
     "output_type": "stream",
     "text": [
      "0.8263479025509477\n",
      "0.8365055326181519\n",
      "0.8331617790074326\n",
      "0.8229818209352291\n",
      "0.8478422464662349\n"
     ]
    },
    {
     "name": "stderr",
     "output_type": "stream",
     "text": [
      "/data/xiayunpeng/anaconda3/envs/BERT/lib/python3.6/site-packages/sklearn/utils/validation.py:72: FutureWarning: Pass shuffle=True, random_state=10 as keyword args. From version 1.0 (renaming of 0.25) passing these as positional arguments will result in an error\n",
      "  \"will result in an error\", FutureWarning)\n"
     ]
    },
    {
     "name": "stdout",
     "output_type": "stream",
     "text": [
      "0.8303405825163566\n",
      "0.8418366604692032\n",
      "0.8275518432802061\n",
      "0.8299108192701434\n",
      "0.8496645516859781\n"
     ]
    },
    {
     "name": "stderr",
     "output_type": "stream",
     "text": [
      "/data/xiayunpeng/anaconda3/envs/BERT/lib/python3.6/site-packages/sklearn/utils/validation.py:72: FutureWarning: Pass shuffle=True, random_state=10 as keyword args. From version 1.0 (renaming of 0.25) passing these as positional arguments will result in an error\n",
      "  \"will result in an error\", FutureWarning)\n"
     ]
    },
    {
     "name": "stdout",
     "output_type": "stream",
     "text": [
      "0.831738930413084\n",
      "0.8425589704645771\n",
      "0.8325148990014882\n",
      "0.8309788912000922\n",
      "0.8513325106386076\n"
     ]
    },
    {
     "name": "stderr",
     "output_type": "stream",
     "text": [
      "/data/xiayunpeng/anaconda3/envs/BERT/lib/python3.6/site-packages/sklearn/utils/validation.py:72: FutureWarning: Pass shuffle=True, random_state=10 as keyword args. From version 1.0 (renaming of 0.25) passing these as positional arguments will result in an error\n",
      "  \"will result in an error\", FutureWarning)\n"
     ]
    },
    {
     "name": "stdout",
     "output_type": "stream",
     "text": [
      "0.8310313853034437\n",
      "0.8371747422815394\n",
      "0.8327043008050306\n",
      "0.8285464247256831\n",
      "0.8467436213856946\n"
     ]
    },
    {
     "name": "stderr",
     "output_type": "stream",
     "text": [
      "/data/xiayunpeng/anaconda3/envs/BERT/lib/python3.6/site-packages/sklearn/utils/validation.py:72: FutureWarning: Pass shuffle=True, random_state=10 as keyword args. From version 1.0 (renaming of 0.25) passing these as positional arguments will result in an error\n",
      "  \"will result in an error\", FutureWarning)\n"
     ]
    },
    {
     "name": "stdout",
     "output_type": "stream",
     "text": [
      "0.8302990906735073\n",
      "0.8370212605000451\n",
      "0.8236042726133005\n",
      "0.8271485391731944\n",
      "0.8481866133735216\n"
     ]
    },
    {
     "name": "stderr",
     "output_type": "stream",
     "text": [
      "/data/xiayunpeng/anaconda3/envs/BERT/lib/python3.6/site-packages/sklearn/utils/validation.py:72: FutureWarning: Pass shuffle=True, random_state=10 as keyword args. From version 1.0 (renaming of 0.25) passing these as positional arguments will result in an error\n",
      "  \"will result in an error\", FutureWarning)\n"
     ]
    },
    {
     "name": "stdout",
     "output_type": "stream",
     "text": [
      "0.8924972071496968\n",
      "0.886508686769275\n",
      "0.8955148493841771\n",
      "0.8833277489250013\n",
      "0.8905728437600947\n"
     ]
    },
    {
     "name": "stderr",
     "output_type": "stream",
     "text": [
      "/data/xiayunpeng/anaconda3/envs/BERT/lib/python3.6/site-packages/sklearn/utils/validation.py:72: FutureWarning: Pass shuffle=True, random_state=10 as keyword args. From version 1.0 (renaming of 0.25) passing these as positional arguments will result in an error\n",
      "  \"will result in an error\", FutureWarning)\n"
     ]
    },
    {
     "name": "stdout",
     "output_type": "stream",
     "text": [
      "0.8874221991701244\n",
      "0.8838729214460251\n",
      "0.8962211801601748\n",
      "0.8814609609968967\n",
      "0.8929766419806261\n"
     ]
    },
    {
     "name": "stderr",
     "output_type": "stream",
     "text": [
      "/data/xiayunpeng/anaconda3/envs/BERT/lib/python3.6/site-packages/sklearn/utils/validation.py:72: FutureWarning: Pass shuffle=True, random_state=10 as keyword args. From version 1.0 (renaming of 0.25) passing these as positional arguments will result in an error\n",
      "  \"will result in an error\", FutureWarning)\n"
     ]
    },
    {
     "name": "stdout",
     "output_type": "stream",
     "text": [
      "0.8957788062559847\n",
      "0.883513317787033\n",
      "0.8954311656251026\n",
      "0.87964403385747\n",
      "0.8920962795464787\n"
     ]
    },
    {
     "name": "stderr",
     "output_type": "stream",
     "text": [
      "/data/xiayunpeng/anaconda3/envs/BERT/lib/python3.6/site-packages/sklearn/utils/validation.py:72: FutureWarning: Pass shuffle=True, random_state=10 as keyword args. From version 1.0 (renaming of 0.25) passing these as positional arguments will result in an error\n",
      "  \"will result in an error\", FutureWarning)\n"
     ]
    },
    {
     "name": "stdout",
     "output_type": "stream",
     "text": [
      "0.8893632301308649\n",
      "0.8809223784046547\n",
      "0.8945873543877687\n",
      "0.8834723452121676\n",
      "0.8956984873319535\n"
     ]
    },
    {
     "name": "stderr",
     "output_type": "stream",
     "text": [
      "/data/xiayunpeng/anaconda3/envs/BERT/lib/python3.6/site-packages/sklearn/utils/validation.py:72: FutureWarning: Pass shuffle=True, random_state=10 as keyword args. From version 1.0 (renaming of 0.25) passing these as positional arguments will result in an error\n",
      "  \"will result in an error\", FutureWarning)\n"
     ]
    },
    {
     "name": "stdout",
     "output_type": "stream",
     "text": [
      "0.8916015001595914\n",
      "0.8842335212370366\n",
      "0.8943014348775976\n",
      "0.8823843828032134\n",
      "0.8872288623284639\n"
     ]
    },
    {
     "name": "stderr",
     "output_type": "stream",
     "text": [
      "/data/xiayunpeng/anaconda3/envs/BERT/lib/python3.6/site-packages/sklearn/utils/validation.py:72: FutureWarning: Pass shuffle=True, random_state=10 as keyword args. From version 1.0 (renaming of 0.25) passing these as positional arguments will result in an error\n",
      "  \"will result in an error\", FutureWarning)\n"
     ]
    },
    {
     "name": "stdout",
     "output_type": "stream",
     "text": [
      "0.8070465633138687\n",
      "0.8070992886113331\n",
      "0.8070603477971035\n",
      "0.8044710080053025\n",
      "0.8127509321157476\n"
     ]
    },
    {
     "name": "stderr",
     "output_type": "stream",
     "text": [
      "/data/xiayunpeng/anaconda3/envs/BERT/lib/python3.6/site-packages/sklearn/utils/validation.py:72: FutureWarning: Pass shuffle=True, random_state=10 as keyword args. From version 1.0 (renaming of 0.25) passing these as positional arguments will result in an error\n",
      "  \"will result in an error\", FutureWarning)\n"
     ]
    },
    {
     "name": "stdout",
     "output_type": "stream",
     "text": [
      "0.8101400632753953\n",
      "0.8062290229250567\n",
      "0.8051722682299085\n",
      "0.8052419809571268\n",
      "0.8148985805533095\n"
     ]
    },
    {
     "name": "stderr",
     "output_type": "stream",
     "text": [
      "/data/xiayunpeng/anaconda3/envs/BERT/lib/python3.6/site-packages/sklearn/utils/validation.py:72: FutureWarning: Pass shuffle=True, random_state=10 as keyword args. From version 1.0 (renaming of 0.25) passing these as positional arguments will result in an error\n",
      "  \"will result in an error\", FutureWarning)\n"
     ]
    },
    {
     "name": "stdout",
     "output_type": "stream",
     "text": [
      "0.8069698202175921\n",
      "0.8030919874656991\n",
      "0.8009456843529242\n",
      "0.8015135692786597\n",
      "0.8118330187762961\n"
     ]
    },
    {
     "name": "stderr",
     "output_type": "stream",
     "text": [
      "/data/xiayunpeng/anaconda3/envs/BERT/lib/python3.6/site-packages/sklearn/utils/validation.py:72: FutureWarning: Pass shuffle=True, random_state=10 as keyword args. From version 1.0 (renaming of 0.25) passing these as positional arguments will result in an error\n",
      "  \"will result in an error\", FutureWarning)\n"
     ]
    },
    {
     "name": "stdout",
     "output_type": "stream",
     "text": [
      "0.8094843067492805\n",
      "0.8073596599898262\n",
      "0.806001880182378\n",
      "0.805278947923397\n",
      "0.8114255369273808\n"
     ]
    },
    {
     "name": "stderr",
     "output_type": "stream",
     "text": [
      "/data/xiayunpeng/anaconda3/envs/BERT/lib/python3.6/site-packages/sklearn/utils/validation.py:72: FutureWarning: Pass shuffle=True, random_state=10 as keyword args. From version 1.0 (renaming of 0.25) passing these as positional arguments will result in an error\n",
      "  \"will result in an error\", FutureWarning)\n"
     ]
    },
    {
     "name": "stdout",
     "output_type": "stream",
     "text": [
      "0.8075615766655388\n",
      "0.8024662575628198\n",
      "0.7992560521983048\n",
      "0.7989009655787875\n",
      "0.8069809467824063\n"
     ]
    },
    {
     "name": "stderr",
     "output_type": "stream",
     "text": [
      "/data/xiayunpeng/anaconda3/envs/BERT/lib/python3.6/site-packages/sklearn/utils/validation.py:72: FutureWarning: Pass shuffle=True, random_state=10 as keyword args. From version 1.0 (renaming of 0.25) passing these as positional arguments will result in an error\n",
      "  \"will result in an error\", FutureWarning)\n"
     ]
    },
    {
     "name": "stdout",
     "output_type": "stream",
     "text": [
      "0.8186914193827813\n",
      "0.8104337955962857\n",
      "0.8190900199499308\n",
      "0.8107591687568207\n",
      "0.8127403097991333\n"
     ]
    },
    {
     "name": "stderr",
     "output_type": "stream",
     "text": [
      "/data/xiayunpeng/anaconda3/envs/BERT/lib/python3.6/site-packages/sklearn/utils/validation.py:72: FutureWarning: Pass shuffle=True, random_state=10 as keyword args. From version 1.0 (renaming of 0.25) passing these as positional arguments will result in an error\n",
      "  \"will result in an error\", FutureWarning)\n"
     ]
    },
    {
     "name": "stdout",
     "output_type": "stream",
     "text": [
      "0.8235854508299695\n",
      "0.8176489629748855\n",
      "0.8211798275392792\n",
      "0.8126050063183288\n",
      "0.8144155952979484\n"
     ]
    },
    {
     "name": "stderr",
     "output_type": "stream",
     "text": [
      "/data/xiayunpeng/anaconda3/envs/BERT/lib/python3.6/site-packages/sklearn/utils/validation.py:72: FutureWarning: Pass shuffle=True, random_state=10 as keyword args. From version 1.0 (renaming of 0.25) passing these as positional arguments will result in an error\n",
      "  \"will result in an error\", FutureWarning)\n"
     ]
    },
    {
     "name": "stdout",
     "output_type": "stream",
     "text": [
      "0.8223211145063376\n",
      "0.8099302865902657\n",
      "0.8189198323846896\n",
      "0.8104438506385341\n",
      "0.8160798079915726\n"
     ]
    },
    {
     "name": "stderr",
     "output_type": "stream",
     "text": [
      "/data/xiayunpeng/anaconda3/envs/BERT/lib/python3.6/site-packages/sklearn/utils/validation.py:72: FutureWarning: Pass shuffle=True, random_state=10 as keyword args. From version 1.0 (renaming of 0.25) passing these as positional arguments will result in an error\n",
      "  \"will result in an error\", FutureWarning)\n"
     ]
    },
    {
     "name": "stdout",
     "output_type": "stream",
     "text": [
      "0.8208973527603032\n",
      "0.8111901062125771\n",
      "0.815070422956478\n",
      "0.8119836441440579\n",
      "0.8131577844813138\n"
     ]
    },
    {
     "name": "stderr",
     "output_type": "stream",
     "text": [
      "/data/xiayunpeng/anaconda3/envs/BERT/lib/python3.6/site-packages/sklearn/utils/validation.py:72: FutureWarning: Pass shuffle=True, random_state=10 as keyword args. From version 1.0 (renaming of 0.25) passing these as positional arguments will result in an error\n",
      "  \"will result in an error\", FutureWarning)\n"
     ]
    },
    {
     "name": "stdout",
     "output_type": "stream",
     "text": [
      "0.8222894088876233\n",
      "0.8116864350545184\n",
      "0.8163586441225471\n",
      "0.809476655689368\n",
      "0.8142677583854053\n"
     ]
    },
    {
     "name": "stderr",
     "output_type": "stream",
     "text": [
      "/data/xiayunpeng/anaconda3/envs/BERT/lib/python3.6/site-packages/sklearn/utils/validation.py:72: FutureWarning: Pass shuffle=True, random_state=10 as keyword args. From version 1.0 (renaming of 0.25) passing these as positional arguments will result in an error\n",
      "  \"will result in an error\", FutureWarning)\n"
     ]
    },
    {
     "name": "stdout",
     "output_type": "stream",
     "text": [
      "0.8283077836878942\n",
      "0.8203365041016583\n",
      "0.8184996334147238\n",
      "0.8165655859840169\n",
      "0.8222688236745372\n"
     ]
    },
    {
     "name": "stderr",
     "output_type": "stream",
     "text": [
      "/data/xiayunpeng/anaconda3/envs/BERT/lib/python3.6/site-packages/sklearn/utils/validation.py:72: FutureWarning: Pass shuffle=True, random_state=10 as keyword args. From version 1.0 (renaming of 0.25) passing these as positional arguments will result in an error\n",
      "  \"will result in an error\", FutureWarning)\n"
     ]
    },
    {
     "name": "stdout",
     "output_type": "stream",
     "text": [
      "0.8254839119220454\n",
      "0.8201161485023776\n",
      "0.8188061879733042\n",
      "0.8150141351526414\n",
      "0.8222078373254449\n"
     ]
    },
    {
     "name": "stderr",
     "output_type": "stream",
     "text": [
      "/data/xiayunpeng/anaconda3/envs/BERT/lib/python3.6/site-packages/sklearn/utils/validation.py:72: FutureWarning: Pass shuffle=True, random_state=10 as keyword args. From version 1.0 (renaming of 0.25) passing these as positional arguments will result in an error\n",
      "  \"will result in an error\", FutureWarning)\n"
     ]
    },
    {
     "name": "stdout",
     "output_type": "stream",
     "text": [
      "0.8241004292368108\n",
      "0.8157430238599798\n",
      "0.812404093575952\n",
      "0.808322314342618\n",
      "0.8192935548934236\n"
     ]
    },
    {
     "name": "stderr",
     "output_type": "stream",
     "text": [
      "/data/xiayunpeng/anaconda3/envs/BERT/lib/python3.6/site-packages/sklearn/utils/validation.py:72: FutureWarning: Pass shuffle=True, random_state=10 as keyword args. From version 1.0 (renaming of 0.25) passing these as positional arguments will result in an error\n",
      "  \"will result in an error\", FutureWarning)\n"
     ]
    },
    {
     "name": "stdout",
     "output_type": "stream",
     "text": [
      "0.8290979004480556\n",
      "0.8191997874623544\n",
      "0.8188851621019677\n",
      "0.8125805885308524\n",
      "0.82261181782227\n"
     ]
    },
    {
     "name": "stderr",
     "output_type": "stream",
     "text": [
      "/data/xiayunpeng/anaconda3/envs/BERT/lib/python3.6/site-packages/sklearn/utils/validation.py:72: FutureWarning: Pass shuffle=True, random_state=10 as keyword args. From version 1.0 (renaming of 0.25) passing these as positional arguments will result in an error\n",
      "  \"will result in an error\", FutureWarning)\n"
     ]
    },
    {
     "name": "stdout",
     "output_type": "stream",
     "text": [
      "0.829879887723163\n",
      "0.8198733076378641\n",
      "0.8171935760558053\n",
      "0.8176972629951303\n",
      "0.8226482366208061\n"
     ]
    },
    {
     "name": "stderr",
     "output_type": "stream",
     "text": [
      "/data/xiayunpeng/anaconda3/envs/BERT/lib/python3.6/site-packages/sklearn/utils/validation.py:72: FutureWarning: Pass shuffle=True, random_state=10 as keyword args. From version 1.0 (renaming of 0.25) passing these as positional arguments will result in an error\n",
      "  \"will result in an error\", FutureWarning)\n"
     ]
    },
    {
     "name": "stdout",
     "output_type": "stream",
     "text": [
      "0.8096060543376569\n",
      "0.8120722840034218\n",
      "0.8059389421041898\n",
      "0.8027387546799813\n",
      "0.8112666790024465\n"
     ]
    },
    {
     "name": "stderr",
     "output_type": "stream",
     "text": [
      "/data/xiayunpeng/anaconda3/envs/BERT/lib/python3.6/site-packages/sklearn/utils/validation.py:72: FutureWarning: Pass shuffle=True, random_state=10 as keyword args. From version 1.0 (renaming of 0.25) passing these as positional arguments will result in an error\n",
      "  \"will result in an error\", FutureWarning)\n"
     ]
    },
    {
     "name": "stdout",
     "output_type": "stream",
     "text": [
      "0.8052185635639636\n",
      "0.8074643491666589\n",
      "0.8081195288041674\n",
      "0.804986878722028\n",
      "0.8101179829237561\n"
     ]
    },
    {
     "name": "stderr",
     "output_type": "stream",
     "text": [
      "/data/xiayunpeng/anaconda3/envs/BERT/lib/python3.6/site-packages/sklearn/utils/validation.py:72: FutureWarning: Pass shuffle=True, random_state=10 as keyword args. From version 1.0 (renaming of 0.25) passing these as positional arguments will result in an error\n",
      "  \"will result in an error\", FutureWarning)\n"
     ]
    },
    {
     "name": "stdout",
     "output_type": "stream",
     "text": [
      "0.8059687151809767\n",
      "0.8128034550992207\n",
      "0.8052239234380916\n",
      "0.8010620979827835\n",
      "0.8076139664525528\n"
     ]
    },
    {
     "name": "stderr",
     "output_type": "stream",
     "text": [
      "/data/xiayunpeng/anaconda3/envs/BERT/lib/python3.6/site-packages/sklearn/utils/validation.py:72: FutureWarning: Pass shuffle=True, random_state=10 as keyword args. From version 1.0 (renaming of 0.25) passing these as positional arguments will result in an error\n",
      "  \"will result in an error\", FutureWarning)\n"
     ]
    },
    {
     "name": "stdout",
     "output_type": "stream",
     "text": [
      "0.8079942420794802\n",
      "0.8063266128653211\n",
      "0.8050434803291318\n",
      "0.8006076852444224\n",
      "0.8032907161507667\n"
     ]
    },
    {
     "name": "stderr",
     "output_type": "stream",
     "text": [
      "/data/xiayunpeng/anaconda3/envs/BERT/lib/python3.6/site-packages/sklearn/utils/validation.py:72: FutureWarning: Pass shuffle=True, random_state=10 as keyword args. From version 1.0 (renaming of 0.25) passing these as positional arguments will result in an error\n",
      "  \"will result in an error\", FutureWarning)\n"
     ]
    },
    {
     "name": "stdout",
     "output_type": "stream",
     "text": [
      "0.8063618616218553\n",
      "0.8103276375036426\n",
      "0.8049954698355355\n",
      "0.8037578787884129\n",
      "0.8086138988994722\n"
     ]
    },
    {
     "name": "stderr",
     "output_type": "stream",
     "text": [
      "/data/xiayunpeng/anaconda3/envs/BERT/lib/python3.6/site-packages/sklearn/utils/validation.py:72: FutureWarning: Pass shuffle=True, random_state=10 as keyword args. From version 1.0 (renaming of 0.25) passing these as positional arguments will result in an error\n",
      "  \"will result in an error\", FutureWarning)\n"
     ]
    },
    {
     "name": "stdout",
     "output_type": "stream",
     "text": [
      "0.7594922121447509\n",
      "0.7525367053858901\n",
      "0.7583863504916137\n",
      "0.7427052430563668\n",
      "0.7478613575780934\n"
     ]
    },
    {
     "name": "stderr",
     "output_type": "stream",
     "text": [
      "/data/xiayunpeng/anaconda3/envs/BERT/lib/python3.6/site-packages/sklearn/utils/validation.py:72: FutureWarning: Pass shuffle=True, random_state=10 as keyword args. From version 1.0 (renaming of 0.25) passing these as positional arguments will result in an error\n",
      "  \"will result in an error\", FutureWarning)\n"
     ]
    },
    {
     "name": "stdout",
     "output_type": "stream",
     "text": [
      "0.7665707544245448\n",
      "0.755207382692434\n",
      "0.7605815237394186\n",
      "0.751123449508281\n",
      "0.7533977407761009\n"
     ]
    },
    {
     "name": "stderr",
     "output_type": "stream",
     "text": [
      "/data/xiayunpeng/anaconda3/envs/BERT/lib/python3.6/site-packages/sklearn/utils/validation.py:72: FutureWarning: Pass shuffle=True, random_state=10 as keyword args. From version 1.0 (renaming of 0.25) passing these as positional arguments will result in an error\n",
      "  \"will result in an error\", FutureWarning)\n"
     ]
    },
    {
     "name": "stdout",
     "output_type": "stream",
     "text": [
      "0.760091025458683\n",
      "0.7506129124108374\n",
      "0.7542012081485765\n",
      "0.7418445887547012\n",
      "0.7485686423927101\n"
     ]
    },
    {
     "name": "stderr",
     "output_type": "stream",
     "text": [
      "/data/xiayunpeng/anaconda3/envs/BERT/lib/python3.6/site-packages/sklearn/utils/validation.py:72: FutureWarning: Pass shuffle=True, random_state=10 as keyword args. From version 1.0 (renaming of 0.25) passing these as positional arguments will result in an error\n",
      "  \"will result in an error\", FutureWarning)\n"
     ]
    },
    {
     "name": "stdout",
     "output_type": "stream",
     "text": [
      "0.7561772224835801\n",
      "0.7480298461695712\n",
      "0.7508098626519678\n",
      "0.7417839998598426\n",
      "0.752135722773549\n"
     ]
    },
    {
     "name": "stderr",
     "output_type": "stream",
     "text": [
      "/data/xiayunpeng/anaconda3/envs/BERT/lib/python3.6/site-packages/sklearn/utils/validation.py:72: FutureWarning: Pass shuffle=True, random_state=10 as keyword args. From version 1.0 (renaming of 0.25) passing these as positional arguments will result in an error\n",
      "  \"will result in an error\", FutureWarning)\n"
     ]
    },
    {
     "name": "stdout",
     "output_type": "stream",
     "text": [
      "0.7645810312571798\n",
      "0.7529944732019653\n",
      "0.756900993743099\n",
      "0.7486940538204583\n",
      "0.754205023546964\n"
     ]
    },
    {
     "name": "stderr",
     "output_type": "stream",
     "text": [
      "/data/xiayunpeng/anaconda3/envs/BERT/lib/python3.6/site-packages/sklearn/utils/validation.py:72: FutureWarning: Pass shuffle=True, random_state=10 as keyword args. From version 1.0 (renaming of 0.25) passing these as positional arguments will result in an error\n",
      "  \"will result in an error\", FutureWarning)\n"
     ]
    },
    {
     "name": "stdout",
     "output_type": "stream",
     "text": [
      "0.81391130524913\n",
      "0.8042883630972598\n",
      "0.8176209496670082\n",
      "0.8203326362155205\n",
      "0.816365265461062\n"
     ]
    },
    {
     "name": "stderr",
     "output_type": "stream",
     "text": [
      "/data/xiayunpeng/anaconda3/envs/BERT/lib/python3.6/site-packages/sklearn/utils/validation.py:72: FutureWarning: Pass shuffle=True, random_state=10 as keyword args. From version 1.0 (renaming of 0.25) passing these as positional arguments will result in an error\n",
      "  \"will result in an error\", FutureWarning)\n"
     ]
    },
    {
     "name": "stdout",
     "output_type": "stream",
     "text": [
      "0.8248855948567209\n",
      "0.8193344975164537\n",
      "0.830872582607582\n",
      "0.8357892483829767\n",
      "0.8302973211892848\n"
     ]
    },
    {
     "name": "stderr",
     "output_type": "stream",
     "text": [
      "/data/xiayunpeng/anaconda3/envs/BERT/lib/python3.6/site-packages/sklearn/utils/validation.py:72: FutureWarning: Pass shuffle=True, random_state=10 as keyword args. From version 1.0 (renaming of 0.25) passing these as positional arguments will result in an error\n",
      "  \"will result in an error\", FutureWarning)\n"
     ]
    },
    {
     "name": "stdout",
     "output_type": "stream",
     "text": [
      "0.8132589908335818\n",
      "0.8068138678985164\n",
      "0.8165063076331969\n",
      "0.8260596040730883\n",
      "0.8266523066092264\n"
     ]
    },
    {
     "name": "stderr",
     "output_type": "stream",
     "text": [
      "/data/xiayunpeng/anaconda3/envs/BERT/lib/python3.6/site-packages/sklearn/utils/validation.py:72: FutureWarning: Pass shuffle=True, random_state=10 as keyword args. From version 1.0 (renaming of 0.25) passing these as positional arguments will result in an error\n",
      "  \"will result in an error\", FutureWarning)\n"
     ]
    },
    {
     "name": "stdout",
     "output_type": "stream",
     "text": [
      "0.8208806644802795\n",
      "0.8137640011668472\n",
      "0.8224697425717213\n",
      "0.8269227499447407\n",
      "0.8259383037532151\n"
     ]
    },
    {
     "name": "stderr",
     "output_type": "stream",
     "text": [
      "/data/xiayunpeng/anaconda3/envs/BERT/lib/python3.6/site-packages/sklearn/utils/validation.py:72: FutureWarning: Pass shuffle=True, random_state=10 as keyword args. From version 1.0 (renaming of 0.25) passing these as positional arguments will result in an error\n",
      "  \"will result in an error\", FutureWarning)\n"
     ]
    },
    {
     "name": "stdout",
     "output_type": "stream",
     "text": [
      "0.8190697916395703\n",
      "0.8079927032092293\n",
      "0.8172397300845287\n",
      "0.8242372961030415\n",
      "0.8226612906451627\n"
     ]
    },
    {
     "name": "stderr",
     "output_type": "stream",
     "text": [
      "/data/xiayunpeng/anaconda3/envs/BERT/lib/python3.6/site-packages/sklearn/utils/validation.py:72: FutureWarning: Pass shuffle=True, random_state=10 as keyword args. From version 1.0 (renaming of 0.25) passing these as positional arguments will result in an error\n",
      "  \"will result in an error\", FutureWarning)\n"
     ]
    },
    {
     "name": "stdout",
     "output_type": "stream",
     "text": [
      "0.7562079703840672\n",
      "0.7570316539891474\n",
      "0.7552812517524742\n",
      "0.7551397656208996\n",
      "0.7477259777774345\n"
     ]
    },
    {
     "name": "stderr",
     "output_type": "stream",
     "text": [
      "/data/xiayunpeng/anaconda3/envs/BERT/lib/python3.6/site-packages/sklearn/utils/validation.py:72: FutureWarning: Pass shuffle=True, random_state=10 as keyword args. From version 1.0 (renaming of 0.25) passing these as positional arguments will result in an error\n",
      "  \"will result in an error\", FutureWarning)\n"
     ]
    },
    {
     "name": "stdout",
     "output_type": "stream",
     "text": [
      "0.7542291999357816\n",
      "0.7580421198701988\n",
      "0.7544857613679262\n",
      "0.7544427810448971\n",
      "0.7472702535450464\n"
     ]
    },
    {
     "name": "stderr",
     "output_type": "stream",
     "text": [
      "/data/xiayunpeng/anaconda3/envs/BERT/lib/python3.6/site-packages/sklearn/utils/validation.py:72: FutureWarning: Pass shuffle=True, random_state=10 as keyword args. From version 1.0 (renaming of 0.25) passing these as positional arguments will result in an error\n",
      "  \"will result in an error\", FutureWarning)\n"
     ]
    },
    {
     "name": "stdout",
     "output_type": "stream",
     "text": [
      "0.7479661990081794\n",
      "0.752791481988833\n",
      "0.7473617856915715\n",
      "0.7511884014179881\n",
      "0.7411438122272267\n"
     ]
    },
    {
     "name": "stderr",
     "output_type": "stream",
     "text": [
      "/data/xiayunpeng/anaconda3/envs/BERT/lib/python3.6/site-packages/sklearn/utils/validation.py:72: FutureWarning: Pass shuffle=True, random_state=10 as keyword args. From version 1.0 (renaming of 0.25) passing these as positional arguments will result in an error\n",
      "  \"will result in an error\", FutureWarning)\n"
     ]
    },
    {
     "name": "stdout",
     "output_type": "stream",
     "text": [
      "0.7510412489831046\n",
      "0.7566757041708376\n",
      "0.7499369722447347\n",
      "0.7553595992406135\n",
      "0.7444244298602879\n"
     ]
    },
    {
     "name": "stderr",
     "output_type": "stream",
     "text": [
      "/data/xiayunpeng/anaconda3/envs/BERT/lib/python3.6/site-packages/sklearn/utils/validation.py:72: FutureWarning: Pass shuffle=True, random_state=10 as keyword args. From version 1.0 (renaming of 0.25) passing these as positional arguments will result in an error\n",
      "  \"will result in an error\", FutureWarning)\n"
     ]
    },
    {
     "name": "stdout",
     "output_type": "stream",
     "text": [
      "0.7535030051559747\n",
      "0.7576750938777286\n",
      "0.7517111912932428\n",
      "0.7529413067943713\n",
      "0.7449919185393343\n"
     ]
    },
    {
     "name": "stderr",
     "output_type": "stream",
     "text": [
      "/data/xiayunpeng/anaconda3/envs/BERT/lib/python3.6/site-packages/sklearn/utils/validation.py:72: FutureWarning: Pass shuffle=True, random_state=10 as keyword args. From version 1.0 (renaming of 0.25) passing these as positional arguments will result in an error\n",
      "  \"will result in an error\", FutureWarning)\n"
     ]
    },
    {
     "name": "stdout",
     "output_type": "stream",
     "text": [
      "0.7469546080070545\n",
      "0.7564435281752768\n",
      "0.7531937926077366\n",
      "0.7382979781961106\n",
      "0.7249495549330456\n"
     ]
    },
    {
     "name": "stderr",
     "output_type": "stream",
     "text": [
      "/data/xiayunpeng/anaconda3/envs/BERT/lib/python3.6/site-packages/sklearn/utils/validation.py:72: FutureWarning: Pass shuffle=True, random_state=10 as keyword args. From version 1.0 (renaming of 0.25) passing these as positional arguments will result in an error\n",
      "  \"will result in an error\", FutureWarning)\n"
     ]
    },
    {
     "name": "stdout",
     "output_type": "stream",
     "text": [
      "0.7409497366227245\n",
      "0.7567809100916063\n",
      "0.7501806282006322\n",
      "0.7316796955167075\n",
      "0.7246824836694783\n"
     ]
    },
    {
     "name": "stderr",
     "output_type": "stream",
     "text": [
      "/data/xiayunpeng/anaconda3/envs/BERT/lib/python3.6/site-packages/sklearn/utils/validation.py:72: FutureWarning: Pass shuffle=True, random_state=10 as keyword args. From version 1.0 (renaming of 0.25) passing these as positional arguments will result in an error\n",
      "  \"will result in an error\", FutureWarning)\n"
     ]
    },
    {
     "name": "stdout",
     "output_type": "stream",
     "text": [
      "0.7458789138782875\n",
      "0.7578169990733659\n",
      "0.7532124461224317\n",
      "0.7393477490251684\n",
      "0.7283135957616816\n"
     ]
    },
    {
     "name": "stderr",
     "output_type": "stream",
     "text": [
      "/data/xiayunpeng/anaconda3/envs/BERT/lib/python3.6/site-packages/sklearn/utils/validation.py:72: FutureWarning: Pass shuffle=True, random_state=10 as keyword args. From version 1.0 (renaming of 0.25) passing these as positional arguments will result in an error\n",
      "  \"will result in an error\", FutureWarning)\n"
     ]
    },
    {
     "name": "stdout",
     "output_type": "stream",
     "text": [
      "0.7396090028949285\n",
      "0.7544040000746284\n",
      "0.7459481457162825\n",
      "0.7353579357823841\n",
      "0.7227019901317324\n"
     ]
    },
    {
     "name": "stderr",
     "output_type": "stream",
     "text": [
      "/data/xiayunpeng/anaconda3/envs/BERT/lib/python3.6/site-packages/sklearn/utils/validation.py:72: FutureWarning: Pass shuffle=True, random_state=10 as keyword args. From version 1.0 (renaming of 0.25) passing these as positional arguments will result in an error\n",
      "  \"will result in an error\", FutureWarning)\n"
     ]
    },
    {
     "name": "stdout",
     "output_type": "stream",
     "text": [
      "0.7364021169610739\n",
      "0.7555909003277423\n",
      "0.7501053923580281\n",
      "0.7291330062128024\n",
      "0.7263219094818072\n"
     ]
    }
   ],
   "source": [
    "#Logistic回归模型,训练新数据测试集测试新数据\n",
    "header_name = [\"name\",\"Sen\",\"Spe\",\"Acc\",\"Mcc\",\"Auc\",\"th\"]\n",
    "Param = np.zeros(60*6).reshape(60,6)\n",
    "row_name = []\n",
    "rows = -1\n",
    "for typei in range(len(type_name)):\n",
    "    for celli in range(len(cell_name)):\n",
    "        \n",
    "        testLabel = np.array(pd.read_csv(\"Result/\"+feature_name[0]+\"/\"+type_name[typei]+\"_\"+cell_name[celli]+\"test_result.csv\").iloc[:,1])\n",
    "        test_1 = pd.read_csv(\"Result/\"+feature_name[0]+\"/\"+type_name[typei]+\"_\"+cell_name[celli]+\"test_result.csv\").iloc[:,2:7]\n",
    "        test_2 = pd.read_csv(\"Result/\"+feature_name[1]+\"/\"+type_name[typei]+\"_\"+cell_name[celli]+\"test_result.csv\").iloc[:,2:7]\n",
    "        test_3 = pd.read_csv(\"Result/\"+feature_name[2]+\"/\"+type_name[typei]+\"_\"+cell_name[celli]+\"test_result.csv\").iloc[:,2:7]\n",
    "        test_4 = pd.read_csv(\"Result/\"+feature_name[3]+\"/\"+type_name[typei]+\"_\"+cell_name[celli]+\"test_result.csv\").iloc[:,2:7]\n",
    "\n",
    "        \n",
    "        newTestData = np.array([])\n",
    "        newTestLabel = np.array([])\n",
    "        for i in range(5):\n",
    "            rows+=1\n",
    "            row_name.append([type_name[typei]+\"_\"+cell_name[celli]+\"_KFold_\"+str(i)])\n",
    "\n",
    "            testData = np.array(pd.DataFrame([test_1.iloc[:,i],test_2.iloc[:,i],test_3.iloc[:,i],test_4.iloc[:,i]]).T)\n",
    "\n",
    "            newTestData_one = np.array([])\n",
    "            newTestLabel_one = np.array([])\n",
    "\n",
    "            kf = KFold(5,True,10)\n",
    "            Sen = 0\n",
    "            Spe = 0\n",
    "            Acc = 0\n",
    "            Mcc = 0\n",
    "            Auc = 0\n",
    "            Th = 0\n",
    "            for j,[train_index, test_index] in enumerate(kf.split(testData)):\n",
    "\n",
    "                X_train = testData[train_index]\n",
    "                X_test = testData[test_index]\n",
    "                Y_train = testLabel[train_index]\n",
    "                Y_test = testLabel[test_index]\n",
    "\n",
    "                model = LogisticRegression()\n",
    "                clf =model.fit(X_train, Y_train)\n",
    "                th,_,_,_,_,_,_,acc,mcc,auc = metricsCal.get_train_metrics(clf.decision_function(X_train).reshape(-1),Y_train.reshape(-1))\n",
    "                _,_,_,_,sen,spe,acc,mcc,auc = metricsCal.get_test_metrics(clf.decision_function(X_test).reshape(-1),Y_test.reshape(-1),th)\n",
    "                newTestData_one = np.append(newTestData_one,clf.decision_function(X_test).reshape(-1),axis = 0)\n",
    "                newTestLabel_one = np.append(newTestLabel_one,Y_test.reshape(-1),axis = 0)\n",
    "\n",
    "                Sen+=sen\n",
    "                Spe+=spe\n",
    "                Acc+=acc\n",
    "                Mcc+=mcc\n",
    "                Auc+=auc\n",
    "                Th+=th\n",
    "                print(auc)\n",
    "            if i == 0:\n",
    "                newTestLabel = np.append(newTestLabel,newTestLabel_one,axis=0)\n",
    "                newTestData = np.append(newTestData,newTestData_one,axis = 0)\n",
    "            else:\n",
    "                newTestData = np.append(newTestData.reshape(-1,i),newTestData_one.reshape(-1,1),axis = 1)\n",
    "\n",
    "            Param[rows][0] = Sen/5\n",
    "            Param[rows][1] = Spe/5\n",
    "            Param[rows][2] = Acc/5\n",
    "            Param[rows][3] = Mcc/5\n",
    "            Param[rows][4] = Auc/5\n",
    "            Param[rows][5] = Th/5\n",
    "        pd.DataFrame(np.append(newTestLabel.reshape(-1,1),newTestData,axis=1)).to_csv(\"Result/Stacking_Fusion/\"+type_name[typei]+\"_\"+cell_name[celli]+\"testFold.csv\",header = [\"true\",\"KFold_0\",\"KFold_1\",\"KFold_2\",\"KFold_3\",\"KFold_4\"])"
   ]
  },
  {
   "cell_type": "code",
   "execution_count": 44,
   "id": "5f13dac0",
   "metadata": {
    "ExecuteTime": {
     "end_time": "2023-03-22T13:32:42.436507Z",
     "start_time": "2023-03-22T13:32:42.429383Z"
    }
   },
   "outputs": [],
   "source": [
    "pd.DataFrame(np.append(np.array(row_name).reshape(-1,1),Param,axis=1)).to_csv(\"Table/Stacking_Result_no_Blastn.csv\",header=header_name,index=0)"
   ]
  },
  {
   "cell_type": "code",
   "execution_count": 48,
   "id": "da3217d6",
   "metadata": {
    "ExecuteTime": {
     "end_time": "2023-03-22T13:34:31.233114Z",
     "start_time": "2023-03-22T13:34:31.226027Z"
    }
   },
   "outputs": [
    {
     "data": {
      "text/plain": [
       "0.8130155846217332"
      ]
     },
     "execution_count": 48,
     "metadata": {},
     "output_type": "execute_result"
    }
   ],
   "source": [
    "np.mean(Param[:,-2])"
   ]
  },
  {
   "cell_type": "code",
   "execution_count": null,
   "id": "e861e4a2",
   "metadata": {},
   "outputs": [],
   "source": []
  },
  {
   "cell_type": "code",
   "execution_count": null,
   "id": "76c741fe",
   "metadata": {},
   "outputs": [],
   "source": []
  },
  {
   "cell_type": "code",
   "execution_count": null,
   "id": "82713d2e",
   "metadata": {},
   "outputs": [],
   "source": []
  },
  {
   "cell_type": "code",
   "execution_count": null,
   "id": "67fd7b88",
   "metadata": {},
   "outputs": [],
   "source": []
  },
  {
   "cell_type": "code",
   "execution_count": null,
   "id": "f2e532b6",
   "metadata": {},
   "outputs": [],
   "source": []
  },
  {
   "cell_type": "code",
   "execution_count": null,
   "id": "ddbf5ce6",
   "metadata": {},
   "outputs": [],
   "source": []
  },
  {
   "cell_type": "code",
   "execution_count": null,
   "id": "9e8d684e",
   "metadata": {},
   "outputs": [],
   "source": []
  },
  {
   "cell_type": "code",
   "execution_count": 49,
   "id": "fb278c66",
   "metadata": {
    "ExecuteTime": {
     "end_time": "2023-03-22T13:41:56.407745Z",
     "start_time": "2023-03-22T13:37:59.347419Z"
    }
   },
   "outputs": [
    {
     "name": "stderr",
     "output_type": "stream",
     "text": [
      "/data/xiayunpeng/anaconda3/envs/BERT/lib/python3.6/site-packages/sklearn/utils/validation.py:72: FutureWarning: Pass shuffle=True, random_state=10 as keyword args. From version 1.0 (renaming of 0.25) passing these as positional arguments will result in an error\n",
      "  \"will result in an error\", FutureWarning)\n"
     ]
    },
    {
     "name": "stdout",
     "output_type": "stream",
     "text": [
      "0.8671857552049935\n",
      "0.8661851290476588\n",
      "0.8579759211182683\n",
      "0.8699273410199967\n",
      "0.8700882796047636\n"
     ]
    },
    {
     "name": "stderr",
     "output_type": "stream",
     "text": [
      "/data/xiayunpeng/anaconda3/envs/BERT/lib/python3.6/site-packages/sklearn/utils/validation.py:72: FutureWarning: Pass shuffle=True, random_state=10 as keyword args. From version 1.0 (renaming of 0.25) passing these as positional arguments will result in an error\n",
      "  \"will result in an error\", FutureWarning)\n"
     ]
    },
    {
     "name": "stdout",
     "output_type": "stream",
     "text": [
      "0.8618024881364627\n",
      "0.8639985109622454\n",
      "0.8608261365991083\n",
      "0.8661194152388869\n",
      "0.8724577622149882\n"
     ]
    },
    {
     "name": "stderr",
     "output_type": "stream",
     "text": [
      "/data/xiayunpeng/anaconda3/envs/BERT/lib/python3.6/site-packages/sklearn/utils/validation.py:72: FutureWarning: Pass shuffle=True, random_state=10 as keyword args. From version 1.0 (renaming of 0.25) passing these as positional arguments will result in an error\n",
      "  \"will result in an error\", FutureWarning)\n"
     ]
    },
    {
     "name": "stdout",
     "output_type": "stream",
     "text": [
      "0.8681088452823734\n",
      "0.8678400334332409\n",
      "0.8630117750125694\n",
      "0.869010466108725\n",
      "0.8712678040456866\n"
     ]
    },
    {
     "name": "stderr",
     "output_type": "stream",
     "text": [
      "/data/xiayunpeng/anaconda3/envs/BERT/lib/python3.6/site-packages/sklearn/utils/validation.py:72: FutureWarning: Pass shuffle=True, random_state=10 as keyword args. From version 1.0 (renaming of 0.25) passing these as positional arguments will result in an error\n",
      "  \"will result in an error\", FutureWarning)\n"
     ]
    },
    {
     "name": "stdout",
     "output_type": "stream",
     "text": [
      "0.8673925868923945\n",
      "0.8676661299655681\n",
      "0.8630090383678445\n",
      "0.8658734556973501\n",
      "0.8735184105702904\n"
     ]
    },
    {
     "name": "stderr",
     "output_type": "stream",
     "text": [
      "/data/xiayunpeng/anaconda3/envs/BERT/lib/python3.6/site-packages/sklearn/utils/validation.py:72: FutureWarning: Pass shuffle=True, random_state=10 as keyword args. From version 1.0 (renaming of 0.25) passing these as positional arguments will result in an error\n",
      "  \"will result in an error\", FutureWarning)\n"
     ]
    },
    {
     "name": "stdout",
     "output_type": "stream",
     "text": [
      "0.8647429353170023\n",
      "0.8677383759981068\n",
      "0.8630264844779649\n",
      "0.8678803008300706\n",
      "0.8682493777392813\n"
     ]
    },
    {
     "name": "stderr",
     "output_type": "stream",
     "text": [
      "/data/xiayunpeng/anaconda3/envs/BERT/lib/python3.6/site-packages/sklearn/utils/validation.py:72: FutureWarning: Pass shuffle=True, random_state=10 as keyword args. From version 1.0 (renaming of 0.25) passing these as positional arguments will result in an error\n",
      "  \"will result in an error\", FutureWarning)\n"
     ]
    },
    {
     "name": "stdout",
     "output_type": "stream",
     "text": [
      "0.8560274239201319\n",
      "0.8556960638806256\n",
      "0.8525101074139433\n",
      "0.8522073382535607\n",
      "0.858932177765075\n"
     ]
    },
    {
     "name": "stderr",
     "output_type": "stream",
     "text": [
      "/data/xiayunpeng/anaconda3/envs/BERT/lib/python3.6/site-packages/sklearn/utils/validation.py:72: FutureWarning: Pass shuffle=True, random_state=10 as keyword args. From version 1.0 (renaming of 0.25) passing these as positional arguments will result in an error\n",
      "  \"will result in an error\", FutureWarning)\n"
     ]
    },
    {
     "name": "stdout",
     "output_type": "stream",
     "text": [
      "0.8587020755728396\n",
      "0.8606789187570943\n",
      "0.8561926721129369\n",
      "0.8561295365320732\n",
      "0.8629574758130998\n"
     ]
    },
    {
     "name": "stderr",
     "output_type": "stream",
     "text": [
      "/data/xiayunpeng/anaconda3/envs/BERT/lib/python3.6/site-packages/sklearn/utils/validation.py:72: FutureWarning: Pass shuffle=True, random_state=10 as keyword args. From version 1.0 (renaming of 0.25) passing these as positional arguments will result in an error\n",
      "  \"will result in an error\", FutureWarning)\n"
     ]
    },
    {
     "name": "stdout",
     "output_type": "stream",
     "text": [
      "0.8581811849783019\n",
      "0.8567278988930069\n",
      "0.8549318155146431\n",
      "0.8502383818728658\n",
      "0.8580912685064932\n"
     ]
    },
    {
     "name": "stderr",
     "output_type": "stream",
     "text": [
      "/data/xiayunpeng/anaconda3/envs/BERT/lib/python3.6/site-packages/sklearn/utils/validation.py:72: FutureWarning: Pass shuffle=True, random_state=10 as keyword args. From version 1.0 (renaming of 0.25) passing these as positional arguments will result in an error\n",
      "  \"will result in an error\", FutureWarning)\n"
     ]
    },
    {
     "name": "stdout",
     "output_type": "stream",
     "text": [
      "0.8596138389732418\n",
      "0.8547469941915405\n",
      "0.8536322957440318\n",
      "0.8536187721113022\n",
      "0.8591365644833264\n"
     ]
    },
    {
     "name": "stderr",
     "output_type": "stream",
     "text": [
      "/data/xiayunpeng/anaconda3/envs/BERT/lib/python3.6/site-packages/sklearn/utils/validation.py:72: FutureWarning: Pass shuffle=True, random_state=10 as keyword args. From version 1.0 (renaming of 0.25) passing these as positional arguments will result in an error\n",
      "  \"will result in an error\", FutureWarning)\n"
     ]
    },
    {
     "name": "stdout",
     "output_type": "stream",
     "text": [
      "0.8604405172031151\n",
      "0.8605424788924525\n",
      "0.8534613853957311\n",
      "0.8565192557074319\n",
      "0.8646754991967984\n"
     ]
    },
    {
     "name": "stderr",
     "output_type": "stream",
     "text": [
      "/data/xiayunpeng/anaconda3/envs/BERT/lib/python3.6/site-packages/sklearn/utils/validation.py:72: FutureWarning: Pass shuffle=True, random_state=10 as keyword args. From version 1.0 (renaming of 0.25) passing these as positional arguments will result in an error\n",
      "  \"will result in an error\", FutureWarning)\n"
     ]
    },
    {
     "name": "stdout",
     "output_type": "stream",
     "text": [
      "0.8344337164170847\n",
      "0.8449033864918574\n",
      "0.8407196394372436\n",
      "0.8298846089160343\n",
      "0.8577655465641574\n"
     ]
    },
    {
     "name": "stderr",
     "output_type": "stream",
     "text": [
      "/data/xiayunpeng/anaconda3/envs/BERT/lib/python3.6/site-packages/sklearn/utils/validation.py:72: FutureWarning: Pass shuffle=True, random_state=10 as keyword args. From version 1.0 (renaming of 0.25) passing these as positional arguments will result in an error\n",
      "  \"will result in an error\", FutureWarning)\n"
     ]
    },
    {
     "name": "stdout",
     "output_type": "stream",
     "text": [
      "0.8383863603937793\n",
      "0.8473103590746287\n",
      "0.8365156478670807\n",
      "0.8340986514044746\n",
      "0.8592842555886817\n"
     ]
    },
    {
     "name": "stderr",
     "output_type": "stream",
     "text": [
      "/data/xiayunpeng/anaconda3/envs/BERT/lib/python3.6/site-packages/sklearn/utils/validation.py:72: FutureWarning: Pass shuffle=True, random_state=10 as keyword args. From version 1.0 (renaming of 0.25) passing these as positional arguments will result in an error\n",
      "  \"will result in an error\", FutureWarning)\n"
     ]
    },
    {
     "name": "stdout",
     "output_type": "stream",
     "text": [
      "0.8393916276740401\n",
      "0.8487644352888803\n",
      "0.840686129887386\n",
      "0.8347473576686764\n",
      "0.8604782550135235\n"
     ]
    },
    {
     "name": "stderr",
     "output_type": "stream",
     "text": [
      "/data/xiayunpeng/anaconda3/envs/BERT/lib/python3.6/site-packages/sklearn/utils/validation.py:72: FutureWarning: Pass shuffle=True, random_state=10 as keyword args. From version 1.0 (renaming of 0.25) passing these as positional arguments will result in an error\n",
      "  \"will result in an error\", FutureWarning)\n"
     ]
    },
    {
     "name": "stdout",
     "output_type": "stream",
     "text": [
      "0.8386753474395894\n",
      "0.844793548818845\n",
      "0.8415967154813393\n",
      "0.8335511462297498\n",
      "0.8571030224930563\n"
     ]
    },
    {
     "name": "stderr",
     "output_type": "stream",
     "text": [
      "/data/xiayunpeng/anaconda3/envs/BERT/lib/python3.6/site-packages/sklearn/utils/validation.py:72: FutureWarning: Pass shuffle=True, random_state=10 as keyword args. From version 1.0 (renaming of 0.25) passing these as positional arguments will result in an error\n",
      "  \"will result in an error\", FutureWarning)\n"
     ]
    },
    {
     "name": "stdout",
     "output_type": "stream",
     "text": [
      "0.83886388055008\n",
      "0.8440588729927347\n",
      "0.8332644930624306\n",
      "0.8319443059097797\n",
      "0.858476849880054\n"
     ]
    },
    {
     "name": "stderr",
     "output_type": "stream",
     "text": [
      "/data/xiayunpeng/anaconda3/envs/BERT/lib/python3.6/site-packages/sklearn/utils/validation.py:72: FutureWarning: Pass shuffle=True, random_state=10 as keyword args. From version 1.0 (renaming of 0.25) passing these as positional arguments will result in an error\n",
      "  \"will result in an error\", FutureWarning)\n"
     ]
    },
    {
     "name": "stdout",
     "output_type": "stream",
     "text": [
      "0.8959792930098948\n",
      "0.8890816957753044\n",
      "0.8983810181324774\n",
      "0.8880435823181677\n",
      "0.8957563140830073\n"
     ]
    },
    {
     "name": "stderr",
     "output_type": "stream",
     "text": [
      "/data/xiayunpeng/anaconda3/envs/BERT/lib/python3.6/site-packages/sklearn/utils/validation.py:72: FutureWarning: Pass shuffle=True, random_state=10 as keyword args. From version 1.0 (renaming of 0.25) passing these as positional arguments will result in an error\n",
      "  \"will result in an error\", FutureWarning)\n"
     ]
    },
    {
     "name": "stdout",
     "output_type": "stream",
     "text": [
      "0.8921640600063836\n",
      "0.8875356988812442\n",
      "0.8995804853458781\n",
      "0.8867222714182004\n",
      "0.8986267143637661\n"
     ]
    },
    {
     "name": "stderr",
     "output_type": "stream",
     "text": [
      "/data/xiayunpeng/anaconda3/envs/BERT/lib/python3.6/site-packages/sklearn/utils/validation.py:72: FutureWarning: Pass shuffle=True, random_state=10 as keyword args. From version 1.0 (renaming of 0.25) passing these as positional arguments will result in an error\n",
      "  \"will result in an error\", FutureWarning)\n"
     ]
    },
    {
     "name": "stdout",
     "output_type": "stream",
     "text": [
      "0.8995032716246409\n",
      "0.8870954085286832\n",
      "0.8990006764437192\n",
      "0.8848774222371141\n",
      "0.8969168371558811\n"
     ]
    },
    {
     "name": "stderr",
     "output_type": "stream",
     "text": [
      "/data/xiayunpeng/anaconda3/envs/BERT/lib/python3.6/site-packages/sklearn/utils/validation.py:72: FutureWarning: Pass shuffle=True, random_state=10 as keyword args. From version 1.0 (renaming of 0.25) passing these as positional arguments will result in an error\n",
      "  \"will result in an error\", FutureWarning)\n"
     ]
    },
    {
     "name": "stdout",
     "output_type": "stream",
     "text": [
      "0.8941150654324929\n",
      "0.8842863162340631\n",
      "0.8978739344018952\n",
      "0.8884763739638928\n",
      "0.9000404787257377\n"
     ]
    },
    {
     "name": "stderr",
     "output_type": "stream",
     "text": [
      "/data/xiayunpeng/anaconda3/envs/BERT/lib/python3.6/site-packages/sklearn/utils/validation.py:72: FutureWarning: Pass shuffle=True, random_state=10 as keyword args. From version 1.0 (renaming of 0.25) passing these as positional arguments will result in an error\n",
      "  \"will result in an error\", FutureWarning)\n"
     ]
    },
    {
     "name": "stdout",
     "output_type": "stream",
     "text": [
      "0.8962625678263645\n",
      "0.8874032133226681\n",
      "0.8978998365177993\n",
      "0.8880316157288849\n",
      "0.8934103426135299\n"
     ]
    },
    {
     "name": "stderr",
     "output_type": "stream",
     "text": [
      "/data/xiayunpeng/anaconda3/envs/BERT/lib/python3.6/site-packages/sklearn/utils/validation.py:72: FutureWarning: Pass shuffle=True, random_state=10 as keyword args. From version 1.0 (renaming of 0.25) passing these as positional arguments will result in an error\n",
      "  \"will result in an error\", FutureWarning)\n"
     ]
    },
    {
     "name": "stdout",
     "output_type": "stream",
     "text": [
      "0.8129346519303637\n",
      "0.8133780410041771\n",
      "0.8134827573826304\n",
      "0.8101023634838027\n",
      "0.819634141896615\n"
     ]
    },
    {
     "name": "stderr",
     "output_type": "stream",
     "text": [
      "/data/xiayunpeng/anaconda3/envs/BERT/lib/python3.6/site-packages/sklearn/utils/validation.py:72: FutureWarning: Pass shuffle=True, random_state=10 as keyword args. From version 1.0 (renaming of 0.25) passing these as positional arguments will result in an error\n",
      "  \"will result in an error\", FutureWarning)\n"
     ]
    },
    {
     "name": "stdout",
     "output_type": "stream",
     "text": [
      "0.8167032468640165\n",
      "0.8130717504707528\n",
      "0.8118221087270374\n",
      "0.8116114950980093\n",
      "0.8219180927275731\n"
     ]
    },
    {
     "name": "stderr",
     "output_type": "stream",
     "text": [
      "/data/xiayunpeng/anaconda3/envs/BERT/lib/python3.6/site-packages/sklearn/utils/validation.py:72: FutureWarning: Pass shuffle=True, random_state=10 as keyword args. From version 1.0 (renaming of 0.25) passing these as positional arguments will result in an error\n",
      "  \"will result in an error\", FutureWarning)\n"
     ]
    },
    {
     "name": "stdout",
     "output_type": "stream",
     "text": [
      "0.8135830802032531\n",
      "0.8110289179949026\n",
      "0.8080941875790889\n",
      "0.8081108292447787\n",
      "0.8195456899102226\n"
     ]
    },
    {
     "name": "stderr",
     "output_type": "stream",
     "text": [
      "/data/xiayunpeng/anaconda3/envs/BERT/lib/python3.6/site-packages/sklearn/utils/validation.py:72: FutureWarning: Pass shuffle=True, random_state=10 as keyword args. From version 1.0 (renaming of 0.25) passing these as positional arguments will result in an error\n",
      "  \"will result in an error\", FutureWarning)\n"
     ]
    },
    {
     "name": "stdout",
     "output_type": "stream",
     "text": [
      "0.8154209246871345\n",
      "0.8144128096204862\n",
      "0.8121997490647732\n",
      "0.8105837890081902\n",
      "0.8180932773436062\n"
     ]
    },
    {
     "name": "stderr",
     "output_type": "stream",
     "text": [
      "/data/xiayunpeng/anaconda3/envs/BERT/lib/python3.6/site-packages/sklearn/utils/validation.py:72: FutureWarning: Pass shuffle=True, random_state=10 as keyword args. From version 1.0 (renaming of 0.25) passing these as positional arguments will result in an error\n",
      "  \"will result in an error\", FutureWarning)\n"
     ]
    },
    {
     "name": "stdout",
     "output_type": "stream",
     "text": [
      "0.8138951823656171\n",
      "0.8097233159231345\n",
      "0.8062192564250759\n",
      "0.8052420623821627\n",
      "0.8150083310612874\n"
     ]
    },
    {
     "name": "stderr",
     "output_type": "stream",
     "text": [
      "/data/xiayunpeng/anaconda3/envs/BERT/lib/python3.6/site-packages/sklearn/utils/validation.py:72: FutureWarning: Pass shuffle=True, random_state=10 as keyword args. From version 1.0 (renaming of 0.25) passing these as positional arguments will result in an error\n",
      "  \"will result in an error\", FutureWarning)\n"
     ]
    },
    {
     "name": "stdout",
     "output_type": "stream",
     "text": [
      "0.8223884141687027\n",
      "0.8148609650978209\n",
      "0.8231464061710192\n",
      "0.8186995610676062\n",
      "0.8182515741339271\n"
     ]
    },
    {
     "name": "stderr",
     "output_type": "stream",
     "text": [
      "/data/xiayunpeng/anaconda3/envs/BERT/lib/python3.6/site-packages/sklearn/utils/validation.py:72: FutureWarning: Pass shuffle=True, random_state=10 as keyword args. From version 1.0 (renaming of 0.25) passing these as positional arguments will result in an error\n",
      "  \"will result in an error\", FutureWarning)\n"
     ]
    },
    {
     "name": "stdout",
     "output_type": "stream",
     "text": [
      "0.826846343803765\n",
      "0.821069413637884\n",
      "0.8244570597929635\n",
      "0.8196888941009783\n",
      "0.8190838301132419\n"
     ]
    },
    {
     "name": "stderr",
     "output_type": "stream",
     "text": [
      "/data/xiayunpeng/anaconda3/envs/BERT/lib/python3.6/site-packages/sklearn/utils/validation.py:72: FutureWarning: Pass shuffle=True, random_state=10 as keyword args. From version 1.0 (renaming of 0.25) passing these as positional arguments will result in an error\n",
      "  \"will result in an error\", FutureWarning)\n"
     ]
    },
    {
     "name": "stdout",
     "output_type": "stream",
     "text": [
      "0.8264093446628079\n",
      "0.8141585057121197\n",
      "0.8230647520316328\n",
      "0.8178254059047656\n",
      "0.8207193133663722\n"
     ]
    },
    {
     "name": "stderr",
     "output_type": "stream",
     "text": [
      "/data/xiayunpeng/anaconda3/envs/BERT/lib/python3.6/site-packages/sklearn/utils/validation.py:72: FutureWarning: Pass shuffle=True, random_state=10 as keyword args. From version 1.0 (renaming of 0.25) passing these as positional arguments will result in an error\n",
      "  \"will result in an error\", FutureWarning)\n"
     ]
    },
    {
     "name": "stdout",
     "output_type": "stream",
     "text": [
      "0.8249188814736292\n",
      "0.8158619996397951\n",
      "0.8195769537921318\n",
      "0.8190205632885945\n",
      "0.8179190907132083\n"
     ]
    },
    {
     "name": "stderr",
     "output_type": "stream",
     "text": [
      "/data/xiayunpeng/anaconda3/envs/BERT/lib/python3.6/site-packages/sklearn/utils/validation.py:72: FutureWarning: Pass shuffle=True, random_state=10 as keyword args. From version 1.0 (renaming of 0.25) passing these as positional arguments will result in an error\n",
      "  \"will result in an error\", FutureWarning)\n"
     ]
    },
    {
     "name": "stdout",
     "output_type": "stream",
     "text": [
      "0.8263291832871906\n",
      "0.81549850383331\n",
      "0.8209878057169862\n",
      "0.8176192823910088\n",
      "0.8188845196198138\n"
     ]
    },
    {
     "name": "stderr",
     "output_type": "stream",
     "text": [
      "/data/xiayunpeng/anaconda3/envs/BERT/lib/python3.6/site-packages/sklearn/utils/validation.py:72: FutureWarning: Pass shuffle=True, random_state=10 as keyword args. From version 1.0 (renaming of 0.25) passing these as positional arguments will result in an error\n",
      "  \"will result in an error\", FutureWarning)\n"
     ]
    },
    {
     "name": "stdout",
     "output_type": "stream",
     "text": [
      "0.8302412173886571\n",
      "0.8227099103287622\n",
      "0.8215515985643836\n",
      "0.8192450816673686\n",
      "0.8237531708576256\n"
     ]
    },
    {
     "name": "stderr",
     "output_type": "stream",
     "text": [
      "/data/xiayunpeng/anaconda3/envs/BERT/lib/python3.6/site-packages/sklearn/utils/validation.py:72: FutureWarning: Pass shuffle=True, random_state=10 as keyword args. From version 1.0 (renaming of 0.25) passing these as positional arguments will result in an error\n",
      "  \"will result in an error\", FutureWarning)\n"
     ]
    },
    {
     "name": "stdout",
     "output_type": "stream",
     "text": [
      "0.8276390038163607\n",
      "0.8219856253429003\n",
      "0.8215708879736848\n",
      "0.8172279361466424\n",
      "0.8235964229646391\n"
     ]
    },
    {
     "name": "stderr",
     "output_type": "stream",
     "text": [
      "/data/xiayunpeng/anaconda3/envs/BERT/lib/python3.6/site-packages/sklearn/utils/validation.py:72: FutureWarning: Pass shuffle=True, random_state=10 as keyword args. From version 1.0 (renaming of 0.25) passing these as positional arguments will result in an error\n",
      "  \"will result in an error\", FutureWarning)\n"
     ]
    },
    {
     "name": "stdout",
     "output_type": "stream",
     "text": [
      "0.8267435496860289\n",
      "0.817799820256249\n",
      "0.8160993562008271\n",
      "0.81117866158395\n",
      "0.8205887146361357\n"
     ]
    },
    {
     "name": "stderr",
     "output_type": "stream",
     "text": [
      "/data/xiayunpeng/anaconda3/envs/BERT/lib/python3.6/site-packages/sklearn/utils/validation.py:72: FutureWarning: Pass shuffle=True, random_state=10 as keyword args. From version 1.0 (renaming of 0.25) passing these as positional arguments will result in an error\n",
      "  \"will result in an error\", FutureWarning)\n"
     ]
    },
    {
     "name": "stdout",
     "output_type": "stream",
     "text": [
      "0.8309470988462357\n",
      "0.8211281584014292\n",
      "0.8215990003415004\n",
      "0.8154096945786565\n",
      "0.8242424457377202\n"
     ]
    },
    {
     "name": "stderr",
     "output_type": "stream",
     "text": [
      "/data/xiayunpeng/anaconda3/envs/BERT/lib/python3.6/site-packages/sklearn/utils/validation.py:72: FutureWarning: Pass shuffle=True, random_state=10 as keyword args. From version 1.0 (renaming of 0.25) passing these as positional arguments will result in an error\n",
      "  \"will result in an error\", FutureWarning)\n"
     ]
    },
    {
     "name": "stdout",
     "output_type": "stream",
     "text": [
      "0.8315226490912966\n",
      "0.8218492435610849\n",
      "0.8201821370035919\n",
      "0.8195742244691642\n",
      "0.8238725483920191\n"
     ]
    },
    {
     "name": "stderr",
     "output_type": "stream",
     "text": [
      "/data/xiayunpeng/anaconda3/envs/BERT/lib/python3.6/site-packages/sklearn/utils/validation.py:72: FutureWarning: Pass shuffle=True, random_state=10 as keyword args. From version 1.0 (renaming of 0.25) passing these as positional arguments will result in an error\n",
      "  \"will result in an error\", FutureWarning)\n"
     ]
    },
    {
     "name": "stdout",
     "output_type": "stream",
     "text": [
      "0.8097991015810482\n",
      "0.812517772539693\n",
      "0.8076720181482602\n",
      "0.8044649062358824\n",
      "0.8122738073209916\n"
     ]
    },
    {
     "name": "stderr",
     "output_type": "stream",
     "text": [
      "/data/xiayunpeng/anaconda3/envs/BERT/lib/python3.6/site-packages/sklearn/utils/validation.py:72: FutureWarning: Pass shuffle=True, random_state=10 as keyword args. From version 1.0 (renaming of 0.25) passing these as positional arguments will result in an error\n",
      "  \"will result in an error\", FutureWarning)\n"
     ]
    },
    {
     "name": "stdout",
     "output_type": "stream",
     "text": [
      "0.8054374679723751\n",
      "0.8080656779063538\n",
      "0.8094111138566653\n",
      "0.8065175476164039\n",
      "0.811120265043043\n"
     ]
    },
    {
     "name": "stderr",
     "output_type": "stream",
     "text": [
      "/data/xiayunpeng/anaconda3/envs/BERT/lib/python3.6/site-packages/sklearn/utils/validation.py:72: FutureWarning: Pass shuffle=True, random_state=10 as keyword args. From version 1.0 (renaming of 0.25) passing these as positional arguments will result in an error\n",
      "  \"will result in an error\", FutureWarning)\n"
     ]
    },
    {
     "name": "stdout",
     "output_type": "stream",
     "text": [
      "0.8061962876162986\n",
      "0.8130331761907896\n",
      "0.8068837357625762\n",
      "0.8028606559640277\n",
      "0.8088557682988078\n"
     ]
    },
    {
     "name": "stderr",
     "output_type": "stream",
     "text": [
      "/data/xiayunpeng/anaconda3/envs/BERT/lib/python3.6/site-packages/sklearn/utils/validation.py:72: FutureWarning: Pass shuffle=True, random_state=10 as keyword args. From version 1.0 (renaming of 0.25) passing these as positional arguments will result in an error\n",
      "  \"will result in an error\", FutureWarning)\n"
     ]
    },
    {
     "name": "stdout",
     "output_type": "stream",
     "text": [
      "0.8081919906256023\n",
      "0.8068860806644169\n",
      "0.8066426555470252\n",
      "0.8026637046123333\n",
      "0.8048177094806344\n"
     ]
    },
    {
     "name": "stderr",
     "output_type": "stream",
     "text": [
      "/data/xiayunpeng/anaconda3/envs/BERT/lib/python3.6/site-packages/sklearn/utils/validation.py:72: FutureWarning: Pass shuffle=True, random_state=10 as keyword args. From version 1.0 (renaming of 0.25) passing these as positional arguments will result in an error\n",
      "  \"will result in an error\", FutureWarning)\n"
     ]
    },
    {
     "name": "stdout",
     "output_type": "stream",
     "text": [
      "0.8064510394580338\n",
      "0.8104682021357599\n",
      "0.8065141871008576\n",
      "0.8054026649089383\n",
      "0.8094728510043381\n"
     ]
    },
    {
     "name": "stderr",
     "output_type": "stream",
     "text": [
      "/data/xiayunpeng/anaconda3/envs/BERT/lib/python3.6/site-packages/sklearn/utils/validation.py:72: FutureWarning: Pass shuffle=True, random_state=10 as keyword args. From version 1.0 (renaming of 0.25) passing these as positional arguments will result in an error\n",
      "  \"will result in an error\", FutureWarning)\n"
     ]
    },
    {
     "name": "stdout",
     "output_type": "stream",
     "text": [
      "0.765551823608999\n",
      "0.7539589250122289\n",
      "0.7621267621267622\n",
      "0.7442710644957836\n",
      "0.7498708055601784\n"
     ]
    },
    {
     "name": "stderr",
     "output_type": "stream",
     "text": [
      "/data/xiayunpeng/anaconda3/envs/BERT/lib/python3.6/site-packages/sklearn/utils/validation.py:72: FutureWarning: Pass shuffle=True, random_state=10 as keyword args. From version 1.0 (renaming of 0.25) passing these as positional arguments will result in an error\n",
      "  \"will result in an error\", FutureWarning)\n"
     ]
    },
    {
     "name": "stdout",
     "output_type": "stream",
     "text": [
      "0.7718470217972422\n",
      "0.757223897378239\n",
      "0.764239415555205\n",
      "0.7518855556074657\n",
      "0.7548546453065194\n"
     ]
    },
    {
     "name": "stderr",
     "output_type": "stream",
     "text": [
      "/data/xiayunpeng/anaconda3/envs/BERT/lib/python3.6/site-packages/sklearn/utils/validation.py:72: FutureWarning: Pass shuffle=True, random_state=10 as keyword args. From version 1.0 (renaming of 0.25) passing these as positional arguments will result in an error\n",
      "  \"will result in an error\", FutureWarning)\n"
     ]
    },
    {
     "name": "stdout",
     "output_type": "stream",
     "text": [
      "0.7664832299450419\n",
      "0.7518650205520958\n",
      "0.75818552792237\n",
      "0.7436571456936625\n",
      "0.7502963443082915\n"
     ]
    },
    {
     "name": "stderr",
     "output_type": "stream",
     "text": [
      "/data/xiayunpeng/anaconda3/envs/BERT/lib/python3.6/site-packages/sklearn/utils/validation.py:72: FutureWarning: Pass shuffle=True, random_state=10 as keyword args. From version 1.0 (renaming of 0.25) passing these as positional arguments will result in an error\n",
      "  \"will result in an error\", FutureWarning)\n"
     ]
    },
    {
     "name": "stdout",
     "output_type": "stream",
     "text": [
      "0.7626496577428166\n",
      "0.7498360942987099\n",
      "0.7550256760783076\n",
      "0.7436213763460955\n",
      "0.753550292402783\n"
     ]
    },
    {
     "name": "stderr",
     "output_type": "stream",
     "text": [
      "/data/xiayunpeng/anaconda3/envs/BERT/lib/python3.6/site-packages/sklearn/utils/validation.py:72: FutureWarning: Pass shuffle=True, random_state=10 as keyword args. From version 1.0 (renaming of 0.25) passing these as positional arguments will result in an error\n",
      "  \"will result in an error\", FutureWarning)\n"
     ]
    },
    {
     "name": "stdout",
     "output_type": "stream",
     "text": [
      "0.7706362664974528\n",
      "0.7542173776547978\n",
      "0.7608393068919386\n",
      "0.7502394356326941\n",
      "0.7557276201654274\n"
     ]
    },
    {
     "name": "stderr",
     "output_type": "stream",
     "text": [
      "/data/xiayunpeng/anaconda3/envs/BERT/lib/python3.6/site-packages/sklearn/utils/validation.py:72: FutureWarning: Pass shuffle=True, random_state=10 as keyword args. From version 1.0 (renaming of 0.25) passing these as positional arguments will result in an error\n",
      "  \"will result in an error\", FutureWarning)\n"
     ]
    },
    {
     "name": "stdout",
     "output_type": "stream",
     "text": [
      "0.8168057003475676\n",
      "0.8065601186028203\n",
      "0.819642113857582\n",
      "0.8235261759237312\n",
      "0.8163202652810612\n"
     ]
    },
    {
     "name": "stderr",
     "output_type": "stream",
     "text": [
      "/data/xiayunpeng/anaconda3/envs/BERT/lib/python3.6/site-packages/sklearn/utils/validation.py:72: FutureWarning: Pass shuffle=True, random_state=10 as keyword args. From version 1.0 (renaming of 0.25) passing these as positional arguments will result in an error\n",
      "  \"will result in an error\", FutureWarning)\n"
     ]
    },
    {
     "name": "stdout",
     "output_type": "stream",
     "text": [
      "0.8266794594994786\n",
      "0.8208939567707105\n",
      "0.8321663278048155\n",
      "0.8377435786647943\n",
      "0.8294823179292717\n"
     ]
    },
    {
     "name": "stderr",
     "output_type": "stream",
     "text": [
      "/data/xiayunpeng/anaconda3/envs/BERT/lib/python3.6/site-packages/sklearn/utils/validation.py:72: FutureWarning: Pass shuffle=True, random_state=10 as keyword args. From version 1.0 (renaming of 0.25) passing these as positional arguments will result in an error\n",
      "  \"will result in an error\", FutureWarning)\n"
     ]
    },
    {
     "name": "stdout",
     "output_type": "stream",
     "text": [
      "0.8164715392819338\n",
      "0.8087059984735082\n",
      "0.8192188700691598\n",
      "0.8288870819168439\n",
      "0.8258283033132132\n"
     ]
    },
    {
     "name": "stderr",
     "output_type": "stream",
     "text": [
      "/data/xiayunpeng/anaconda3/envs/BERT/lib/python3.6/site-packages/sklearn/utils/validation.py:72: FutureWarning: Pass shuffle=True, random_state=10 as keyword args. From version 1.0 (renaming of 0.25) passing these as positional arguments will result in an error\n",
      "  \"will result in an error\", FutureWarning)\n"
     ]
    },
    {
     "name": "stdout",
     "output_type": "stream",
     "text": [
      "0.8227855826508377\n",
      "0.8152145680068091\n",
      "0.8244268698770492\n",
      "0.8294861831649549\n",
      "0.8242862971451885\n"
     ]
    },
    {
     "name": "stderr",
     "output_type": "stream",
     "text": [
      "/data/xiayunpeng/anaconda3/envs/BERT/lib/python3.6/site-packages/sklearn/utils/validation.py:72: FutureWarning: Pass shuffle=True, random_state=10 as keyword args. From version 1.0 (renaming of 0.25) passing these as positional arguments will result in an error\n",
      "  \"will result in an error\", FutureWarning)\n"
     ]
    },
    {
     "name": "stdout",
     "output_type": "stream",
     "text": [
      "0.821763089809288\n",
      "0.8099557637054589\n",
      "0.8198222175973362\n",
      "0.8271627905115965\n",
      "0.8215292861171444\n"
     ]
    },
    {
     "name": "stderr",
     "output_type": "stream",
     "text": [
      "/data/xiayunpeng/anaconda3/envs/BERT/lib/python3.6/site-packages/sklearn/utils/validation.py:72: FutureWarning: Pass shuffle=True, random_state=10 as keyword args. From version 1.0 (renaming of 0.25) passing these as positional arguments will result in an error\n",
      "  \"will result in an error\", FutureWarning)\n"
     ]
    },
    {
     "name": "stdout",
     "output_type": "stream",
     "text": [
      "0.7583407895786881\n",
      "0.7584007263354474\n",
      "0.7554286843810356\n",
      "0.7579987472181523\n",
      "0.7509346066794915\n"
     ]
    },
    {
     "name": "stderr",
     "output_type": "stream",
     "text": [
      "/data/xiayunpeng/anaconda3/envs/BERT/lib/python3.6/site-packages/sklearn/utils/validation.py:72: FutureWarning: Pass shuffle=True, random_state=10 as keyword args. From version 1.0 (renaming of 0.25) passing these as positional arguments will result in an error\n",
      "  \"will result in an error\", FutureWarning)\n"
     ]
    },
    {
     "name": "stdout",
     "output_type": "stream",
     "text": [
      "0.7566953691761861\n",
      "0.759450510591193\n",
      "0.7543895030257409\n",
      "0.7568402673713115\n",
      "0.7500879930400265\n"
     ]
    },
    {
     "name": "stderr",
     "output_type": "stream",
     "text": [
      "/data/xiayunpeng/anaconda3/envs/BERT/lib/python3.6/site-packages/sklearn/utils/validation.py:72: FutureWarning: Pass shuffle=True, random_state=10 as keyword args. From version 1.0 (renaming of 0.25) passing these as positional arguments will result in an error\n",
      "  \"will result in an error\", FutureWarning)\n"
     ]
    },
    {
     "name": "stdout",
     "output_type": "stream",
     "text": [
      "0.7506634413680869\n",
      "0.75488912954023\n",
      "0.7481814326282346\n",
      "0.7539736418754188\n",
      "0.7448130300175431\n"
     ]
    },
    {
     "name": "stderr",
     "output_type": "stream",
     "text": [
      "/data/xiayunpeng/anaconda3/envs/BERT/lib/python3.6/site-packages/sklearn/utils/validation.py:72: FutureWarning: Pass shuffle=True, random_state=10 as keyword args. From version 1.0 (renaming of 0.25) passing these as positional arguments will result in an error\n",
      "  \"will result in an error\", FutureWarning)\n"
     ]
    },
    {
     "name": "stdout",
     "output_type": "stream",
     "text": [
      "0.7536832871370972\n",
      "0.7587056276610407\n",
      "0.750928617102381\n",
      "0.758539297569044\n",
      "0.7479768550302299\n"
     ]
    },
    {
     "name": "stderr",
     "output_type": "stream",
     "text": [
      "/data/xiayunpeng/anaconda3/envs/BERT/lib/python3.6/site-packages/sklearn/utils/validation.py:72: FutureWarning: Pass shuffle=True, random_state=10 as keyword args. From version 1.0 (renaming of 0.25) passing these as positional arguments will result in an error\n",
      "  \"will result in an error\", FutureWarning)\n"
     ]
    },
    {
     "name": "stdout",
     "output_type": "stream",
     "text": [
      "0.7557244943186454\n",
      "0.7585872229505521\n",
      "0.7517756496395811\n",
      "0.7560954573332294\n",
      "0.7479759556820857\n"
     ]
    },
    {
     "name": "stderr",
     "output_type": "stream",
     "text": [
      "/data/xiayunpeng/anaconda3/envs/BERT/lib/python3.6/site-packages/sklearn/utils/validation.py:72: FutureWarning: Pass shuffle=True, random_state=10 as keyword args. From version 1.0 (renaming of 0.25) passing these as positional arguments will result in an error\n",
      "  \"will result in an error\", FutureWarning)\n"
     ]
    },
    {
     "name": "stdout",
     "output_type": "stream",
     "text": [
      "0.7500440438020661\n",
      "0.758686729230023\n",
      "0.756140426145761\n",
      "0.737322213722893\n",
      "0.7271060232498128\n"
     ]
    },
    {
     "name": "stderr",
     "output_type": "stream",
     "text": [
      "/data/xiayunpeng/anaconda3/envs/BERT/lib/python3.6/site-packages/sklearn/utils/validation.py:72: FutureWarning: Pass shuffle=True, random_state=10 as keyword args. From version 1.0 (renaming of 0.25) passing these as positional arguments will result in an error\n",
      "  \"will result in an error\", FutureWarning)\n"
     ]
    },
    {
     "name": "stdout",
     "output_type": "stream",
     "text": [
      "0.744490019379273\n",
      "0.7589672070996349\n",
      "0.7538233487287008\n",
      "0.731084535159238\n",
      "0.7263542440701786\n"
     ]
    },
    {
     "name": "stderr",
     "output_type": "stream",
     "text": [
      "/data/xiayunpeng/anaconda3/envs/BERT/lib/python3.6/site-packages/sklearn/utils/validation.py:72: FutureWarning: Pass shuffle=True, random_state=10 as keyword args. From version 1.0 (renaming of 0.25) passing these as positional arguments will result in an error\n",
      "  \"will result in an error\", FutureWarning)\n"
     ]
    },
    {
     "name": "stdout",
     "output_type": "stream",
     "text": [
      "0.7490780319458163\n",
      "0.7599970770598954\n",
      "0.7563981555404671\n",
      "0.7386139044882678\n",
      "0.7306678025227197\n"
     ]
    },
    {
     "name": "stderr",
     "output_type": "stream",
     "text": [
      "/data/xiayunpeng/anaconda3/envs/BERT/lib/python3.6/site-packages/sklearn/utils/validation.py:72: FutureWarning: Pass shuffle=True, random_state=10 as keyword args. From version 1.0 (renaming of 0.25) passing these as positional arguments will result in an error\n",
      "  \"will result in an error\", FutureWarning)\n"
     ]
    },
    {
     "name": "stdout",
     "output_type": "stream",
     "text": [
      "0.7428736817542452\n",
      "0.7572227715691213\n",
      "0.7498106668258433\n",
      "0.7344676828547796\n",
      "0.724647972714582\n"
     ]
    },
    {
     "name": "stderr",
     "output_type": "stream",
     "text": [
      "/data/xiayunpeng/anaconda3/envs/BERT/lib/python3.6/site-packages/sklearn/utils/validation.py:72: FutureWarning: Pass shuffle=True, random_state=10 as keyword args. From version 1.0 (renaming of 0.25) passing these as positional arguments will result in an error\n",
      "  \"will result in an error\", FutureWarning)\n"
     ]
    },
    {
     "name": "stdout",
     "output_type": "stream",
     "text": [
      "0.740201846452897\n",
      "0.7577977201067184\n",
      "0.7534922488428604\n",
      "0.7289641597791005\n",
      "0.7280113917242107\n"
     ]
    }
   ],
   "source": [
    "#Logistic回归模型,训练新数据测试集测试新数据,带Blastn的\n",
    "header_name = [\"name\",\"Sen\",\"Spe\",\"Acc\",\"Mcc\",\"Auc\",\"th\"]\n",
    "Param = np.zeros(60*6).reshape(60,6)\n",
    "row_name = []\n",
    "rows = -1\n",
    "for typei in range(len(type_name)):\n",
    "    for celli in range(len(cell_name)):\n",
    "        \n",
    "        testLabel = np.array(pd.read_csv(\"Result/\"+feature_name[0]+\"/\"+type_name[typei]+\"_\"+cell_name[celli]+\"test_result.csv\").iloc[:,1])\n",
    "        test_1 = pd.read_csv(\"Result/\"+feature_name[0]+\"/\"+type_name[typei]+\"_\"+cell_name[celli]+\"test_result.csv\").iloc[:,2:7]\n",
    "        test_2 = pd.read_csv(\"Result/\"+feature_name[1]+\"/\"+type_name[typei]+\"_\"+cell_name[celli]+\"test_result.csv\").iloc[:,2:7]\n",
    "        test_3 = pd.read_csv(\"Result/\"+feature_name[2]+\"/\"+type_name[typei]+\"_\"+cell_name[celli]+\"test_result.csv\").iloc[:,2:7]\n",
    "        test_4 = pd.read_csv(\"Result/\"+feature_name[3]+\"/\"+type_name[typei]+\"_\"+cell_name[celli]+\"test_result.csv\").iloc[:,2:7]\n",
    "        test_Blastn = pd.read_csv(\"Stacking_result/all_test_KFold/test_\"+type_name[typei]+\"_\"+cell_name[celli]+\"_Kfold0\"+\".csv\").iloc[:,10]\n",
    "        \n",
    "\n",
    "        \n",
    "        newTestData = np.array([])\n",
    "        newTestLabel = np.array([])\n",
    "        for i in range(5):\n",
    "            rows+=1\n",
    "            row_name.append([type_name[typei]+\"_\"+cell_name[celli]+\"_KFold_\"+str(i)])\n",
    "\n",
    "            testData = np.array(pd.DataFrame([test_1.iloc[:,i],test_2.iloc[:,i],test_3.iloc[:,i],test_4.iloc[:,i],test_Blastn]).T)\n",
    "\n",
    "            newTestData_one = np.array([])\n",
    "            newTestLabel_one = np.array([])\n",
    "\n",
    "            kf = KFold(5,True,10)\n",
    "            Sen = 0\n",
    "            Spe = 0\n",
    "            Acc = 0\n",
    "            Mcc = 0\n",
    "            Auc = 0\n",
    "            Th = 0\n",
    "            for j,[train_index, test_index] in enumerate(kf.split(testData)):\n",
    "\n",
    "                X_train = testData[train_index]\n",
    "                X_test = testData[test_index]\n",
    "                Y_train = testLabel[train_index]\n",
    "                Y_test = testLabel[test_index]\n",
    "\n",
    "                model = LogisticRegression()\n",
    "                clf =model.fit(X_train, Y_train)\n",
    "                th,_,_,_,_,_,_,acc,mcc,auc = metricsCal.get_train_metrics(clf.decision_function(X_train).reshape(-1),Y_train.reshape(-1))\n",
    "                _,_,_,_,sen,spe,acc,mcc,auc = metricsCal.get_test_metrics(clf.decision_function(X_test).reshape(-1),Y_test.reshape(-1),th)\n",
    "                newTestData_one = np.append(newTestData_one,clf.decision_function(X_test).reshape(-1),axis = 0)\n",
    "                newTestLabel_one = np.append(newTestLabel_one,Y_test.reshape(-1),axis = 0)\n",
    "\n",
    "                Sen+=sen\n",
    "                Spe+=spe\n",
    "                Acc+=acc\n",
    "                Mcc+=mcc\n",
    "                Auc+=auc\n",
    "                Th+=th\n",
    "                print(auc)\n",
    "            if i == 0:\n",
    "                newTestLabel = np.append(newTestLabel,newTestLabel_one,axis=0)\n",
    "                newTestData = np.append(newTestData,newTestData_one,axis = 0)\n",
    "            else:\n",
    "                newTestData = np.append(newTestData.reshape(-1,i),newTestData_one.reshape(-1,1),axis = 1)\n",
    "\n",
    "            Param[rows][0] = Sen/5\n",
    "            Param[rows][1] = Spe/5\n",
    "            Param[rows][2] = Acc/5\n",
    "            Param[rows][3] = Mcc/5\n",
    "            Param[rows][4] = Auc/5\n",
    "            Param[rows][5] = Th/5\n",
    "        pd.DataFrame(np.append(newTestLabel.reshape(-1,1),newTestData,axis=1)).to_csv(\"Result/Stacking_Fusion_With_Blastn/\"+type_name[typei]+\"_\"+cell_name[celli]+\"testFold.csv\",header = [\"true\",\"KFold_0\",\"KFold_1\",\"KFold_2\",\"KFold_3\",\"KFold_4\"])"
   ]
  },
  {
   "cell_type": "code",
   "execution_count": 50,
   "id": "bdd1db3d",
   "metadata": {
    "ExecuteTime": {
     "end_time": "2023-03-22T13:41:56.527135Z",
     "start_time": "2023-03-22T13:41:56.520621Z"
    }
   },
   "outputs": [],
   "source": [
    "pd.DataFrame(np.append(np.array(row_name).reshape(-1,1),Param,axis=1)).to_csv(\"Table/Stacking_Result.csv\",header=header_name,index=0)"
   ]
  },
  {
   "cell_type": "code",
   "execution_count": 51,
   "id": "d16495e0",
   "metadata": {
    "ExecuteTime": {
     "end_time": "2023-03-22T13:41:56.659355Z",
     "start_time": "2023-03-22T13:41:56.654677Z"
    }
   },
   "outputs": [
    {
     "data": {
      "text/plain": [
       "0.8165320383582648"
      ]
     },
     "execution_count": 51,
     "metadata": {},
     "output_type": "execute_result"
    }
   ],
   "source": [
    "np.mean(Param[:,-2])"
   ]
  },
  {
   "cell_type": "code",
   "execution_count": null,
   "id": "792e09df",
   "metadata": {},
   "outputs": [],
   "source": []
  }
 ],
 "metadata": {
  "kernelspec": {
   "display_name": "Python [conda env:BERT]",
   "language": "python",
   "name": "conda-env-BERT-py"
  },
  "language_info": {
   "codemirror_mode": {
    "name": "ipython",
    "version": 3
   },
   "file_extension": ".py",
   "mimetype": "text/x-python",
   "name": "python",
   "nbconvert_exporter": "python",
   "pygments_lexer": "ipython3",
   "version": "3.6.8"
  },
  "toc": {
   "base_numbering": 1,
   "nav_menu": {},
   "number_sections": true,
   "sideBar": true,
   "skip_h1_title": false,
   "title_cell": "Table of Contents",
   "title_sidebar": "Contents",
   "toc_cell": false,
   "toc_position": {},
   "toc_section_display": true,
   "toc_window_display": false
  },
  "varInspector": {
   "cols": {
    "lenName": 16,
    "lenType": 16,
    "lenVar": 40
   },
   "kernels_config": {
    "python": {
     "delete_cmd_postfix": "",
     "delete_cmd_prefix": "del ",
     "library": "var_list.py",
     "varRefreshCmd": "print(var_dic_list())"
    },
    "r": {
     "delete_cmd_postfix": ") ",
     "delete_cmd_prefix": "rm(",
     "library": "var_list.r",
     "varRefreshCmd": "cat(var_dic_list()) "
    }
   },
   "types_to_exclude": [
    "module",
    "function",
    "builtin_function_or_method",
    "instance",
    "_Feature"
   ],
   "window_display": false
  }
 },
 "nbformat": 4,
 "nbformat_minor": 5
}
