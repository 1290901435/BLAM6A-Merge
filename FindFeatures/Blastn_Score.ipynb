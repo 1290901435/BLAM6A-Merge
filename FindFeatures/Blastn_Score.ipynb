{
 "cells": [
  {
   "cell_type": "code",
   "execution_count": 1,
   "id": "caa520b8",
   "metadata": {},
   "outputs": [],
   "source": [
    "# file_path = \"data/All/Pos_all_mature_seq.csv\"\n",
    "# file_path2 = \"data/All/Neg_all_mature_seq.csv\""
   ]
  },
  {
   "cell_type": "code",
   "execution_count": 1,
   "id": "8a343114",
   "metadata": {
    "ExecuteTime": {
     "end_time": "2022-11-14T01:26:01.102475Z",
     "start_time": "2022-11-14T01:25:59.161864Z"
    }
   },
   "outputs": [],
   "source": [
    "import pandas as pd\n",
    "import numpy as np\n",
    "import xlrd\n",
    "import math\n",
    "from Fn import Fn\n",
    "from sklearn.metrics import roc_auc_score\n",
    "from sklearn.model_selection import KFold\n",
    "from CNN import CNN\n",
    "import torch\n",
    "import os\n",
    "from torch.utils.data import DataLoader,TensorDataset\n",
    "import utils.metricsCal"
   ]
  },
  {
   "cell_type": "code",
   "execution_count": 2,
   "id": "8afcf168",
   "metadata": {
    "ExecuteTime": {
     "end_time": "2022-11-14T01:13:18.168514Z",
     "start_time": "2022-11-14T01:13:18.164471Z"
    }
   },
   "outputs": [],
   "source": [
    "# pos_data=pd.read_csv(file_path, header=None)\n",
    "# neg_data=pd.read_csv(file_path2,header=None)\n",
    "# pos_data"
   ]
  },
  {
   "cell_type": "code",
   "execution_count": 3,
   "id": "42f98be9",
   "metadata": {
    "ExecuteTime": {
     "end_time": "2022-11-14T01:13:18.691382Z",
     "start_time": "2022-11-14T01:13:18.686763Z"
    }
   },
   "outputs": [],
   "source": [
    "import random\n",
    "\n",
    "random.seed(1)\n",
    "\n",
    "\n",
    "def fileTranfor(data, flag, save_path, num_samples=None):\n",
    "    rows = list(range(len(data)))\n",
    "    #rows = list(range(data.shape[0]))\n",
    "    if not flag:\n",
    "        print(num_samples)\n",
    "        rows = random.sample(rows, num_samples)\n",
    "\n",
    "    with open(save_path, 'w') as f:\n",
    "        for i, row in enumerate(rows):\n",
    "            if flag:\n",
    "                f.write('>P' + str(i + 1) + '\\n')\n",
    "            else:\n",
    "                f.write('>N' + str(i + 1) + '\\n')\n",
    "            f.write((data.iloc[row][:].values)[0][480:521] + '\\n')"
   ]
  },
  {
   "cell_type": "code",
   "execution_count": 4,
   "id": "3d94c2db",
   "metadata": {
    "ExecuteTime": {
     "end_time": "2022-11-14T01:13:19.238306Z",
     "start_time": "2022-11-14T01:13:19.233827Z"
    }
   },
   "outputs": [],
   "source": [
    "# fileTranfor(neg_data, False, 'data/All/neg.fasta', len(pos_data))"
   ]
  },
  {
   "cell_type": "code",
   "execution_count": 5,
   "id": "96a891ef",
   "metadata": {
    "ExecuteTime": {
     "end_time": "2022-11-14T01:13:19.804082Z",
     "start_time": "2022-11-14T01:13:19.799691Z"
    }
   },
   "outputs": [],
   "source": [
    "# fileTranfor(pos_data, True, 'data/All/pos.fasta', len(pos_data))"
   ]
  },
  {
   "cell_type": "code",
   "execution_count": 2,
   "id": "9c304b8f",
   "metadata": {
    "ExecuteTime": {
     "end_time": "2022-11-14T01:26:05.950656Z",
     "start_time": "2022-11-14T01:26:05.945403Z"
    }
   },
   "outputs": [],
   "source": [
    "file_path3 = \"all_pos_result.xls\"\n",
    "file_path4 = \"all_neg_result.xls\""
   ]
  },
  {
   "cell_type": "code",
   "execution_count": 7,
   "id": "acc964c9",
   "metadata": {
    "ExecuteTime": {
     "end_time": "2022-11-14T01:13:20.985766Z",
     "start_time": "2022-11-14T01:13:20.981290Z"
    }
   },
   "outputs": [],
   "source": [
    "# fileHandler = open(\"all_pos_result.xls\", \"r\")\n",
    "# p = 0\n",
    "# while True:\n",
    "#     p += 1\n",
    "#     # Get next line from file\n",
    "#     line = fileHandler.readline()\n",
    "#     # If line is empty then end of file reached\n",
    "#     if not line:\n",
    "#         break\n",
    "#     #print(line.strip())\n",
    "#     # Close Close\n",
    "# fileHandler.close()"
   ]
  },
  {
   "cell_type": "code",
   "execution_count": 8,
   "id": "e5ecb298",
   "metadata": {
    "ExecuteTime": {
     "end_time": "2022-11-14T01:13:22.662375Z",
     "start_time": "2022-11-14T01:13:22.657772Z"
    }
   },
   "outputs": [],
   "source": [
    "# p"
   ]
  },
  {
   "cell_type": "code",
   "execution_count": 9,
   "id": "d0ff4aec",
   "metadata": {
    "ExecuteTime": {
     "end_time": "2022-11-14T01:13:23.183448Z",
     "start_time": "2022-11-14T01:13:23.179061Z"
    }
   },
   "outputs": [],
   "source": [
    "# fileHandler = open(\"all_neg_result.xls\", \"r\")\n",
    "# n = 0\n",
    "# while True:\n",
    "#     n += 1\n",
    "#     # Get next line from file\n",
    "#     line = fileHandler.readline()\n",
    "#     # If line is empty then end of file reached\n",
    "#     if not line:\n",
    "#         break\n",
    "#     #print(line.strip())\n",
    "#     # Close Close\n",
    "# fileHandler.close()"
   ]
  },
  {
   "cell_type": "code",
   "execution_count": 10,
   "id": "bc744616",
   "metadata": {
    "ExecuteTime": {
     "end_time": "2022-11-14T01:13:23.947869Z",
     "start_time": "2022-11-14T01:13:23.943596Z"
    }
   },
   "outputs": [],
   "source": [
    "# n"
   ]
  },
  {
   "cell_type": "code",
   "execution_count": 11,
   "id": "5f6524a7",
   "metadata": {
    "ExecuteTime": {
     "end_time": "2022-11-14T01:13:24.625138Z",
     "start_time": "2022-11-14T01:13:24.620534Z"
    }
   },
   "outputs": [],
   "source": [
    "# fileHandler = open(\"all_pos_result.xls\", \"r\")\n",
    "# flag1 = False\n",
    "# n = 0\n",
    "# mean = \"\"\n",
    "# while True:\n",
    "#     n += 1\n",
    "#     # Get next line from file\n",
    "#     line = fileHandler.readline()\n",
    "#     if flag1 and line.strip() != \"Score     E\":\n",
    "#         k = 0\n",
    "#         print(n)\n",
    "#         print(mean)\n",
    "#     flag1 = False\n",
    "\n",
    "#     if line.strip().find(\"Query=\") != -1:\n",
    "#         line1 = fileHandler.readline()\n",
    "#         line2 = fileHandler.readline()\n",
    "#         mean = line.strip()\n",
    "#         flag1 = True\n",
    "#     if not line:\n",
    "#         break\n",
    "#     # Close Close\n",
    "# fileHandler.close()"
   ]
  },
  {
   "cell_type": "code",
   "execution_count": 12,
   "id": "326f7537",
   "metadata": {
    "ExecuteTime": {
     "end_time": "2022-11-14T01:13:25.395898Z",
     "start_time": "2022-11-14T01:13:25.391365Z"
    }
   },
   "outputs": [],
   "source": [
    "# fileHandler = open(\"all_neg_result.xls\", \"r\")\n",
    "# n = 0\n",
    "# while True:\n",
    "#     n += 1\n",
    "#     line = fileHandler.readline()\n",
    "#     if n == 16:\n",
    "#         print(line.strip())\n",
    "#         if line.strip().find(\"Query=\") != -1:\n",
    "#             print(\"saasd\")\n",
    "#         #print(line.strip()==\"Score     E\")\n",
    "#         if line.strip() == \"Score     E\":\n",
    "#             print(\"sad\")\n",
    "#         #line.strip()==\"Score     E\"\n",
    "#     if not line:\n",
    "#         break\n",
    "#     # Close Close\n",
    "# fileHandler.close()"
   ]
  },
  {
   "cell_type": "code",
   "execution_count": 3,
   "id": "b64fa583",
   "metadata": {
    "ExecuteTime": {
     "end_time": "2022-11-14T01:26:15.369328Z",
     "start_time": "2022-11-14T01:26:14.740244Z"
    }
   },
   "outputs": [],
   "source": [
    "pos_id = []\n",
    "pos_fea = []\n",
    "fileHandler = open(\"all_pos_result.xls\", \"r\")\n",
    "while True:\n",
    "    line = fileHandler.readline()\n",
    "    if line.strip().find(\"Query=\") != -1:\n",
    "        pos_id.append(line.strip())\n",
    "        fea = []\n",
    "        line = fileHandler.readline()\n",
    "        line = fileHandler.readline()\n",
    "        line = fileHandler.readline()\n",
    "        if line.strip().find(\"Score     E\") != -1:\n",
    "            line = fileHandler.readline()\n",
    "            line = fileHandler.readline()\n",
    "            line = fileHandler.readline()\n",
    "            while line.strip() != \"\":\n",
    "                fea.append(line.strip())\n",
    "                line = fileHandler.readline()\n",
    "        pos_fea.append(fea)\n",
    "    if not line:\n",
    "        break\n",
    "fileHandler.close()"
   ]
  },
  {
   "cell_type": "code",
   "execution_count": 4,
   "id": "5c5d422d",
   "metadata": {
    "ExecuteTime": {
     "end_time": "2022-11-14T01:26:16.424818Z",
     "start_time": "2022-11-14T01:26:16.414630Z"
    }
   },
   "outputs": [
    {
     "data": {
      "text/plain": [
       "3430"
      ]
     },
     "execution_count": 4,
     "metadata": {},
     "output_type": "execute_result"
    }
   ],
   "source": [
    "len(pos_id)"
   ]
  },
  {
   "cell_type": "code",
   "execution_count": 5,
   "id": "07e88123",
   "metadata": {
    "ExecuteTime": {
     "end_time": "2022-11-14T01:26:16.982901Z",
     "start_time": "2022-11-14T01:26:16.975643Z"
    }
   },
   "outputs": [
    {
     "data": {
      "text/plain": [
       "3430"
      ]
     },
     "execution_count": 5,
     "metadata": {},
     "output_type": "execute_result"
    }
   ],
   "source": [
    "len(pos_fea)"
   ]
  },
  {
   "cell_type": "code",
   "execution_count": 6,
   "id": "376a958a",
   "metadata": {
    "ExecuteTime": {
     "end_time": "2022-11-14T01:26:19.279314Z",
     "start_time": "2022-11-14T01:26:18.647676Z"
    }
   },
   "outputs": [],
   "source": [
    "neg_id = []\n",
    "neg_fea = []\n",
    "fileHandler = open(\"all_neg_result.xls\", \"r\")\n",
    "while True:\n",
    "    line = fileHandler.readline()\n",
    "    if line.strip().find(\"Query=\") != -1:\n",
    "        neg_id.append(line.strip())\n",
    "        fea = []\n",
    "        line = fileHandler.readline()\n",
    "        line = fileHandler.readline()\n",
    "        line = fileHandler.readline()\n",
    "        if line.strip().find(\"Score     E\") != -1:\n",
    "            line = fileHandler.readline()\n",
    "            line = fileHandler.readline()\n",
    "            line = fileHandler.readline()\n",
    "            while line.strip() != \"\":\n",
    "                fea.append(line.strip())\n",
    "                line = fileHandler.readline()\n",
    "        neg_fea.append(fea)\n",
    "    if not line:\n",
    "        break\n",
    "fileHandler.close()"
   ]
  },
  {
   "cell_type": "code",
   "execution_count": 7,
   "id": "77425d65",
   "metadata": {
    "ExecuteTime": {
     "end_time": "2022-11-14T01:26:19.872242Z",
     "start_time": "2022-11-14T01:26:19.867081Z"
    }
   },
   "outputs": [
    {
     "data": {
      "text/plain": [
       "3430"
      ]
     },
     "execution_count": 7,
     "metadata": {},
     "output_type": "execute_result"
    }
   ],
   "source": [
    "len(neg_id)"
   ]
  },
  {
   "cell_type": "code",
   "execution_count": 8,
   "id": "9fcd28d1",
   "metadata": {
    "ExecuteTime": {
     "end_time": "2022-11-14T01:26:20.503842Z",
     "start_time": "2022-11-14T01:26:20.498624Z"
    }
   },
   "outputs": [
    {
     "data": {
      "text/plain": [
       "3430"
      ]
     },
     "execution_count": 8,
     "metadata": {},
     "output_type": "execute_result"
    }
   ],
   "source": [
    "len(neg_fea)"
   ]
  },
  {
   "cell_type": "code",
   "execution_count": 9,
   "id": "d0565727",
   "metadata": {
    "ExecuteTime": {
     "end_time": "2022-11-14T01:26:21.181583Z",
     "start_time": "2022-11-14T01:26:21.176126Z"
    }
   },
   "outputs": [
    {
     "data": {
      "text/plain": [
       "['P12429                                                              28.3    0.047',\n",
       " 'P12031                                                              28.3    0.047',\n",
       " 'P4473                                                               24.7    0.57',\n",
       " 'P4150                                                               24.7    0.57',\n",
       " 'N6236                                                               22.9    2.0',\n",
       " 'P11562                                                              22.9    2.0',\n",
       " 'P3609                                                               22.9    2.0',\n",
       " 'P3608                                                               22.9    2.0',\n",
       " 'P2905                                                               22.9    2.0',\n",
       " 'N12517                                                              21.1    6.9',\n",
       " 'N11730                                                              21.1    6.9',\n",
       " 'N9925                                                               21.1    6.9',\n",
       " 'N9893                                                               21.1    6.9',\n",
       " 'N6894                                                               21.1    6.9',\n",
       " 'N3587                                                               21.1    6.9',\n",
       " 'P13596                                                              21.1    6.9',\n",
       " 'P5146                                                               21.1    6.9',\n",
       " 'P1485                                                               21.1    6.9']"
      ]
     },
     "execution_count": 9,
     "metadata": {},
     "output_type": "execute_result"
    }
   ],
   "source": [
    "neg_fea[0]"
   ]
  },
  {
   "cell_type": "code",
   "execution_count": 10,
   "id": "43f1ecf9",
   "metadata": {
    "ExecuteTime": {
     "end_time": "2022-11-14T01:26:21.983069Z",
     "start_time": "2022-11-14T01:26:21.973100Z"
    }
   },
   "outputs": [],
   "source": [
    "#检验数量合理性\n",
    "p = 0\n",
    "n = 0\n",
    "for i in range(len(pos_fea)):\n",
    "    if len(pos_fea[i]) == 0:\n",
    "        p += 1\n",
    "    if len(neg_fea[i]) == 0:\n",
    "        n += 1"
   ]
  },
  {
   "cell_type": "code",
   "execution_count": 11,
   "id": "f54579d6",
   "metadata": {
    "ExecuteTime": {
     "end_time": "2022-11-14T01:26:22.787949Z",
     "start_time": "2022-11-14T01:26:22.780394Z"
    }
   },
   "outputs": [
    {
     "data": {
      "text/plain": [
       "'P'"
      ]
     },
     "execution_count": 11,
     "metadata": {},
     "output_type": "execute_result"
    }
   ],
   "source": [
    "neg_fea[0][0].split()[0][0]"
   ]
  },
  {
   "cell_type": "code",
   "execution_count": 12,
   "id": "a11161ed",
   "metadata": {
    "ExecuteTime": {
     "end_time": "2022-11-14T01:26:23.491401Z",
     "start_time": "2022-11-14T01:26:23.485980Z"
    }
   },
   "outputs": [
    {
     "data": {
      "text/plain": [
       "'28.3'"
      ]
     },
     "execution_count": 12,
     "metadata": {},
     "output_type": "execute_result"
    }
   ],
   "source": [
    "neg_fea[0][0].split()[1]"
   ]
  },
  {
   "cell_type": "code",
   "execution_count": 13,
   "id": "6859c236",
   "metadata": {
    "ExecuteTime": {
     "end_time": "2022-11-14T01:26:24.166666Z",
     "start_time": "2022-11-14T01:26:24.161275Z"
    }
   },
   "outputs": [
    {
     "data": {
      "text/plain": [
       "['P12429', '28.3', '0.047']"
      ]
     },
     "execution_count": 13,
     "metadata": {},
     "output_type": "execute_result"
    }
   ],
   "source": [
    "neg_fea[0][0].split()"
   ]
  },
  {
   "cell_type": "code",
   "execution_count": 14,
   "id": "ee06d2c8",
   "metadata": {
    "ExecuteTime": {
     "end_time": "2022-11-14T01:26:24.838482Z",
     "start_time": "2022-11-14T01:26:24.832957Z"
    }
   },
   "outputs": [
    {
     "data": {
      "text/plain": [
       "'P'"
      ]
     },
     "execution_count": 14,
     "metadata": {},
     "output_type": "execute_result"
    }
   ],
   "source": [
    "neg_fea[0][0].split()[0][0]"
   ]
  },
  {
   "cell_type": "code",
   "execution_count": 15,
   "id": "edb79383",
   "metadata": {
    "ExecuteTime": {
     "end_time": "2022-11-14T01:26:25.766075Z",
     "start_time": "2022-11-14T01:26:25.610457Z"
    }
   },
   "outputs": [],
   "source": [
    "neg_predict = []\n",
    "pos_predict = []\n",
    "for i in range(len(neg_fea)):\n",
    "    sum_ = 0\n",
    "    pos = 0\n",
    "    for j in range(len(neg_fea[i])):\n",
    "        if neg_fea[i][j].split()[0][0]==\"P\":\n",
    "            sum_+=float(neg_fea[i][j].split()[1])\n",
    "            pos+=float(neg_fea[i][j].split()[1])\n",
    "        else:\n",
    "            sum_+=float(neg_fea[i][j].split()[1])\n",
    "    if sum_!=0:\n",
    "        neg_predict.append(pos/sum_)\n",
    "    else:\n",
    "        neg_predict.append(0.5)"
   ]
  },
  {
   "cell_type": "code",
   "execution_count": 16,
   "id": "903e605d",
   "metadata": {
    "ExecuteTime": {
     "end_time": "2022-11-14T01:26:28.717145Z",
     "start_time": "2022-11-14T01:26:28.709020Z"
    }
   },
   "outputs": [
    {
     "data": {
      "text/plain": [
       "3430"
      ]
     },
     "execution_count": 16,
     "metadata": {},
     "output_type": "execute_result"
    }
   ],
   "source": [
    "len(neg_predict)"
   ]
  },
  {
   "cell_type": "code",
   "execution_count": 17,
   "id": "470a5114",
   "metadata": {
    "ExecuteTime": {
     "end_time": "2022-11-14T01:26:29.781999Z",
     "start_time": "2022-11-14T01:26:29.628533Z"
    }
   },
   "outputs": [],
   "source": [
    "for i in range(len(pos_fea)):\n",
    "    sum_ = 0\n",
    "    pos = 0\n",
    "    for j in range(len(pos_fea[i])):\n",
    "        if pos_fea[i][j].split()[0][0]==\"P\":\n",
    "            sum_+=float(pos_fea[i][j].split()[1])\n",
    "            pos+=float(pos_fea[i][j].split()[1])\n",
    "        else:\n",
    "            sum_+=float(pos_fea[i][j].split()[1])\n",
    "    if sum_!=0:\n",
    "        pos_predict.append(pos/sum_)\n",
    "    else:\n",
    "        pos_predict.append(0.5)"
   ]
  },
  {
   "cell_type": "code",
   "execution_count": 18,
   "id": "2cc32a13",
   "metadata": {
    "ExecuteTime": {
     "end_time": "2022-11-14T01:26:30.547486Z",
     "start_time": "2022-11-14T01:26:30.542463Z"
    }
   },
   "outputs": [
    {
     "data": {
      "text/plain": [
       "3430"
      ]
     },
     "execution_count": 18,
     "metadata": {},
     "output_type": "execute_result"
    }
   ],
   "source": [
    "len(pos_predict)"
   ]
  },
  {
   "cell_type": "code",
   "execution_count": 19,
   "id": "c5d393d5",
   "metadata": {
    "ExecuteTime": {
     "end_time": "2022-11-14T01:26:31.654349Z",
     "start_time": "2022-11-14T01:26:31.646906Z"
    }
   },
   "outputs": [],
   "source": [
    "y_pred = np.append(pos_predict, neg_predict)\n",
    "posLabel = np.ones(len(pos_predict))\n",
    "negLabel = np.zeros(len(neg_predict))\n",
    "y_true = np.append(posLabel,negLabel)"
   ]
  },
  {
   "cell_type": "code",
   "execution_count": 47,
   "id": "789c618a",
   "metadata": {
    "ExecuteTime": {
     "end_time": "2022-11-14T01:15:56.610499Z",
     "start_time": "2022-11-14T01:15:56.549079Z"
    }
   },
   "outputs": [
    {
     "name": "stdout",
     "output_type": "stream",
     "text": [
      "Acc: 0.6036443148688047\n",
      "max_mcc: 0.20803868878755694\n",
      "AUC: 0.6346593256211273\n"
     ]
    },
    {
     "data": {
      "text/plain": [
       "0.5020708697653011"
      ]
     },
     "execution_count": 47,
     "metadata": {},
     "output_type": "execute_result"
    }
   ],
   "source": [
    "mcc_threshold,TN,FN,FP,TP,Sen,Spe,Acc,max_mcc,AUC = get_train_metrics(y_pred,y_true)\n",
    "print(\"Acc:\",Acc)\n",
    "print(\"max_mcc:\",max_mcc)\n",
    "print(\"AUC:\",AUC)\n",
    "mcc_threshold"
   ]
  },
  {
   "cell_type": "code",
   "execution_count": 20,
   "id": "adf01db6",
   "metadata": {
    "ExecuteTime": {
     "end_time": "2022-11-14T01:26:40.056993Z",
     "start_time": "2022-11-14T01:26:40.034869Z"
    }
   },
   "outputs": [],
   "source": [
    "def get_train_metrics(y_pred, y_true):  #获取训练指标\n",
    "    y_pred = np.array(y_pred)  #预测值，转化为numpy\n",
    "    y_true = np.array(y_true)  #准确值，转化为numpy\n",
    "    ## [::-1]反序\n",
    "    desc_score_indices = np.argsort(y_pred, kind=\"mergesort\")[::-1]  #使用归并排序，让y_pred降序，返回标签序\n",
    "    y_pred = y_pred[desc_score_indices]\n",
    "    y_true = y_true[desc_score_indices]\n",
    "\n",
    "    TP = FP = 0\n",
    "    TN = np.sum(y_true==0)  #结果为0的数量\n",
    "    FN = np.sum(y_true==1)   #结果为1的数量\n",
    "    mcc = 0\n",
    "    mcc_threshold = y_pred[0]+1  #预测的最大值加1\n",
    "    confuse_matrix = (TP,FP,TN,FN)  #定义混淆矩阵\n",
    "    max_mcc = -1  #定义最大mcc值用于记录\n",
    "    ## score 降序排序， y >= score 前半部分预测为正\n",
    "    for index,score in enumerate(y_pred):  #取索引+预测值\n",
    "        if y_true[index] == 1:\n",
    "            TP += 1\n",
    "            FN -= 1\n",
    "        else:\n",
    "            FP += 1\n",
    "            TN -= 1\n",
    "        numerator = (TP*TN - FP*FN)\n",
    "        denominator = (math.sqrt(TP+FP) * math.sqrt(TN+FN) * math.sqrt(TP+FN) * math.sqrt(TN+FP))\n",
    "        if denominator == 0:\n",
    "            mcc = 0\n",
    "        else:\n",
    "            mcc = numerator / denominator\n",
    "        \n",
    "        if mcc > max_mcc:\n",
    "            max_mcc = mcc\n",
    "            confuse_matrix = (TP, FP, TN, FN)\n",
    "            mcc_threshold = score  #找出最好的阈值\n",
    "    TP, FP, TN, FN = confuse_matrix  #混淆矩阵得出结果\n",
    "    Sen = 0 if (TP + FN) == 0 else (TP / (TP + FN))  #计算……\n",
    "    Spe = 0 if (TN + FP) == 0 else (TN / (TN + FP))\n",
    "    Acc = 0 if (TP + FP + TN + FN) == 0 else ((TP + TN) / (TP + FP + TN + FN))\n",
    "    AUC = roc_auc_score(y_true, y_pred)\n",
    "    return mcc_threshold,TN,FN,FP,TP,Sen,Spe,Acc,max_mcc,AUC  #返回一系列结果"
   ]
  },
  {
   "cell_type": "code",
   "execution_count": 32,
   "id": "8c549453",
   "metadata": {
    "ExecuteTime": {
     "end_time": "2022-11-14T01:13:40.597169Z",
     "start_time": "2022-11-14T01:13:40.343501Z"
    }
   },
   "outputs": [],
   "source": [
    "for i in range(len(neg_fea)):\n",
    "    sum_ = 0\n",
    "    pos = 0\n",
    "    for j in range(len(neg_fea[i])):\n",
    "        if neg_fea[i][j].split()[0][0]==\"P\":\n",
    "            sum_+=float(neg_fea[i][j].split()[1])\n",
    "            pos+=float(neg_fea[i][j].split()[1])\n",
    "        else:\n",
    "            sum_+=float(neg_fea[i][j].split()[1])\n",
    "    if sum_!=0:\n",
    "        neg_predict.append(pos/sum_)\n",
    "    else:\n",
    "        neg_predict.append(0.5)\n",
    "for i in range(len(pos_fea)):\n",
    "    sum_ = 0\n",
    "    pos = 0\n",
    "    for j in range(len(pos_fea[i])):\n",
    "        if pos_fea[i][j].split()[0][0]==\"P\":\n",
    "            sum_+=float(pos_fea[i][j].split()[1])\n",
    "            pos+=float(pos_fea[i][j].split()[1])\n",
    "        else:\n",
    "            sum_+=float(pos_fea[i][j].split()[1])\n",
    "    if sum_!=0:\n",
    "        pos_predict.append(pos/sum_)\n",
    "    else:\n",
    "        pos_predict.append(0.5)"
   ]
  },
  {
   "cell_type": "code",
   "execution_count": 33,
   "id": "089039bf",
   "metadata": {
    "ExecuteTime": {
     "end_time": "2022-11-14T01:13:41.689752Z",
     "start_time": "2022-11-14T01:13:41.685177Z"
    }
   },
   "outputs": [],
   "source": [
    "###############通过神经网络计算评分##################"
   ]
  },
  {
   "cell_type": "code",
   "execution_count": 21,
   "id": "c8d4e152",
   "metadata": {
    "ExecuteTime": {
     "end_time": "2022-11-14T01:26:49.193776Z",
     "start_time": "2022-11-14T01:26:48.651382Z"
    },
    "run_control": {
     "marked": false
    }
   },
   "outputs": [],
   "source": [
    "pos_feature = np.zeros(len(neg_fea) * 150).reshape(len(neg_fea), 150)\n",
    "neg_feature = np.zeros(len(neg_fea) * 150).reshape(len(neg_fea), 150)\n",
    "max_abs = 0\n",
    "min_abs= 10000\n",
    "###阳性获取特征结果\n",
    "for i in range(len(pos_fea)):\n",
    "    for j in range(len(pos_fea[i])):\n",
    "        if float(pos_fea[i][j].split()[1])>max_abs:\n",
    "            max_abs = float(pos_fea[i][j].split()[1])\n",
    "        if float(pos_fea[i][j].split()[1])<min_abs:\n",
    "            min_abs = float(pos_fea[i][j].split()[1])\n",
    "        if pos_fea[i][j].split()[0][0]==\"P\":\n",
    "            pos_feature[i][j] = float(pos_fea[i][j].split()[1])\n",
    "        else:\n",
    "            pos_feature[i][j] = float(pos_fea[i][j].split()[1])*(-1)\n",
    "        \n",
    "for i in range(len(neg_fea)):\n",
    "    for j in range(len(neg_fea[i])):\n",
    "        if float(neg_fea[i][j].split()[1])>max_abs:\n",
    "            max_abs = float(neg_fea[i][j].split()[1])\n",
    "        if float(neg_fea[i][j].split()[1])<min_abs:\n",
    "            min_abs = float(neg_fea[i][j].split()[1])\n",
    "        if neg_fea[i][j].split()[0][0]==\"P\":\n",
    "            neg_feature[i][j] = float(neg_fea[i][j].split()[1])\n",
    "        else:\n",
    "            neg_feature[i][j] = float(neg_fea[i][j].split()[1])*(-1)"
   ]
  },
  {
   "cell_type": "code",
   "execution_count": 22,
   "id": "0904a684",
   "metadata": {
    "ExecuteTime": {
     "end_time": "2022-11-14T01:26:50.067405Z",
     "start_time": "2022-11-14T01:26:50.062752Z"
    }
   },
   "outputs": [
    {
     "data": {
      "text/plain": [
       "21.1"
      ]
     },
     "execution_count": 22,
     "metadata": {},
     "output_type": "execute_result"
    }
   ],
   "source": [
    "min_abs"
   ]
  },
  {
   "cell_type": "code",
   "execution_count": 23,
   "id": "f6bf83c4",
   "metadata": {
    "ExecuteTime": {
     "end_time": "2022-11-14T01:26:53.088273Z",
     "start_time": "2022-11-14T01:26:51.363390Z"
    }
   },
   "outputs": [],
   "source": [
    "for i in range(len(pos_feature)):\n",
    "    for j in range(len(pos_feature[i])):\n",
    "        if pos_feature[i][j]>0:\n",
    "            pos_feature[i][j] = (pos_feature[i][j]-min_abs-1)/(max_abs-min_abs)\n",
    "        elif pos_feature[i][j]<0:\n",
    "            pos_feature[i][j] = (pos_feature[i][j]+min_abs-1)/(max_abs-min_abs)\n",
    "for i in range(len(neg_feature)):\n",
    "    for j in range(len(neg_feature[i])):\n",
    "        if neg_feature[i][j]>0:\n",
    "            neg_feature[i][j] = (neg_feature[i][j]-min_abs-1)/(max_abs-min_abs)\n",
    "        elif neg_feature[i][j]<0:\n",
    "            neg_feature[i][j] = (neg_feature[i][j]+min_abs-1)/(max_abs-min_abs)"
   ]
  },
  {
   "cell_type": "code",
   "execution_count": 24,
   "id": "0de4b8f7",
   "metadata": {
    "ExecuteTime": {
     "end_time": "2022-11-14T01:26:53.867389Z",
     "start_time": "2022-11-14T01:26:53.857481Z"
    }
   },
   "outputs": [],
   "source": [
    "trainData = np.append(pos_feature,neg_feature,axis=0)"
   ]
  },
  {
   "cell_type": "code",
   "execution_count": 25,
   "id": "cb6b1cf7",
   "metadata": {
    "ExecuteTime": {
     "end_time": "2022-11-14T01:26:54.631845Z",
     "start_time": "2022-11-14T01:26:54.626863Z"
    }
   },
   "outputs": [
    {
     "data": {
      "text/plain": [
       "(6860,)"
      ]
     },
     "execution_count": 25,
     "metadata": {},
     "output_type": "execute_result"
    }
   ],
   "source": [
    "y_true.shape"
   ]
  },
  {
   "cell_type": "code",
   "execution_count": 26,
   "id": "7552091a",
   "metadata": {
    "ExecuteTime": {
     "end_time": "2022-11-14T01:26:57.227086Z",
     "start_time": "2022-11-14T01:26:57.220226Z"
    }
   },
   "outputs": [
    {
     "name": "stderr",
     "output_type": "stream",
     "text": [
      "/data/xiayunpeng/anaconda3/envs/BERT/lib/python3.6/site-packages/sklearn/utils/validation.py:72: FutureWarning: Pass shuffle=True, random_state=10 as keyword args. From version 1.0 (renaming of 0.25) passing these as positional arguments will result in an error\n",
      "  \"will result in an error\", FutureWarning)\n"
     ]
    }
   ],
   "source": [
    "###制造Label，然后合并数据，使用KFold和SVM查看结果###\n",
    "y_true\n",
    "kf = KFold(5, True, 10)"
   ]
  },
  {
   "cell_type": "code",
   "execution_count": 28,
   "id": "6f012d08",
   "metadata": {
    "ExecuteTime": {
     "end_time": "2022-11-14T01:27:59.906149Z",
     "start_time": "2022-11-14T01:27:09.455142Z"
    }
   },
   "outputs": [
    {
     "name": "stdout",
     "output_type": "stream",
     "text": [
      "29.66415375471115\n",
      "Accuracy on test set: 52 %\n",
      "Sensitivity on test set: 87 %\n",
      "Speciality on test set: 18 %\n",
      "auc on test set: 0.593\n",
      "The number of correct: 723\n",
      "29.448366940021515\n",
      "Accuracy on test set: 55 %\n",
      "Sensitivity on test set: 74 %\n",
      "Speciality on test set: 35 %\n",
      "auc on test set: 0.600\n",
      "The number of correct: 758\n",
      "29.499759256839752\n",
      "Accuracy on test set: 55 %\n",
      "Sensitivity on test set: 24 %\n",
      "Speciality on test set: 87 %\n",
      "auc on test set: 0.599\n",
      "The number of correct: 764\n",
      "29.316757380962372\n",
      "Accuracy on test set: 51 %\n",
      "Sensitivity on test set: 94 %\n",
      "Speciality on test set: 8 %\n",
      "auc on test set: 0.595\n",
      "The number of correct: 706\n",
      "29.431311666965485\n",
      "Accuracy on test set: 55 %\n",
      "Sensitivity on test set: 60 %\n",
      "Speciality on test set: 51 %\n",
      "auc on test set: 0.591\n",
      "The number of correct: 768\n",
      "29.338802933692932\n",
      "Accuracy on test set: 54 %\n",
      "Sensitivity on test set: 69 %\n",
      "Speciality on test set: 40 %\n",
      "auc on test set: 0.600\n",
      "The number of correct: 754\n",
      "29.281290590763092\n",
      "Accuracy on test set: 55 %\n",
      "Sensitivity on test set: 64 %\n",
      "Speciality on test set: 47 %\n",
      "auc on test set: 0.599\n",
      "The number of correct: 764\n",
      "29.242839753627777\n",
      "Accuracy on test set: 54 %\n",
      "Sensitivity on test set: 84 %\n",
      "Speciality on test set: 23 %\n",
      "auc on test set: 0.599\n",
      "The number of correct: 742\n",
      "29.324378073215485\n",
      "Accuracy on test set: 54 %\n",
      "Sensitivity on test set: 84 %\n",
      "Speciality on test set: 23 %\n",
      "auc on test set: 0.599\n",
      "The number of correct: 745\n",
      "29.254987180233\n",
      "Accuracy on test set: 54 %\n",
      "Sensitivity on test set: 82 %\n",
      "Speciality on test set: 27 %\n",
      "auc on test set: 0.598\n",
      "The number of correct: 751\n",
      "29.404802560806274\n",
      "Accuracy on test set: 55 %\n",
      "Sensitivity on test set: 70 %\n",
      "Speciality on test set: 41 %\n",
      "auc on test set: 0.596\n",
      "The number of correct: 764\n",
      "29.35367065668106\n",
      "Accuracy on test set: 56 %\n",
      "Sensitivity on test set: 50 %\n",
      "Speciality on test set: 62 %\n",
      "auc on test set: 0.599\n",
      "The number of correct: 777\n",
      "29.575776159763336\n",
      "Accuracy on test set: 50 %\n",
      "Sensitivity on test set: 2 %\n",
      "Speciality on test set: 98 %\n",
      "auc on test set: 0.585\n",
      "The number of correct: 692\n",
      "29.518190443515778\n",
      "Accuracy on test set: 54 %\n",
      "Sensitivity on test set: 90 %\n",
      "Speciality on test set: 19 %\n",
      "auc on test set: 0.587\n",
      "The number of correct: 753\n",
      "29.405625998973846\n",
      "Accuracy on test set: 51 %\n",
      "Sensitivity on test set: 14 %\n",
      "Speciality on test set: 88 %\n",
      "auc on test set: 0.598\n",
      "The number of correct: 707\n",
      "29.206494688987732\n",
      "Accuracy on test set: 57 %\n",
      "Sensitivity on test set: 73 %\n",
      "Speciality on test set: 41 %\n",
      "auc on test set: 0.604\n",
      "The number of correct: 789\n",
      "29.100570857524872\n",
      "Accuracy on test set: 52 %\n",
      "Sensitivity on test set: 19 %\n",
      "Speciality on test set: 85 %\n",
      "auc on test set: 0.604\n",
      "The number of correct: 722\n",
      "29.174445748329163\n",
      "Accuracy on test set: 52 %\n",
      "Sensitivity on test set: 19 %\n",
      "Speciality on test set: 85 %\n",
      "auc on test set: 0.602\n",
      "The number of correct: 723\n",
      "29.09390288591385\n",
      "Accuracy on test set: 58 %\n",
      "Sensitivity on test set: 57 %\n",
      "Speciality on test set: 59 %\n",
      "auc on test set: 0.602\n",
      "The number of correct: 797\n",
      "29.35472571849823\n",
      "Accuracy on test set: 53 %\n",
      "Sensitivity on test set: 95 %\n",
      "Speciality on test set: 9 %\n",
      "auc on test set: 0.603\n",
      "The number of correct: 728\n",
      "29.17248946428299\n",
      "Accuracy on test set: 57 %\n",
      "Sensitivity on test set: 68 %\n",
      "Speciality on test set: 47 %\n",
      "auc on test set: 0.598\n",
      "The number of correct: 794\n",
      "29.07491010427475\n",
      "Accuracy on test set: 58 %\n",
      "Sensitivity on test set: 64 %\n",
      "Speciality on test set: 52 %\n",
      "auc on test set: 0.599\n",
      "The number of correct: 803\n",
      "29.285758018493652\n",
      "Accuracy on test set: 57 %\n",
      "Sensitivity on test set: 53 %\n",
      "Speciality on test set: 61 %\n",
      "auc on test set: 0.600\n",
      "The number of correct: 794\n",
      "29.307549476623535\n",
      "Accuracy on test set: 55 %\n",
      "Sensitivity on test set: 31 %\n",
      "Speciality on test set: 78 %\n",
      "auc on test set: 0.598\n",
      "The number of correct: 759\n",
      "29.186407029628754\n",
      "Accuracy on test set: 56 %\n",
      "Sensitivity on test set: 49 %\n",
      "Speciality on test set: 64 %\n",
      "auc on test set: 0.601\n",
      "The number of correct: 780\n",
      "29.165433943271637\n",
      "Accuracy on test set: 57 %\n",
      "Sensitivity on test set: 53 %\n",
      "Speciality on test set: 61 %\n",
      "auc on test set: 0.602\n",
      "The number of correct: 790\n",
      "29.860779643058777\n",
      "Accuracy on test set: 52 %\n",
      "Sensitivity on test set: 99 %\n",
      "Speciality on test set: 1 %\n",
      "auc on test set: 0.564\n",
      "The number of correct: 717\n",
      "29.543396055698395\n",
      "Accuracy on test set: 54 %\n",
      "Sensitivity on test set: 62 %\n",
      "Speciality on test set: 45 %\n",
      "auc on test set: 0.575\n",
      "The number of correct: 745\n",
      "29.49494570493698\n",
      "Accuracy on test set: 54 %\n",
      "Sensitivity on test set: 81 %\n",
      "Speciality on test set: 25 %\n",
      "auc on test set: 0.587\n",
      "The number of correct: 747\n",
      "29.180637061595917\n",
      "Accuracy on test set: 53 %\n",
      "Sensitivity on test set: 86 %\n",
      "Speciality on test set: 18 %\n",
      "auc on test set: 0.587\n",
      "The number of correct: 733\n",
      "29.299938559532166\n",
      "Accuracy on test set: 54 %\n",
      "Sensitivity on test set: 22 %\n",
      "Speciality on test set: 88 %\n",
      "auc on test set: 0.587\n",
      "The number of correct: 746\n",
      "29.3797367811203\n",
      "Accuracy on test set: 55 %\n",
      "Sensitivity on test set: 53 %\n",
      "Speciality on test set: 56 %\n",
      "auc on test set: 0.589\n",
      "The number of correct: 759\n",
      "29.662967681884766\n",
      "Accuracy on test set: 55 %\n",
      "Sensitivity on test set: 43 %\n",
      "Speciality on test set: 67 %\n",
      "auc on test set: 0.588\n",
      "The number of correct: 761\n",
      "29.34186363220215\n",
      "Accuracy on test set: 55 %\n",
      "Sensitivity on test set: 68 %\n",
      "Speciality on test set: 41 %\n",
      "auc on test set: 0.585\n",
      "The number of correct: 758\n",
      "29.258371353149414\n",
      "Accuracy on test set: 54 %\n",
      "Sensitivity on test set: 62 %\n",
      "Speciality on test set: 46 %\n",
      "auc on test set: 0.585\n",
      "The number of correct: 752\n",
      "29.292472541332245\n",
      "Accuracy on test set: 55 %\n",
      "Sensitivity on test set: 36 %\n",
      "Speciality on test set: 75 %\n",
      "auc on test set: 0.584\n",
      "The number of correct: 758\n",
      "29.466074883937836\n",
      "Accuracy on test set: 55 %\n",
      "Sensitivity on test set: 57 %\n",
      "Speciality on test set: 53 %\n",
      "auc on test set: 0.588\n",
      "The number of correct: 760\n",
      "29.22174906730652\n",
      "Accuracy on test set: 54 %\n",
      "Sensitivity on test set: 51 %\n",
      "Speciality on test set: 58 %\n",
      "auc on test set: 0.587\n",
      "The number of correct: 753\n",
      "29.347984731197357\n",
      "Accuracy on test set: 53 %\n",
      "Sensitivity on test set: 96 %\n",
      "Speciality on test set: 7 %\n",
      "auc on test set: 0.589\n",
      "The number of correct: 728\n",
      "29.43660831451416\n",
      "Accuracy on test set: 54 %\n",
      "Sensitivity on test set: 20 %\n",
      "Speciality on test set: 91 %\n",
      "auc on test set: 0.591\n",
      "The number of correct: 751\n",
      "29.22537463903427\n",
      "Accuracy on test set: 55 %\n",
      "Sensitivity on test set: 47 %\n",
      "Speciality on test set: 64 %\n",
      "auc on test set: 0.590\n",
      "The number of correct: 763\n",
      "29.138286113739014\n",
      "Accuracy on test set: 55 %\n",
      "Sensitivity on test set: 56 %\n",
      "Speciality on test set: 54 %\n",
      "auc on test set: 0.586\n",
      "The number of correct: 758\n",
      "29.257390916347504\n",
      "Accuracy on test set: 55 %\n",
      "Sensitivity on test set: 24 %\n",
      "Speciality on test set: 88 %\n",
      "auc on test set: 0.590\n",
      "The number of correct: 765\n",
      "29.462209939956665\n",
      "Accuracy on test set: 55 %\n",
      "Sensitivity on test set: 61 %\n",
      "Speciality on test set: 48 %\n",
      "auc on test set: 0.586\n",
      "The number of correct: 756\n",
      "29.240673303604126\n",
      "Accuracy on test set: 54 %\n",
      "Sensitivity on test set: 59 %\n",
      "Speciality on test set: 50 %\n",
      "auc on test set: 0.590\n",
      "The number of correct: 753\n",
      "29.368724942207336\n",
      "Accuracy on test set: 55 %\n",
      "Sensitivity on test set: 40 %\n",
      "Speciality on test set: 71 %\n",
      "auc on test set: 0.587\n",
      "The number of correct: 766\n",
      "29.152962267398834\n",
      "Accuracy on test set: 54 %\n",
      "Sensitivity on test set: 39 %\n",
      "Speciality on test set: 70 %\n",
      "auc on test set: 0.585\n",
      "The number of correct: 749\n",
      "29.285347521305084\n",
      "Accuracy on test set: 55 %\n",
      "Sensitivity on test set: 49 %\n",
      "Speciality on test set: 61 %\n",
      "auc on test set: 0.589\n",
      "The number of correct: 760\n",
      "29.39772915840149\n",
      "Accuracy on test set: 54 %\n",
      "Sensitivity on test set: 61 %\n",
      "Speciality on test set: 47 %\n",
      "auc on test set: 0.588\n",
      "The number of correct: 749\n",
      "29.179544746875763\n",
      "Accuracy on test set: 54 %\n",
      "Sensitivity on test set: 80 %\n",
      "Speciality on test set: 26 %\n",
      "auc on test set: 0.587\n",
      "The number of correct: 743\n",
      "29.609261095523834\n",
      "Accuracy on test set: 50 %\n",
      "Sensitivity on test set: 99 %\n",
      "Speciality on test set: 4 %\n",
      "auc on test set: 0.587\n",
      "The number of correct: 697\n",
      "29.575187146663666\n",
      "Accuracy on test set: 51 %\n",
      "Sensitivity on test set: 95 %\n",
      "Speciality on test set: 9 %\n",
      "auc on test set: 0.592\n",
      "The number of correct: 711\n",
      "29.480105221271515\n",
      "Accuracy on test set: 52 %\n",
      "Sensitivity on test set: 85 %\n",
      "Speciality on test set: 22 %\n",
      "auc on test set: 0.595\n",
      "The number of correct: 725\n",
      "29.69863474369049\n",
      "Accuracy on test set: 51 %\n",
      "Sensitivity on test set: 96 %\n",
      "Speciality on test set: 8 %\n",
      "auc on test set: 0.594\n",
      "The number of correct: 708\n"
     ]
    },
    {
     "name": "stdout",
     "output_type": "stream",
     "text": [
      "29.650605142116547\n",
      "Accuracy on test set: 56 %\n",
      "Sensitivity on test set: 49 %\n",
      "Speciality on test set: 62 %\n",
      "auc on test set: 0.596\n",
      "The number of correct: 770\n",
      "29.388355672359467\n",
      "Accuracy on test set: 51 %\n",
      "Sensitivity on test set: 98 %\n",
      "Speciality on test set: 6 %\n",
      "auc on test set: 0.599\n",
      "The number of correct: 703\n",
      "29.3637512922287\n",
      "Accuracy on test set: 56 %\n",
      "Sensitivity on test set: 60 %\n",
      "Speciality on test set: 51 %\n",
      "auc on test set: 0.598\n",
      "The number of correct: 769\n",
      "29.382575929164886\n",
      "Accuracy on test set: 56 %\n",
      "Sensitivity on test set: 75 %\n",
      "Speciality on test set: 37 %\n",
      "auc on test set: 0.598\n",
      "The number of correct: 771\n",
      "29.24887627363205\n",
      "Accuracy on test set: 55 %\n",
      "Sensitivity on test set: 73 %\n",
      "Speciality on test set: 38 %\n",
      "auc on test set: 0.597\n",
      "The number of correct: 767\n",
      "29.26781666278839\n",
      "Accuracy on test set: 53 %\n",
      "Sensitivity on test set: 87 %\n",
      "Speciality on test set: 21 %\n",
      "auc on test set: 0.597\n",
      "The number of correct: 732\n",
      "29.426903903484344\n",
      "Accuracy on test set: 50 %\n",
      "Sensitivity on test set: 99 %\n",
      "Speciality on test set: 3 %\n",
      "auc on test set: 0.598\n",
      "The number of correct: 694\n",
      "29.35856580734253\n",
      "Accuracy on test set: 55 %\n",
      "Sensitivity on test set: 43 %\n",
      "Speciality on test set: 67 %\n",
      "auc on test set: 0.597\n",
      "The number of correct: 765\n",
      "29.311275899410248\n",
      "Accuracy on test set: 55 %\n",
      "Sensitivity on test set: 30 %\n",
      "Speciality on test set: 79 %\n",
      "auc on test set: 0.598\n",
      "The number of correct: 760\n",
      "29.55902075767517\n",
      "Accuracy on test set: 56 %\n",
      "Sensitivity on test set: 63 %\n",
      "Speciality on test set: 49 %\n",
      "auc on test set: 0.597\n",
      "The number of correct: 774\n",
      "29.462282717227936\n",
      "Accuracy on test set: 55 %\n",
      "Sensitivity on test set: 47 %\n",
      "Speciality on test set: 63 %\n",
      "auc on test set: 0.599\n",
      "The number of correct: 768\n",
      "29.309544146060944\n",
      "Accuracy on test set: 56 %\n",
      "Sensitivity on test set: 48 %\n",
      "Speciality on test set: 64 %\n",
      "auc on test set: 0.597\n",
      "The number of correct: 775\n",
      "29.15209972858429\n",
      "Accuracy on test set: 55 %\n",
      "Sensitivity on test set: 74 %\n",
      "Speciality on test set: 36 %\n",
      "auc on test set: 0.594\n",
      "The number of correct: 758\n",
      "29.39951264858246\n",
      "Accuracy on test set: 56 %\n",
      "Sensitivity on test set: 66 %\n",
      "Speciality on test set: 47 %\n",
      "auc on test set: 0.598\n",
      "The number of correct: 779\n",
      "29.209450900554657\n",
      "Accuracy on test set: 55 %\n",
      "Sensitivity on test set: 40 %\n",
      "Speciality on test set: 70 %\n",
      "auc on test set: 0.599\n",
      "The number of correct: 767\n",
      "29.165816366672516\n",
      "Accuracy on test set: 53 %\n",
      "Sensitivity on test set: 85 %\n",
      "Speciality on test set: 23 %\n",
      "auc on test set: 0.599\n",
      "The number of correct: 738\n",
      "29.18504410982132\n",
      "Accuracy on test set: 55 %\n",
      "Sensitivity on test set: 51 %\n",
      "Speciality on test set: 60 %\n",
      "auc on test set: 0.597\n",
      "The number of correct: 767\n",
      "29.230817258358\n",
      "Accuracy on test set: 56 %\n",
      "Sensitivity on test set: 72 %\n",
      "Speciality on test set: 41 %\n",
      "auc on test set: 0.594\n",
      "The number of correct: 777\n",
      "29.37745714187622\n",
      "Accuracy on test set: 55 %\n",
      "Sensitivity on test set: 78 %\n",
      "Speciality on test set: 33 %\n",
      "auc on test set: 0.596\n",
      "The number of correct: 756\n",
      "29.194396257400513\n",
      "Accuracy on test set: 55 %\n",
      "Sensitivity on test set: 50 %\n",
      "Speciality on test set: 60 %\n",
      "auc on test set: 0.596\n",
      "The number of correct: 765\n",
      "29.399407923221588\n",
      "Accuracy on test set: 51 %\n",
      "Sensitivity on test set: 94 %\n",
      "Speciality on test set: 10 %\n",
      "auc on test set: 0.598\n",
      "The number of correct: 703\n",
      "29.43175119161606\n",
      "Accuracy on test set: 54 %\n",
      "Sensitivity on test set: 79 %\n",
      "Speciality on test set: 31 %\n",
      "auc on test set: 0.593\n",
      "The number of correct: 751\n",
      "29.212094843387604\n",
      "Accuracy on test set: 52 %\n",
      "Sensitivity on test set: 87 %\n",
      "Speciality on test set: 18 %\n",
      "auc on test set: 0.591\n",
      "The number of correct: 718\n",
      "29.250482201576233\n",
      "Accuracy on test set: 56 %\n",
      "Sensitivity on test set: 54 %\n",
      "Speciality on test set: 57 %\n",
      "auc on test set: 0.598\n",
      "The number of correct: 774\n",
      "29.463496387004852\n",
      "Accuracy on test set: 56 %\n",
      "Sensitivity on test set: 40 %\n",
      "Speciality on test set: 70 %\n",
      "auc on test set: 0.594\n",
      "The number of correct: 770\n",
      "29.201868414878845\n",
      "Accuracy on test set: 56 %\n",
      "Sensitivity on test set: 69 %\n",
      "Speciality on test set: 45 %\n",
      "auc on test set: 0.595\n",
      "The number of correct: 781\n",
      "29.773663222789764\n",
      "Accuracy on test set: 56 %\n",
      "Sensitivity on test set: 55 %\n",
      "Speciality on test set: 57 %\n",
      "auc on test set: 0.599\n",
      "The number of correct: 771\n",
      "29.788535833358765\n",
      "Accuracy on test set: 52 %\n",
      "Sensitivity on test set: 91 %\n",
      "Speciality on test set: 14 %\n",
      "auc on test set: 0.603\n",
      "The number of correct: 722\n",
      "29.467902719974518\n",
      "Accuracy on test set: 53 %\n",
      "Sensitivity on test set: 89 %\n",
      "Speciality on test set: 18 %\n",
      "auc on test set: 0.609\n",
      "The number of correct: 733\n",
      "29.312740981578827\n",
      "Accuracy on test set: 59 %\n",
      "Sensitivity on test set: 46 %\n",
      "Speciality on test set: 71 %\n",
      "auc on test set: 0.611\n",
      "The number of correct: 812\n",
      "29.293415665626526\n",
      "Accuracy on test set: 55 %\n",
      "Sensitivity on test set: 27 %\n",
      "Speciality on test set: 84 %\n",
      "auc on test set: 0.610\n",
      "The number of correct: 768\n",
      "29.40359127521515\n",
      "Accuracy on test set: 54 %\n",
      "Sensitivity on test set: 86 %\n",
      "Speciality on test set: 23 %\n",
      "auc on test set: 0.612\n",
      "The number of correct: 751\n",
      "29.396601974964142\n",
      "Accuracy on test set: 54 %\n",
      "Sensitivity on test set: 85 %\n",
      "Speciality on test set: 24 %\n",
      "auc on test set: 0.610\n",
      "The number of correct: 750\n",
      "29.29789435863495\n",
      "Accuracy on test set: 58 %\n",
      "Sensitivity on test set: 46 %\n",
      "Speciality on test set: 69 %\n",
      "auc on test set: 0.613\n",
      "The number of correct: 796\n",
      "29.258403062820435\n",
      "Accuracy on test set: 55 %\n",
      "Sensitivity on test set: 76 %\n",
      "Speciality on test set: 35 %\n",
      "auc on test set: 0.611\n",
      "The number of correct: 767\n",
      "29.242075860500336\n",
      "Accuracy on test set: 58 %\n",
      "Sensitivity on test set: 48 %\n",
      "Speciality on test set: 67 %\n",
      "auc on test set: 0.610\n",
      "The number of correct: 798\n",
      "29.29271250963211\n",
      "Accuracy on test set: 56 %\n",
      "Sensitivity on test set: 30 %\n",
      "Speciality on test set: 81 %\n",
      "auc on test set: 0.607\n",
      "The number of correct: 769\n",
      "29.410233855247498\n",
      "Accuracy on test set: 58 %\n",
      "Sensitivity on test set: 50 %\n",
      "Speciality on test set: 66 %\n",
      "auc on test set: 0.611\n",
      "The number of correct: 800\n",
      "29.39432144165039\n",
      "Accuracy on test set: 57 %\n",
      "Sensitivity on test set: 57 %\n",
      "Speciality on test set: 58 %\n",
      "auc on test set: 0.610\n",
      "The number of correct: 791\n",
      "29.373104989528656\n",
      "Accuracy on test set: 57 %\n",
      "Sensitivity on test set: 31 %\n",
      "Speciality on test set: 82 %\n",
      "auc on test set: 0.608\n",
      "The number of correct: 784\n",
      "29.477918326854706\n",
      "Accuracy on test set: 58 %\n",
      "Sensitivity on test set: 47 %\n",
      "Speciality on test set: 68 %\n",
      "auc on test set: 0.609\n",
      "The number of correct: 797\n",
      "29.390802323818207\n",
      "Accuracy on test set: 53 %\n",
      "Sensitivity on test set: 92 %\n",
      "Speciality on test set: 14 %\n",
      "auc on test set: 0.610\n",
      "The number of correct: 731\n",
      "29.178146064281464\n",
      "Accuracy on test set: 55 %\n",
      "Sensitivity on test set: 31 %\n",
      "Speciality on test set: 78 %\n",
      "auc on test set: 0.596\n",
      "The number of correct: 761\n",
      "29.38842225074768\n",
      "Accuracy on test set: 54 %\n",
      "Sensitivity on test set: 84 %\n",
      "Speciality on test set: 24 %\n",
      "auc on test set: 0.601\n",
      "The number of correct: 746\n"
     ]
    }
   ],
   "source": [
    "AUC=[]\n",
    "for i,[train_index, test_index] in enumerate(kf.split(trainData)):\n",
    "    X_train = trainData[train_index]\n",
    "    X_test = trainData[test_index]\n",
    "    Y_train = y_true[train_index]\n",
    "    Y_test = y_true[test_index]\n",
    "    batch_size = 128\n",
    "    best_auc = 0\n",
    "    patience = 0\n",
    "    max_epochs = 200\n",
    "    model_dir = 'model/FN_Blastn/KFold_' + str(i) + '/'\n",
    "    #model = CNN.CNN()\n",
    "    model = Fn.Fn()\n",
    "    device = torch.device(\"cuda:1\" if torch.cuda.is_available() else \"cpu\")  # 选择设备\n",
    "    model = model.to(device)\n",
    "    os.environ['CUDA_VISIBLE_DEVICES'] = '1'\n",
    "    for j in range(max_epochs):\n",
    "        CNN.train(model,X_train,Y_train,i,model_dir,batch_size)\n",
    "        auc=test(X_test,Y_test,best_auc,model_dir,batch_size,0.5)\n",
    "        if auc > best_auc:\n",
    "            best_auc=auc\n",
    "            patience=0\n",
    "        else:\n",
    "            patience+=1\n",
    "        if patience==10:\n",
    "            break\n",
    "    AUC.append(best_auc)"
   ]
  },
  {
   "cell_type": "code",
   "execution_count": 27,
   "id": "be79d527",
   "metadata": {
    "ExecuteTime": {
     "end_time": "2022-11-14T01:27:06.740162Z",
     "start_time": "2022-11-14T01:27:06.715782Z"
    }
   },
   "outputs": [],
   "source": [
    "def test(data,label,best_auc,model_dir,batch_size,th):\n",
    "    model_test = load_model(model_dir)\n",
    "    model_test.eval()\n",
    "    model_test.to(device)\n",
    "    data = torch.Tensor(data)\n",
    "    label = torch.Tensor(label)\n",
    "    test_data = TensorDataset(data,label)\n",
    "    test_loader = DataLoader(test_data, shuffle=False, batch_size=batch_size)\n",
    "    TP,TN,FP,FN=0,0,0,0\n",
    "    total = 0\n",
    "    outputs_list = []\n",
    "    target_list = []\n",
    "    with torch.no_grad():\n",
    "        for data in test_loader:\n",
    "            inputs,target = data\n",
    "            inputs = inputs.reshape(inputs.shape[0], 1, inputs.shape[1])\n",
    "            inputs = inputs.to(device)\n",
    "            target = target.to(device)\n",
    "            target = target.reshape(target.shape[0], 1)\n",
    "            outputs = model_test(inputs)\n",
    "            outputs_list+=outputs.tolist()\n",
    "            target_list+=target.tolist()\n",
    "\n",
    "            total += target.size(0)\n",
    "            for i in range(target.size(0)):\n",
    "                if target[i]==1:\n",
    "                    if outputs[i]>=th:\n",
    "                        TP+=1\n",
    "                    else:\n",
    "                        FN+=1\n",
    "                if target[i] == 0:\n",
    "                    if outputs[i]>=th:\n",
    "                        FP+=1\n",
    "                    else:\n",
    "                        TN+=1\n",
    "    outputs_list = torch.Tensor(outputs_list)\n",
    "    target_list = torch.Tensor(target_list)\n",
    "    auc_ = utils.metricsCal.auc_cal(outputs_list,target_list)\n",
    "    print('Accuracy on test set: %d %%' %(100*(TP+TN)/total))\n",
    "    print('Sensitivity on test set: %d %%' % (100 * TP / (TP+FN)))\n",
    "    print('Speciality on test set: %d %%' % (100 * TN / (TN+FP)))\n",
    "    #print('MCC on test set: %.3f' % float((TP*TN-FP*FN) /math.sqrt((TP+FP)*(TP+FN)*(TN+FP)*(TN+FN))))\n",
    "    print('auc on test set: %.3f' %auc_)\n",
    "    print('The number of correct: %d' %(TP+TN))\n",
    "    if(auc_ > best_auc):\n",
    "        torch.save(model_test,model_dir+'model_best.pt')\n",
    "    return auc_\n",
    "def load_model(model_dir):\n",
    "    if os.path.exists(model_dir+'model.pt'):\n",
    "        model_load = torch.load(model_dir+'model.pt')\n",
    "    return model_load"
   ]
  },
  {
   "cell_type": "code",
   "execution_count": 48,
   "id": "44d9bcf9",
   "metadata": {
    "ExecuteTime": {
     "end_time": "2022-11-14T01:16:11.277546Z",
     "start_time": "2022-11-14T01:16:11.270328Z"
    }
   },
   "outputs": [
    {
     "data": {
      "text/plain": [
       "0.6346593256211273"
      ]
     },
     "execution_count": 48,
     "metadata": {},
     "output_type": "execute_result"
    }
   ],
   "source": [
    "#直接求概率\n",
    "AUC"
   ]
  },
  {
   "cell_type": "code",
   "execution_count": 53,
   "id": "446d9aa0",
   "metadata": {
    "ExecuteTime": {
     "end_time": "2022-11-14T01:19:05.685878Z",
     "start_time": "2022-11-14T01:19:05.680121Z"
    }
   },
   "outputs": [
    {
     "data": {
      "text/plain": [
       "[0.6072076685734685,\n",
       " 0.6084803821569427,\n",
       " 0.5950662966389146,\n",
       " 0.6006363928242616,\n",
       " 0.6118853329933274]"
      ]
     },
     "execution_count": 53,
     "metadata": {},
     "output_type": "execute_result"
    }
   ],
   "source": [
    "#CNN简单计算的结果\n",
    "AUC"
   ]
  },
  {
   "cell_type": "code",
   "execution_count": 29,
   "id": "2a30aa29",
   "metadata": {
    "ExecuteTime": {
     "end_time": "2022-11-14T01:28:12.646895Z",
     "start_time": "2022-11-14T01:28:12.640023Z"
    }
   },
   "outputs": [
    {
     "data": {
      "text/plain": [
       "[0.6000720363114009,\n",
       " 0.6043345403236774,\n",
       " 0.5913022212298106,\n",
       " 0.5992160439882885,\n",
       " 0.6128458498023714]"
      ]
     },
     "execution_count": 29,
     "metadata": {},
     "output_type": "execute_result"
    }
   ],
   "source": [
    "#FN简单计算的结果\n",
    "AUC"
   ]
  },
  {
   "cell_type": "code",
   "execution_count": null,
   "id": "e2b499ff",
   "metadata": {},
   "outputs": [],
   "source": []
  }
 ],
 "metadata": {
  "kernelspec": {
   "display_name": "Python [conda env:BERT]",
   "language": "python",
   "name": "conda-env-BERT-py"
  },
  "language_info": {
   "codemirror_mode": {
    "name": "ipython",
    "version": 3
   },
   "file_extension": ".py",
   "mimetype": "text/x-python",
   "name": "python",
   "nbconvert_exporter": "python",
   "pygments_lexer": "ipython3",
   "version": "3.6.8"
  },
  "toc": {
   "base_numbering": 1,
   "nav_menu": {},
   "number_sections": true,
   "sideBar": true,
   "skip_h1_title": false,
   "title_cell": "Table of Contents",
   "title_sidebar": "Contents",
   "toc_cell": false,
   "toc_position": {},
   "toc_section_display": true,
   "toc_window_display": false
  },
  "varInspector": {
   "cols": {
    "lenName": 16,
    "lenType": 16,
    "lenVar": 40
   },
   "kernels_config": {
    "python": {
     "delete_cmd_postfix": "",
     "delete_cmd_prefix": "del ",
     "library": "var_list.py",
     "varRefreshCmd": "print(var_dic_list())"
    },
    "r": {
     "delete_cmd_postfix": ") ",
     "delete_cmd_prefix": "rm(",
     "library": "var_list.r",
     "varRefreshCmd": "cat(var_dic_list()) "
    }
   },
   "types_to_exclude": [
    "module",
    "function",
    "builtin_function_or_method",
    "instance",
    "_Feature"
   ],
   "window_display": false
  }
 },
 "nbformat": 4,
 "nbformat_minor": 5
}
