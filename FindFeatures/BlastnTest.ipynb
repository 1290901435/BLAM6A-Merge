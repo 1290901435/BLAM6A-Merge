{
 "cells": [
  {
   "cell_type": "code",
   "execution_count": 1,
   "id": "5e17130b",
   "metadata": {
    "ExecuteTime": {
     "end_time": "2022-12-20T05:17:29.622869Z",
     "start_time": "2022-12-20T05:17:27.553464Z"
    }
   },
   "outputs": [],
   "source": [
    "from features import ensembleFeature\n",
    "import numpy as np\n",
    "import pandas as pd\n",
    "import matplotlib.pyplot as plt\n",
    "import matplotlib as mpl\n",
    "import seaborn as sns\n",
    "import torch\n",
    "from torch import nn\n",
    "import re\n",
    "from sklearn.utils import shuffle\n",
    "from utils import metricsCal\n",
    "from torch.utils.data import DataLoader,TensorDataset\n",
    "import math\n",
    "import sys\n",
    "import copy\n",
    "import pickle\n",
    "from torch.autograd import Variable\n",
    "from sklearn.model_selection import KFold\n",
    "import torch.nn.functional as F\n",
    "import os\n",
    "import Model\n",
    "from matplotlib import cm\n",
    "from matplotlib.ticker import LinearLocator\n",
    "import csv\n",
    "%matplotlib inline"
   ]
  },
  {
   "cell_type": "code",
   "execution_count": 106,
   "id": "5cf1a142",
   "metadata": {
    "ExecuteTime": {
     "end_time": "2022-12-24T13:13:23.251764Z",
     "start_time": "2022-12-24T13:13:23.227885Z"
    }
   },
   "outputs": [],
   "source": [
    "#一个函数用于序列转换，一个函数用于检测“N”碱基\n",
    "def long_short(data):\n",
    "    seq_list = []\n",
    "    for i in data[0]:\n",
    "        seq_list.append(str(i)[480:521])\n",
    "    return np.array(seq_list)\n",
    "\n",
    "def check_N(data1,data2):\n",
    "    seq_list = []\n",
    "    gene_list = []\n",
    "    for i in range(len(data1)):\n",
    "        if str(data1[i]).find(\"N\")<0:\n",
    "            seq_list.append(data1[i])\n",
    "            gene_list.append(data2[i])\n",
    "    return np.array(seq_list),np.array(gene_list)\n",
    "\n",
    "def np_score(data):\n",
    "    sum_s = 0.0\n",
    "    pos = 0.0\n",
    "    for i in range(len(data)):\n",
    "        if \"P\" in data[i][1]:\n",
    "            pos+=data[i][-1]\n",
    "        sum_s += data[i][-1]\n",
    "    if sum_s != 0:\n",
    "        return pos/sum_s\n",
    "    else:\n",
    "        return 0.5\n",
    "    \n",
    "def train_np_score(data,name):\n",
    "    sum_s = 0.0\n",
    "    pos = 0.0\n",
    "    for i in range(len(data)):\n",
    "        if name != data[i][1]:\n",
    "            if \"P\" in data[i][1]:\n",
    "                pos+=data[i][-1]\n",
    "            sum_s += data[i][-1]\n",
    "    if sum_s != 0:\n",
    "        return pos/sum_s\n",
    "    else:\n",
    "        return 0.5\n",
    "    \n",
    "def seq_fasta(data,label,file_dir):\n",
    "    with open(file_dir, 'w') as f:\n",
    "        for i in range(len(data)):\n",
    "            if label[i] == 1:\n",
    "                f.write('>P' + str(i + 1) + '\\n')\n",
    "            else:\n",
    "                f.write('>N' + str(i + 1) + '\\n')\n",
    "            f.write(data[i] + '\\n')"
   ]
  },
  {
   "cell_type": "code",
   "execution_count": 107,
   "id": "0d516a91",
   "metadata": {
    "ExecuteTime": {
     "end_time": "2022-12-24T13:13:24.193805Z",
     "start_time": "2022-12-24T13:13:24.188030Z"
    }
   },
   "outputs": [],
   "source": [
    "type_name = [\"FullTranscript\",\"matureRNA\"]\n",
    "cell_name = [\"A549\",\"CD8T\",\"Hek293_abacm\",\"Hek293_sysy\",\"HeLa\",\"MOLM13\"]"
   ]
  },
  {
   "cell_type": "code",
   "execution_count": 108,
   "id": "8c08981c",
   "metadata": {
    "ExecuteTime": {
     "end_time": "2022-12-24T16:53:51.332245Z",
     "start_time": "2022-12-24T13:13:27.614234Z"
    }
   },
   "outputs": [],
   "source": [
    "for typei in range(len(type_name)):\n",
    "    for celli in range(len(cell_name)):\n",
    "        trainPosSeq_file = \"data/\"+type_name[typei]+\"/\"+cell_name[celli]+\"/Pos_\"+cell_name[celli]+\"_train_\"+type_name[typei]+\"_seq.csv\"\n",
    "        trainNegSeq_file = \"data/\"+type_name[typei]+\"/\"+cell_name[celli]+\"/Neg_\"+cell_name[celli]+\"_train_\"+type_name[typei]+\"_seq.csv\"\n",
    "        testPosSeq_file = \"data/\"+type_name[typei]+\"/\"+cell_name[celli]+\"/Pos_\"+cell_name[celli]+\"_test_\"+type_name[typei]+\"_seq.csv\"\n",
    "        testNegSeq_file = \"data/\"+type_name[typei]+\"/\"+cell_name[celli]+\"/Neg_\"+cell_name[celli]+\"_test_\"+type_name[typei]+\"_seq.csv\"\n",
    "        trainPosGene_file = \"data/\"+type_name[typei]+\"/\"+cell_name[celli]+\"/Pos_\"+cell_name[celli]+\"_train_\"+type_name[typei]+\"_gene.csv\"\n",
    "        trainNegGene_file = \"data/\"+type_name[typei]+\"/\"+cell_name[celli]+\"/Neg_\"+cell_name[celli]+\"_train_\"+type_name[typei]+\"_gene.csv\"\n",
    "        testPosGene_file = \"data/\"+type_name[typei]+\"/\"+cell_name[celli]+\"/Pos_\"+cell_name[celli]+\"_test_\"+type_name[typei]+\"_gene.csv\"\n",
    "        testNegGene_file = \"data/\"+type_name[typei]+\"/\"+cell_name[celli]+\"/Neg_\"+cell_name[celli]+\"_test_\"+type_name[typei]+\"_gene.csv\"\n",
    "        \n",
    "        #获取文件信息\n",
    "        trainPos_seq = pd.read_csv(trainPosSeq_file,header=None)\n",
    "        trainNeg_seq = pd.read_csv(trainNegSeq_file,header=None)\n",
    "        testPos_seq = pd.read_csv(testPosSeq_file,header=None)\n",
    "        testNeg_seq = pd.read_csv(testNegSeq_file,header=None)\n",
    "        trainPos_gene = pd.read_csv(trainPosGene_file) \n",
    "        trainNeg_gene = pd.read_csv(trainNegGene_file)\n",
    "        testPos_gene = pd.read_csv(testPosGene_file)\n",
    "        testNeg_gene = pd.read_csv(testNegGene_file)\n",
    "        #序列转41-nt长度\n",
    "        trainPos_seq = long_short(trainPos_seq)\n",
    "        trainNeg_seq = long_short(trainNeg_seq)\n",
    "        testPos_seq = long_short(testPos_seq)\n",
    "        testNeg_seq = long_short(testNeg_seq)\n",
    "        #基因转35长度\n",
    "        trainPos_gene = trainPos_gene.iloc[:,[0,1,3,4,5,6,7,8,9,10,11,13,14,16,17,19,23,22,25,20,21,44,45,46,47,48,49,50,65,66,69,55,51,57,56]]\n",
    "        trainNeg_gene = trainNeg_gene.iloc[:,[0,1,3,4,5,6,7,8,9,10,11,13,14,16,17,19,23,22,25,20,21,44,45,46,47,48,49,50,65,66,69,55,51,57,56]]\n",
    "        testPos_gene = testPos_gene.iloc[:,[0,1,3,4,5,6,7,8,9,10,11,13,14,16,17,19,23,22,25,20,21,44,45,46,47,48,49,50,65,66,69,55,51,57,56]]\n",
    "        testNeg_gene = testNeg_gene.iloc[:,[0,1,3,4,5,6,7,8,9,10,11,13,14,16,17,19,23,22,25,20,21,44,45,46,47,48,49,50,65,66,69,55,51,57,56]]\n",
    "        trainPos_seq,trainPos_gene = check_N(trainPos_seq,np.array(trainPos_gene))\n",
    "        trainNeg_seq,trainNeg_gene = check_N(trainNeg_seq,np.array(trainNeg_gene))\n",
    "        testPos_seq,testPos_gene = check_N(testPos_seq,np.array(testPos_gene))\n",
    "        testNeg_seq,testNeg_gene = check_N(testNeg_seq,np.array(testNeg_gene))\n",
    "        #基因变Float\n",
    "        trainPos_gene = np.float32(trainPos_gene)\n",
    "        trainNeg_gene = np.float32(trainNeg_gene)\n",
    "        testPos_gene = np.float32(testPos_gene)\n",
    "        testNeg_gene = np.float32(testNeg_gene)\n",
    "        #打乱顺序，再取等长\n",
    "        trainNeg_seq, trainNeg_gene = shuffle(trainNeg_seq,trainNeg_gene, random_state=1)\n",
    "        testNeg_seq, testNeg_gene = shuffle(testNeg_seq, testNeg_gene, random_state=1)\n",
    "\n",
    "        trainNeg_seq = trainNeg_seq[:len(trainPos_seq)]\n",
    "        testNeg_seq = testNeg_seq[:len(testPos_seq)]\n",
    "\n",
    "        trainPos_label = np.ones(len(trainPos_seq))\n",
    "        trainNeg_label = np.zeros(len(trainNeg_seq))\n",
    "        testPos_label = np.ones(len(testPos_seq))\n",
    "        testNeg_label = np.zeros(len(testNeg_seq))   \n",
    "\n",
    "#五折交叉存储fasta文件 \n",
    "#         kf = KFold(5,True,10)\n",
    "#         train_seq = np.append(trainPos_seq,trainNeg_seq)\n",
    "#         trainLabel = np.append(trainPos_label,trainNeg_label)\n",
    "#         for i,[train_index, test_index] in enumerate(kf.split(train_seq)):\n",
    "#             X_train = train_seq[train_index]\n",
    "#             X_test = train_seq[test_index]\n",
    "#             Y_train = trainLabel[train_index]\n",
    "#             Y_test = trainLabel[test_index]\n",
    "#             file_dir = \"Blastn/\"+type_name[typei]+\"+\"+cell_name[celli]+\"/KFold_\"+str(i)+\"/\"\n",
    "#             if not os.path.exists(file_dir):\n",
    "#                 os.makedirs(file_dir)\n",
    "#             seq_fasta(X_train,Y_train,file_dir+\"train.fasta\")\n",
    "#             seq_fasta(X_test,Y_test,file_dir+\"test.fasta\")\n",
    "        \n",
    "# 文件存储为fasta的文件格式\n",
    "#         train_seq = np.append(trainPos_seq,trainNeg_seq)\n",
    "#         trainLabel = np.append(trainPos_label,trainNeg_label)\n",
    "#         test_seq = np.append(testPos_seq,testNeg_seq)\n",
    "#         testLabel = np.append(testPos_label,testNeg_label)\n",
    "#         file_dir = \"Blastn/\"+type_name[typei]+\"+\"+cell_name[celli]+\"/\"\n",
    "#         if not os.path.exists(file_dir):\n",
    "#             os.makedirs(file_dir)\n",
    "#         seq_fasta(train_seq,trainLabel,file_dir+\"train.fasta\")\n",
    "#         seq_fasta(test_seq,testLabel,file_dir+\"test.fasta\")\n",
    "\n",
    "#训练数据获取结果\n",
    "        train_seq = np.append(trainPos_seq,trainNeg_seq)\n",
    "        trainLabel = np.append(trainPos_label,trainNeg_label)\n",
    "        re_dir = \"Blastn/\"+type_name[typei]+\"+\"+cell_name[celli]+\"/result_train.csv\"\n",
    "        data = pd.read_csv(re_dir,header=None)\n",
    "        train_score = []\n",
    "        for i in range(len(trainPos_seq)):\n",
    "            train_score.append(train_np_score(np.array(data.loc[data[0] == \"P\"+str(i+1)]),\"P\"+str(i+1) ))\n",
    "        for i in range(len(trainPos_seq)):\n",
    "            train_score.append(train_np_score(np.array(data.loc[data[0] == \"N\"+str(i+1+len(trainPos_seq))]),\"N\"+str(i+1+len(trainPos_seq))))\n",
    "        pd.DataFrame(np.append(np.array(train_score).reshape(-1,1),trainLabel.reshape(-1,1),axis=1)).to_csv(\"Blastn/\"+type_name[typei]+\"_\"+cell_name[celli]+\"_result_train.csv\" ,header=None)\n",
    "\n",
    "#测试数据获取结果\n",
    "#         test_seq = np.append(testPos_seq,testNeg_seq)\n",
    "#         testLabel = np.append(testPos_label,testNeg_label)\n",
    "#         re_dir = \"Blastn/\"+type_name[typei]+\"+\"+cell_name[celli]+\"/result.csv\" \n",
    "#         data = np.array(pd.read_csv(re_dir,header=None)) \n",
    "#         data = pd.read_csv(re_dir,header=None)\n",
    "#         test_score = []\n",
    "#         for i in range(len(testPos_seq)):\n",
    "#             test_score.append(np_score(np.array(data.loc[data[0] == \"P\"+str(i+1)])))\n",
    "#         for i in range(len(testPos_seq)):\n",
    "#             test_score.append(np_score(np.array(data.loc[data[0] == \"N\"+str(i+1+len(testPos_seq))])))\n",
    "#         pd.DataFrame(np.append(np.array(test_score).reshape(-1,1),testLabel.reshape(-1,1),axis=1)).to_csv(\"Blastn/\"+type_name[typei]+\"_\"+cell_name[celli]+\"_result.csv\" ,header=None)"
   ]
  },
  {
   "cell_type": "code",
   "execution_count": 20,
   "id": "d61d51c5",
   "metadata": {
    "ExecuteTime": {
     "end_time": "2022-12-20T06:28:52.572705Z",
     "start_time": "2022-12-20T06:28:52.499013Z"
    }
   },
   "outputs": [],
   "source": [
    "# 文件存储为fasta的文件格式\n",
    "# train_seq = np.append(trainPos_seq,trainNeg_seq)\n",
    "# trainLabel = np.append(trainPos_label,trainNeg_label)\n",
    "# file_dir = \"Blastn/\"+type_name[typei]+\"+\"+cell_name[celli]+\"/\"\n",
    "# if not os.path.exists(file_dir):\n",
    "#     os.makedirs(file_dir)\n",
    "# seq_fasta(train_seq,trainLabel,file_dir+\"train.fasta\")\n",
    "# test_seq = np.append(testPos_seq,testNeg_seq)\n",
    "# testLabel = np.append(testPos_label,testNeg_label)\n",
    "# seq_fasta(test_seq,testLabel,file_dir+\"test.fasta\")"
   ]
  },
  {
   "cell_type": "code",
   "execution_count": 43,
   "id": "4ee31192",
   "metadata": {
    "ExecuteTime": {
     "end_time": "2022-12-20T07:52:37.804313Z",
     "start_time": "2022-12-20T07:52:36.847022Z"
    }
   },
   "outputs": [],
   "source": [
    "re_dir = \"Blastn/\"+type_name[typei]+\"+\"+cell_name[celli]+\"/result.csv\" \n",
    "data = np.array(pd.read_csv(re_dir,header=None))\n",
    "data = pd.read_csv(re_dir,header=None)\n",
    "test_score = []\n",
    "for i in range(len(testPos_seq)):\n",
    "    test_score.append(train_np_score(np.array(data.loc[data[0] == \"P\"+str(i+1)]),\"P\"+str(i+1) ))\n",
    "for i in range(len(testPos_seq)):\n",
    "    test_score.append(np_score(np.array(data.loc[data[0] == \"N\"+str(i+1+len(testPos_seq))]),\"N\"+str(i+1+len(testPos_seq))))\n",
    "pd.DataFrame(np.append(np.array(test_score).reshape(-1,1),testLabel.reshape(-1,1))).to_csv(\"Blastn/\"+type_name[typei]+\"_\"+cell_name[celli]+\"_result.csv\" ,header=\"score\")"
   ]
  },
  {
   "cell_type": "code",
   "execution_count": 109,
   "id": "cc7a4c4c",
   "metadata": {
    "ExecuteTime": {
     "end_time": "2022-12-24T16:53:51.526183Z",
     "start_time": "2022-12-24T16:53:51.520647Z"
    }
   },
   "outputs": [
    {
     "data": {
      "text/plain": [
       "17936"
      ]
     },
     "execution_count": 109,
     "metadata": {},
     "output_type": "execute_result"
    }
   ],
   "source": [
    "len(test_score)"
   ]
  },
  {
   "cell_type": "code",
   "execution_count": 88,
   "id": "6eda1e33",
   "metadata": {
    "ExecuteTime": {
     "end_time": "2022-12-21T02:15:04.384193Z",
     "start_time": "2022-12-21T02:15:02.201102Z"
    }
   },
   "outputs": [],
   "source": [
    "Th = []\n",
    "Acc = []\n",
    "Mcc = []\n",
    "Auc = []\n",
    "for typei in range(len(type_name)):\n",
    "    for celli in range(len(cell_name)):\n",
    "        file_name = \"Blastn/\" + type_name[typei] + \"_\"+cell_name[celli]+\"_result.csv\"\n",
    "        y_pred = np.array(pd.read_csv(file_name,header=None,index_col=0).iloc[:,0])\n",
    "        y_true = np.array(pd.read_csv(file_name,header=None,index_col=0).iloc[:,1])\n",
    "        th,_,_,_,_,acc,_,_,mcc,auc = metricsCal.get_train_metrics(y_pred,y_true)\n",
    "        Th.append(th)\n",
    "        Acc.append(acc)\n",
    "        Mcc.append(mcc)\n",
    "        Auc.append(auc)"
   ]
  },
  {
   "cell_type": "code",
   "execution_count": 93,
   "id": "10be3c75",
   "metadata": {
    "ExecuteTime": {
     "end_time": "2022-12-21T02:16:55.730304Z",
     "start_time": "2022-12-21T02:16:55.722692Z"
    },
    "scrolled": true
   },
   "outputs": [
    {
     "data": {
      "text/plain": [
       "[0.7226153576232528,\n",
       " 0.7892674994456353,\n",
       " 0.7075584371267701,\n",
       " 0.7222998602515472,\n",
       " 0.7404164312807683,\n",
       " 0.6874863268431416,\n",
       " 0.6978590754028938,\n",
       " 0.6546095486244157,\n",
       " 0.6483854433623782,\n",
       " 0.7028594281143771,\n",
       " 0.6194962196256014,\n",
       " 0.6190900981266726]"
      ]
     },
     "execution_count": 93,
     "metadata": {},
     "output_type": "execute_result"
    }
   ],
   "source": [
    "Acc"
   ]
  },
  {
   "cell_type": "code",
   "execution_count": 90,
   "id": "48bfbcf7",
   "metadata": {
    "ExecuteTime": {
     "end_time": "2022-12-21T02:16:30.364984Z",
     "start_time": "2022-12-21T02:16:29.473533Z"
    }
   },
   "outputs": [],
   "source": [
    "#计算12个物种的结果\n",
    "Acc_test = []\n",
    "Mcc_test = []\n",
    "Auc_test = []\n",
    "for typei in range(len(type_name)):\n",
    "    for celli in range(len(cell_name)):\n",
    "        file_name = \"Blastn/\" + type_name[typei] + \"_\"+cell_name[celli]+\"_result.csv\"\n",
    "        y_pred = np.array(pd.read_csv(file_name,header=None,index_col=0).iloc[:,0])\n",
    "        y_true = np.array(pd.read_csv(file_name,header=None,index_col=0).iloc[:,1])\n",
    "        _,_,_,_,acc,_,_,mcc,auc = metricsCal.get_test_metrics(y_pred,y_true,0.51)\n",
    "        Acc_test.append(acc)\n",
    "        Mcc_test.append(mcc)\n",
    "        Auc_test.append(auc)"
   ]
  },
  {
   "cell_type": "code",
   "execution_count": 96,
   "id": "cdc29f4d",
   "metadata": {
    "ExecuteTime": {
     "end_time": "2022-12-21T05:58:32.077504Z",
     "start_time": "2022-12-21T05:58:32.068259Z"
    }
   },
   "outputs": [
    {
     "data": {
      "text/plain": [
       "(0.746296629722114, 0.6711812724858165)"
      ]
     },
     "execution_count": 96,
     "metadata": {},
     "output_type": "execute_result"
    }
   ],
   "source": [
    "np.mean(Auc_test[0:6]),np.mean(Auc_test[6:12])"
   ]
  },
  {
   "cell_type": "code",
   "execution_count": 97,
   "id": "027b8c75",
   "metadata": {
    "ExecuteTime": {
     "end_time": "2022-12-21T05:58:51.936784Z",
     "start_time": "2022-12-21T05:58:51.928017Z"
    }
   },
   "outputs": [
    {
     "data": {
      "text/plain": [
       "(0.746296629722114, 0.6711812724858165)"
      ]
     },
     "execution_count": 97,
     "metadata": {},
     "output_type": "execute_result"
    }
   ],
   "source": [
    "np.mean(Auc[0:6]),np.mean(Auc[6:12])"
   ]
  },
  {
   "cell_type": "code",
   "execution_count": 98,
   "id": "3505af5a",
   "metadata": {
    "ExecuteTime": {
     "end_time": "2022-12-21T06:00:20.467176Z",
     "start_time": "2022-12-21T06:00:20.458276Z"
    }
   },
   "outputs": [
    {
     "data": {
      "text/plain": [
       "(0.3711482221459467, 0.2592277860411468)"
      ]
     },
     "execution_count": 98,
     "metadata": {},
     "output_type": "execute_result"
    }
   ],
   "source": [
    "np.mean(Mcc[0:6]),np.mean(Mcc[6:12])"
   ]
  },
  {
   "cell_type": "code",
   "execution_count": 105,
   "id": "4f318af1",
   "metadata": {
    "ExecuteTime": {
     "end_time": "2022-12-24T13:07:28.217091Z",
     "start_time": "2022-12-24T13:07:28.204659Z"
    }
   },
   "outputs": [
    {
     "data": {
      "text/plain": [
       "(30312, 2)"
      ]
     },
     "execution_count": 105,
     "metadata": {},
     "output_type": "execute_result"
    }
   ],
   "source": [
    "np.append(np.array(train_score).reshape(-1,1),trainLabel.reshape(-1,1),axis=1).shape"
   ]
  },
  {
   "cell_type": "code",
   "execution_count": null,
   "id": "9e78c0b9",
   "metadata": {},
   "outputs": [],
   "source": []
  }
 ],
 "metadata": {
  "kernelspec": {
   "display_name": "Python [conda env:BERT]",
   "language": "python",
   "name": "conda-env-BERT-py"
  },
  "language_info": {
   "codemirror_mode": {
    "name": "ipython",
    "version": 3
   },
   "file_extension": ".py",
   "mimetype": "text/x-python",
   "name": "python",
   "nbconvert_exporter": "python",
   "pygments_lexer": "ipython3",
   "version": "3.6.8"
  },
  "toc": {
   "base_numbering": 1,
   "nav_menu": {},
   "number_sections": true,
   "sideBar": true,
   "skip_h1_title": false,
   "title_cell": "Table of Contents",
   "title_sidebar": "Contents",
   "toc_cell": false,
   "toc_position": {},
   "toc_section_display": true,
   "toc_window_display": false
  },
  "varInspector": {
   "cols": {
    "lenName": 16,
    "lenType": 16,
    "lenVar": 40
   },
   "kernels_config": {
    "python": {
     "delete_cmd_postfix": "",
     "delete_cmd_prefix": "del ",
     "library": "var_list.py",
     "varRefreshCmd": "print(var_dic_list())"
    },
    "r": {
     "delete_cmd_postfix": ") ",
     "delete_cmd_prefix": "rm(",
     "library": "var_list.r",
     "varRefreshCmd": "cat(var_dic_list()) "
    }
   },
   "types_to_exclude": [
    "module",
    "function",
    "builtin_function_or_method",
    "instance",
    "_Feature"
   ],
   "window_display": false
  }
 },
 "nbformat": 4,
 "nbformat_minor": 5
}
