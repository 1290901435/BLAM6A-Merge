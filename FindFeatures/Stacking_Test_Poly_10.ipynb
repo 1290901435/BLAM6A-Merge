{
 "cells": [
  {
   "cell_type": "code",
   "execution_count": 1,
   "id": "eedb5ccd",
   "metadata": {
    "ExecuteTime": {
     "end_time": "2022-12-27T15:35:07.097036Z",
     "start_time": "2022-12-27T15:35:04.971222Z"
    }
   },
   "outputs": [],
   "source": [
    "from features import ensembleFeature\n",
    "import numpy as np\n",
    "import pandas as pd\n",
    "import matplotlib.pyplot as plt\n",
    "import matplotlib as mpl\n",
    "import seaborn as sns\n",
    "import torch\n",
    "from torch import nn\n",
    "import re\n",
    "from sklearn.utils import shuffle\n",
    "from utils import metricsCal\n",
    "from torch.utils.data import DataLoader,TensorDataset\n",
    "import math\n",
    "import sys\n",
    "import copy\n",
    "import pickle\n",
    "from torch.autograd import Variable\n",
    "from sklearn.model_selection import KFold\n",
    "import torch.nn.functional as F\n",
    "import os\n",
    "import Model\n",
    "from matplotlib import cm\n",
    "from matplotlib.ticker import LinearLocator\n",
    "import csv\n",
    "from itertools import combinations,permutations\n",
    "from sklearn.preprocessing import StandardScaler\n",
    "from time import time\n",
    "from thundersvm import SVC\n",
    "\n",
    "%matplotlib inline"
   ]
  },
  {
   "cell_type": "code",
   "execution_count": null,
   "id": "272f7ca3",
   "metadata": {
    "ExecuteTime": {
     "start_time": "2022-12-26T15:40:34.280Z"
    }
   },
   "outputs": [],
   "source": [
    "type_name = [\"FullTranscript\",\"matureRNA\"]\n",
    "cell_name = [\"A549\",\"CD8T\",\"Hek293_abacm\",\"Hek293_sysy\",\"HeLa\",\"MOLM13\"]\n",
    "feature_name = [\"binary\",\"NCPA\",\"emb\",\"PSNP\",\"ENAC\",\"PseDNC\",\"EIIP\",\"PCP\",\"DBPF\"]\n",
    "\n",
    "device = torch.device(\"cuda:1\" if torch.cuda.is_available() else \"cpu\")  #选择设备\n",
    "os.environ['CUDA_VISIBLE_DEVICES'] = '1'\n",
    "\n",
    "Auc = np.zeros(len(type_name)*len(cell_name)*5*1023).reshape(1023,-1)\n",
    "Acc = np.zeros(len(type_name)*len(cell_name)*5*1023).reshape(1023,-1)\n",
    "Mcc = np.zeros(len(type_name)*len(cell_name)*5*1023).reshape(1023,-1)\n",
    "\n",
    "col_name = []\n",
    "row_name = []\n",
    "for typei in range(len(type_name)):\n",
    "    for celli in range(len(cell_name)):\n",
    "        for i in range(5):\n",
    "            col_name.append(type_name[typei]+\"_\"+cell_name[celli]+\"_\"+str(i))\n",
    "            train_data = pd.read_csv(\"Stacking_result/all_train_KFold/train_\"+type_name[typei]+\"_\"+cell_name[celli]+\"_Kfold\"+str(i)+\".csv\").iloc[:,1:]\n",
    "            test_data = pd.read_csv(\"Stacking_result/all_test_KFold/test_\"+type_name[typei]+\"_\"+cell_name[celli]+\"_Kfold\"+str(i)+\".csv\").iloc[:,1:]\n",
    "            \n",
    "            train_data = np.array(train_data)\n",
    "            test_data = np.array(test_data)\n",
    "            \n",
    "            x = list(range(10))\n",
    "            fea_list = ['binary','NCPA','emb','PSNP','ENAC','PseDNC','EIIP','PCP','DBPF','Blastn']\n",
    "            row = -1\n",
    "            for j in range(10):\n",
    "                for com_one in list(combinations(x, j+1)):\n",
    "                    if typei==0 and celli==0 and i==0:\n",
    "                        row_one = \"\"\n",
    "                        for m in com_one:\n",
    "                            row_one += fea_list[m]+\"_\"\n",
    "                        row_one = row_one[0:-1]\n",
    "                        row_name.append(row_one)\n",
    "                    x_train = []\n",
    "                    x_test = []\n",
    "                    for m in com_one:\n",
    "                        row_name += fea_list[m]+\"_\"\n",
    "                        x_train.append(train_data[:,m:m+1])\n",
    "                        x_test.append(test_data[:,m:m+1])\n",
    "                    row+=1\n",
    "                    model = SVC(kernel = \"polynomial\",gamma=\"auto\", degree = 1, cache_size=7000)\n",
    "                    clf = model.fit(np.array(x_train).reshape(len(com_one),-1).transpose(), train_data[:,-1])\n",
    "                    th,_,_,_,_,_,_,acc,mcc,auc = metricsCal.get_train_metrics(clf.decision_function(np.array(x_train).reshape(len(com_one),-1).transpose()).reshape(-1),train_data[:,-1].reshape(-1))                \n",
    "                    _,_,_,_,_,_,acc,mcc,auc = metricsCal.get_test_metrics(clf.decision_function(np.array(x_test).reshape(len(com_one),-1).transpose()).reshape(-1),test_data[:,-1].reshape(-1),th)\n",
    "                    Auc[row][typei*30+celli*5+i]=auc\n",
    "                    Acc[row][typei*30+celli*5+i]=acc\n",
    "                    Mcc[row][typei*30+celli*5+i]=mcc"
   ]
  },
  {
   "cell_type": "code",
   "execution_count": 4,
   "id": "d8c39cf8",
   "metadata": {
    "ExecuteTime": {
     "end_time": "2022-12-28T05:29:03.717712Z",
     "start_time": "2022-12-28T05:29:03.713262Z"
    }
   },
   "outputs": [
    {
     "data": {
      "text/plain": [
       "1659903"
      ]
     },
     "execution_count": 4,
     "metadata": {},
     "output_type": "execute_result"
    }
   ],
   "source": [
    "len(row_name)"
   ]
  },
  {
   "cell_type": "code",
   "execution_count": 7,
   "id": "57d64c88",
   "metadata": {
    "ExecuteTime": {
     "end_time": "2022-12-28T06:21:53.285132Z",
     "start_time": "2022-12-28T06:21:53.277851Z"
    }
   },
   "outputs": [
    {
     "data": {
      "text/plain": [
       "0.788137188646072"
      ]
     },
     "execution_count": 7,
     "metadata": {},
     "output_type": "execute_result"
    }
   ],
   "source": [
    "np.max(np.mean(Auc,axis=1))"
   ]
  },
  {
   "cell_type": "code",
   "execution_count": 8,
   "id": "2416414d",
   "metadata": {
    "ExecuteTime": {
     "end_time": "2022-12-28T06:41:58.988747Z",
     "start_time": "2022-12-28T06:41:58.806628Z"
    }
   },
   "outputs": [
    {
     "name": "stdout",
     "output_type": "stream",
     "text": [
      "1008\n"
     ]
    }
   ],
   "source": [
    "for i in range(len(np.mean(Auc,axis=1))):\n",
    "    if np.mean(Auc,axis=1)[i] == np.max(np.mean(Auc,axis=1)):\n",
    "        print(i)"
   ]
  },
  {
   "cell_type": "code",
   "execution_count": 37,
   "id": "877a0695",
   "metadata": {
    "ExecuteTime": {
     "end_time": "2022-12-28T14:26:11.107510Z",
     "start_time": "2022-12-28T14:26:11.094188Z"
    }
   },
   "outputs": [],
   "source": [
    "x = list(range(10))\n",
    "row_name = []\n",
    "fea_list = ['binary','NCPA','emb','PSNP','ENAC','PseDNC','EIIP','PCP','DBPF','Blastn']\n",
    "for j in range(10):\n",
    "    for com_one in list(combinations(x, j+1)):\n",
    "        row_one = \"\"\n",
    "        for m in com_one:\n",
    "            row_one += fea_list[m]+\"_\"\n",
    "        row_one = row_one[0:-1]\n",
    "        row_name.append(row_one)"
   ]
  },
  {
   "cell_type": "code",
   "execution_count": 19,
   "id": "75bed998",
   "metadata": {
    "ExecuteTime": {
     "end_time": "2022-12-28T08:14:06.662961Z",
     "start_time": "2022-12-28T08:14:06.655577Z"
    }
   },
   "outputs": [
    {
     "data": {
      "text/plain": [
       "'NCPA_emb_PSNP_PseDNC_EIIP_PCP_DBPF_Blastn'"
      ]
     },
     "execution_count": 19,
     "metadata": {},
     "output_type": "execute_result"
    }
   ],
   "source": [
    "row_name[1008]"
   ]
  },
  {
   "cell_type": "code",
   "execution_count": 41,
   "id": "03f1bb85",
   "metadata": {
    "ExecuteTime": {
     "end_time": "2022-12-28T14:27:29.160110Z",
     "start_time": "2022-12-28T14:27:28.870720Z"
    }
   },
   "outputs": [
    {
     "name": "stdout",
     "output_type": "stream",
     "text": [
      "524\n"
     ]
    }
   ],
   "source": [
    "#添加第一列\n",
    "Auc_col = np.append(np.array(row_name).reshape(-1,1),Auc,axis=1)\n",
    "#补全header\n",
    "col_kk = col_name\n",
    "col_kk.insert(0,\"row_name\")\n",
    "#保存文件\n",
    "pd.DataFrame(Auc_col).to_csv(\"Stacking_result/Poly_10.csv\",header = col_kk,index=0)\n",
    "#读取文件\n",
    "data = pd.read_csv(\"Stacking_result/Poly_10.csv\",index_col = \"row_name\")\n",
    "for i in range(len(np.array(data.index))):\n",
    "    if np.array(data.index)[i]==\"NCPA_emb_PSNP_PCP_Blastn\":\n",
    "        print(i)"
   ]
  },
  {
   "cell_type": "code",
   "execution_count": 53,
   "id": "90e79c51",
   "metadata": {
    "ExecuteTime": {
     "end_time": "2022-12-28T14:30:20.744809Z",
     "start_time": "2022-12-28T14:30:20.734372Z"
    }
   },
   "outputs": [
    {
     "name": "stdout",
     "output_type": "stream",
     "text": [
      "0.7803698767530615\n"
     ]
    },
    {
     "data": {
      "text/plain": [
       "'NCPA_emb_PSNP_EIIP_PCP'"
      ]
     },
     "execution_count": 53,
     "metadata": {},
     "output_type": "execute_result"
    }
   ],
   "source": [
    "da = 520\n",
    "print(np.mean(np.array(data),axis=1)[da])\n",
    "data.index[da]"
   ]
  },
  {
   "cell_type": "code",
   "execution_count": 26,
   "id": "c5ad18ba",
   "metadata": {
    "ExecuteTime": {
     "end_time": "2022-12-28T09:37:58.555964Z",
     "start_time": "2022-12-28T09:37:58.548380Z"
    }
   },
   "outputs": [
    {
     "data": {
      "text/plain": [
       "0.788137188646072"
      ]
     },
     "execution_count": 26,
     "metadata": {},
     "output_type": "execute_result"
    }
   ],
   "source": [
    "np.max(np.mean(np.array(data),axis=1))"
   ]
  },
  {
   "cell_type": "code",
   "execution_count": 27,
   "id": "e503a14e",
   "metadata": {
    "ExecuteTime": {
     "end_time": "2022-12-28T09:38:10.577219Z",
     "start_time": "2022-12-28T09:38:10.570301Z"
    }
   },
   "outputs": [
    {
     "data": {
      "text/plain": [
       "0.7877487439576926"
      ]
     },
     "execution_count": 27,
     "metadata": {},
     "output_type": "execute_result"
    }
   ],
   "source": [
    "np.mean(np.array(data),axis=1)[524]"
   ]
  },
  {
   "cell_type": "code",
   "execution_count": 95,
   "id": "768c610c",
   "metadata": {
    "ExecuteTime": {
     "end_time": "2022-12-30T03:02:29.864671Z",
     "start_time": "2022-12-30T03:02:29.583922Z"
    }
   },
   "outputs": [],
   "source": [
    "data = pd.read_csv(\"Stacking_result/Poly_10_Standard.csv\",index_col = \"row_name\")"
   ]
  },
  {
   "cell_type": "code",
   "execution_count": 38,
   "id": "87ae3578",
   "metadata": {
    "ExecuteTime": {
     "end_time": "2022-12-28T14:26:49.050251Z",
     "start_time": "2022-12-28T14:26:49.043657Z"
    }
   },
   "outputs": [],
   "source": [
    "col_name = []\n",
    "for typei in range(len(type_name)):\n",
    "    for celli in range(len(cell_name)):\n",
    "        for i in range(5):\n",
    "            col_name.append(type_name[typei]+\"_\"+cell_name[celli]+\"_\"+str(i))"
   ]
  },
  {
   "cell_type": "code",
   "execution_count": 96,
   "id": "a1f706f3",
   "metadata": {
    "ExecuteTime": {
     "end_time": "2022-12-30T03:03:12.631308Z",
     "start_time": "2022-12-30T03:03:12.623440Z"
    }
   },
   "outputs": [
    {
     "data": {
      "text/plain": [
       "0.788137306158226"
      ]
     },
     "execution_count": 96,
     "metadata": {},
     "output_type": "execute_result"
    }
   ],
   "source": [
    "np.max(np.mean(np.array(data),axis=1))"
   ]
  },
  {
   "cell_type": "code",
   "execution_count": 97,
   "id": "d33db3d1",
   "metadata": {
    "ExecuteTime": {
     "end_time": "2022-12-30T03:03:15.411369Z",
     "start_time": "2022-12-30T03:03:15.391406Z"
    }
   },
   "outputs": [
    {
     "name": "stdout",
     "output_type": "stream",
     "text": [
      "一种特征的\n",
      "0.765269909723055\n",
      "两种特征的\n",
      "0.7793552200575783\n",
      "三种特征的\n",
      "0.7840974307177527\n",
      "四种特征的\n",
      "0.786642817182932\n",
      "五种特征的\n",
      "0.7878195384048562\n",
      "六种特征的\n",
      "0.7880296173030603\n",
      "七种特征的\n",
      "0.7880897566218974\n",
      "八种特征的\n",
      "0.788137306158226\n",
      "九种特征的\n",
      "0.7880669411073417\n",
      "十种特征的\n",
      "0.787972342452658\n"
     ]
    }
   ],
   "source": [
    "print(\"一种特征的\")\n",
    "print(np.max(  np.mean(np.array(data),axis=1)[0:9]  ))\n",
    "print(\"两种特征的\")\n",
    "print(np.max(  np.mean(np.array(data),axis=1)[10:54]  ))\n",
    "print(\"三种特征的\")\n",
    "print(np.max(  np.mean(np.array(data),axis=1)[55:174]  ))\n",
    "print(\"四种特征的\")\n",
    "print(np.max(  np.mean(np.array(data),axis=1)[175:384]  ))\n",
    "print(\"五种特征的\")\n",
    "print(np.max(  np.mean(np.array(data),axis=1)[385:636]  ))\n",
    "print(\"六种特征的\")\n",
    "print(np.max(  np.mean(np.array(data),axis=1)[637:846]  ))\n",
    "print(\"七种特征的\")\n",
    "print(np.max(  np.mean(np.array(data),axis=1)[847:966]  ))\n",
    "print(\"八种特征的\")\n",
    "print(np.max(  np.mean(np.array(data),axis=1)[967:1011]  ))\n",
    "print(\"九种特征的\")\n",
    "print(np.max(  np.mean(np.array(data),axis=1)[1012:1021]  ))\n",
    "print(\"十种特征的\")\n",
    "print(np.max(  np.mean(np.array(data),axis=1)[1021:1022]  ))"
   ]
  },
  {
   "cell_type": "code",
   "execution_count": 116,
   "id": "deb856e6",
   "metadata": {
    "ExecuteTime": {
     "end_time": "2022-12-30T03:06:29.887646Z",
     "start_time": "2022-12-30T03:06:29.879936Z"
    }
   },
   "outputs": [
    {
     "name": "stdout",
     "output_type": "stream",
     "text": [
      "0.7879072573098804\n",
      "binary_NCPA_emb_PSNP_ENAC_PseDNC_EIIP_PCP_DBPF_Blastn\n"
     ]
    }
   ],
   "source": [
    "best_auc = 0\n",
    "best_row = \"\"\n",
    "for i in range(len(data)):\n",
    "    if row_name[i].count(\"_\")==9:#and row_name[i].count(\"Blastn\")==0:\n",
    "        if np.mean(np.array(data)[i])>best_auc:\n",
    "            best_auc = np.mean(np.array(data)[i])\n",
    "            best_row = row_name[i]\n",
    "print(best_auc)\n",
    "print(best_row)"
   ]
  },
  {
   "cell_type": "code",
   "execution_count": null,
   "id": "d85b5aef",
   "metadata": {},
   "outputs": [],
   "source": [
    "#标准化的\n",
    "0.7652699097230546\n",
    "DBPF\n",
    "\n",
    "0.7794928740301417\n",
    "DBPF_Blastn\n",
    "\n",
    "0.7840974307177525\n",
    "emb_DBPF_Blastn\n",
    "\n",
    "0.7866428171829319\n",
    "NCPA_emb_PCP_Blastn\n",
    "\n",
    "0.7878195384048566\n",
    "emb_PSNP_PCP_DBPF_Blastn\n",
    "\n",
    "0.7880296173030603\n",
    "NCPA_emb_PSNP_PCP_DBPF_Blastn\n",
    "\n",
    "0.7880897566218973\n",
    "NCPA_emb_PSNP_PseDNC_PCP_DBPF_Blastn\n",
    "\n",
    "0.7881373061582261\n",
    "NCPA_emb_PSNP_PseDNC_EIIP_PCP_DBPF_Blastn\n",
    "\n",
    "0.7880669411073417\n",
    "binary_NCPA_emb_PSNP_PseDNC_EIIP_PCP_DBPF_Blastn\n",
    "\n",
    "0.7879072573098804\n",
    "binary_NCPA_emb_PSNP_ENAC_PseDNC_EIIP_PCP_DBPF_Blastn"
   ]
  },
  {
   "cell_type": "code",
   "execution_count": null,
   "id": "6907afae",
   "metadata": {},
   "outputs": [],
   "source": [
    "#标准化的\n",
    "0.7652699097230546\n",
    "DBPF\n",
    "\n",
    "0.7736447930649347\n",
    "PSNP_PCP\n",
    "\n",
    "0.7787071005025502\n",
    "emb_PSNP_PCP\n",
    "\n",
    "0.7802217912025209\n",
    "emb_PSNP_PCP_DBPF\n",
    "\n",
    "0.7804871122767592\n",
    "NCPA_emb_PSNP_PCP_DBPF\n",
    "\n",
    "0.7806260136004176\n",
    "NCPA_emb_PSNP_EIIP_PCP_DBPF\n",
    "\n",
    "0.7807561310241518\n",
    "NCPA_emb_PSNP_PseDNC_EIIP_PCP_DBPF\n",
    "\n",
    "0.7807359719717136\n",
    "binary_NCPA_emb_PSNP_PseDNC_EIIP_PCP_DBPF\n",
    "\n",
    "0.7807173900770106\n",
    "binary_NCPA_emb_PSNP_ENAC_PseDNC_EIIP_PCP_DBPF"
   ]
  },
  {
   "cell_type": "code",
   "execution_count": 69,
   "id": "bf47208e",
   "metadata": {
    "ExecuteTime": {
     "end_time": "2022-12-30T02:32:27.872291Z",
     "start_time": "2022-12-30T02:32:27.865486Z"
    }
   },
   "outputs": [
    {
     "data": {
      "text/plain": [
       "9"
      ]
     },
     "execution_count": 69,
     "metadata": {},
     "output_type": "execute_result"
    }
   ],
   "source": [
    "0.7652699183378325\n",
    "DBPF\n",
    "\n",
    "0.7794933773296329\n",
    "DBPF_Blastn\n",
    "\n",
    "0.7840968989154801\n",
    "emb_DBPF_Blastn\n",
    "\n",
    "0.7866418288591108\n",
    "NCPA_emb_PCP_Blastn\n",
    "\n",
    "0.7878197502353922\n",
    "emb_PSNP_PCP_DBPF_Blastn\n",
    "\n",
    "0.7880312888993214\n",
    "NCPA_emb_PSNP_PCP_DBPF_Blastn\n",
    "\n",
    "0.7880911089240393\n",
    "NCPA_emb_PSNP_PseDNC_PCP_DBPF_Blastn\n",
    "\n",
    "0.788137188646072\n",
    "NCPA_emb_PSNP_PseDNC_EIIP_PCP_DBPF_Blastn\n",
    "\n",
    "0.7880691260432905\n",
    "binary_NCPA_emb_PSNP_PseDNC_EIIP_PCP_DBPF_Blastn\n",
    "\n",
    "0.7879064098122479\n",
    "binary_NCPA_emb_PSNP_ENAC_PseDNC_EIIP_PCP_DBPF_Blastn"
   ]
  },
  {
   "cell_type": "code",
   "execution_count": 86,
   "id": "250b10eb",
   "metadata": {
    "ExecuteTime": {
     "end_time": "2022-12-30T02:46:38.319524Z",
     "start_time": "2022-12-30T02:46:38.312106Z"
    }
   },
   "outputs": [
    {
     "data": {
      "text/plain": [
       "0.7652699183378325"
      ]
     },
     "execution_count": 86,
     "metadata": {},
     "output_type": "execute_result"
    }
   ],
   "source": [
    "0.7652699183378325\n",
    "DBPF\n",
    "\n",
    "0.7736459253879352\n",
    "PSNP_PCP\n",
    "\n",
    "0.7787062792712284\n",
    "emb_PSNP_PCP\n",
    "\n",
    "0.7802190128673808\n",
    "emb_PSNP_PCP_DBPF\n",
    "\n",
    "0.7804866415541133\n",
    "NCPA_emb_PSNP_PCP_DBPF\n",
    "\n",
    "0.780624968074786\n",
    "NCPA_emb_PSNP_EIIP_PCP_DBPF\n",
    "\n",
    "0.7807561955074988\n",
    "NCPA_emb_PSNP_PseDNC_EIIP_PCP_DBPF\n",
    "\n",
    "0.7807351183573215\n",
    "binary_NCPA_emb_PSNP_PseDNC_EIIP_PCP_DBPF\n",
    "\n",
    "0.7807172487578738\n",
    "binary_NCPA_emb_PSNP_ENAC_PseDNC_EIIP_PCP_DBPF"
   ]
  },
  {
   "cell_type": "code",
   "execution_count": null,
   "id": "a168bff5",
   "metadata": {},
   "outputs": [],
   "source": []
  }
 ],
 "metadata": {
  "kernelspec": {
   "display_name": "Python [conda env:BERT]",
   "language": "python",
   "name": "conda-env-BERT-py"
  },
  "language_info": {
   "codemirror_mode": {
    "name": "ipython",
    "version": 3
   },
   "file_extension": ".py",
   "mimetype": "text/x-python",
   "name": "python",
   "nbconvert_exporter": "python",
   "pygments_lexer": "ipython3",
   "version": "3.6.8"
  },
  "toc": {
   "base_numbering": 1,
   "nav_menu": {},
   "number_sections": true,
   "sideBar": true,
   "skip_h1_title": false,
   "title_cell": "Table of Contents",
   "title_sidebar": "Contents",
   "toc_cell": false,
   "toc_position": {},
   "toc_section_display": true,
   "toc_window_display": false
  },
  "varInspector": {
   "cols": {
    "lenName": 16,
    "lenType": 16,
    "lenVar": 40
   },
   "kernels_config": {
    "python": {
     "delete_cmd_postfix": "",
     "delete_cmd_prefix": "del ",
     "library": "var_list.py",
     "varRefreshCmd": "print(var_dic_list())"
    },
    "r": {
     "delete_cmd_postfix": ") ",
     "delete_cmd_prefix": "rm(",
     "library": "var_list.r",
     "varRefreshCmd": "cat(var_dic_list()) "
    }
   },
   "types_to_exclude": [
    "module",
    "function",
    "builtin_function_or_method",
    "instance",
    "_Feature"
   ],
   "window_display": false
  }
 },
 "nbformat": 4,
 "nbformat_minor": 5
}
