{
 "cells": [
  {
   "cell_type": "code",
   "execution_count": 1,
   "id": "e118ee87",
   "metadata": {
    "ExecuteTime": {
     "end_time": "2022-12-29T02:21:38.698916Z",
     "start_time": "2022-12-29T02:21:29.513597Z"
    }
   },
   "outputs": [],
   "source": [
    "from features import ensembleFeature\n",
    "import numpy as np\n",
    "import pandas as pd\n",
    "import matplotlib.pyplot as plt\n",
    "import matplotlib as mpl\n",
    "import seaborn as sns\n",
    "import torch\n",
    "from torch import nn\n",
    "import re\n",
    "from sklearn.utils import shuffle\n",
    "from utils import metricsCal\n",
    "from torch.utils.data import DataLoader,TensorDataset\n",
    "import math\n",
    "import sys\n",
    "import copy\n",
    "import pickle\n",
    "from torch.autograd import Variable\n",
    "from sklearn.model_selection import KFold\n",
    "import torch.nn.functional as F\n",
    "import os\n",
    "import Model\n",
    "from matplotlib import cm\n",
    "from matplotlib.ticker import LinearLocator\n",
    "import csv\n",
    "from itertools import combinations,permutations\n",
    "from sklearn.preprocessing import StandardScaler\n",
    "from time import time\n",
    "from thundersvm import SVC\n",
    "\n",
    "%matplotlib inline"
   ]
  },
  {
   "cell_type": "code",
   "execution_count": 5,
   "id": "6393169e",
   "metadata": {
    "ExecuteTime": {
     "end_time": "2022-12-29T19:27:14.647134Z",
     "start_time": "2022-12-29T02:21:57.724885Z"
    }
   },
   "outputs": [],
   "source": [
    "type_name = [\"FullTranscript\",\"matureRNA\"]\n",
    "cell_name = [\"A549\",\"CD8T\",\"Hek293_abacm\",\"Hek293_sysy\",\"HeLa\",\"MOLM13\"]\n",
    "feature_name = [\"binary\",\"NCPA\",\"emb\",\"PSNP\",\"ENAC\",\"PseDNC\",\"EIIP\",\"PCP\",\"DBPF\"]\n",
    "\n",
    "device = torch.device(\"cuda:1\" if torch.cuda.is_available() else \"cpu\")  #选择设备\n",
    "os.environ['CUDA_VISIBLE_DEVICES'] = '1'\n",
    "\n",
    "Auc = np.zeros(len(type_name)*len(cell_name)*5*1023).reshape(1023,-1)\n",
    "Acc = np.zeros(len(type_name)*len(cell_name)*5*1023).reshape(1023,-1)\n",
    "Mcc = np.zeros(len(type_name)*len(cell_name)*5*1023).reshape(1023,-1)\n",
    "\n",
    "col_name = []\n",
    "row_name = []\n",
    "for typei in range(len(type_name)):\n",
    "    for celli in range(len(cell_name)):\n",
    "        for i in range(5):\n",
    "            col_name.append(type_name[typei]+\"_\"+cell_name[celli]+\"_\"+str(i))\n",
    "            train_data = pd.read_csv(\"Stacking_result/all_train_KFold/train_\"+type_name[typei]+\"_\"+cell_name[celli]+\"_Kfold\"+str(i)+\".csv\").iloc[:,1:]\n",
    "            test_data = pd.read_csv(\"Stacking_result/all_test_KFold/test_\"+type_name[typei]+\"_\"+cell_name[celli]+\"_Kfold\"+str(i)+\".csv\").iloc[:,1:]\n",
    "            \n",
    "            train_data = np.array(train_data)\n",
    "            test_data = np.array(test_data)\n",
    "            \n",
    "            x = list(range(10))\n",
    "            fea_list = ['binary','NCPA','emb','PSNP','ENAC','PseDNC','EIIP','PCP','DBPF','Blastn']\n",
    "            for feai in range(len(fea_list)):\n",
    "                #读th文件，再找对应type跟cell和KFoldi的行，找到最后一个值，然后现在的值减去这个最后一个值\n",
    "                if fea_list[feai] == 'Blastn':\n",
    "                    Blastn_data = pd.read_csv(\"Blastn/\"+type_name[typei]+\"_\"+cell_name[celli]+\"_result_train.csv\",header=None)\n",
    "                    th,_,_,_,_,_,_,_,_,_ = metricsCal.get_train_metrics(np.array(Blastn_data.iloc[:,1]),np.array(Blastn_data.iloc[:,2]))\n",
    "                    train_data[:,feai] = train_data[:,feai]-th\n",
    "                    test_data[:,feai] = test_data[:,feai]-th\n",
    "                else:\n",
    "                    th_list = pd.read_csv(\"out/th_\"+fea_list[feai]+\".csv\")\n",
    "                    th = np.float(th_list[th_list['0'] == type_name[typei]+\"_\"+cell_name[celli]+\"_\"+fea_list[feai]+\"_BILSTM+Self-Attention_KFold_\"+str(i)].iloc[:,-1])\n",
    "                    train_data[:,feai] = train_data[:,feai]-th\n",
    "                    test_data[:,feai] = test_data[:,feai]-th\n",
    "                    \n",
    "            row = -1\n",
    "            for j in range(10):\n",
    "                for com_one in list(combinations(x, j+1)):\n",
    "                    x_train = []\n",
    "                    x_test = []\n",
    "                    for m in com_one:\n",
    "                        row_name += fea_list[m]+\"_\"\n",
    "                        x_train.append(train_data[:,m:m+1])\n",
    "                        x_test.append(test_data[:,m:m+1])\n",
    "                    row+=1\n",
    "                    model = SVC(kernel = \"polynomial\",gamma=\"auto\", degree = 1, cache_size=7000)\n",
    "                    clf = model.fit(np.array(x_train).reshape(len(com_one),-1).transpose(), train_data[:,-1])\n",
    "                    th,_,_,_,_,_,_,acc,mcc,auc = metricsCal.get_train_metrics(clf.decision_function(np.array(x_train).reshape(len(com_one),-1).transpose()).reshape(-1),train_data[:,-1].reshape(-1))                \n",
    "                    _,_,_,_,_,_,acc,mcc,auc = metricsCal.get_test_metrics(clf.decision_function(np.array(x_test).reshape(len(com_one),-1).transpose()).reshape(-1),test_data[:,-1].reshape(-1),th)\n",
    "                    Auc[row][typei*30+celli*5+i]=auc\n",
    "                    Acc[row][typei*30+celli*5+i]=acc\n",
    "                    Mcc[row][typei*30+celli*5+i]=mcc"
   ]
  },
  {
   "cell_type": "code",
   "execution_count": 8,
   "id": "269abd88",
   "metadata": {
    "ExecuteTime": {
     "end_time": "2022-12-30T01:06:21.219410Z",
     "start_time": "2022-12-30T01:06:21.144008Z"
    }
   },
   "outputs": [],
   "source": [
    "#获取行名\n",
    "x = list(range(10))\n",
    "row_name = []\n",
    "fea_list = ['binary','NCPA','emb','PSNP','ENAC','PseDNC','EIIP','PCP','DBPF','Blastn']\n",
    "for j in range(10):\n",
    "    for com_one in list(combinations(x, j+1)):\n",
    "        row_one = \"\"\n",
    "        for m in com_one:\n",
    "            row_one += fea_list[m]+\"_\"\n",
    "        row_one = row_one[0:-1]\n",
    "        row_name.append(row_one)"
   ]
  },
  {
   "cell_type": "code",
   "execution_count": 9,
   "id": "3280398e",
   "metadata": {
    "ExecuteTime": {
     "end_time": "2022-12-30T01:06:21.612695Z",
     "start_time": "2022-12-30T01:06:21.606538Z"
    }
   },
   "outputs": [
    {
     "data": {
      "text/plain": [
       "1023"
      ]
     },
     "execution_count": 9,
     "metadata": {},
     "output_type": "execute_result"
    }
   ],
   "source": [
    "len(row_name)"
   ]
  },
  {
   "cell_type": "code",
   "execution_count": 21,
   "id": "dc3afcc9",
   "metadata": {
    "ExecuteTime": {
     "end_time": "2022-12-30T01:46:56.052888Z",
     "start_time": "2022-12-30T01:46:55.813240Z"
    }
   },
   "outputs": [
    {
     "name": "stdout",
     "output_type": "stream",
     "text": [
      "524\n"
     ]
    }
   ],
   "source": [
    "#添加第一列\n",
    "Auc_col = np.append(np.array(row_name).reshape(-1,1),Auc,axis=1)\n",
    "#补全header\n",
    "col_kk = col_name\n",
    "col_kk.insert(0,\"row_name\")\n",
    "#保存文件\n",
    "pd.DataFrame(Auc_col).to_csv(\"Stacking_result/Poly_10_Standard.csv\",header = col_kk,index=0)\n",
    "#读取文件\n",
    "data = pd.read_csv(\"Stacking_result/Poly_10_Standard.csv\",index_col = \"row_name\")\n",
    "for i in range(len(np.array(data.index))):\n",
    "    if np.array(data.index)[i]==\"NCPA_emb_PSNP_PCP_Blastn\":\n",
    "        print(i)"
   ]
  },
  {
   "cell_type": "code",
   "execution_count": 15,
   "id": "98f5e975",
   "metadata": {
    "ExecuteTime": {
     "end_time": "2022-12-30T01:45:58.432857Z",
     "start_time": "2022-12-30T01:45:58.406470Z"
    }
   },
   "outputs": [
    {
     "data": {
      "text/plain": [
       "0.7877487439576926"
      ]
     },
     "execution_count": 15,
     "metadata": {},
     "output_type": "execute_result"
    }
   ],
   "source": [
    "np.mean(np.array(data)[524])"
   ]
  },
  {
   "cell_type": "code",
   "execution_count": 22,
   "id": "c47914fb",
   "metadata": {
    "ExecuteTime": {
     "end_time": "2022-12-30T01:47:08.456303Z",
     "start_time": "2022-12-30T01:47:08.449614Z"
    }
   },
   "outputs": [
    {
     "data": {
      "text/plain": [
       "0.7877486774758737"
      ]
     },
     "execution_count": 22,
     "metadata": {},
     "output_type": "execute_result"
    }
   ],
   "source": [
    "np.mean(np.array(data)[524])"
   ]
  },
  {
   "cell_type": "code",
   "execution_count": null,
   "id": "72d4aca0",
   "metadata": {},
   "outputs": [],
   "source": []
  }
 ],
 "metadata": {
  "kernelspec": {
   "display_name": "Python [conda env:BERT]",
   "language": "python",
   "name": "conda-env-BERT-py"
  },
  "language_info": {
   "codemirror_mode": {
    "name": "ipython",
    "version": 3
   },
   "file_extension": ".py",
   "mimetype": "text/x-python",
   "name": "python",
   "nbconvert_exporter": "python",
   "pygments_lexer": "ipython3",
   "version": "3.6.8"
  },
  "toc": {
   "base_numbering": 1,
   "nav_menu": {},
   "number_sections": true,
   "sideBar": true,
   "skip_h1_title": false,
   "title_cell": "Table of Contents",
   "title_sidebar": "Contents",
   "toc_cell": false,
   "toc_position": {},
   "toc_section_display": true,
   "toc_window_display": false
  },
  "varInspector": {
   "cols": {
    "lenName": 16,
    "lenType": 16,
    "lenVar": 40
   },
   "kernels_config": {
    "python": {
     "delete_cmd_postfix": "",
     "delete_cmd_prefix": "del ",
     "library": "var_list.py",
     "varRefreshCmd": "print(var_dic_list())"
    },
    "r": {
     "delete_cmd_postfix": ") ",
     "delete_cmd_prefix": "rm(",
     "library": "var_list.r",
     "varRefreshCmd": "cat(var_dic_list()) "
    }
   },
   "types_to_exclude": [
    "module",
    "function",
    "builtin_function_or_method",
    "instance",
    "_Feature"
   ],
   "window_display": false
  }
 },
 "nbformat": 4,
 "nbformat_minor": 5
}
