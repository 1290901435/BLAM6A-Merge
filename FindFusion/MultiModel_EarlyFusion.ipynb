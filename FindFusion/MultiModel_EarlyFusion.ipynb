{
 "cells": [
  {
   "cell_type": "code",
   "execution_count": 1,
   "id": "89315dc3",
   "metadata": {
    "ExecuteTime": {
     "end_time": "2023-03-14T12:47:45.257980Z",
     "start_time": "2023-03-14T12:47:43.066786Z"
    }
   },
   "outputs": [],
   "source": [
    "from features import ensembleFeature\n",
    "import numpy as np\n",
    "import pandas as pd\n",
    "import matplotlib.pyplot as plt\n",
    "import matplotlib as mpl\n",
    "import seaborn as sns\n",
    "import torch\n",
    "from torch import nn\n",
    "import re\n",
    "from sklearn.utils import shuffle\n",
    "from utils import metricsCal\n",
    "from torch.utils.data import DataLoader,TensorDataset\n",
    "import math\n",
    "import sys\n",
    "import copy\n",
    "import pickle\n",
    "from torch.autograd import Variable\n",
    "from sklearn.model_selection import KFold\n",
    "import torch.nn.functional as F\n",
    "import os\n",
    "import Attention_model as Model\n",
    "from matplotlib import cm\n",
    "from matplotlib.ticker import LinearLocator\n",
    "import csv\n",
    "%matplotlib inline"
   ]
  },
  {
   "cell_type": "code",
   "execution_count": 2,
   "id": "3e22f68f",
   "metadata": {
    "ExecuteTime": {
     "end_time": "2023-03-14T12:47:45.442881Z",
     "start_time": "2023-03-14T12:47:45.329589Z"
    }
   },
   "outputs": [],
   "source": [
    "#一个函数用于序列转换，一个函数用于检测“N”碱基\n",
    "def long_short(data):\n",
    "    seq_list = []\n",
    "    for i in data[0]:\n",
    "        seq_list.append(str(i)[480:521])\n",
    "    return np.array(seq_list)\n",
    "\n",
    "def check_N(data1,data2):\n",
    "    seq_list = []\n",
    "    gene_list = []\n",
    "    for i in range(len(data1)):\n",
    "        if str(data1[i]).find(\"N\")<0:\n",
    "            seq_list.append(data1[i])\n",
    "            gene_list.append(data2[i])\n",
    "    return np.array(seq_list),np.array(gene_list)"
   ]
  },
  {
   "cell_type": "code",
   "execution_count": 3,
   "id": "d53ccb2e",
   "metadata": {
    "ExecuteTime": {
     "end_time": "2023-03-14T12:47:46.055341Z",
     "start_time": "2023-03-14T12:47:46.051983Z"
    }
   },
   "outputs": [],
   "source": [
    "import os\n",
    "os.environ[\"PYTORCH_CUDA_ALLOC_CONF\"] = \"max_split_size_mb:128\""
   ]
  },
  {
   "cell_type": "code",
   "execution_count": 4,
   "id": "2fb38945",
   "metadata": {
    "ExecuteTime": {
     "end_time": "2023-03-14T12:47:46.903794Z",
     "start_time": "2023-03-14T12:47:46.895474Z"
    }
   },
   "outputs": [],
   "source": [
    "# type_name = [\"FullTranscript\",\"matureRNA\"]\n",
    "# cell_name = [\"A549\",\"CD8T\",\"Hek293_abacm\",\"Hek293_sysy\",\"HeLa\",\"MOLM13\"]\n",
    "type_name = [\"matureRNA\"]\n",
    "cell_name = [\"MOLM13\"]\n",
    "\n",
    "network_name = [\"BILSTM+Self-Attention\"]\n",
    "\n",
    "rows = len(type_name)*len(cell_name)*len(network_name)*5\n",
    "row = -1\n",
    "max_epochs = 20\n",
    "max_patience = 20\n",
    "batch_size = 20\n",
    "row_name = []\n",
    "Loss = np.zeros(rows*max_epochs).reshape(rows,max_epochs)\n",
    "Acc = np.zeros(rows*(max_epochs+1)).reshape(rows,(max_epochs+1))\n",
    "Mcc = np.zeros(rows*(max_epochs+1)).reshape(rows,(max_epochs+1))\n",
    "Auc = np.zeros(rows*(max_epochs+1)).reshape(rows,(max_epochs+1))\n",
    "Auc_test = np.zeros(rows*(max_epochs+1)).reshape(rows,(max_epochs+1))\n",
    "th_All = np.zeros(rows*(max_epochs+1)).reshape(rows,(max_epochs+1))"
   ]
  },
  {
   "cell_type": "code",
   "execution_count": 5,
   "id": "75e2f0cc",
   "metadata": {
    "ExecuteTime": {
     "end_time": "2023-03-14T12:49:12.813355Z",
     "start_time": "2023-03-14T12:47:47.805984Z"
    }
   },
   "outputs": [
    {
     "name": "stderr",
     "output_type": "stream",
     "text": [
      "/data/xiayunpeng/anaconda3/envs/BERT/lib/python3.6/site-packages/sklearn/utils/validation.py:72: FutureWarning: Pass shuffle=True, random_state=10 as keyword args. From version 1.0 (renaming of 0.25) passing these as positional arguments will result in an error\n",
      "  \"will result in an error\", FutureWarning)\n"
     ]
    },
    {
     "ename": "RuntimeError",
     "evalue": "CUDA out of memory. Tried to allocate 604.00 MiB (GPU 0; 11.91 GiB total capacity; 992.92 MiB already allocated; 249.94 MiB free; 996.00 MiB reserved in total by PyTorch) If reserved memory is >> allocated memory try setting max_split_size_mb to avoid fragmentation.  See documentation for Memory Management and PYTORCH_CUDA_ALLOC_CONF",
     "output_type": "error",
     "traceback": [
      "\u001b[0;31m---------------------------------------------------------------------------\u001b[0m",
      "\u001b[0;31mRuntimeError\u001b[0m                              Traceback (most recent call last)",
      "\u001b[0;32m<ipython-input-5-c85b274c12b9>\u001b[0m in \u001b[0;36m<module>\u001b[0;34m\u001b[0m\n\u001b[1;32m    132\u001b[0m \u001b[0;34m\u001b[0m\u001b[0m\n\u001b[1;32m    133\u001b[0m                     \u001b[0;32mfor\u001b[0m \u001b[0mj\u001b[0m \u001b[0;32min\u001b[0m \u001b[0mrange\u001b[0m\u001b[0;34m(\u001b[0m\u001b[0mmax_epochs\u001b[0m\u001b[0;34m)\u001b[0m\u001b[0;34m:\u001b[0m\u001b[0;34m\u001b[0m\u001b[0;34m\u001b[0m\u001b[0m\n\u001b[0;32m--> 134\u001b[0;31m                         \u001b[0mrunningLoss\u001b[0m\u001b[0;34m,\u001b[0m\u001b[0mth\u001b[0m \u001b[0;34m=\u001b[0m \u001b[0mModel\u001b[0m\u001b[0;34m.\u001b[0m\u001b[0mtrain\u001b[0m\u001b[0;34m(\u001b[0m\u001b[0mmodel\u001b[0m\u001b[0;34m,\u001b[0m\u001b[0mX_train\u001b[0m\u001b[0;34m,\u001b[0m\u001b[0mY_train\u001b[0m\u001b[0;34m,\u001b[0m\u001b[0mi\u001b[0m\u001b[0;34m,\u001b[0m\u001b[0mdevice\u001b[0m\u001b[0;34m,\u001b[0m\u001b[0mmodel_dir\u001b[0m\u001b[0;34m,\u001b[0m\u001b[0mbatch_size\u001b[0m\u001b[0;34m)\u001b[0m\u001b[0;34m\u001b[0m\u001b[0;34m\u001b[0m\u001b[0m\n\u001b[0m\u001b[1;32m    135\u001b[0m                         \u001b[0macc\u001b[0m\u001b[0;34m,\u001b[0m \u001b[0mmcc\u001b[0m\u001b[0;34m,\u001b[0m \u001b[0mauc\u001b[0m\u001b[0;34m=\u001b[0m\u001b[0mModel\u001b[0m\u001b[0;34m.\u001b[0m\u001b[0mtest\u001b[0m\u001b[0;34m(\u001b[0m\u001b[0mX_test\u001b[0m\u001b[0;34m,\u001b[0m\u001b[0mY_test\u001b[0m\u001b[0;34m,\u001b[0m\u001b[0mbest_auc\u001b[0m\u001b[0;34m,\u001b[0m\u001b[0mdevice\u001b[0m\u001b[0;34m,\u001b[0m\u001b[0mmodel_dir\u001b[0m\u001b[0;34m,\u001b[0m\u001b[0mbatch_size\u001b[0m\u001b[0;34m,\u001b[0m\u001b[0mth\u001b[0m\u001b[0;34m)\u001b[0m\u001b[0;34m\u001b[0m\u001b[0;34m\u001b[0m\u001b[0m\n\u001b[1;32m    136\u001b[0m                         \u001b[0mLoss\u001b[0m\u001b[0;34m[\u001b[0m\u001b[0mrow\u001b[0m\u001b[0;34m]\u001b[0m\u001b[0;34m[\u001b[0m\u001b[0mj\u001b[0m\u001b[0;34m]\u001b[0m \u001b[0;34m=\u001b[0m \u001b[0mrunningLoss\u001b[0m\u001b[0;34m\u001b[0m\u001b[0;34m\u001b[0m\u001b[0m\n",
      "\u001b[0;32m~/PycharmWorkspace/Whistle/Attention_model.py\u001b[0m in \u001b[0;36mtrain\u001b[0;34m(model, data, label, epoch, train_device, model_dir, batch_size)\u001b[0m\n\u001b[1;32m    447\u001b[0m     \u001b[0mtrain_loader\u001b[0m \u001b[0;34m=\u001b[0m \u001b[0mDataLoader\u001b[0m\u001b[0;34m(\u001b[0m\u001b[0mtrain_data\u001b[0m\u001b[0;34m,\u001b[0m \u001b[0mshuffle\u001b[0m\u001b[0;34m=\u001b[0m\u001b[0;32mTrue\u001b[0m\u001b[0;34m,\u001b[0m \u001b[0mbatch_size\u001b[0m\u001b[0;34m=\u001b[0m\u001b[0mbatch_size\u001b[0m\u001b[0;34m)\u001b[0m\u001b[0;34m\u001b[0m\u001b[0;34m\u001b[0m\u001b[0m\n\u001b[1;32m    448\u001b[0m     \u001b[0mrunning_loss\u001b[0m \u001b[0;34m=\u001b[0m \u001b[0;36m0.0\u001b[0m\u001b[0;34m\u001b[0m\u001b[0;34m\u001b[0m\u001b[0m\n\u001b[0;32m--> 449\u001b[0;31m     \u001b[0mmodel_train\u001b[0m \u001b[0;34m=\u001b[0m \u001b[0mmodel_train\u001b[0m\u001b[0;34m.\u001b[0m\u001b[0mto\u001b[0m\u001b[0;34m(\u001b[0m\u001b[0mtrain_device\u001b[0m\u001b[0;34m)\u001b[0m\u001b[0;34m\u001b[0m\u001b[0;34m\u001b[0m\u001b[0m\n\u001b[0m\u001b[1;32m    450\u001b[0m     \u001b[0;32mfor\u001b[0m \u001b[0mbatch_idx\u001b[0m\u001b[0;34m,\u001b[0m\u001b[0mdata\u001b[0m \u001b[0;32min\u001b[0m \u001b[0menumerate\u001b[0m\u001b[0;34m(\u001b[0m\u001b[0mtrain_loader\u001b[0m\u001b[0;34m,\u001b[0m\u001b[0;36m0\u001b[0m\u001b[0;34m)\u001b[0m\u001b[0;34m:\u001b[0m\u001b[0;34m\u001b[0m\u001b[0;34m\u001b[0m\u001b[0m\n\u001b[1;32m    451\u001b[0m         \u001b[0minputs\u001b[0m\u001b[0;34m,\u001b[0m\u001b[0mtarget\u001b[0m \u001b[0;34m=\u001b[0m \u001b[0mdata\u001b[0m\u001b[0;34m\u001b[0m\u001b[0;34m\u001b[0m\u001b[0m\n",
      "\u001b[0;32m~/anaconda3/envs/BERT/lib/python3.6/site-packages/torch/nn/modules/module.py\u001b[0m in \u001b[0;36mto\u001b[0;34m(self, *args, **kwargs)\u001b[0m\n\u001b[1;32m    897\u001b[0m             \u001b[0;32mreturn\u001b[0m \u001b[0mt\u001b[0m\u001b[0;34m.\u001b[0m\u001b[0mto\u001b[0m\u001b[0;34m(\u001b[0m\u001b[0mdevice\u001b[0m\u001b[0;34m,\u001b[0m \u001b[0mdtype\u001b[0m \u001b[0;32mif\u001b[0m \u001b[0mt\u001b[0m\u001b[0;34m.\u001b[0m\u001b[0mis_floating_point\u001b[0m\u001b[0;34m(\u001b[0m\u001b[0;34m)\u001b[0m \u001b[0;32mor\u001b[0m \u001b[0mt\u001b[0m\u001b[0;34m.\u001b[0m\u001b[0mis_complex\u001b[0m\u001b[0;34m(\u001b[0m\u001b[0;34m)\u001b[0m \u001b[0;32melse\u001b[0m \u001b[0;32mNone\u001b[0m\u001b[0;34m,\u001b[0m \u001b[0mnon_blocking\u001b[0m\u001b[0;34m)\u001b[0m\u001b[0;34m\u001b[0m\u001b[0;34m\u001b[0m\u001b[0m\n\u001b[1;32m    898\u001b[0m \u001b[0;34m\u001b[0m\u001b[0m\n\u001b[0;32m--> 899\u001b[0;31m         \u001b[0;32mreturn\u001b[0m \u001b[0mself\u001b[0m\u001b[0;34m.\u001b[0m\u001b[0m_apply\u001b[0m\u001b[0;34m(\u001b[0m\u001b[0mconvert\u001b[0m\u001b[0;34m)\u001b[0m\u001b[0;34m\u001b[0m\u001b[0;34m\u001b[0m\u001b[0m\n\u001b[0m\u001b[1;32m    900\u001b[0m \u001b[0;34m\u001b[0m\u001b[0m\n\u001b[1;32m    901\u001b[0m     def register_backward_hook(\n",
      "\u001b[0;32m~/anaconda3/envs/BERT/lib/python3.6/site-packages/torch/nn/modules/module.py\u001b[0m in \u001b[0;36m_apply\u001b[0;34m(self, fn)\u001b[0m\n\u001b[1;32m    568\u001b[0m     \u001b[0;32mdef\u001b[0m \u001b[0m_apply\u001b[0m\u001b[0;34m(\u001b[0m\u001b[0mself\u001b[0m\u001b[0;34m,\u001b[0m \u001b[0mfn\u001b[0m\u001b[0;34m)\u001b[0m\u001b[0;34m:\u001b[0m\u001b[0;34m\u001b[0m\u001b[0;34m\u001b[0m\u001b[0m\n\u001b[1;32m    569\u001b[0m         \u001b[0;32mfor\u001b[0m \u001b[0mmodule\u001b[0m \u001b[0;32min\u001b[0m \u001b[0mself\u001b[0m\u001b[0;34m.\u001b[0m\u001b[0mchildren\u001b[0m\u001b[0;34m(\u001b[0m\u001b[0;34m)\u001b[0m\u001b[0;34m:\u001b[0m\u001b[0;34m\u001b[0m\u001b[0;34m\u001b[0m\u001b[0m\n\u001b[0;32m--> 570\u001b[0;31m             \u001b[0mmodule\u001b[0m\u001b[0;34m.\u001b[0m\u001b[0m_apply\u001b[0m\u001b[0;34m(\u001b[0m\u001b[0mfn\u001b[0m\u001b[0;34m)\u001b[0m\u001b[0;34m\u001b[0m\u001b[0;34m\u001b[0m\u001b[0m\n\u001b[0m\u001b[1;32m    571\u001b[0m \u001b[0;34m\u001b[0m\u001b[0m\n\u001b[1;32m    572\u001b[0m         \u001b[0;32mdef\u001b[0m \u001b[0mcompute_should_use_set_data\u001b[0m\u001b[0;34m(\u001b[0m\u001b[0mtensor\u001b[0m\u001b[0;34m,\u001b[0m \u001b[0mtensor_applied\u001b[0m\u001b[0;34m)\u001b[0m\u001b[0;34m:\u001b[0m\u001b[0;34m\u001b[0m\u001b[0;34m\u001b[0m\u001b[0m\n",
      "\u001b[0;32m~/anaconda3/envs/BERT/lib/python3.6/site-packages/torch/nn/modules/module.py\u001b[0m in \u001b[0;36m_apply\u001b[0;34m(self, fn)\u001b[0m\n\u001b[1;32m    568\u001b[0m     \u001b[0;32mdef\u001b[0m \u001b[0m_apply\u001b[0m\u001b[0;34m(\u001b[0m\u001b[0mself\u001b[0m\u001b[0;34m,\u001b[0m \u001b[0mfn\u001b[0m\u001b[0;34m)\u001b[0m\u001b[0;34m:\u001b[0m\u001b[0;34m\u001b[0m\u001b[0;34m\u001b[0m\u001b[0m\n\u001b[1;32m    569\u001b[0m         \u001b[0;32mfor\u001b[0m \u001b[0mmodule\u001b[0m \u001b[0;32min\u001b[0m \u001b[0mself\u001b[0m\u001b[0;34m.\u001b[0m\u001b[0mchildren\u001b[0m\u001b[0;34m(\u001b[0m\u001b[0;34m)\u001b[0m\u001b[0;34m:\u001b[0m\u001b[0;34m\u001b[0m\u001b[0;34m\u001b[0m\u001b[0m\n\u001b[0;32m--> 570\u001b[0;31m             \u001b[0mmodule\u001b[0m\u001b[0;34m.\u001b[0m\u001b[0m_apply\u001b[0m\u001b[0;34m(\u001b[0m\u001b[0mfn\u001b[0m\u001b[0;34m)\u001b[0m\u001b[0;34m\u001b[0m\u001b[0;34m\u001b[0m\u001b[0m\n\u001b[0m\u001b[1;32m    571\u001b[0m \u001b[0;34m\u001b[0m\u001b[0m\n\u001b[1;32m    572\u001b[0m         \u001b[0;32mdef\u001b[0m \u001b[0mcompute_should_use_set_data\u001b[0m\u001b[0;34m(\u001b[0m\u001b[0mtensor\u001b[0m\u001b[0;34m,\u001b[0m \u001b[0mtensor_applied\u001b[0m\u001b[0;34m)\u001b[0m\u001b[0;34m:\u001b[0m\u001b[0;34m\u001b[0m\u001b[0;34m\u001b[0m\u001b[0m\n",
      "\u001b[0;32m~/anaconda3/envs/BERT/lib/python3.6/site-packages/torch/nn/modules/rnn.py\u001b[0m in \u001b[0;36m_apply\u001b[0;34m(self, fn)\u001b[0m\n\u001b[1;32m    187\u001b[0m         \u001b[0mself\u001b[0m\u001b[0;34m.\u001b[0m\u001b[0m_flat_weights\u001b[0m \u001b[0;34m=\u001b[0m \u001b[0;34m[\u001b[0m\u001b[0;34m(\u001b[0m\u001b[0;32mlambda\u001b[0m \u001b[0mwn\u001b[0m\u001b[0;34m:\u001b[0m \u001b[0mgetattr\u001b[0m\u001b[0;34m(\u001b[0m\u001b[0mself\u001b[0m\u001b[0;34m,\u001b[0m \u001b[0mwn\u001b[0m\u001b[0;34m)\u001b[0m \u001b[0;32mif\u001b[0m \u001b[0mhasattr\u001b[0m\u001b[0;34m(\u001b[0m\u001b[0mself\u001b[0m\u001b[0;34m,\u001b[0m \u001b[0mwn\u001b[0m\u001b[0;34m)\u001b[0m \u001b[0;32melse\u001b[0m \u001b[0;32mNone\u001b[0m\u001b[0;34m)\u001b[0m\u001b[0;34m(\u001b[0m\u001b[0mwn\u001b[0m\u001b[0;34m)\u001b[0m \u001b[0;32mfor\u001b[0m \u001b[0mwn\u001b[0m \u001b[0;32min\u001b[0m \u001b[0mself\u001b[0m\u001b[0;34m.\u001b[0m\u001b[0m_flat_weights_names\u001b[0m\u001b[0;34m]\u001b[0m\u001b[0;34m\u001b[0m\u001b[0;34m\u001b[0m\u001b[0m\n\u001b[1;32m    188\u001b[0m         \u001b[0;31m# Flattens params (on CUDA)\u001b[0m\u001b[0;34m\u001b[0m\u001b[0;34m\u001b[0m\u001b[0;34m\u001b[0m\u001b[0m\n\u001b[0;32m--> 189\u001b[0;31m         \u001b[0mself\u001b[0m\u001b[0;34m.\u001b[0m\u001b[0mflatten_parameters\u001b[0m\u001b[0;34m(\u001b[0m\u001b[0;34m)\u001b[0m\u001b[0;34m\u001b[0m\u001b[0;34m\u001b[0m\u001b[0m\n\u001b[0m\u001b[1;32m    190\u001b[0m \u001b[0;34m\u001b[0m\u001b[0m\n\u001b[1;32m    191\u001b[0m         \u001b[0;32mreturn\u001b[0m \u001b[0mret\u001b[0m\u001b[0;34m\u001b[0m\u001b[0;34m\u001b[0m\u001b[0m\n",
      "\u001b[0;32m~/anaconda3/envs/BERT/lib/python3.6/site-packages/torch/nn/modules/rnn.py\u001b[0m in \u001b[0;36mflatten_parameters\u001b[0;34m(self)\u001b[0m\n\u001b[1;32m    177\u001b[0m                         \u001b[0mself\u001b[0m\u001b[0;34m.\u001b[0m\u001b[0minput_size\u001b[0m\u001b[0;34m,\u001b[0m \u001b[0mrnn\u001b[0m\u001b[0;34m.\u001b[0m\u001b[0mget_cudnn_mode\u001b[0m\u001b[0;34m(\u001b[0m\u001b[0mself\u001b[0m\u001b[0;34m.\u001b[0m\u001b[0mmode\u001b[0m\u001b[0;34m)\u001b[0m\u001b[0;34m,\u001b[0m\u001b[0;34m\u001b[0m\u001b[0;34m\u001b[0m\u001b[0m\n\u001b[1;32m    178\u001b[0m                         \u001b[0mself\u001b[0m\u001b[0;34m.\u001b[0m\u001b[0mhidden_size\u001b[0m\u001b[0;34m,\u001b[0m \u001b[0mself\u001b[0m\u001b[0;34m.\u001b[0m\u001b[0mproj_size\u001b[0m\u001b[0;34m,\u001b[0m \u001b[0mself\u001b[0m\u001b[0;34m.\u001b[0m\u001b[0mnum_layers\u001b[0m\u001b[0;34m,\u001b[0m\u001b[0;34m\u001b[0m\u001b[0;34m\u001b[0m\u001b[0m\n\u001b[0;32m--> 179\u001b[0;31m                         self.batch_first, bool(self.bidirectional))\n\u001b[0m\u001b[1;32m    180\u001b[0m \u001b[0;34m\u001b[0m\u001b[0m\n\u001b[1;32m    181\u001b[0m     \u001b[0;32mdef\u001b[0m \u001b[0m_apply\u001b[0m\u001b[0;34m(\u001b[0m\u001b[0mself\u001b[0m\u001b[0;34m,\u001b[0m \u001b[0mfn\u001b[0m\u001b[0;34m)\u001b[0m\u001b[0;34m:\u001b[0m\u001b[0;34m\u001b[0m\u001b[0;34m\u001b[0m\u001b[0m\n",
      "\u001b[0;31mRuntimeError\u001b[0m: CUDA out of memory. Tried to allocate 604.00 MiB (GPU 0; 11.91 GiB total capacity; 992.92 MiB already allocated; 249.94 MiB free; 996.00 MiB reserved in total by PyTorch) If reserved memory is >> allocated memory try setting max_split_size_mb to avoid fragmentation.  See documentation for Memory Management and PYTORCH_CUDA_ALLOC_CONF"
     ]
    }
   ],
   "source": [
    "Folder_name = []\n",
    "for typei in range(len(type_name)):\n",
    "    for celli in range(len(cell_name)):\n",
    "        Folder_list = []\n",
    "        trainPosSeq_file = \"data/\"+type_name[typei]+\"/\"+cell_name[celli]+\"/Pos_\"+cell_name[celli]+\"_train_\"+type_name[typei]+\"_seq.csv\"\n",
    "        trainNegSeq_file = \"data/\"+type_name[typei]+\"/\"+cell_name[celli]+\"/Neg_\"+cell_name[celli]+\"_train_\"+type_name[typei]+\"_seq.csv\"\n",
    "        testPosSeq_file = \"data/\"+type_name[typei]+\"/\"+cell_name[celli]+\"/Pos_\"+cell_name[celli]+\"_test_\"+type_name[typei]+\"_seq.csv\"\n",
    "        testNegSeq_file = \"data/\"+type_name[typei]+\"/\"+cell_name[celli]+\"/Neg_\"+cell_name[celli]+\"_test_\"+type_name[typei]+\"_seq.csv\"\n",
    "        trainPosGene_file = \"data/\"+type_name[typei]+\"/\"+cell_name[celli]+\"/Pos_\"+cell_name[celli]+\"_train_\"+type_name[typei]+\"_gene.csv\"\n",
    "        trainNegGene_file = \"data/\"+type_name[typei]+\"/\"+cell_name[celli]+\"/Neg_\"+cell_name[celli]+\"_train_\"+type_name[typei]+\"_gene.csv\"\n",
    "        testPosGene_file = \"data/\"+type_name[typei]+\"/\"+cell_name[celli]+\"/Pos_\"+cell_name[celli]+\"_test_\"+type_name[typei]+\"_gene.csv\"\n",
    "        testNegGene_file = \"data/\"+type_name[typei]+\"/\"+cell_name[celli]+\"/Neg_\"+cell_name[celli]+\"_test_\"+type_name[typei]+\"_gene.csv\"\n",
    "        \n",
    "        #获取文件信息\n",
    "        trainPos_seq = pd.read_csv(trainPosSeq_file,header=None)\n",
    "        trainNeg_seq = pd.read_csv(trainNegSeq_file,header=None)\n",
    "        testPos_seq = pd.read_csv(testPosSeq_file,header=None)\n",
    "        testNeg_seq = pd.read_csv(testNegSeq_file,header=None)\n",
    "        trainPos_gene = pd.read_csv(trainPosGene_file) \n",
    "        trainNeg_gene = pd.read_csv(trainNegGene_file)\n",
    "        testPos_gene = pd.read_csv(testPosGene_file)\n",
    "        testNeg_gene = pd.read_csv(testNegGene_file)\n",
    "        #序列转41-nt长度\n",
    "        trainPos_seq = long_short(trainPos_seq)\n",
    "        trainNeg_seq = long_short(trainNeg_seq)\n",
    "        testPos_seq = long_short(testPos_seq)\n",
    "        testNeg_seq = long_short(testNeg_seq)\n",
    "        #基因转35长度\n",
    "        trainPos_gene = trainPos_gene.iloc[:,[0,1,3,4,5,6,7,8,9,10,11,13,14,16,17,19,23,22,25,20,21,44,45,46,47,48,49,50,65,66,69,55,51,57,56]]\n",
    "        trainNeg_gene = trainNeg_gene.iloc[:,[0,1,3,4,5,6,7,8,9,10,11,13,14,16,17,19,23,22,25,20,21,44,45,46,47,48,49,50,65,66,69,55,51,57,56]]\n",
    "        testPos_gene = testPos_gene.iloc[:,[0,1,3,4,5,6,7,8,9,10,11,13,14,16,17,19,23,22,25,20,21,44,45,46,47,48,49,50,65,66,69,55,51,57,56]]\n",
    "        testNeg_gene = testNeg_gene.iloc[:,[0,1,3,4,5,6,7,8,9,10,11,13,14,16,17,19,23,22,25,20,21,44,45,46,47,48,49,50,65,66,69,55,51,57,56]]\n",
    "        trainPos_seq,trainPos_gene = check_N(trainPos_seq,np.array(trainPos_gene))\n",
    "        trainNeg_seq,trainNeg_gene = check_N(trainNeg_seq,np.array(trainNeg_gene))\n",
    "        testPos_seq,testPos_gene = check_N(testPos_seq,np.array(testPos_gene))\n",
    "        testNeg_seq,testNeg_gene = check_N(testNeg_seq,np.array(testNeg_gene))\n",
    "        #基因变Float\n",
    "        trainPos_gene = np.float32(trainPos_gene)\n",
    "        trainNeg_gene = np.float32(trainNeg_gene)\n",
    "        testPos_gene = np.float32(testPos_gene)\n",
    "        testNeg_gene = np.float32(testNeg_gene)\n",
    "        #打乱顺序，再取等长\n",
    "        trainNeg_seq, trainNeg_gene = shuffle(trainNeg_seq,trainNeg_gene, random_state=1)\n",
    "        testNeg_seq, testNeg_gene = shuffle(testNeg_seq, testNeg_gene, random_state=1)\n",
    "\n",
    "#         trainNeg_seq = trainNeg_seq[:len(trainPos_seq)]\n",
    "#         trainNeg_gene = trainNeg_gene[:len(trainPos_gene)]\n",
    "#         testNeg_seq = testNeg_seq[:len(testPos_seq)]\n",
    "#         testNeg_gene = testNeg_gene[:len(testPos_gene)]\n",
    "        \n",
    "        trainNeg_seq = trainNeg_seq[:500]\n",
    "        testNeg_seq = testNeg_seq[:500]\n",
    "        \n",
    "        trainPos_seq = trainPos_seq[:500]\n",
    "        testPos_seq = testPos_seq[:500]\n",
    "        \n",
    "#         trainNeg_seq = trainNeg_seq[:len(trainPos_seq)*10]\n",
    "#         trainNeg_gene = trainNeg_gene[:len(trainPos_gene)*10]\n",
    "#         testNeg_seq = testNeg_seq[:len(testPos_seq)]\n",
    "#         testNeg_gene = testNeg_gene[:len(testPos_gene)]\n",
    "#         trainPos_seq = trainPos_seq.repeat(10)\n",
    "#         trainPos_gene = trainPos_gene.repeat(10)\n",
    "\n",
    "        #第二重循环\n",
    "        \n",
    "        trainPos_emb = ensembleFeature.emb_seqs(trainPos_seq)\n",
    "        trainNeg_emb = ensembleFeature.emb_seqs(trainNeg_seq)\n",
    "        testPos_emb = ensembleFeature.emb_seqs(testPos_seq)\n",
    "        testNeg_emb = ensembleFeature.emb_seqs(testNeg_seq)\n",
    "            \n",
    "        trainPos_PSNP,trainNeg_PSNP,testPos_PSNP,testNeg_PSNP = ensembleFeature.PSNP(trainPos_seq,trainNeg_seq,testPos_seq,testNeg_seq)\n",
    "        \n",
    "        trainPos_PCP = ensembleFeature.PCP(trainPos_seq)\n",
    "        trainNeg_PCP = ensembleFeature.PCP(trainNeg_seq)\n",
    "        testPos_PCP = ensembleFeature.PCP(testPos_seq)\n",
    "        testNeg_PCP = ensembleFeature.PCP(testNeg_seq)\n",
    "            \n",
    "        trainPos_DBPF = ensembleFeature.DBPF(trainPos_seq)\n",
    "        trainNeg_DBPF = ensembleFeature.DBPF(trainNeg_seq)\n",
    "        testPos_DBPF = ensembleFeature.DBPF(testPos_seq)\n",
    "        testNeg_DBPF = ensembleFeature.DBPF(testNeg_seq)\n",
    "            \n",
    "        trainPos = np.append(trainPos_emb.reshape(trainPos_seq.shape[0],1,-1),trainPos_PSNP.reshape(trainPos_seq.shape[0],1,-1),axis=2)\n",
    "        trainPos = np.append(trainPos,trainPos_PCP.reshape(trainPos_seq.shape[0],1,-1),axis=2)\n",
    "        trainPos = np.append(trainPos,trainPos_DBPF.reshape(trainPos_seq.shape[0],1,-1),axis=2)\n",
    "        \n",
    "        trainNeg = np.append(trainNeg_emb.reshape(trainNeg_seq.shape[0],1,-1),trainNeg_PSNP.reshape(trainNeg_seq.shape[0],1,-1),axis=2)\n",
    "        trainNeg = np.append(trainNeg,trainNeg_PCP.reshape(trainNeg_seq.shape[0],1,-1),axis=2)\n",
    "        trainNeg = np.append(trainNeg,trainNeg_DBPF.reshape(trainNeg_seq.shape[0],1,-1),axis=2)\n",
    "        \n",
    "        testPos = np.append(testPos_emb.reshape(testPos_seq.shape[0],1,-1),testPos_PSNP.reshape(testPos_seq.shape[0],1,-1),axis=2)\n",
    "        testPos = np.append(testPos,testPos_PCP.reshape(testPos_seq.shape[0],1,-1),axis=2)\n",
    "        testPos = np.append(testPos,testPos_DBPF.reshape(testPos_seq.shape[0],1,-1),axis=2)\n",
    "        \n",
    "        testNeg = np.append(testNeg_emb.reshape(testNeg_seq.shape[0],1,-1),testNeg_PSNP.reshape(testNeg_seq.shape[0],1,-1),axis=2)\n",
    "        testNeg = np.append(testNeg,testNeg_PCP.reshape(testNeg_seq.shape[0],1,-1),axis=2)\n",
    "        testNeg = np.append(testNeg,testNeg_DBPF.reshape(testNeg_seq.shape[0],1,-1),axis=2)\n",
    "        \n",
    "        \n",
    "\n",
    "        trainPos_label = np.ones(len(trainPos))\n",
    "        trainNeg_label = np.zeros(len(trainNeg))\n",
    "        testPos_label = np.ones(len(testPos))\n",
    "        testNeg_label = np.zeros(len(testNeg))\n",
    "\n",
    "        trainData = np.append(trainPos,trainNeg,axis=0)\n",
    "        testData = np.append(testPos,testNeg,axis = 0)\n",
    "        trainLabel = np.append(trainPos_label,trainNeg_label,axis = 0)\n",
    "        testLabel = np.append(testPos_label,testNeg_label,axis = 0)\n",
    "\n",
    "        kf = KFold(5,True,10)\n",
    "        #第三重循环\n",
    "        for networki in range(len(network_name)):\n",
    "            if network_name[networki] == \"BILSTM+Self-Attention\":\n",
    "                for i,[train_index, test_index] in enumerate(kf.split(trainData)):\n",
    "                    if i != 0:\n",
    "                        continue\n",
    "                    row+=1\n",
    "                    row_one = type_name[typei]+\"_\"+cell_name[celli]+\"_Early_Fusion_\"+network_name[networki]+\"_KFold_\" + str(i)\n",
    "                    row_name.append(row_one)\n",
    "                    X_train = trainData[train_index]\n",
    "                    X_test = trainData[test_index]\n",
    "                    Y_train = trainLabel[train_index]\n",
    "                    Y_test = trainLabel[test_index]\n",
    "                    best_auc = 0\n",
    "                    patience = 0\n",
    "                    model_dir = \"Model_Fusion_Extraction_Final/\"+type_name[typei]+\"_\"+cell_name[celli]+\"/\"+\\\n",
    "                            \"Early_Fusion\"+\"_\"+network_name[networki]+\"/KFold_\" + str(i) + \"/\"\n",
    "                    model = Model.ModelBS_Pro(trainData.shape[1],trainData.shape[2])\n",
    "                    device = torch.device(\"cuda:0\" if torch.cuda.is_available() else \"cpu\")  #选择设备\n",
    "                    os.environ['CUDA_VISIBLE_DEVICES'] = '0'\n",
    "\n",
    "                    for j in range(max_epochs):\n",
    "                        runningLoss,th = Model.train(model,X_train,Y_train,i,device,model_dir,batch_size)\n",
    "                        acc, mcc, auc=Model.test(X_test,Y_test,best_auc,device,model_dir,batch_size,th)\n",
    "                        Loss[row][j] = runningLoss\n",
    "                        th_All[row][j] = th\n",
    "                        Acc[row][j] = acc\n",
    "                        Mcc[row][j] = mcc\n",
    "                        Auc[row][j] = auc\n",
    "\n",
    "                        if auc > best_auc:\n",
    "                            best_auc=auc\n",
    "                            patience=0\n",
    "                        else:\n",
    "                            patience+=1\n",
    "                        if patience>max_patience and best_auc!= 0.5:\n",
    "                            break\n",
    "                        \n",
    "                        print(\"test_\"+str(j))\n",
    "                        _,_,auc_test=Model.independTest(testData,testLabel,device,model_dir,batch_size,0.5)\n",
    "                        Auc_test[row][j] = auc_test\n",
    "\n",
    "                    tmp_th = 0.5\n",
    "                    tmp_auc = 0\n",
    "                    for kk in range(max_epochs):\n",
    "                        if Auc[row][kk]>tmp_auc:\n",
    "                            tmp_th = th_All[row][kk]\n",
    "                            tmp_auc = Auc[row][kk]\n",
    "                    acc, mcc, auc=Model.independTest(testData,testLabel,device,model_dir,batch_size,tmp_th)\n",
    "                    Acc[row][-1] = acc\n",
    "                    Mcc[row][-1] = mcc\n",
    "                    Auc[row][-1] = auc\n",
    "                    th_All[row][-1] = tmp_th "
   ]
  },
  {
   "cell_type": "code",
   "execution_count": 10,
   "id": "851bf224",
   "metadata": {
    "ExecuteTime": {
     "end_time": "2023-03-14T13:20:14.788388Z",
     "start_time": "2023-03-14T13:20:14.780077Z"
    }
   },
   "outputs": [
    {
     "data": {
      "text/plain": [
       "torch.Size([100, 40])"
      ]
     },
     "execution_count": 10,
     "metadata": {},
     "output_type": "execute_result"
    }
   ],
   "source": [
    "a = torch.tensor(np.zeros(4400).reshape(100,44))\n",
    "a[:,:40].shape"
   ]
  },
  {
   "cell_type": "code",
   "execution_count": 15,
   "id": "f6effca9",
   "metadata": {
    "ExecuteTime": {
     "end_time": "2023-03-14T13:22:08.994934Z",
     "start_time": "2023-03-14T13:22:08.988692Z"
    }
   },
   "outputs": [
    {
     "data": {
      "text/plain": [
       "torch.Size([100, 1, 4])"
      ]
     },
     "execution_count": 15,
     "metadata": {},
     "output_type": "execute_result"
    }
   ],
   "source": [
    "a[:,40:].reshape(a.shape[0],1,4)"
   ]
  },
  {
   "cell_type": "code",
   "execution_count": null,
   "id": "116809a8",
   "metadata": {},
   "outputs": [],
   "source": []
  }
 ],
 "metadata": {
  "kernelspec": {
   "display_name": "Python [conda env:BERT]",
   "language": "python",
   "name": "conda-env-BERT-py"
  },
  "language_info": {
   "codemirror_mode": {
    "name": "ipython",
    "version": 3
   },
   "file_extension": ".py",
   "mimetype": "text/x-python",
   "name": "python",
   "nbconvert_exporter": "python",
   "pygments_lexer": "ipython3",
   "version": "3.6.8"
  },
  "toc": {
   "base_numbering": 1,
   "nav_menu": {},
   "number_sections": true,
   "sideBar": true,
   "skip_h1_title": false,
   "title_cell": "Table of Contents",
   "title_sidebar": "Contents",
   "toc_cell": false,
   "toc_position": {},
   "toc_section_display": true,
   "toc_window_display": false
  },
  "varInspector": {
   "cols": {
    "lenName": 16,
    "lenType": 16,
    "lenVar": 40
   },
   "kernels_config": {
    "python": {
     "delete_cmd_postfix": "",
     "delete_cmd_prefix": "del ",
     "library": "var_list.py",
     "varRefreshCmd": "print(var_dic_list())"
    },
    "r": {
     "delete_cmd_postfix": ") ",
     "delete_cmd_prefix": "rm(",
     "library": "var_list.r",
     "varRefreshCmd": "cat(var_dic_list()) "
    }
   },
   "types_to_exclude": [
    "module",
    "function",
    "builtin_function_or_method",
    "instance",
    "_Feature"
   ],
   "window_display": false
  }
 },
 "nbformat": 4,
 "nbformat_minor": 5
}
